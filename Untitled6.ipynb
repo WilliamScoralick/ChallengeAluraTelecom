{
  "nbformat": 4,
  "nbformat_minor": 0,
  "metadata": {
    "colab": {
      "provenance": [],
      "collapsed_sections": [
        "XtSL5eGE1npN",
        "YiLkMONU2IFJ",
        "nlbA2Io6JQAl"
      ],
      "authorship_tag": "ABX9TyM8StgRnSsB+P8bXQEPY02f",
      "include_colab_link": true
    },
    "kernelspec": {
      "name": "python3",
      "display_name": "Python 3"
    },
    "language_info": {
      "name": "python"
    }
  },
  "cells": [
    {
      "cell_type": "markdown",
      "metadata": {
        "id": "view-in-github",
        "colab_type": "text"
      },
      "source": [
        "<a href=\"https://colab.research.google.com/github/WilliamScoralick/ChallengeAluraTelecom/blob/main/Untitled6.ipynb\" target=\"_parent\"><img src=\"https://colab.research.google.com/assets/colab-badge.svg\" alt=\"Open In Colab\"/></a>"
      ]
    },
    {
      "cell_type": "markdown",
      "source": [
        "# Parte 1: Extração (Extract)"
      ],
      "metadata": {
        "id": "XtSL5eGE1npN"
      }
    },
    {
      "cell_type": "code",
      "execution_count": 207,
      "metadata": {
        "id": "r9uL3Aa_g8rb"
      },
      "outputs": [],
      "source": [
        "# Importando a biblioteca pandas\n",
        "import pandas as pd\n",
        "\n",
        "# Carregando os dados do github na extensão json\n",
        "url = 'https://raw.githubusercontent.com/alura-cursos/challenge2-data-science/refs/heads/main/TelecomX_Data.json'\n",
        "\n",
        "# Transformando json em DataFrame\n",
        "df = pd.read_json(url)"
      ]
    },
    {
      "cell_type": "code",
      "source": [
        "# Visualizando as primeiras linhas do arquivo\n",
        "df.head(3)"
      ],
      "metadata": {
        "colab": {
          "base_uri": "https://localhost:8080/",
          "height": 196
        },
        "id": "1Hf_SRQENxLd",
        "outputId": "68017275-e9cc-47e5-f21e-17461ce4558e"
      },
      "execution_count": 208,
      "outputs": [
        {
          "output_type": "execute_result",
          "data": {
            "text/plain": [
              "   customerID Churn                                           customer  \\\n",
              "0  0002-ORFBO    No  {'gender': 'Female', 'SeniorCitizen': 0, 'Part...   \n",
              "1  0003-MKNFE    No  {'gender': 'Male', 'SeniorCitizen': 0, 'Partne...   \n",
              "2  0004-TLHLJ   Yes  {'gender': 'Male', 'SeniorCitizen': 0, 'Partne...   \n",
              "\n",
              "                                             phone  \\\n",
              "0   {'PhoneService': 'Yes', 'MultipleLines': 'No'}   \n",
              "1  {'PhoneService': 'Yes', 'MultipleLines': 'Yes'}   \n",
              "2   {'PhoneService': 'Yes', 'MultipleLines': 'No'}   \n",
              "\n",
              "                                            internet  \\\n",
              "0  {'InternetService': 'DSL', 'OnlineSecurity': '...   \n",
              "1  {'InternetService': 'DSL', 'OnlineSecurity': '...   \n",
              "2  {'InternetService': 'Fiber optic', 'OnlineSecu...   \n",
              "\n",
              "                                             account  \n",
              "0  {'Contract': 'One year', 'PaperlessBilling': '...  \n",
              "1  {'Contract': 'Month-to-month', 'PaperlessBilli...  \n",
              "2  {'Contract': 'Month-to-month', 'PaperlessBilli...  "
            ],
            "text/html": [
              "\n",
              "  <div id=\"df-5b5b1b2a-03b6-45de-a234-ce6415ae50ee\" class=\"colab-df-container\">\n",
              "    <div>\n",
              "<style scoped>\n",
              "    .dataframe tbody tr th:only-of-type {\n",
              "        vertical-align: middle;\n",
              "    }\n",
              "\n",
              "    .dataframe tbody tr th {\n",
              "        vertical-align: top;\n",
              "    }\n",
              "\n",
              "    .dataframe thead th {\n",
              "        text-align: right;\n",
              "    }\n",
              "</style>\n",
              "<table border=\"1\" class=\"dataframe\">\n",
              "  <thead>\n",
              "    <tr style=\"text-align: right;\">\n",
              "      <th></th>\n",
              "      <th>customerID</th>\n",
              "      <th>Churn</th>\n",
              "      <th>customer</th>\n",
              "      <th>phone</th>\n",
              "      <th>internet</th>\n",
              "      <th>account</th>\n",
              "    </tr>\n",
              "  </thead>\n",
              "  <tbody>\n",
              "    <tr>\n",
              "      <th>0</th>\n",
              "      <td>0002-ORFBO</td>\n",
              "      <td>No</td>\n",
              "      <td>{'gender': 'Female', 'SeniorCitizen': 0, 'Part...</td>\n",
              "      <td>{'PhoneService': 'Yes', 'MultipleLines': 'No'}</td>\n",
              "      <td>{'InternetService': 'DSL', 'OnlineSecurity': '...</td>\n",
              "      <td>{'Contract': 'One year', 'PaperlessBilling': '...</td>\n",
              "    </tr>\n",
              "    <tr>\n",
              "      <th>1</th>\n",
              "      <td>0003-MKNFE</td>\n",
              "      <td>No</td>\n",
              "      <td>{'gender': 'Male', 'SeniorCitizen': 0, 'Partne...</td>\n",
              "      <td>{'PhoneService': 'Yes', 'MultipleLines': 'Yes'}</td>\n",
              "      <td>{'InternetService': 'DSL', 'OnlineSecurity': '...</td>\n",
              "      <td>{'Contract': 'Month-to-month', 'PaperlessBilli...</td>\n",
              "    </tr>\n",
              "    <tr>\n",
              "      <th>2</th>\n",
              "      <td>0004-TLHLJ</td>\n",
              "      <td>Yes</td>\n",
              "      <td>{'gender': 'Male', 'SeniorCitizen': 0, 'Partne...</td>\n",
              "      <td>{'PhoneService': 'Yes', 'MultipleLines': 'No'}</td>\n",
              "      <td>{'InternetService': 'Fiber optic', 'OnlineSecu...</td>\n",
              "      <td>{'Contract': 'Month-to-month', 'PaperlessBilli...</td>\n",
              "    </tr>\n",
              "  </tbody>\n",
              "</table>\n",
              "</div>\n",
              "    <div class=\"colab-df-buttons\">\n",
              "\n",
              "  <div class=\"colab-df-container\">\n",
              "    <button class=\"colab-df-convert\" onclick=\"convertToInteractive('df-5b5b1b2a-03b6-45de-a234-ce6415ae50ee')\"\n",
              "            title=\"Convert this dataframe to an interactive table.\"\n",
              "            style=\"display:none;\">\n",
              "\n",
              "  <svg xmlns=\"http://www.w3.org/2000/svg\" height=\"24px\" viewBox=\"0 -960 960 960\">\n",
              "    <path d=\"M120-120v-720h720v720H120Zm60-500h600v-160H180v160Zm220 220h160v-160H400v160Zm0 220h160v-160H400v160ZM180-400h160v-160H180v160Zm440 0h160v-160H620v160ZM180-180h160v-160H180v160Zm440 0h160v-160H620v160Z\"/>\n",
              "  </svg>\n",
              "    </button>\n",
              "\n",
              "  <style>\n",
              "    .colab-df-container {\n",
              "      display:flex;\n",
              "      gap: 12px;\n",
              "    }\n",
              "\n",
              "    .colab-df-convert {\n",
              "      background-color: #E8F0FE;\n",
              "      border: none;\n",
              "      border-radius: 50%;\n",
              "      cursor: pointer;\n",
              "      display: none;\n",
              "      fill: #1967D2;\n",
              "      height: 32px;\n",
              "      padding: 0 0 0 0;\n",
              "      width: 32px;\n",
              "    }\n",
              "\n",
              "    .colab-df-convert:hover {\n",
              "      background-color: #E2EBFA;\n",
              "      box-shadow: 0px 1px 2px rgba(60, 64, 67, 0.3), 0px 1px 3px 1px rgba(60, 64, 67, 0.15);\n",
              "      fill: #174EA6;\n",
              "    }\n",
              "\n",
              "    .colab-df-buttons div {\n",
              "      margin-bottom: 4px;\n",
              "    }\n",
              "\n",
              "    [theme=dark] .colab-df-convert {\n",
              "      background-color: #3B4455;\n",
              "      fill: #D2E3FC;\n",
              "    }\n",
              "\n",
              "    [theme=dark] .colab-df-convert:hover {\n",
              "      background-color: #434B5C;\n",
              "      box-shadow: 0px 1px 3px 1px rgba(0, 0, 0, 0.15);\n",
              "      filter: drop-shadow(0px 1px 2px rgba(0, 0, 0, 0.3));\n",
              "      fill: #FFFFFF;\n",
              "    }\n",
              "  </style>\n",
              "\n",
              "    <script>\n",
              "      const buttonEl =\n",
              "        document.querySelector('#df-5b5b1b2a-03b6-45de-a234-ce6415ae50ee button.colab-df-convert');\n",
              "      buttonEl.style.display =\n",
              "        google.colab.kernel.accessAllowed ? 'block' : 'none';\n",
              "\n",
              "      async function convertToInteractive(key) {\n",
              "        const element = document.querySelector('#df-5b5b1b2a-03b6-45de-a234-ce6415ae50ee');\n",
              "        const dataTable =\n",
              "          await google.colab.kernel.invokeFunction('convertToInteractive',\n",
              "                                                    [key], {});\n",
              "        if (!dataTable) return;\n",
              "\n",
              "        const docLinkHtml = 'Like what you see? Visit the ' +\n",
              "          '<a target=\"_blank\" href=https://colab.research.google.com/notebooks/data_table.ipynb>data table notebook</a>'\n",
              "          + ' to learn more about interactive tables.';\n",
              "        element.innerHTML = '';\n",
              "        dataTable['output_type'] = 'display_data';\n",
              "        await google.colab.output.renderOutput(dataTable, element);\n",
              "        const docLink = document.createElement('div');\n",
              "        docLink.innerHTML = docLinkHtml;\n",
              "        element.appendChild(docLink);\n",
              "      }\n",
              "    </script>\n",
              "  </div>\n",
              "\n",
              "\n",
              "    <div id=\"df-2291912f-6f0a-4864-9ee9-f5d81e97b99a\">\n",
              "      <button class=\"colab-df-quickchart\" onclick=\"quickchart('df-2291912f-6f0a-4864-9ee9-f5d81e97b99a')\"\n",
              "                title=\"Suggest charts\"\n",
              "                style=\"display:none;\">\n",
              "\n",
              "<svg xmlns=\"http://www.w3.org/2000/svg\" height=\"24px\"viewBox=\"0 0 24 24\"\n",
              "     width=\"24px\">\n",
              "    <g>\n",
              "        <path d=\"M19 3H5c-1.1 0-2 .9-2 2v14c0 1.1.9 2 2 2h14c1.1 0 2-.9 2-2V5c0-1.1-.9-2-2-2zM9 17H7v-7h2v7zm4 0h-2V7h2v10zm4 0h-2v-4h2v4z\"/>\n",
              "    </g>\n",
              "</svg>\n",
              "      </button>\n",
              "\n",
              "<style>\n",
              "  .colab-df-quickchart {\n",
              "      --bg-color: #E8F0FE;\n",
              "      --fill-color: #1967D2;\n",
              "      --hover-bg-color: #E2EBFA;\n",
              "      --hover-fill-color: #174EA6;\n",
              "      --disabled-fill-color: #AAA;\n",
              "      --disabled-bg-color: #DDD;\n",
              "  }\n",
              "\n",
              "  [theme=dark] .colab-df-quickchart {\n",
              "      --bg-color: #3B4455;\n",
              "      --fill-color: #D2E3FC;\n",
              "      --hover-bg-color: #434B5C;\n",
              "      --hover-fill-color: #FFFFFF;\n",
              "      --disabled-bg-color: #3B4455;\n",
              "      --disabled-fill-color: #666;\n",
              "  }\n",
              "\n",
              "  .colab-df-quickchart {\n",
              "    background-color: var(--bg-color);\n",
              "    border: none;\n",
              "    border-radius: 50%;\n",
              "    cursor: pointer;\n",
              "    display: none;\n",
              "    fill: var(--fill-color);\n",
              "    height: 32px;\n",
              "    padding: 0;\n",
              "    width: 32px;\n",
              "  }\n",
              "\n",
              "  .colab-df-quickchart:hover {\n",
              "    background-color: var(--hover-bg-color);\n",
              "    box-shadow: 0 1px 2px rgba(60, 64, 67, 0.3), 0 1px 3px 1px rgba(60, 64, 67, 0.15);\n",
              "    fill: var(--button-hover-fill-color);\n",
              "  }\n",
              "\n",
              "  .colab-df-quickchart-complete:disabled,\n",
              "  .colab-df-quickchart-complete:disabled:hover {\n",
              "    background-color: var(--disabled-bg-color);\n",
              "    fill: var(--disabled-fill-color);\n",
              "    box-shadow: none;\n",
              "  }\n",
              "\n",
              "  .colab-df-spinner {\n",
              "    border: 2px solid var(--fill-color);\n",
              "    border-color: transparent;\n",
              "    border-bottom-color: var(--fill-color);\n",
              "    animation:\n",
              "      spin 1s steps(1) infinite;\n",
              "  }\n",
              "\n",
              "  @keyframes spin {\n",
              "    0% {\n",
              "      border-color: transparent;\n",
              "      border-bottom-color: var(--fill-color);\n",
              "      border-left-color: var(--fill-color);\n",
              "    }\n",
              "    20% {\n",
              "      border-color: transparent;\n",
              "      border-left-color: var(--fill-color);\n",
              "      border-top-color: var(--fill-color);\n",
              "    }\n",
              "    30% {\n",
              "      border-color: transparent;\n",
              "      border-left-color: var(--fill-color);\n",
              "      border-top-color: var(--fill-color);\n",
              "      border-right-color: var(--fill-color);\n",
              "    }\n",
              "    40% {\n",
              "      border-color: transparent;\n",
              "      border-right-color: var(--fill-color);\n",
              "      border-top-color: var(--fill-color);\n",
              "    }\n",
              "    60% {\n",
              "      border-color: transparent;\n",
              "      border-right-color: var(--fill-color);\n",
              "    }\n",
              "    80% {\n",
              "      border-color: transparent;\n",
              "      border-right-color: var(--fill-color);\n",
              "      border-bottom-color: var(--fill-color);\n",
              "    }\n",
              "    90% {\n",
              "      border-color: transparent;\n",
              "      border-bottom-color: var(--fill-color);\n",
              "    }\n",
              "  }\n",
              "</style>\n",
              "\n",
              "      <script>\n",
              "        async function quickchart(key) {\n",
              "          const quickchartButtonEl =\n",
              "            document.querySelector('#' + key + ' button');\n",
              "          quickchartButtonEl.disabled = true;  // To prevent multiple clicks.\n",
              "          quickchartButtonEl.classList.add('colab-df-spinner');\n",
              "          try {\n",
              "            const charts = await google.colab.kernel.invokeFunction(\n",
              "                'suggestCharts', [key], {});\n",
              "          } catch (error) {\n",
              "            console.error('Error during call to suggestCharts:', error);\n",
              "          }\n",
              "          quickchartButtonEl.classList.remove('colab-df-spinner');\n",
              "          quickchartButtonEl.classList.add('colab-df-quickchart-complete');\n",
              "        }\n",
              "        (() => {\n",
              "          let quickchartButtonEl =\n",
              "            document.querySelector('#df-2291912f-6f0a-4864-9ee9-f5d81e97b99a button');\n",
              "          quickchartButtonEl.style.display =\n",
              "            google.colab.kernel.accessAllowed ? 'block' : 'none';\n",
              "        })();\n",
              "      </script>\n",
              "    </div>\n",
              "\n",
              "    </div>\n",
              "  </div>\n"
            ],
            "application/vnd.google.colaboratory.intrinsic+json": {
              "type": "dataframe",
              "variable_name": "df",
              "summary": "{\n  \"name\": \"df\",\n  \"rows\": 7267,\n  \"fields\": [\n    {\n      \"column\": \"customerID\",\n      \"properties\": {\n        \"dtype\": \"string\",\n        \"num_unique_values\": 7267,\n        \"samples\": [\n          \"2038-OEQZH\",\n          \"6322-HRPFA\",\n          \"3969-JQABI\"\n        ],\n        \"semantic_type\": \"\",\n        \"description\": \"\"\n      }\n    },\n    {\n      \"column\": \"Churn\",\n      \"properties\": {\n        \"dtype\": \"category\",\n        \"num_unique_values\": 3,\n        \"samples\": [\n          \"No\",\n          \"Yes\",\n          \"\"\n        ],\n        \"semantic_type\": \"\",\n        \"description\": \"\"\n      }\n    },\n    {\n      \"column\": \"customer\",\n      \"properties\": {\n        \"dtype\": \"object\",\n        \"semantic_type\": \"\",\n        \"description\": \"\"\n      }\n    },\n    {\n      \"column\": \"phone\",\n      \"properties\": {\n        \"dtype\": \"object\",\n        \"semantic_type\": \"\",\n        \"description\": \"\"\n      }\n    },\n    {\n      \"column\": \"internet\",\n      \"properties\": {\n        \"dtype\": \"object\",\n        \"semantic_type\": \"\",\n        \"description\": \"\"\n      }\n    },\n    {\n      \"column\": \"account\",\n      \"properties\": {\n        \"dtype\": \"object\",\n        \"semantic_type\": \"\",\n        \"description\": \"\"\n      }\n    }\n  ]\n}"
            }
          },
          "metadata": {},
          "execution_count": 208
        }
      ]
    },
    {
      "cell_type": "code",
      "source": [
        "# Verificando informações sobre a quantidade de colunas, linhas e tipos de dados\n",
        "df.info()"
      ],
      "metadata": {
        "colab": {
          "base_uri": "https://localhost:8080/"
        },
        "id": "zG5G0MD8j4S5",
        "outputId": "bd8637cb-67eb-463b-b0fa-e7ca8a370c0a"
      },
      "execution_count": 209,
      "outputs": [
        {
          "output_type": "stream",
          "name": "stdout",
          "text": [
            "<class 'pandas.core.frame.DataFrame'>\n",
            "RangeIndex: 7267 entries, 0 to 7266\n",
            "Data columns (total 6 columns):\n",
            " #   Column      Non-Null Count  Dtype \n",
            "---  ------      --------------  ----- \n",
            " 0   customerID  7267 non-null   object\n",
            " 1   Churn       7267 non-null   object\n",
            " 2   customer    7267 non-null   object\n",
            " 3   phone       7267 non-null   object\n",
            " 4   internet    7267 non-null   object\n",
            " 5   account     7267 non-null   object\n",
            "dtypes: object(6)\n",
            "memory usage: 340.8+ KB\n"
          ]
        }
      ]
    },
    {
      "cell_type": "code",
      "source": [
        "# Gerando um resumo estatístico básico\n",
        "df.describe()"
      ],
      "metadata": {
        "colab": {
          "base_uri": "https://localhost:8080/",
          "height": 192
        },
        "id": "D54Tc2riaPdn",
        "outputId": "3f7def60-a6f4-4d76-ec21-a8301f9550db"
      },
      "execution_count": 210,
      "outputs": [
        {
          "output_type": "execute_result",
          "data": {
            "text/plain": [
              "        customerID Churn                                           customer  \\\n",
              "count         7267  7267                                               7267   \n",
              "unique        7267     3                                                891   \n",
              "top     9995-HOTOH    No  {'gender': 'Male', 'SeniorCitizen': 0, 'Partne...   \n",
              "freq             1  5174                                                223   \n",
              "\n",
              "                                                 phone  \\\n",
              "count                                             7267   \n",
              "unique                                               3   \n",
              "top     {'PhoneService': 'Yes', 'MultipleLines': 'No'}   \n",
              "freq                                              3495   \n",
              "\n",
              "                                                 internet  \\\n",
              "count                                                7267   \n",
              "unique                                                129   \n",
              "top     {'InternetService': 'No', 'OnlineSecurity': 'N...   \n",
              "freq                                                 1581   \n",
              "\n",
              "                                                  account  \n",
              "count                                                7267  \n",
              "unique                                               6931  \n",
              "top     {'Contract': 'Month-to-month', 'PaperlessBilli...  \n",
              "freq                                                    6  "
            ],
            "text/html": [
              "\n",
              "  <div id=\"df-c5f7a5eb-8558-43f6-9c07-9b83f3a52b8f\" class=\"colab-df-container\">\n",
              "    <div>\n",
              "<style scoped>\n",
              "    .dataframe tbody tr th:only-of-type {\n",
              "        vertical-align: middle;\n",
              "    }\n",
              "\n",
              "    .dataframe tbody tr th {\n",
              "        vertical-align: top;\n",
              "    }\n",
              "\n",
              "    .dataframe thead th {\n",
              "        text-align: right;\n",
              "    }\n",
              "</style>\n",
              "<table border=\"1\" class=\"dataframe\">\n",
              "  <thead>\n",
              "    <tr style=\"text-align: right;\">\n",
              "      <th></th>\n",
              "      <th>customerID</th>\n",
              "      <th>Churn</th>\n",
              "      <th>customer</th>\n",
              "      <th>phone</th>\n",
              "      <th>internet</th>\n",
              "      <th>account</th>\n",
              "    </tr>\n",
              "  </thead>\n",
              "  <tbody>\n",
              "    <tr>\n",
              "      <th>count</th>\n",
              "      <td>7267</td>\n",
              "      <td>7267</td>\n",
              "      <td>7267</td>\n",
              "      <td>7267</td>\n",
              "      <td>7267</td>\n",
              "      <td>7267</td>\n",
              "    </tr>\n",
              "    <tr>\n",
              "      <th>unique</th>\n",
              "      <td>7267</td>\n",
              "      <td>3</td>\n",
              "      <td>891</td>\n",
              "      <td>3</td>\n",
              "      <td>129</td>\n",
              "      <td>6931</td>\n",
              "    </tr>\n",
              "    <tr>\n",
              "      <th>top</th>\n",
              "      <td>9995-HOTOH</td>\n",
              "      <td>No</td>\n",
              "      <td>{'gender': 'Male', 'SeniorCitizen': 0, 'Partne...</td>\n",
              "      <td>{'PhoneService': 'Yes', 'MultipleLines': 'No'}</td>\n",
              "      <td>{'InternetService': 'No', 'OnlineSecurity': 'N...</td>\n",
              "      <td>{'Contract': 'Month-to-month', 'PaperlessBilli...</td>\n",
              "    </tr>\n",
              "    <tr>\n",
              "      <th>freq</th>\n",
              "      <td>1</td>\n",
              "      <td>5174</td>\n",
              "      <td>223</td>\n",
              "      <td>3495</td>\n",
              "      <td>1581</td>\n",
              "      <td>6</td>\n",
              "    </tr>\n",
              "  </tbody>\n",
              "</table>\n",
              "</div>\n",
              "    <div class=\"colab-df-buttons\">\n",
              "\n",
              "  <div class=\"colab-df-container\">\n",
              "    <button class=\"colab-df-convert\" onclick=\"convertToInteractive('df-c5f7a5eb-8558-43f6-9c07-9b83f3a52b8f')\"\n",
              "            title=\"Convert this dataframe to an interactive table.\"\n",
              "            style=\"display:none;\">\n",
              "\n",
              "  <svg xmlns=\"http://www.w3.org/2000/svg\" height=\"24px\" viewBox=\"0 -960 960 960\">\n",
              "    <path d=\"M120-120v-720h720v720H120Zm60-500h600v-160H180v160Zm220 220h160v-160H400v160Zm0 220h160v-160H400v160ZM180-400h160v-160H180v160Zm440 0h160v-160H620v160ZM180-180h160v-160H180v160Zm440 0h160v-160H620v160Z\"/>\n",
              "  </svg>\n",
              "    </button>\n",
              "\n",
              "  <style>\n",
              "    .colab-df-container {\n",
              "      display:flex;\n",
              "      gap: 12px;\n",
              "    }\n",
              "\n",
              "    .colab-df-convert {\n",
              "      background-color: #E8F0FE;\n",
              "      border: none;\n",
              "      border-radius: 50%;\n",
              "      cursor: pointer;\n",
              "      display: none;\n",
              "      fill: #1967D2;\n",
              "      height: 32px;\n",
              "      padding: 0 0 0 0;\n",
              "      width: 32px;\n",
              "    }\n",
              "\n",
              "    .colab-df-convert:hover {\n",
              "      background-color: #E2EBFA;\n",
              "      box-shadow: 0px 1px 2px rgba(60, 64, 67, 0.3), 0px 1px 3px 1px rgba(60, 64, 67, 0.15);\n",
              "      fill: #174EA6;\n",
              "    }\n",
              "\n",
              "    .colab-df-buttons div {\n",
              "      margin-bottom: 4px;\n",
              "    }\n",
              "\n",
              "    [theme=dark] .colab-df-convert {\n",
              "      background-color: #3B4455;\n",
              "      fill: #D2E3FC;\n",
              "    }\n",
              "\n",
              "    [theme=dark] .colab-df-convert:hover {\n",
              "      background-color: #434B5C;\n",
              "      box-shadow: 0px 1px 3px 1px rgba(0, 0, 0, 0.15);\n",
              "      filter: drop-shadow(0px 1px 2px rgba(0, 0, 0, 0.3));\n",
              "      fill: #FFFFFF;\n",
              "    }\n",
              "  </style>\n",
              "\n",
              "    <script>\n",
              "      const buttonEl =\n",
              "        document.querySelector('#df-c5f7a5eb-8558-43f6-9c07-9b83f3a52b8f button.colab-df-convert');\n",
              "      buttonEl.style.display =\n",
              "        google.colab.kernel.accessAllowed ? 'block' : 'none';\n",
              "\n",
              "      async function convertToInteractive(key) {\n",
              "        const element = document.querySelector('#df-c5f7a5eb-8558-43f6-9c07-9b83f3a52b8f');\n",
              "        const dataTable =\n",
              "          await google.colab.kernel.invokeFunction('convertToInteractive',\n",
              "                                                    [key], {});\n",
              "        if (!dataTable) return;\n",
              "\n",
              "        const docLinkHtml = 'Like what you see? Visit the ' +\n",
              "          '<a target=\"_blank\" href=https://colab.research.google.com/notebooks/data_table.ipynb>data table notebook</a>'\n",
              "          + ' to learn more about interactive tables.';\n",
              "        element.innerHTML = '';\n",
              "        dataTable['output_type'] = 'display_data';\n",
              "        await google.colab.output.renderOutput(dataTable, element);\n",
              "        const docLink = document.createElement('div');\n",
              "        docLink.innerHTML = docLinkHtml;\n",
              "        element.appendChild(docLink);\n",
              "      }\n",
              "    </script>\n",
              "  </div>\n",
              "\n",
              "\n",
              "    <div id=\"df-7dda6869-a356-4a64-a726-2ceb8fdafd06\">\n",
              "      <button class=\"colab-df-quickchart\" onclick=\"quickchart('df-7dda6869-a356-4a64-a726-2ceb8fdafd06')\"\n",
              "                title=\"Suggest charts\"\n",
              "                style=\"display:none;\">\n",
              "\n",
              "<svg xmlns=\"http://www.w3.org/2000/svg\" height=\"24px\"viewBox=\"0 0 24 24\"\n",
              "     width=\"24px\">\n",
              "    <g>\n",
              "        <path d=\"M19 3H5c-1.1 0-2 .9-2 2v14c0 1.1.9 2 2 2h14c1.1 0 2-.9 2-2V5c0-1.1-.9-2-2-2zM9 17H7v-7h2v7zm4 0h-2V7h2v10zm4 0h-2v-4h2v4z\"/>\n",
              "    </g>\n",
              "</svg>\n",
              "      </button>\n",
              "\n",
              "<style>\n",
              "  .colab-df-quickchart {\n",
              "      --bg-color: #E8F0FE;\n",
              "      --fill-color: #1967D2;\n",
              "      --hover-bg-color: #E2EBFA;\n",
              "      --hover-fill-color: #174EA6;\n",
              "      --disabled-fill-color: #AAA;\n",
              "      --disabled-bg-color: #DDD;\n",
              "  }\n",
              "\n",
              "  [theme=dark] .colab-df-quickchart {\n",
              "      --bg-color: #3B4455;\n",
              "      --fill-color: #D2E3FC;\n",
              "      --hover-bg-color: #434B5C;\n",
              "      --hover-fill-color: #FFFFFF;\n",
              "      --disabled-bg-color: #3B4455;\n",
              "      --disabled-fill-color: #666;\n",
              "  }\n",
              "\n",
              "  .colab-df-quickchart {\n",
              "    background-color: var(--bg-color);\n",
              "    border: none;\n",
              "    border-radius: 50%;\n",
              "    cursor: pointer;\n",
              "    display: none;\n",
              "    fill: var(--fill-color);\n",
              "    height: 32px;\n",
              "    padding: 0;\n",
              "    width: 32px;\n",
              "  }\n",
              "\n",
              "  .colab-df-quickchart:hover {\n",
              "    background-color: var(--hover-bg-color);\n",
              "    box-shadow: 0 1px 2px rgba(60, 64, 67, 0.3), 0 1px 3px 1px rgba(60, 64, 67, 0.15);\n",
              "    fill: var(--button-hover-fill-color);\n",
              "  }\n",
              "\n",
              "  .colab-df-quickchart-complete:disabled,\n",
              "  .colab-df-quickchart-complete:disabled:hover {\n",
              "    background-color: var(--disabled-bg-color);\n",
              "    fill: var(--disabled-fill-color);\n",
              "    box-shadow: none;\n",
              "  }\n",
              "\n",
              "  .colab-df-spinner {\n",
              "    border: 2px solid var(--fill-color);\n",
              "    border-color: transparent;\n",
              "    border-bottom-color: var(--fill-color);\n",
              "    animation:\n",
              "      spin 1s steps(1) infinite;\n",
              "  }\n",
              "\n",
              "  @keyframes spin {\n",
              "    0% {\n",
              "      border-color: transparent;\n",
              "      border-bottom-color: var(--fill-color);\n",
              "      border-left-color: var(--fill-color);\n",
              "    }\n",
              "    20% {\n",
              "      border-color: transparent;\n",
              "      border-left-color: var(--fill-color);\n",
              "      border-top-color: var(--fill-color);\n",
              "    }\n",
              "    30% {\n",
              "      border-color: transparent;\n",
              "      border-left-color: var(--fill-color);\n",
              "      border-top-color: var(--fill-color);\n",
              "      border-right-color: var(--fill-color);\n",
              "    }\n",
              "    40% {\n",
              "      border-color: transparent;\n",
              "      border-right-color: var(--fill-color);\n",
              "      border-top-color: var(--fill-color);\n",
              "    }\n",
              "    60% {\n",
              "      border-color: transparent;\n",
              "      border-right-color: var(--fill-color);\n",
              "    }\n",
              "    80% {\n",
              "      border-color: transparent;\n",
              "      border-right-color: var(--fill-color);\n",
              "      border-bottom-color: var(--fill-color);\n",
              "    }\n",
              "    90% {\n",
              "      border-color: transparent;\n",
              "      border-bottom-color: var(--fill-color);\n",
              "    }\n",
              "  }\n",
              "</style>\n",
              "\n",
              "      <script>\n",
              "        async function quickchart(key) {\n",
              "          const quickchartButtonEl =\n",
              "            document.querySelector('#' + key + ' button');\n",
              "          quickchartButtonEl.disabled = true;  // To prevent multiple clicks.\n",
              "          quickchartButtonEl.classList.add('colab-df-spinner');\n",
              "          try {\n",
              "            const charts = await google.colab.kernel.invokeFunction(\n",
              "                'suggestCharts', [key], {});\n",
              "          } catch (error) {\n",
              "            console.error('Error during call to suggestCharts:', error);\n",
              "          }\n",
              "          quickchartButtonEl.classList.remove('colab-df-spinner');\n",
              "          quickchartButtonEl.classList.add('colab-df-quickchart-complete');\n",
              "        }\n",
              "        (() => {\n",
              "          let quickchartButtonEl =\n",
              "            document.querySelector('#df-7dda6869-a356-4a64-a726-2ceb8fdafd06 button');\n",
              "          quickchartButtonEl.style.display =\n",
              "            google.colab.kernel.accessAllowed ? 'block' : 'none';\n",
              "        })();\n",
              "      </script>\n",
              "    </div>\n",
              "\n",
              "    </div>\n",
              "  </div>\n"
            ],
            "application/vnd.google.colaboratory.intrinsic+json": {
              "type": "dataframe",
              "summary": "{\n  \"name\": \"df\",\n  \"rows\": 4,\n  \"fields\": [\n    {\n      \"column\": \"customerID\",\n      \"properties\": {\n        \"dtype\": \"string\",\n        \"num_unique_values\": 3,\n        \"samples\": [\n          \"7267\",\n          \"9995-HOTOH\",\n          \"1\"\n        ],\n        \"semantic_type\": \"\",\n        \"description\": \"\"\n      }\n    },\n    {\n      \"column\": \"Churn\",\n      \"properties\": {\n        \"dtype\": \"string\",\n        \"num_unique_values\": 4,\n        \"samples\": [\n          3,\n          \"5174\",\n          \"7267\"\n        ],\n        \"semantic_type\": \"\",\n        \"description\": \"\"\n      }\n    },\n    {\n      \"column\": \"customer\",\n      \"properties\": {\n        \"dtype\": \"object\",\n        \"semantic_type\": \"\",\n        \"description\": \"\"\n      }\n    },\n    {\n      \"column\": \"phone\",\n      \"properties\": {\n        \"dtype\": \"object\",\n        \"semantic_type\": \"\",\n        \"description\": \"\"\n      }\n    },\n    {\n      \"column\": \"internet\",\n      \"properties\": {\n        \"dtype\": \"object\",\n        \"semantic_type\": \"\",\n        \"description\": \"\"\n      }\n    },\n    {\n      \"column\": \"account\",\n      \"properties\": {\n        \"dtype\": \"object\",\n        \"semantic_type\": \"\",\n        \"description\": \"\"\n      }\n    }\n  ]\n}"
            }
          },
          "metadata": {},
          "execution_count": 210
        }
      ]
    },
    {
      "cell_type": "markdown",
      "source": [
        "# Parte 2: Transformação (Transform)"
      ],
      "metadata": {
        "id": "YiLkMONU2IFJ"
      }
    },
    {
      "cell_type": "code",
      "source": [
        "# Verificando colunas com dicionários\n",
        "for col in df.columns:\n",
        "    if df[col].apply(lambda x: isinstance(x, dict)).any():\n",
        "        print(f\"A coluna '{col}' contém dicionários.\")"
      ],
      "metadata": {
        "colab": {
          "base_uri": "https://localhost:8080/"
        },
        "id": "7z-XXhWpa0PN",
        "outputId": "6867c46d-2e5c-44cd-e0f6-40ee5ca58809"
      },
      "execution_count": 211,
      "outputs": [
        {
          "output_type": "stream",
          "name": "stdout",
          "text": [
            "A coluna 'customer' contém dicionários.\n",
            "A coluna 'phone' contém dicionários.\n",
            "A coluna 'internet' contém dicionários.\n",
            "A coluna 'account' contém dicionários.\n"
          ]
        }
      ]
    },
    {
      "cell_type": "code",
      "source": [
        "# Listando as colunas que contêm dicionários\n",
        "colunas_em_dicionario = ['customer', 'phone', 'internet', 'account']\n",
        "\n",
        "# Utilizando apply(pd.Series) para transformar cada dicionário em colunas\n",
        "for col in colunas_em_dicionario:\n",
        "  df_extracao = df[col].apply(pd.Series)\n",
        "  df = df.join(df_extracao)\n",
        "\n",
        "# Removendo as colunas originais com dicionários\n",
        "df.drop(colunas_em_dicionario, axis=1, inplace=True)"
      ],
      "metadata": {
        "id": "R69LdSPZba42"
      },
      "execution_count": 212,
      "outputs": []
    },
    {
      "cell_type": "code",
      "source": [
        "# Visualizando as primeiras linhas do arquivo\n",
        "df.head(3)"
      ],
      "metadata": {
        "colab": {
          "base_uri": "https://localhost:8080/",
          "height": 320
        },
        "id": "cL5nrhCobjss",
        "outputId": "636b0618-1cd9-47ea-cff0-588b41fad351"
      },
      "execution_count": 213,
      "outputs": [
        {
          "output_type": "execute_result",
          "data": {
            "text/plain": [
              "   customerID Churn  gender  SeniorCitizen Partner Dependents  tenure  \\\n",
              "0  0002-ORFBO    No  Female              0     Yes        Yes       9   \n",
              "1  0003-MKNFE    No    Male              0      No         No       9   \n",
              "2  0004-TLHLJ   Yes    Male              0      No         No       4   \n",
              "\n",
              "  PhoneService MultipleLines InternetService OnlineSecurity OnlineBackup  \\\n",
              "0          Yes            No             DSL             No          Yes   \n",
              "1          Yes           Yes             DSL             No           No   \n",
              "2          Yes            No     Fiber optic             No           No   \n",
              "\n",
              "  DeviceProtection TechSupport StreamingTV StreamingMovies        Contract  \\\n",
              "0               No         Yes         Yes              No        One year   \n",
              "1               No          No          No             Yes  Month-to-month   \n",
              "2              Yes          No          No              No  Month-to-month   \n",
              "\n",
              "  PaperlessBilling     PaymentMethod                               Charges  \n",
              "0              Yes      Mailed check   {'Monthly': 65.6, 'Total': '593.3'}  \n",
              "1               No      Mailed check   {'Monthly': 59.9, 'Total': '542.4'}  \n",
              "2              Yes  Electronic check  {'Monthly': 73.9, 'Total': '280.85'}  "
            ],
            "text/html": [
              "\n",
              "  <div id=\"df-938cbeb5-8777-4647-abd2-759bf52fdda0\" class=\"colab-df-container\">\n",
              "    <div>\n",
              "<style scoped>\n",
              "    .dataframe tbody tr th:only-of-type {\n",
              "        vertical-align: middle;\n",
              "    }\n",
              "\n",
              "    .dataframe tbody tr th {\n",
              "        vertical-align: top;\n",
              "    }\n",
              "\n",
              "    .dataframe thead th {\n",
              "        text-align: right;\n",
              "    }\n",
              "</style>\n",
              "<table border=\"1\" class=\"dataframe\">\n",
              "  <thead>\n",
              "    <tr style=\"text-align: right;\">\n",
              "      <th></th>\n",
              "      <th>customerID</th>\n",
              "      <th>Churn</th>\n",
              "      <th>gender</th>\n",
              "      <th>SeniorCitizen</th>\n",
              "      <th>Partner</th>\n",
              "      <th>Dependents</th>\n",
              "      <th>tenure</th>\n",
              "      <th>PhoneService</th>\n",
              "      <th>MultipleLines</th>\n",
              "      <th>InternetService</th>\n",
              "      <th>OnlineSecurity</th>\n",
              "      <th>OnlineBackup</th>\n",
              "      <th>DeviceProtection</th>\n",
              "      <th>TechSupport</th>\n",
              "      <th>StreamingTV</th>\n",
              "      <th>StreamingMovies</th>\n",
              "      <th>Contract</th>\n",
              "      <th>PaperlessBilling</th>\n",
              "      <th>PaymentMethod</th>\n",
              "      <th>Charges</th>\n",
              "    </tr>\n",
              "  </thead>\n",
              "  <tbody>\n",
              "    <tr>\n",
              "      <th>0</th>\n",
              "      <td>0002-ORFBO</td>\n",
              "      <td>No</td>\n",
              "      <td>Female</td>\n",
              "      <td>0</td>\n",
              "      <td>Yes</td>\n",
              "      <td>Yes</td>\n",
              "      <td>9</td>\n",
              "      <td>Yes</td>\n",
              "      <td>No</td>\n",
              "      <td>DSL</td>\n",
              "      <td>No</td>\n",
              "      <td>Yes</td>\n",
              "      <td>No</td>\n",
              "      <td>Yes</td>\n",
              "      <td>Yes</td>\n",
              "      <td>No</td>\n",
              "      <td>One year</td>\n",
              "      <td>Yes</td>\n",
              "      <td>Mailed check</td>\n",
              "      <td>{'Monthly': 65.6, 'Total': '593.3'}</td>\n",
              "    </tr>\n",
              "    <tr>\n",
              "      <th>1</th>\n",
              "      <td>0003-MKNFE</td>\n",
              "      <td>No</td>\n",
              "      <td>Male</td>\n",
              "      <td>0</td>\n",
              "      <td>No</td>\n",
              "      <td>No</td>\n",
              "      <td>9</td>\n",
              "      <td>Yes</td>\n",
              "      <td>Yes</td>\n",
              "      <td>DSL</td>\n",
              "      <td>No</td>\n",
              "      <td>No</td>\n",
              "      <td>No</td>\n",
              "      <td>No</td>\n",
              "      <td>No</td>\n",
              "      <td>Yes</td>\n",
              "      <td>Month-to-month</td>\n",
              "      <td>No</td>\n",
              "      <td>Mailed check</td>\n",
              "      <td>{'Monthly': 59.9, 'Total': '542.4'}</td>\n",
              "    </tr>\n",
              "    <tr>\n",
              "      <th>2</th>\n",
              "      <td>0004-TLHLJ</td>\n",
              "      <td>Yes</td>\n",
              "      <td>Male</td>\n",
              "      <td>0</td>\n",
              "      <td>No</td>\n",
              "      <td>No</td>\n",
              "      <td>4</td>\n",
              "      <td>Yes</td>\n",
              "      <td>No</td>\n",
              "      <td>Fiber optic</td>\n",
              "      <td>No</td>\n",
              "      <td>No</td>\n",
              "      <td>Yes</td>\n",
              "      <td>No</td>\n",
              "      <td>No</td>\n",
              "      <td>No</td>\n",
              "      <td>Month-to-month</td>\n",
              "      <td>Yes</td>\n",
              "      <td>Electronic check</td>\n",
              "      <td>{'Monthly': 73.9, 'Total': '280.85'}</td>\n",
              "    </tr>\n",
              "  </tbody>\n",
              "</table>\n",
              "</div>\n",
              "    <div class=\"colab-df-buttons\">\n",
              "\n",
              "  <div class=\"colab-df-container\">\n",
              "    <button class=\"colab-df-convert\" onclick=\"convertToInteractive('df-938cbeb5-8777-4647-abd2-759bf52fdda0')\"\n",
              "            title=\"Convert this dataframe to an interactive table.\"\n",
              "            style=\"display:none;\">\n",
              "\n",
              "  <svg xmlns=\"http://www.w3.org/2000/svg\" height=\"24px\" viewBox=\"0 -960 960 960\">\n",
              "    <path d=\"M120-120v-720h720v720H120Zm60-500h600v-160H180v160Zm220 220h160v-160H400v160Zm0 220h160v-160H400v160ZM180-400h160v-160H180v160Zm440 0h160v-160H620v160ZM180-180h160v-160H180v160Zm440 0h160v-160H620v160Z\"/>\n",
              "  </svg>\n",
              "    </button>\n",
              "\n",
              "  <style>\n",
              "    .colab-df-container {\n",
              "      display:flex;\n",
              "      gap: 12px;\n",
              "    }\n",
              "\n",
              "    .colab-df-convert {\n",
              "      background-color: #E8F0FE;\n",
              "      border: none;\n",
              "      border-radius: 50%;\n",
              "      cursor: pointer;\n",
              "      display: none;\n",
              "      fill: #1967D2;\n",
              "      height: 32px;\n",
              "      padding: 0 0 0 0;\n",
              "      width: 32px;\n",
              "    }\n",
              "\n",
              "    .colab-df-convert:hover {\n",
              "      background-color: #E2EBFA;\n",
              "      box-shadow: 0px 1px 2px rgba(60, 64, 67, 0.3), 0px 1px 3px 1px rgba(60, 64, 67, 0.15);\n",
              "      fill: #174EA6;\n",
              "    }\n",
              "\n",
              "    .colab-df-buttons div {\n",
              "      margin-bottom: 4px;\n",
              "    }\n",
              "\n",
              "    [theme=dark] .colab-df-convert {\n",
              "      background-color: #3B4455;\n",
              "      fill: #D2E3FC;\n",
              "    }\n",
              "\n",
              "    [theme=dark] .colab-df-convert:hover {\n",
              "      background-color: #434B5C;\n",
              "      box-shadow: 0px 1px 3px 1px rgba(0, 0, 0, 0.15);\n",
              "      filter: drop-shadow(0px 1px 2px rgba(0, 0, 0, 0.3));\n",
              "      fill: #FFFFFF;\n",
              "    }\n",
              "  </style>\n",
              "\n",
              "    <script>\n",
              "      const buttonEl =\n",
              "        document.querySelector('#df-938cbeb5-8777-4647-abd2-759bf52fdda0 button.colab-df-convert');\n",
              "      buttonEl.style.display =\n",
              "        google.colab.kernel.accessAllowed ? 'block' : 'none';\n",
              "\n",
              "      async function convertToInteractive(key) {\n",
              "        const element = document.querySelector('#df-938cbeb5-8777-4647-abd2-759bf52fdda0');\n",
              "        const dataTable =\n",
              "          await google.colab.kernel.invokeFunction('convertToInteractive',\n",
              "                                                    [key], {});\n",
              "        if (!dataTable) return;\n",
              "\n",
              "        const docLinkHtml = 'Like what you see? Visit the ' +\n",
              "          '<a target=\"_blank\" href=https://colab.research.google.com/notebooks/data_table.ipynb>data table notebook</a>'\n",
              "          + ' to learn more about interactive tables.';\n",
              "        element.innerHTML = '';\n",
              "        dataTable['output_type'] = 'display_data';\n",
              "        await google.colab.output.renderOutput(dataTable, element);\n",
              "        const docLink = document.createElement('div');\n",
              "        docLink.innerHTML = docLinkHtml;\n",
              "        element.appendChild(docLink);\n",
              "      }\n",
              "    </script>\n",
              "  </div>\n",
              "\n",
              "\n",
              "    <div id=\"df-3f8b2c5c-0b18-45fa-8ae2-c04e0422fc0b\">\n",
              "      <button class=\"colab-df-quickchart\" onclick=\"quickchart('df-3f8b2c5c-0b18-45fa-8ae2-c04e0422fc0b')\"\n",
              "                title=\"Suggest charts\"\n",
              "                style=\"display:none;\">\n",
              "\n",
              "<svg xmlns=\"http://www.w3.org/2000/svg\" height=\"24px\"viewBox=\"0 0 24 24\"\n",
              "     width=\"24px\">\n",
              "    <g>\n",
              "        <path d=\"M19 3H5c-1.1 0-2 .9-2 2v14c0 1.1.9 2 2 2h14c1.1 0 2-.9 2-2V5c0-1.1-.9-2-2-2zM9 17H7v-7h2v7zm4 0h-2V7h2v10zm4 0h-2v-4h2v4z\"/>\n",
              "    </g>\n",
              "</svg>\n",
              "      </button>\n",
              "\n",
              "<style>\n",
              "  .colab-df-quickchart {\n",
              "      --bg-color: #E8F0FE;\n",
              "      --fill-color: #1967D2;\n",
              "      --hover-bg-color: #E2EBFA;\n",
              "      --hover-fill-color: #174EA6;\n",
              "      --disabled-fill-color: #AAA;\n",
              "      --disabled-bg-color: #DDD;\n",
              "  }\n",
              "\n",
              "  [theme=dark] .colab-df-quickchart {\n",
              "      --bg-color: #3B4455;\n",
              "      --fill-color: #D2E3FC;\n",
              "      --hover-bg-color: #434B5C;\n",
              "      --hover-fill-color: #FFFFFF;\n",
              "      --disabled-bg-color: #3B4455;\n",
              "      --disabled-fill-color: #666;\n",
              "  }\n",
              "\n",
              "  .colab-df-quickchart {\n",
              "    background-color: var(--bg-color);\n",
              "    border: none;\n",
              "    border-radius: 50%;\n",
              "    cursor: pointer;\n",
              "    display: none;\n",
              "    fill: var(--fill-color);\n",
              "    height: 32px;\n",
              "    padding: 0;\n",
              "    width: 32px;\n",
              "  }\n",
              "\n",
              "  .colab-df-quickchart:hover {\n",
              "    background-color: var(--hover-bg-color);\n",
              "    box-shadow: 0 1px 2px rgba(60, 64, 67, 0.3), 0 1px 3px 1px rgba(60, 64, 67, 0.15);\n",
              "    fill: var(--button-hover-fill-color);\n",
              "  }\n",
              "\n",
              "  .colab-df-quickchart-complete:disabled,\n",
              "  .colab-df-quickchart-complete:disabled:hover {\n",
              "    background-color: var(--disabled-bg-color);\n",
              "    fill: var(--disabled-fill-color);\n",
              "    box-shadow: none;\n",
              "  }\n",
              "\n",
              "  .colab-df-spinner {\n",
              "    border: 2px solid var(--fill-color);\n",
              "    border-color: transparent;\n",
              "    border-bottom-color: var(--fill-color);\n",
              "    animation:\n",
              "      spin 1s steps(1) infinite;\n",
              "  }\n",
              "\n",
              "  @keyframes spin {\n",
              "    0% {\n",
              "      border-color: transparent;\n",
              "      border-bottom-color: var(--fill-color);\n",
              "      border-left-color: var(--fill-color);\n",
              "    }\n",
              "    20% {\n",
              "      border-color: transparent;\n",
              "      border-left-color: var(--fill-color);\n",
              "      border-top-color: var(--fill-color);\n",
              "    }\n",
              "    30% {\n",
              "      border-color: transparent;\n",
              "      border-left-color: var(--fill-color);\n",
              "      border-top-color: var(--fill-color);\n",
              "      border-right-color: var(--fill-color);\n",
              "    }\n",
              "    40% {\n",
              "      border-color: transparent;\n",
              "      border-right-color: var(--fill-color);\n",
              "      border-top-color: var(--fill-color);\n",
              "    }\n",
              "    60% {\n",
              "      border-color: transparent;\n",
              "      border-right-color: var(--fill-color);\n",
              "    }\n",
              "    80% {\n",
              "      border-color: transparent;\n",
              "      border-right-color: var(--fill-color);\n",
              "      border-bottom-color: var(--fill-color);\n",
              "    }\n",
              "    90% {\n",
              "      border-color: transparent;\n",
              "      border-bottom-color: var(--fill-color);\n",
              "    }\n",
              "  }\n",
              "</style>\n",
              "\n",
              "      <script>\n",
              "        async function quickchart(key) {\n",
              "          const quickchartButtonEl =\n",
              "            document.querySelector('#' + key + ' button');\n",
              "          quickchartButtonEl.disabled = true;  // To prevent multiple clicks.\n",
              "          quickchartButtonEl.classList.add('colab-df-spinner');\n",
              "          try {\n",
              "            const charts = await google.colab.kernel.invokeFunction(\n",
              "                'suggestCharts', [key], {});\n",
              "          } catch (error) {\n",
              "            console.error('Error during call to suggestCharts:', error);\n",
              "          }\n",
              "          quickchartButtonEl.classList.remove('colab-df-spinner');\n",
              "          quickchartButtonEl.classList.add('colab-df-quickchart-complete');\n",
              "        }\n",
              "        (() => {\n",
              "          let quickchartButtonEl =\n",
              "            document.querySelector('#df-3f8b2c5c-0b18-45fa-8ae2-c04e0422fc0b button');\n",
              "          quickchartButtonEl.style.display =\n",
              "            google.colab.kernel.accessAllowed ? 'block' : 'none';\n",
              "        })();\n",
              "      </script>\n",
              "    </div>\n",
              "\n",
              "    </div>\n",
              "  </div>\n"
            ],
            "application/vnd.google.colaboratory.intrinsic+json": {
              "type": "dataframe",
              "variable_name": "df",
              "summary": "{\n  \"name\": \"df\",\n  \"rows\": 7267,\n  \"fields\": [\n    {\n      \"column\": \"customerID\",\n      \"properties\": {\n        \"dtype\": \"string\",\n        \"num_unique_values\": 7267,\n        \"samples\": [\n          \"2038-OEQZH\",\n          \"6322-HRPFA\",\n          \"3969-JQABI\"\n        ],\n        \"semantic_type\": \"\",\n        \"description\": \"\"\n      }\n    },\n    {\n      \"column\": \"Churn\",\n      \"properties\": {\n        \"dtype\": \"category\",\n        \"num_unique_values\": 3,\n        \"samples\": [\n          \"No\",\n          \"Yes\",\n          \"\"\n        ],\n        \"semantic_type\": \"\",\n        \"description\": \"\"\n      }\n    },\n    {\n      \"column\": \"gender\",\n      \"properties\": {\n        \"dtype\": \"category\",\n        \"num_unique_values\": 2,\n        \"samples\": [\n          \"Male\",\n          \"Female\"\n        ],\n        \"semantic_type\": \"\",\n        \"description\": \"\"\n      }\n    },\n    {\n      \"column\": \"SeniorCitizen\",\n      \"properties\": {\n        \"dtype\": \"number\",\n        \"std\": 0,\n        \"min\": 0,\n        \"max\": 1,\n        \"num_unique_values\": 2,\n        \"samples\": [\n          1,\n          0\n        ],\n        \"semantic_type\": \"\",\n        \"description\": \"\"\n      }\n    },\n    {\n      \"column\": \"Partner\",\n      \"properties\": {\n        \"dtype\": \"category\",\n        \"num_unique_values\": 2,\n        \"samples\": [\n          \"No\",\n          \"Yes\"\n        ],\n        \"semantic_type\": \"\",\n        \"description\": \"\"\n      }\n    },\n    {\n      \"column\": \"Dependents\",\n      \"properties\": {\n        \"dtype\": \"category\",\n        \"num_unique_values\": 2,\n        \"samples\": [\n          \"No\",\n          \"Yes\"\n        ],\n        \"semantic_type\": \"\",\n        \"description\": \"\"\n      }\n    },\n    {\n      \"column\": \"tenure\",\n      \"properties\": {\n        \"dtype\": \"number\",\n        \"std\": 24,\n        \"min\": 0,\n        \"max\": 72,\n        \"num_unique_values\": 73,\n        \"samples\": [\n          71,\n          53\n        ],\n        \"semantic_type\": \"\",\n        \"description\": \"\"\n      }\n    },\n    {\n      \"column\": \"PhoneService\",\n      \"properties\": {\n        \"dtype\": \"category\",\n        \"num_unique_values\": 2,\n        \"samples\": [\n          \"No\",\n          \"Yes\"\n        ],\n        \"semantic_type\": \"\",\n        \"description\": \"\"\n      }\n    },\n    {\n      \"column\": \"MultipleLines\",\n      \"properties\": {\n        \"dtype\": \"category\",\n        \"num_unique_values\": 3,\n        \"samples\": [\n          \"No\",\n          \"Yes\"\n        ],\n        \"semantic_type\": \"\",\n        \"description\": \"\"\n      }\n    },\n    {\n      \"column\": \"InternetService\",\n      \"properties\": {\n        \"dtype\": \"category\",\n        \"num_unique_values\": 3,\n        \"samples\": [\n          \"DSL\",\n          \"Fiber optic\"\n        ],\n        \"semantic_type\": \"\",\n        \"description\": \"\"\n      }\n    },\n    {\n      \"column\": \"OnlineSecurity\",\n      \"properties\": {\n        \"dtype\": \"category\",\n        \"num_unique_values\": 3,\n        \"samples\": [\n          \"No\",\n          \"Yes\"\n        ],\n        \"semantic_type\": \"\",\n        \"description\": \"\"\n      }\n    },\n    {\n      \"column\": \"OnlineBackup\",\n      \"properties\": {\n        \"dtype\": \"category\",\n        \"num_unique_values\": 3,\n        \"samples\": [\n          \"Yes\",\n          \"No\"\n        ],\n        \"semantic_type\": \"\",\n        \"description\": \"\"\n      }\n    },\n    {\n      \"column\": \"DeviceProtection\",\n      \"properties\": {\n        \"dtype\": \"category\",\n        \"num_unique_values\": 3,\n        \"samples\": [\n          \"No\",\n          \"Yes\"\n        ],\n        \"semantic_type\": \"\",\n        \"description\": \"\"\n      }\n    },\n    {\n      \"column\": \"TechSupport\",\n      \"properties\": {\n        \"dtype\": \"category\",\n        \"num_unique_values\": 3,\n        \"samples\": [\n          \"Yes\",\n          \"No\"\n        ],\n        \"semantic_type\": \"\",\n        \"description\": \"\"\n      }\n    },\n    {\n      \"column\": \"StreamingTV\",\n      \"properties\": {\n        \"dtype\": \"category\",\n        \"num_unique_values\": 3,\n        \"samples\": [\n          \"Yes\",\n          \"No\"\n        ],\n        \"semantic_type\": \"\",\n        \"description\": \"\"\n      }\n    },\n    {\n      \"column\": \"StreamingMovies\",\n      \"properties\": {\n        \"dtype\": \"category\",\n        \"num_unique_values\": 3,\n        \"samples\": [\n          \"No\",\n          \"Yes\"\n        ],\n        \"semantic_type\": \"\",\n        \"description\": \"\"\n      }\n    },\n    {\n      \"column\": \"Contract\",\n      \"properties\": {\n        \"dtype\": \"category\",\n        \"num_unique_values\": 3,\n        \"samples\": [\n          \"One year\",\n          \"Month-to-month\"\n        ],\n        \"semantic_type\": \"\",\n        \"description\": \"\"\n      }\n    },\n    {\n      \"column\": \"PaperlessBilling\",\n      \"properties\": {\n        \"dtype\": \"category\",\n        \"num_unique_values\": 2,\n        \"samples\": [\n          \"No\",\n          \"Yes\"\n        ],\n        \"semantic_type\": \"\",\n        \"description\": \"\"\n      }\n    },\n    {\n      \"column\": \"PaymentMethod\",\n      \"properties\": {\n        \"dtype\": \"category\",\n        \"num_unique_values\": 4,\n        \"samples\": [\n          \"Electronic check\",\n          \"Bank transfer (automatic)\"\n        ],\n        \"semantic_type\": \"\",\n        \"description\": \"\"\n      }\n    },\n    {\n      \"column\": \"Charges\",\n      \"properties\": {\n        \"dtype\": \"object\",\n        \"semantic_type\": \"\",\n        \"description\": \"\"\n      }\n    }\n  ]\n}"
            }
          },
          "metadata": {},
          "execution_count": 213
        }
      ]
    },
    {
      "cell_type": "code",
      "source": [
        "# Verificando colunas com dicionários\n",
        "for col in df.columns:\n",
        "    if df[col].apply(lambda x: isinstance(x, dict)).any():\n",
        "        print(f\"A coluna '{col}' contém dicionários.\")"
      ],
      "metadata": {
        "colab": {
          "base_uri": "https://localhost:8080/"
        },
        "id": "ql-8e9_lcGQN",
        "outputId": "fba0eb91-2f8f-4da7-ad7c-18b03feef7d9"
      },
      "execution_count": 214,
      "outputs": [
        {
          "output_type": "stream",
          "name": "stdout",
          "text": [
            "A coluna 'Charges' contém dicionários.\n"
          ]
        }
      ]
    },
    {
      "cell_type": "code",
      "source": [
        "# Listando a coluna que contêm dicionários\n",
        "coluna_dict = ['Charges']\n",
        "\n",
        "# Utilizando apply(pd.Series) para transformar o dicionário em colunas\n",
        "for col in coluna_dict:\n",
        "  df_dict = df[col].apply(pd.Series)\n",
        "\n",
        "# Adicionando prefixo a coluna Charges\n",
        "  df = df.join(df_dict)\n",
        "\n",
        "# Removendo as colunas originais com dicionários\n",
        "df.drop(coluna_dict, axis=1, inplace=True)"
      ],
      "metadata": {
        "id": "SpeJ1G7D22kV"
      },
      "execution_count": 215,
      "outputs": []
    },
    {
      "cell_type": "code",
      "source": [
        "# Visualizando as primeiras linhas do arquivo\n",
        "df.head(3)"
      ],
      "metadata": {
        "colab": {
          "base_uri": "https://localhost:8080/",
          "height": 245
        },
        "id": "pwfbAb4eltAG",
        "outputId": "b832f0d1-9d8a-40fd-bbaf-7ae505db9d89"
      },
      "execution_count": 216,
      "outputs": [
        {
          "output_type": "execute_result",
          "data": {
            "text/plain": [
              "   customerID Churn  gender  SeniorCitizen Partner Dependents  tenure  \\\n",
              "0  0002-ORFBO    No  Female              0     Yes        Yes       9   \n",
              "1  0003-MKNFE    No    Male              0      No         No       9   \n",
              "2  0004-TLHLJ   Yes    Male              0      No         No       4   \n",
              "\n",
              "  PhoneService MultipleLines InternetService  ... OnlineBackup  \\\n",
              "0          Yes            No             DSL  ...          Yes   \n",
              "1          Yes           Yes             DSL  ...           No   \n",
              "2          Yes            No     Fiber optic  ...           No   \n",
              "\n",
              "  DeviceProtection TechSupport StreamingTV StreamingMovies        Contract  \\\n",
              "0               No         Yes         Yes              No        One year   \n",
              "1               No          No          No             Yes  Month-to-month   \n",
              "2              Yes          No          No              No  Month-to-month   \n",
              "\n",
              "  PaperlessBilling     PaymentMethod Monthly   Total  \n",
              "0              Yes      Mailed check    65.6   593.3  \n",
              "1               No      Mailed check    59.9   542.4  \n",
              "2              Yes  Electronic check    73.9  280.85  \n",
              "\n",
              "[3 rows x 21 columns]"
            ],
            "text/html": [
              "\n",
              "  <div id=\"df-fea2f011-3b3b-4abd-874f-a67dd50c3797\" class=\"colab-df-container\">\n",
              "    <div>\n",
              "<style scoped>\n",
              "    .dataframe tbody tr th:only-of-type {\n",
              "        vertical-align: middle;\n",
              "    }\n",
              "\n",
              "    .dataframe tbody tr th {\n",
              "        vertical-align: top;\n",
              "    }\n",
              "\n",
              "    .dataframe thead th {\n",
              "        text-align: right;\n",
              "    }\n",
              "</style>\n",
              "<table border=\"1\" class=\"dataframe\">\n",
              "  <thead>\n",
              "    <tr style=\"text-align: right;\">\n",
              "      <th></th>\n",
              "      <th>customerID</th>\n",
              "      <th>Churn</th>\n",
              "      <th>gender</th>\n",
              "      <th>SeniorCitizen</th>\n",
              "      <th>Partner</th>\n",
              "      <th>Dependents</th>\n",
              "      <th>tenure</th>\n",
              "      <th>PhoneService</th>\n",
              "      <th>MultipleLines</th>\n",
              "      <th>InternetService</th>\n",
              "      <th>...</th>\n",
              "      <th>OnlineBackup</th>\n",
              "      <th>DeviceProtection</th>\n",
              "      <th>TechSupport</th>\n",
              "      <th>StreamingTV</th>\n",
              "      <th>StreamingMovies</th>\n",
              "      <th>Contract</th>\n",
              "      <th>PaperlessBilling</th>\n",
              "      <th>PaymentMethod</th>\n",
              "      <th>Monthly</th>\n",
              "      <th>Total</th>\n",
              "    </tr>\n",
              "  </thead>\n",
              "  <tbody>\n",
              "    <tr>\n",
              "      <th>0</th>\n",
              "      <td>0002-ORFBO</td>\n",
              "      <td>No</td>\n",
              "      <td>Female</td>\n",
              "      <td>0</td>\n",
              "      <td>Yes</td>\n",
              "      <td>Yes</td>\n",
              "      <td>9</td>\n",
              "      <td>Yes</td>\n",
              "      <td>No</td>\n",
              "      <td>DSL</td>\n",
              "      <td>...</td>\n",
              "      <td>Yes</td>\n",
              "      <td>No</td>\n",
              "      <td>Yes</td>\n",
              "      <td>Yes</td>\n",
              "      <td>No</td>\n",
              "      <td>One year</td>\n",
              "      <td>Yes</td>\n",
              "      <td>Mailed check</td>\n",
              "      <td>65.6</td>\n",
              "      <td>593.3</td>\n",
              "    </tr>\n",
              "    <tr>\n",
              "      <th>1</th>\n",
              "      <td>0003-MKNFE</td>\n",
              "      <td>No</td>\n",
              "      <td>Male</td>\n",
              "      <td>0</td>\n",
              "      <td>No</td>\n",
              "      <td>No</td>\n",
              "      <td>9</td>\n",
              "      <td>Yes</td>\n",
              "      <td>Yes</td>\n",
              "      <td>DSL</td>\n",
              "      <td>...</td>\n",
              "      <td>No</td>\n",
              "      <td>No</td>\n",
              "      <td>No</td>\n",
              "      <td>No</td>\n",
              "      <td>Yes</td>\n",
              "      <td>Month-to-month</td>\n",
              "      <td>No</td>\n",
              "      <td>Mailed check</td>\n",
              "      <td>59.9</td>\n",
              "      <td>542.4</td>\n",
              "    </tr>\n",
              "    <tr>\n",
              "      <th>2</th>\n",
              "      <td>0004-TLHLJ</td>\n",
              "      <td>Yes</td>\n",
              "      <td>Male</td>\n",
              "      <td>0</td>\n",
              "      <td>No</td>\n",
              "      <td>No</td>\n",
              "      <td>4</td>\n",
              "      <td>Yes</td>\n",
              "      <td>No</td>\n",
              "      <td>Fiber optic</td>\n",
              "      <td>...</td>\n",
              "      <td>No</td>\n",
              "      <td>Yes</td>\n",
              "      <td>No</td>\n",
              "      <td>No</td>\n",
              "      <td>No</td>\n",
              "      <td>Month-to-month</td>\n",
              "      <td>Yes</td>\n",
              "      <td>Electronic check</td>\n",
              "      <td>73.9</td>\n",
              "      <td>280.85</td>\n",
              "    </tr>\n",
              "  </tbody>\n",
              "</table>\n",
              "<p>3 rows × 21 columns</p>\n",
              "</div>\n",
              "    <div class=\"colab-df-buttons\">\n",
              "\n",
              "  <div class=\"colab-df-container\">\n",
              "    <button class=\"colab-df-convert\" onclick=\"convertToInteractive('df-fea2f011-3b3b-4abd-874f-a67dd50c3797')\"\n",
              "            title=\"Convert this dataframe to an interactive table.\"\n",
              "            style=\"display:none;\">\n",
              "\n",
              "  <svg xmlns=\"http://www.w3.org/2000/svg\" height=\"24px\" viewBox=\"0 -960 960 960\">\n",
              "    <path d=\"M120-120v-720h720v720H120Zm60-500h600v-160H180v160Zm220 220h160v-160H400v160Zm0 220h160v-160H400v160ZM180-400h160v-160H180v160Zm440 0h160v-160H620v160ZM180-180h160v-160H180v160Zm440 0h160v-160H620v160Z\"/>\n",
              "  </svg>\n",
              "    </button>\n",
              "\n",
              "  <style>\n",
              "    .colab-df-container {\n",
              "      display:flex;\n",
              "      gap: 12px;\n",
              "    }\n",
              "\n",
              "    .colab-df-convert {\n",
              "      background-color: #E8F0FE;\n",
              "      border: none;\n",
              "      border-radius: 50%;\n",
              "      cursor: pointer;\n",
              "      display: none;\n",
              "      fill: #1967D2;\n",
              "      height: 32px;\n",
              "      padding: 0 0 0 0;\n",
              "      width: 32px;\n",
              "    }\n",
              "\n",
              "    .colab-df-convert:hover {\n",
              "      background-color: #E2EBFA;\n",
              "      box-shadow: 0px 1px 2px rgba(60, 64, 67, 0.3), 0px 1px 3px 1px rgba(60, 64, 67, 0.15);\n",
              "      fill: #174EA6;\n",
              "    }\n",
              "\n",
              "    .colab-df-buttons div {\n",
              "      margin-bottom: 4px;\n",
              "    }\n",
              "\n",
              "    [theme=dark] .colab-df-convert {\n",
              "      background-color: #3B4455;\n",
              "      fill: #D2E3FC;\n",
              "    }\n",
              "\n",
              "    [theme=dark] .colab-df-convert:hover {\n",
              "      background-color: #434B5C;\n",
              "      box-shadow: 0px 1px 3px 1px rgba(0, 0, 0, 0.15);\n",
              "      filter: drop-shadow(0px 1px 2px rgba(0, 0, 0, 0.3));\n",
              "      fill: #FFFFFF;\n",
              "    }\n",
              "  </style>\n",
              "\n",
              "    <script>\n",
              "      const buttonEl =\n",
              "        document.querySelector('#df-fea2f011-3b3b-4abd-874f-a67dd50c3797 button.colab-df-convert');\n",
              "      buttonEl.style.display =\n",
              "        google.colab.kernel.accessAllowed ? 'block' : 'none';\n",
              "\n",
              "      async function convertToInteractive(key) {\n",
              "        const element = document.querySelector('#df-fea2f011-3b3b-4abd-874f-a67dd50c3797');\n",
              "        const dataTable =\n",
              "          await google.colab.kernel.invokeFunction('convertToInteractive',\n",
              "                                                    [key], {});\n",
              "        if (!dataTable) return;\n",
              "\n",
              "        const docLinkHtml = 'Like what you see? Visit the ' +\n",
              "          '<a target=\"_blank\" href=https://colab.research.google.com/notebooks/data_table.ipynb>data table notebook</a>'\n",
              "          + ' to learn more about interactive tables.';\n",
              "        element.innerHTML = '';\n",
              "        dataTable['output_type'] = 'display_data';\n",
              "        await google.colab.output.renderOutput(dataTable, element);\n",
              "        const docLink = document.createElement('div');\n",
              "        docLink.innerHTML = docLinkHtml;\n",
              "        element.appendChild(docLink);\n",
              "      }\n",
              "    </script>\n",
              "  </div>\n",
              "\n",
              "\n",
              "    <div id=\"df-8149c10f-8dda-4bd4-87f3-93ffcde0ea86\">\n",
              "      <button class=\"colab-df-quickchart\" onclick=\"quickchart('df-8149c10f-8dda-4bd4-87f3-93ffcde0ea86')\"\n",
              "                title=\"Suggest charts\"\n",
              "                style=\"display:none;\">\n",
              "\n",
              "<svg xmlns=\"http://www.w3.org/2000/svg\" height=\"24px\"viewBox=\"0 0 24 24\"\n",
              "     width=\"24px\">\n",
              "    <g>\n",
              "        <path d=\"M19 3H5c-1.1 0-2 .9-2 2v14c0 1.1.9 2 2 2h14c1.1 0 2-.9 2-2V5c0-1.1-.9-2-2-2zM9 17H7v-7h2v7zm4 0h-2V7h2v10zm4 0h-2v-4h2v4z\"/>\n",
              "    </g>\n",
              "</svg>\n",
              "      </button>\n",
              "\n",
              "<style>\n",
              "  .colab-df-quickchart {\n",
              "      --bg-color: #E8F0FE;\n",
              "      --fill-color: #1967D2;\n",
              "      --hover-bg-color: #E2EBFA;\n",
              "      --hover-fill-color: #174EA6;\n",
              "      --disabled-fill-color: #AAA;\n",
              "      --disabled-bg-color: #DDD;\n",
              "  }\n",
              "\n",
              "  [theme=dark] .colab-df-quickchart {\n",
              "      --bg-color: #3B4455;\n",
              "      --fill-color: #D2E3FC;\n",
              "      --hover-bg-color: #434B5C;\n",
              "      --hover-fill-color: #FFFFFF;\n",
              "      --disabled-bg-color: #3B4455;\n",
              "      --disabled-fill-color: #666;\n",
              "  }\n",
              "\n",
              "  .colab-df-quickchart {\n",
              "    background-color: var(--bg-color);\n",
              "    border: none;\n",
              "    border-radius: 50%;\n",
              "    cursor: pointer;\n",
              "    display: none;\n",
              "    fill: var(--fill-color);\n",
              "    height: 32px;\n",
              "    padding: 0;\n",
              "    width: 32px;\n",
              "  }\n",
              "\n",
              "  .colab-df-quickchart:hover {\n",
              "    background-color: var(--hover-bg-color);\n",
              "    box-shadow: 0 1px 2px rgba(60, 64, 67, 0.3), 0 1px 3px 1px rgba(60, 64, 67, 0.15);\n",
              "    fill: var(--button-hover-fill-color);\n",
              "  }\n",
              "\n",
              "  .colab-df-quickchart-complete:disabled,\n",
              "  .colab-df-quickchart-complete:disabled:hover {\n",
              "    background-color: var(--disabled-bg-color);\n",
              "    fill: var(--disabled-fill-color);\n",
              "    box-shadow: none;\n",
              "  }\n",
              "\n",
              "  .colab-df-spinner {\n",
              "    border: 2px solid var(--fill-color);\n",
              "    border-color: transparent;\n",
              "    border-bottom-color: var(--fill-color);\n",
              "    animation:\n",
              "      spin 1s steps(1) infinite;\n",
              "  }\n",
              "\n",
              "  @keyframes spin {\n",
              "    0% {\n",
              "      border-color: transparent;\n",
              "      border-bottom-color: var(--fill-color);\n",
              "      border-left-color: var(--fill-color);\n",
              "    }\n",
              "    20% {\n",
              "      border-color: transparent;\n",
              "      border-left-color: var(--fill-color);\n",
              "      border-top-color: var(--fill-color);\n",
              "    }\n",
              "    30% {\n",
              "      border-color: transparent;\n",
              "      border-left-color: var(--fill-color);\n",
              "      border-top-color: var(--fill-color);\n",
              "      border-right-color: var(--fill-color);\n",
              "    }\n",
              "    40% {\n",
              "      border-color: transparent;\n",
              "      border-right-color: var(--fill-color);\n",
              "      border-top-color: var(--fill-color);\n",
              "    }\n",
              "    60% {\n",
              "      border-color: transparent;\n",
              "      border-right-color: var(--fill-color);\n",
              "    }\n",
              "    80% {\n",
              "      border-color: transparent;\n",
              "      border-right-color: var(--fill-color);\n",
              "      border-bottom-color: var(--fill-color);\n",
              "    }\n",
              "    90% {\n",
              "      border-color: transparent;\n",
              "      border-bottom-color: var(--fill-color);\n",
              "    }\n",
              "  }\n",
              "</style>\n",
              "\n",
              "      <script>\n",
              "        async function quickchart(key) {\n",
              "          const quickchartButtonEl =\n",
              "            document.querySelector('#' + key + ' button');\n",
              "          quickchartButtonEl.disabled = true;  // To prevent multiple clicks.\n",
              "          quickchartButtonEl.classList.add('colab-df-spinner');\n",
              "          try {\n",
              "            const charts = await google.colab.kernel.invokeFunction(\n",
              "                'suggestCharts', [key], {});\n",
              "          } catch (error) {\n",
              "            console.error('Error during call to suggestCharts:', error);\n",
              "          }\n",
              "          quickchartButtonEl.classList.remove('colab-df-spinner');\n",
              "          quickchartButtonEl.classList.add('colab-df-quickchart-complete');\n",
              "        }\n",
              "        (() => {\n",
              "          let quickchartButtonEl =\n",
              "            document.querySelector('#df-8149c10f-8dda-4bd4-87f3-93ffcde0ea86 button');\n",
              "          quickchartButtonEl.style.display =\n",
              "            google.colab.kernel.accessAllowed ? 'block' : 'none';\n",
              "        })();\n",
              "      </script>\n",
              "    </div>\n",
              "\n",
              "    </div>\n",
              "  </div>\n"
            ],
            "application/vnd.google.colaboratory.intrinsic+json": {
              "type": "dataframe",
              "variable_name": "df"
            }
          },
          "metadata": {},
          "execution_count": 216
        }
      ]
    },
    {
      "cell_type": "code",
      "source": [
        "# Verificando informações sobre: quantidade de colunas, linhas e tipos de dados\n",
        "df.info()"
      ],
      "metadata": {
        "colab": {
          "base_uri": "https://localhost:8080/"
        },
        "id": "leMEK6ZDmcwl",
        "outputId": "b33097ce-e112-46c0-d38a-f655abd88341"
      },
      "execution_count": 217,
      "outputs": [
        {
          "output_type": "stream",
          "name": "stdout",
          "text": [
            "<class 'pandas.core.frame.DataFrame'>\n",
            "RangeIndex: 7267 entries, 0 to 7266\n",
            "Data columns (total 21 columns):\n",
            " #   Column            Non-Null Count  Dtype  \n",
            "---  ------            --------------  -----  \n",
            " 0   customerID        7267 non-null   object \n",
            " 1   Churn             7267 non-null   object \n",
            " 2   gender            7267 non-null   object \n",
            " 3   SeniorCitizen     7267 non-null   int64  \n",
            " 4   Partner           7267 non-null   object \n",
            " 5   Dependents        7267 non-null   object \n",
            " 6   tenure            7267 non-null   int64  \n",
            " 7   PhoneService      7267 non-null   object \n",
            " 8   MultipleLines     7267 non-null   object \n",
            " 9   InternetService   7267 non-null   object \n",
            " 10  OnlineSecurity    7267 non-null   object \n",
            " 11  OnlineBackup      7267 non-null   object \n",
            " 12  DeviceProtection  7267 non-null   object \n",
            " 13  TechSupport       7267 non-null   object \n",
            " 14  StreamingTV       7267 non-null   object \n",
            " 15  StreamingMovies   7267 non-null   object \n",
            " 16  Contract          7267 non-null   object \n",
            " 17  PaperlessBilling  7267 non-null   object \n",
            " 18  PaymentMethod     7267 non-null   object \n",
            " 19  Monthly           7267 non-null   float64\n",
            " 20  Total             7267 non-null   object \n",
            "dtypes: float64(1), int64(2), object(18)\n",
            "memory usage: 1.2+ MB\n"
          ]
        }
      ]
    },
    {
      "cell_type": "code",
      "source": [
        "import numpy as np\n",
        "\n",
        "# Convertendo a coluna 'Total' para numérico dtype Float\n",
        "df['Total'] = pd.to_numeric(df['Total'], errors='coerce')\n",
        "print(df['Total'].head())"
      ],
      "metadata": {
        "colab": {
          "base_uri": "https://localhost:8080/"
        },
        "id": "lUV4G3Q_eypq",
        "outputId": "3010e728-cb12-45ac-b651-39e92228799b"
      },
      "execution_count": 218,
      "outputs": [
        {
          "output_type": "stream",
          "name": "stdout",
          "text": [
            "0     593.30\n",
            "1     542.40\n",
            "2     280.85\n",
            "3    1237.85\n",
            "4     267.40\n",
            "Name: Total, dtype: float64\n"
          ]
        }
      ]
    },
    {
      "cell_type": "code",
      "source": [
        "# Verificando informações sobre: quantidade de colunas, linhas e tipos de dados\n",
        "df.info()"
      ],
      "metadata": {
        "colab": {
          "base_uri": "https://localhost:8080/"
        },
        "id": "gqlcf8hIe7hb",
        "outputId": "b43bdcec-597d-4cbd-c01c-2ea2734e7f32"
      },
      "execution_count": 219,
      "outputs": [
        {
          "output_type": "stream",
          "name": "stdout",
          "text": [
            "<class 'pandas.core.frame.DataFrame'>\n",
            "RangeIndex: 7267 entries, 0 to 7266\n",
            "Data columns (total 21 columns):\n",
            " #   Column            Non-Null Count  Dtype  \n",
            "---  ------            --------------  -----  \n",
            " 0   customerID        7267 non-null   object \n",
            " 1   Churn             7267 non-null   object \n",
            " 2   gender            7267 non-null   object \n",
            " 3   SeniorCitizen     7267 non-null   int64  \n",
            " 4   Partner           7267 non-null   object \n",
            " 5   Dependents        7267 non-null   object \n",
            " 6   tenure            7267 non-null   int64  \n",
            " 7   PhoneService      7267 non-null   object \n",
            " 8   MultipleLines     7267 non-null   object \n",
            " 9   InternetService   7267 non-null   object \n",
            " 10  OnlineSecurity    7267 non-null   object \n",
            " 11  OnlineBackup      7267 non-null   object \n",
            " 12  DeviceProtection  7267 non-null   object \n",
            " 13  TechSupport       7267 non-null   object \n",
            " 14  StreamingTV       7267 non-null   object \n",
            " 15  StreamingMovies   7267 non-null   object \n",
            " 16  Contract          7267 non-null   object \n",
            " 17  PaperlessBilling  7267 non-null   object \n",
            " 18  PaymentMethod     7267 non-null   object \n",
            " 19  Monthly           7267 non-null   float64\n",
            " 20  Total             7256 non-null   float64\n",
            "dtypes: float64(2), int64(2), object(17)\n",
            "memory usage: 1.2+ MB\n"
          ]
        }
      ]
    },
    {
      "cell_type": "code",
      "source": [
        "# Selecionando as colunas do tipo object (strings)\n",
        "colunas_texto = df.select_dtypes(include='object').columns\n",
        "\n",
        "# Filtrando os valores que possuem espaços à esquerda ou à direita usando expressão regular\n",
        "for col in colunas_texto:\n",
        "  espacos_vazios = df[col][df[col].str.contains(r'^\\s+|\\s+$', regex=True, na=False)]"
      ],
      "metadata": {
        "id": "EQ4MrZEE9tZU"
      },
      "execution_count": 220,
      "outputs": []
    },
    {
      "cell_type": "code",
      "source": [
        "# Removendo os espaços vazios desnecessários de todos os itens que são strings\n",
        "df = df.apply(lambda x: x.str.strip()\n",
        " if x.dtype == \"object\" else x)"
      ],
      "metadata": {
        "id": "Mo8_feIyJ6SX"
      },
      "execution_count": 221,
      "outputs": []
    },
    {
      "cell_type": "code",
      "source": [
        "# Visualizando valores únicos (todas as colunas)\n",
        "valores_unicos = df.apply(lambda x: x.unique())\n",
        "print(valores_unicos)"
      ],
      "metadata": {
        "colab": {
          "base_uri": "https://localhost:8080/"
        },
        "id": "F1M6QA0VhxO9",
        "outputId": "1c700be7-8f8a-4348-cb45-0cd3378e7d49"
      },
      "execution_count": 222,
      "outputs": [
        {
          "output_type": "stream",
          "name": "stdout",
          "text": [
            "customerID          [0002-ORFBO, 0003-MKNFE, 0004-TLHLJ, 0011-IGKF...\n",
            "Churn                                                     [No, Yes, ]\n",
            "gender                                                 [Female, Male]\n",
            "SeniorCitizen                                                  [0, 1]\n",
            "Partner                                                     [Yes, No]\n",
            "Dependents                                                  [Yes, No]\n",
            "tenure              [9, 4, 13, 3, 71, 63, 7, 65, 54, 72, 5, 56, 34...\n",
            "PhoneService                                                [Yes, No]\n",
            "MultipleLines                             [No, Yes, No phone service]\n",
            "InternetService                                [DSL, Fiber optic, No]\n",
            "OnlineSecurity                         [No, Yes, No internet service]\n",
            "OnlineBackup                           [Yes, No, No internet service]\n",
            "DeviceProtection                       [No, Yes, No internet service]\n",
            "TechSupport                            [Yes, No, No internet service]\n",
            "StreamingTV                            [Yes, No, No internet service]\n",
            "StreamingMovies                        [No, Yes, No internet service]\n",
            "Contract                         [One year, Month-to-month, Two year]\n",
            "PaperlessBilling                                            [Yes, No]\n",
            "PaymentMethod       [Mailed check, Electronic check, Credit card (...\n",
            "Monthly             [65.6, 59.9, 73.9, 98.0, 83.9, 69.4, 109.7, 84...\n",
            "Total               [593.3, 542.4, 280.85, 1237.85, 267.4, 571.45,...\n",
            "dtype: object\n"
          ]
        }
      ]
    },
    {
      "cell_type": "code",
      "source": [
        "# Modificando as informações das colunas Contract e PaymentMethod para facilitar usabilidade\n",
        "coluna_a_alterar = [\"Contract\",\"PaymentMethod\"]\n",
        "for col in coluna_a_alterar:\n",
        " df[col] = (df[col].str.replace(\"Month-to-month\", \"Month\", regex=False)\n",
        " .str.replace(\"Credit card (automatic)\", \"Credit card\", regex=False)\n",
        " .str.replace(\"Bank transfer (automatic)\", \"Bank transfer\", regex=False))"
      ],
      "metadata": {
        "id": "0ka5gcOp-iNg"
      },
      "execution_count": 223,
      "outputs": []
    },
    {
      "cell_type": "code",
      "source": [
        "# Criando a coluna 'Contas_Diarias' para calcular qual o gasto diário do cliente\n",
        "df['ContasDiarias'] = (df['Monthly'] / 30).round(2)"
      ],
      "metadata": {
        "id": "gYDP4HL6JJHt"
      },
      "execution_count": 224,
      "outputs": []
    },
    {
      "cell_type": "code",
      "source": [
        "# Verificando a quantidade de (NaN) na coluna Total\n",
        "total_nan = df['Total'].isna().sum()\n",
        "print(\"Número de NaN na coluna Total:\", total_nan)"
      ],
      "metadata": {
        "colab": {
          "base_uri": "https://localhost:8080/"
        },
        "id": "ylFYfmkv7qee",
        "outputId": "e288ffe0-d95e-4fbd-ce9d-719ef4e79a28"
      },
      "execution_count": 225,
      "outputs": [
        {
          "output_type": "stream",
          "name": "stdout",
          "text": [
            "Número de NaN na coluna Total: 11\n"
          ]
        }
      ]
    },
    {
      "cell_type": "code",
      "source": [
        "# Importando regressão linear simples para a coluna Total com valores NaN\n",
        "from sklearn.linear_model import LinearRegression\n",
        "\n",
        "# linhas com Total conhecido\n",
        "df_treino = df[df['Total'].notna()]\n",
        "\n",
        "# linhas onde Total é NaN\n",
        "df_pred = df[df['Total'].isna()]"
      ],
      "metadata": {
        "id": "vwN_jyTkiGzO"
      },
      "execution_count": 226,
      "outputs": []
    },
    {
      "cell_type": "code",
      "source": [
        "# Definindo as variáveis (Obs: usando [[]] para manter o formato 2D\n",
        "x_treino = df_treino[['Monthly']]\n",
        "y_treino = df_treino['Total']"
      ],
      "metadata": {
        "id": "fQxlMUA9i2m_"
      },
      "execution_count": 227,
      "outputs": []
    },
    {
      "cell_type": "code",
      "source": [
        "# Criando e treinando o modelo de regressão linear\n",
        "modelo = LinearRegression()\n",
        "modelo.fit(x_treino, y_treino)"
      ],
      "metadata": {
        "colab": {
          "base_uri": "https://localhost:8080/",
          "height": 80
        },
        "collapsed": true,
        "id": "Mj6gblK-ja1w",
        "outputId": "659d25e7-fcd0-4f87-b71d-370b1fdcd115"
      },
      "execution_count": 228,
      "outputs": [
        {
          "output_type": "execute_result",
          "data": {
            "text/plain": [
              "LinearRegression()"
            ],
            "text/html": [
              "<style>#sk-container-id-4 {\n",
              "  /* Definition of color scheme common for light and dark mode */\n",
              "  --sklearn-color-text: #000;\n",
              "  --sklearn-color-text-muted: #666;\n",
              "  --sklearn-color-line: gray;\n",
              "  /* Definition of color scheme for unfitted estimators */\n",
              "  --sklearn-color-unfitted-level-0: #fff5e6;\n",
              "  --sklearn-color-unfitted-level-1: #f6e4d2;\n",
              "  --sklearn-color-unfitted-level-2: #ffe0b3;\n",
              "  --sklearn-color-unfitted-level-3: chocolate;\n",
              "  /* Definition of color scheme for fitted estimators */\n",
              "  --sklearn-color-fitted-level-0: #f0f8ff;\n",
              "  --sklearn-color-fitted-level-1: #d4ebff;\n",
              "  --sklearn-color-fitted-level-2: #b3dbfd;\n",
              "  --sklearn-color-fitted-level-3: cornflowerblue;\n",
              "\n",
              "  /* Specific color for light theme */\n",
              "  --sklearn-color-text-on-default-background: var(--sg-text-color, var(--theme-code-foreground, var(--jp-content-font-color1, black)));\n",
              "  --sklearn-color-background: var(--sg-background-color, var(--theme-background, var(--jp-layout-color0, white)));\n",
              "  --sklearn-color-border-box: var(--sg-text-color, var(--theme-code-foreground, var(--jp-content-font-color1, black)));\n",
              "  --sklearn-color-icon: #696969;\n",
              "\n",
              "  @media (prefers-color-scheme: dark) {\n",
              "    /* Redefinition of color scheme for dark theme */\n",
              "    --sklearn-color-text-on-default-background: var(--sg-text-color, var(--theme-code-foreground, var(--jp-content-font-color1, white)));\n",
              "    --sklearn-color-background: var(--sg-background-color, var(--theme-background, var(--jp-layout-color0, #111)));\n",
              "    --sklearn-color-border-box: var(--sg-text-color, var(--theme-code-foreground, var(--jp-content-font-color1, white)));\n",
              "    --sklearn-color-icon: #878787;\n",
              "  }\n",
              "}\n",
              "\n",
              "#sk-container-id-4 {\n",
              "  color: var(--sklearn-color-text);\n",
              "}\n",
              "\n",
              "#sk-container-id-4 pre {\n",
              "  padding: 0;\n",
              "}\n",
              "\n",
              "#sk-container-id-4 input.sk-hidden--visually {\n",
              "  border: 0;\n",
              "  clip: rect(1px 1px 1px 1px);\n",
              "  clip: rect(1px, 1px, 1px, 1px);\n",
              "  height: 1px;\n",
              "  margin: -1px;\n",
              "  overflow: hidden;\n",
              "  padding: 0;\n",
              "  position: absolute;\n",
              "  width: 1px;\n",
              "}\n",
              "\n",
              "#sk-container-id-4 div.sk-dashed-wrapped {\n",
              "  border: 1px dashed var(--sklearn-color-line);\n",
              "  margin: 0 0.4em 0.5em 0.4em;\n",
              "  box-sizing: border-box;\n",
              "  padding-bottom: 0.4em;\n",
              "  background-color: var(--sklearn-color-background);\n",
              "}\n",
              "\n",
              "#sk-container-id-4 div.sk-container {\n",
              "  /* jupyter's `normalize.less` sets `[hidden] { display: none; }`\n",
              "     but bootstrap.min.css set `[hidden] { display: none !important; }`\n",
              "     so we also need the `!important` here to be able to override the\n",
              "     default hidden behavior on the sphinx rendered scikit-learn.org.\n",
              "     See: https://github.com/scikit-learn/scikit-learn/issues/21755 */\n",
              "  display: inline-block !important;\n",
              "  position: relative;\n",
              "}\n",
              "\n",
              "#sk-container-id-4 div.sk-text-repr-fallback {\n",
              "  display: none;\n",
              "}\n",
              "\n",
              "div.sk-parallel-item,\n",
              "div.sk-serial,\n",
              "div.sk-item {\n",
              "  /* draw centered vertical line to link estimators */\n",
              "  background-image: linear-gradient(var(--sklearn-color-text-on-default-background), var(--sklearn-color-text-on-default-background));\n",
              "  background-size: 2px 100%;\n",
              "  background-repeat: no-repeat;\n",
              "  background-position: center center;\n",
              "}\n",
              "\n",
              "/* Parallel-specific style estimator block */\n",
              "\n",
              "#sk-container-id-4 div.sk-parallel-item::after {\n",
              "  content: \"\";\n",
              "  width: 100%;\n",
              "  border-bottom: 2px solid var(--sklearn-color-text-on-default-background);\n",
              "  flex-grow: 1;\n",
              "}\n",
              "\n",
              "#sk-container-id-4 div.sk-parallel {\n",
              "  display: flex;\n",
              "  align-items: stretch;\n",
              "  justify-content: center;\n",
              "  background-color: var(--sklearn-color-background);\n",
              "  position: relative;\n",
              "}\n",
              "\n",
              "#sk-container-id-4 div.sk-parallel-item {\n",
              "  display: flex;\n",
              "  flex-direction: column;\n",
              "}\n",
              "\n",
              "#sk-container-id-4 div.sk-parallel-item:first-child::after {\n",
              "  align-self: flex-end;\n",
              "  width: 50%;\n",
              "}\n",
              "\n",
              "#sk-container-id-4 div.sk-parallel-item:last-child::after {\n",
              "  align-self: flex-start;\n",
              "  width: 50%;\n",
              "}\n",
              "\n",
              "#sk-container-id-4 div.sk-parallel-item:only-child::after {\n",
              "  width: 0;\n",
              "}\n",
              "\n",
              "/* Serial-specific style estimator block */\n",
              "\n",
              "#sk-container-id-4 div.sk-serial {\n",
              "  display: flex;\n",
              "  flex-direction: column;\n",
              "  align-items: center;\n",
              "  background-color: var(--sklearn-color-background);\n",
              "  padding-right: 1em;\n",
              "  padding-left: 1em;\n",
              "}\n",
              "\n",
              "\n",
              "/* Toggleable style: style used for estimator/Pipeline/ColumnTransformer box that is\n",
              "clickable and can be expanded/collapsed.\n",
              "- Pipeline and ColumnTransformer use this feature and define the default style\n",
              "- Estimators will overwrite some part of the style using the `sk-estimator` class\n",
              "*/\n",
              "\n",
              "/* Pipeline and ColumnTransformer style (default) */\n",
              "\n",
              "#sk-container-id-4 div.sk-toggleable {\n",
              "  /* Default theme specific background. It is overwritten whether we have a\n",
              "  specific estimator or a Pipeline/ColumnTransformer */\n",
              "  background-color: var(--sklearn-color-background);\n",
              "}\n",
              "\n",
              "/* Toggleable label */\n",
              "#sk-container-id-4 label.sk-toggleable__label {\n",
              "  cursor: pointer;\n",
              "  display: flex;\n",
              "  width: 100%;\n",
              "  margin-bottom: 0;\n",
              "  padding: 0.5em;\n",
              "  box-sizing: border-box;\n",
              "  text-align: center;\n",
              "  align-items: start;\n",
              "  justify-content: space-between;\n",
              "  gap: 0.5em;\n",
              "}\n",
              "\n",
              "#sk-container-id-4 label.sk-toggleable__label .caption {\n",
              "  font-size: 0.6rem;\n",
              "  font-weight: lighter;\n",
              "  color: var(--sklearn-color-text-muted);\n",
              "}\n",
              "\n",
              "#sk-container-id-4 label.sk-toggleable__label-arrow:before {\n",
              "  /* Arrow on the left of the label */\n",
              "  content: \"▸\";\n",
              "  float: left;\n",
              "  margin-right: 0.25em;\n",
              "  color: var(--sklearn-color-icon);\n",
              "}\n",
              "\n",
              "#sk-container-id-4 label.sk-toggleable__label-arrow:hover:before {\n",
              "  color: var(--sklearn-color-text);\n",
              "}\n",
              "\n",
              "/* Toggleable content - dropdown */\n",
              "\n",
              "#sk-container-id-4 div.sk-toggleable__content {\n",
              "  max-height: 0;\n",
              "  max-width: 0;\n",
              "  overflow: hidden;\n",
              "  text-align: left;\n",
              "  /* unfitted */\n",
              "  background-color: var(--sklearn-color-unfitted-level-0);\n",
              "}\n",
              "\n",
              "#sk-container-id-4 div.sk-toggleable__content.fitted {\n",
              "  /* fitted */\n",
              "  background-color: var(--sklearn-color-fitted-level-0);\n",
              "}\n",
              "\n",
              "#sk-container-id-4 div.sk-toggleable__content pre {\n",
              "  margin: 0.2em;\n",
              "  border-radius: 0.25em;\n",
              "  color: var(--sklearn-color-text);\n",
              "  /* unfitted */\n",
              "  background-color: var(--sklearn-color-unfitted-level-0);\n",
              "}\n",
              "\n",
              "#sk-container-id-4 div.sk-toggleable__content.fitted pre {\n",
              "  /* unfitted */\n",
              "  background-color: var(--sklearn-color-fitted-level-0);\n",
              "}\n",
              "\n",
              "#sk-container-id-4 input.sk-toggleable__control:checked~div.sk-toggleable__content {\n",
              "  /* Expand drop-down */\n",
              "  max-height: 200px;\n",
              "  max-width: 100%;\n",
              "  overflow: auto;\n",
              "}\n",
              "\n",
              "#sk-container-id-4 input.sk-toggleable__control:checked~label.sk-toggleable__label-arrow:before {\n",
              "  content: \"▾\";\n",
              "}\n",
              "\n",
              "/* Pipeline/ColumnTransformer-specific style */\n",
              "\n",
              "#sk-container-id-4 div.sk-label input.sk-toggleable__control:checked~label.sk-toggleable__label {\n",
              "  color: var(--sklearn-color-text);\n",
              "  background-color: var(--sklearn-color-unfitted-level-2);\n",
              "}\n",
              "\n",
              "#sk-container-id-4 div.sk-label.fitted input.sk-toggleable__control:checked~label.sk-toggleable__label {\n",
              "  background-color: var(--sklearn-color-fitted-level-2);\n",
              "}\n",
              "\n",
              "/* Estimator-specific style */\n",
              "\n",
              "/* Colorize estimator box */\n",
              "#sk-container-id-4 div.sk-estimator input.sk-toggleable__control:checked~label.sk-toggleable__label {\n",
              "  /* unfitted */\n",
              "  background-color: var(--sklearn-color-unfitted-level-2);\n",
              "}\n",
              "\n",
              "#sk-container-id-4 div.sk-estimator.fitted input.sk-toggleable__control:checked~label.sk-toggleable__label {\n",
              "  /* fitted */\n",
              "  background-color: var(--sklearn-color-fitted-level-2);\n",
              "}\n",
              "\n",
              "#sk-container-id-4 div.sk-label label.sk-toggleable__label,\n",
              "#sk-container-id-4 div.sk-label label {\n",
              "  /* The background is the default theme color */\n",
              "  color: var(--sklearn-color-text-on-default-background);\n",
              "}\n",
              "\n",
              "/* On hover, darken the color of the background */\n",
              "#sk-container-id-4 div.sk-label:hover label.sk-toggleable__label {\n",
              "  color: var(--sklearn-color-text);\n",
              "  background-color: var(--sklearn-color-unfitted-level-2);\n",
              "}\n",
              "\n",
              "/* Label box, darken color on hover, fitted */\n",
              "#sk-container-id-4 div.sk-label.fitted:hover label.sk-toggleable__label.fitted {\n",
              "  color: var(--sklearn-color-text);\n",
              "  background-color: var(--sklearn-color-fitted-level-2);\n",
              "}\n",
              "\n",
              "/* Estimator label */\n",
              "\n",
              "#sk-container-id-4 div.sk-label label {\n",
              "  font-family: monospace;\n",
              "  font-weight: bold;\n",
              "  display: inline-block;\n",
              "  line-height: 1.2em;\n",
              "}\n",
              "\n",
              "#sk-container-id-4 div.sk-label-container {\n",
              "  text-align: center;\n",
              "}\n",
              "\n",
              "/* Estimator-specific */\n",
              "#sk-container-id-4 div.sk-estimator {\n",
              "  font-family: monospace;\n",
              "  border: 1px dotted var(--sklearn-color-border-box);\n",
              "  border-radius: 0.25em;\n",
              "  box-sizing: border-box;\n",
              "  margin-bottom: 0.5em;\n",
              "  /* unfitted */\n",
              "  background-color: var(--sklearn-color-unfitted-level-0);\n",
              "}\n",
              "\n",
              "#sk-container-id-4 div.sk-estimator.fitted {\n",
              "  /* fitted */\n",
              "  background-color: var(--sklearn-color-fitted-level-0);\n",
              "}\n",
              "\n",
              "/* on hover */\n",
              "#sk-container-id-4 div.sk-estimator:hover {\n",
              "  /* unfitted */\n",
              "  background-color: var(--sklearn-color-unfitted-level-2);\n",
              "}\n",
              "\n",
              "#sk-container-id-4 div.sk-estimator.fitted:hover {\n",
              "  /* fitted */\n",
              "  background-color: var(--sklearn-color-fitted-level-2);\n",
              "}\n",
              "\n",
              "/* Specification for estimator info (e.g. \"i\" and \"?\") */\n",
              "\n",
              "/* Common style for \"i\" and \"?\" */\n",
              "\n",
              ".sk-estimator-doc-link,\n",
              "a:link.sk-estimator-doc-link,\n",
              "a:visited.sk-estimator-doc-link {\n",
              "  float: right;\n",
              "  font-size: smaller;\n",
              "  line-height: 1em;\n",
              "  font-family: monospace;\n",
              "  background-color: var(--sklearn-color-background);\n",
              "  border-radius: 1em;\n",
              "  height: 1em;\n",
              "  width: 1em;\n",
              "  text-decoration: none !important;\n",
              "  margin-left: 0.5em;\n",
              "  text-align: center;\n",
              "  /* unfitted */\n",
              "  border: var(--sklearn-color-unfitted-level-1) 1pt solid;\n",
              "  color: var(--sklearn-color-unfitted-level-1);\n",
              "}\n",
              "\n",
              ".sk-estimator-doc-link.fitted,\n",
              "a:link.sk-estimator-doc-link.fitted,\n",
              "a:visited.sk-estimator-doc-link.fitted {\n",
              "  /* fitted */\n",
              "  border: var(--sklearn-color-fitted-level-1) 1pt solid;\n",
              "  color: var(--sklearn-color-fitted-level-1);\n",
              "}\n",
              "\n",
              "/* On hover */\n",
              "div.sk-estimator:hover .sk-estimator-doc-link:hover,\n",
              ".sk-estimator-doc-link:hover,\n",
              "div.sk-label-container:hover .sk-estimator-doc-link:hover,\n",
              ".sk-estimator-doc-link:hover {\n",
              "  /* unfitted */\n",
              "  background-color: var(--sklearn-color-unfitted-level-3);\n",
              "  color: var(--sklearn-color-background);\n",
              "  text-decoration: none;\n",
              "}\n",
              "\n",
              "div.sk-estimator.fitted:hover .sk-estimator-doc-link.fitted:hover,\n",
              ".sk-estimator-doc-link.fitted:hover,\n",
              "div.sk-label-container:hover .sk-estimator-doc-link.fitted:hover,\n",
              ".sk-estimator-doc-link.fitted:hover {\n",
              "  /* fitted */\n",
              "  background-color: var(--sklearn-color-fitted-level-3);\n",
              "  color: var(--sklearn-color-background);\n",
              "  text-decoration: none;\n",
              "}\n",
              "\n",
              "/* Span, style for the box shown on hovering the info icon */\n",
              ".sk-estimator-doc-link span {\n",
              "  display: none;\n",
              "  z-index: 9999;\n",
              "  position: relative;\n",
              "  font-weight: normal;\n",
              "  right: .2ex;\n",
              "  padding: .5ex;\n",
              "  margin: .5ex;\n",
              "  width: min-content;\n",
              "  min-width: 20ex;\n",
              "  max-width: 50ex;\n",
              "  color: var(--sklearn-color-text);\n",
              "  box-shadow: 2pt 2pt 4pt #999;\n",
              "  /* unfitted */\n",
              "  background: var(--sklearn-color-unfitted-level-0);\n",
              "  border: .5pt solid var(--sklearn-color-unfitted-level-3);\n",
              "}\n",
              "\n",
              ".sk-estimator-doc-link.fitted span {\n",
              "  /* fitted */\n",
              "  background: var(--sklearn-color-fitted-level-0);\n",
              "  border: var(--sklearn-color-fitted-level-3);\n",
              "}\n",
              "\n",
              ".sk-estimator-doc-link:hover span {\n",
              "  display: block;\n",
              "}\n",
              "\n",
              "/* \"?\"-specific style due to the `<a>` HTML tag */\n",
              "\n",
              "#sk-container-id-4 a.estimator_doc_link {\n",
              "  float: right;\n",
              "  font-size: 1rem;\n",
              "  line-height: 1em;\n",
              "  font-family: monospace;\n",
              "  background-color: var(--sklearn-color-background);\n",
              "  border-radius: 1rem;\n",
              "  height: 1rem;\n",
              "  width: 1rem;\n",
              "  text-decoration: none;\n",
              "  /* unfitted */\n",
              "  color: var(--sklearn-color-unfitted-level-1);\n",
              "  border: var(--sklearn-color-unfitted-level-1) 1pt solid;\n",
              "}\n",
              "\n",
              "#sk-container-id-4 a.estimator_doc_link.fitted {\n",
              "  /* fitted */\n",
              "  border: var(--sklearn-color-fitted-level-1) 1pt solid;\n",
              "  color: var(--sklearn-color-fitted-level-1);\n",
              "}\n",
              "\n",
              "/* On hover */\n",
              "#sk-container-id-4 a.estimator_doc_link:hover {\n",
              "  /* unfitted */\n",
              "  background-color: var(--sklearn-color-unfitted-level-3);\n",
              "  color: var(--sklearn-color-background);\n",
              "  text-decoration: none;\n",
              "}\n",
              "\n",
              "#sk-container-id-4 a.estimator_doc_link.fitted:hover {\n",
              "  /* fitted */\n",
              "  background-color: var(--sklearn-color-fitted-level-3);\n",
              "}\n",
              "</style><div id=\"sk-container-id-4\" class=\"sk-top-container\"><div class=\"sk-text-repr-fallback\"><pre>LinearRegression()</pre><b>In a Jupyter environment, please rerun this cell to show the HTML representation or trust the notebook. <br />On GitHub, the HTML representation is unable to render, please try loading this page with nbviewer.org.</b></div><div class=\"sk-container\" hidden><div class=\"sk-item\"><div class=\"sk-estimator fitted sk-toggleable\"><input class=\"sk-toggleable__control sk-hidden--visually\" id=\"sk-estimator-id-4\" type=\"checkbox\" checked><label for=\"sk-estimator-id-4\" class=\"sk-toggleable__label fitted sk-toggleable__label-arrow\"><div><div>LinearRegression</div></div><div><a class=\"sk-estimator-doc-link fitted\" rel=\"noreferrer\" target=\"_blank\" href=\"https://scikit-learn.org/1.6/modules/generated/sklearn.linear_model.LinearRegression.html\">?<span>Documentation for LinearRegression</span></a><span class=\"sk-estimator-doc-link fitted\">i<span>Fitted</span></span></div></label><div class=\"sk-toggleable__content fitted\"><pre>LinearRegression()</pre></div> </div></div></div></div>"
            ]
          },
          "metadata": {},
          "execution_count": 228
        }
      ]
    },
    {
      "cell_type": "code",
      "source": [
        "x_pred = df_pred[['Monthly']]\n",
        "total_previsto = modelo.predict(x_pred)"
      ],
      "metadata": {
        "id": "tJo9vBREj4hd"
      },
      "execution_count": 229,
      "outputs": []
    },
    {
      "cell_type": "code",
      "source": [
        "df.loc[df['Total'].isna(), 'Total'] = (total_previsto).round(2)"
      ],
      "metadata": {
        "id": "RKYBqytdkNac"
      },
      "execution_count": 230,
      "outputs": []
    },
    {
      "cell_type": "code",
      "source": [
        "# Verificando a quantidade de (NaN) na coluna Total\n",
        "total_nan = df['Total'].isna().sum()\n",
        "print(\"Número de NaN na coluna Total:\", total_nan)"
      ],
      "metadata": {
        "colab": {
          "base_uri": "https://localhost:8080/"
        },
        "id": "lVi_lO2Kq8Di",
        "outputId": "1c0859f0-d432-4c33-98aa-abe02740f502"
      },
      "execution_count": 231,
      "outputs": [
        {
          "output_type": "stream",
          "name": "stdout",
          "text": [
            "Número de NaN na coluna Total: 0\n"
          ]
        }
      ]
    },
    {
      "cell_type": "code",
      "source": [
        "# Verificando a quantidade de espaços vazios na coluna Churn\n",
        "espaco_vazio = (df['Churn']== '').sum()\n",
        "print(\"Número de espaços vazios na coluna Churn:\", espaco_vazio)"
      ],
      "metadata": {
        "colab": {
          "base_uri": "https://localhost:8080/"
        },
        "id": "RasjoaiEyNVg",
        "outputId": "b4a97817-9910-4878-f6a1-32c29c614928"
      },
      "execution_count": 232,
      "outputs": [
        {
          "output_type": "stream",
          "name": "stdout",
          "text": [
            "Número de espaços vazios na coluna Churn: 224\n"
          ]
        }
      ]
    },
    {
      "cell_type": "code",
      "source": [
        "# Eliminando espaços vazios em Churn\n",
        "df = df[df['Churn'].str.strip() != '']\n",
        "\n",
        "# Substituindo espaços vazios por NaN\n",
        "df['Churn'] = df['Churn'].replace(r'^\\s*$', np.nan, regex=True)\n",
        "\n",
        "# Eliminando linhas com NaN em 'Churn'\n",
        "df = df.dropna(subset=['Churn'])"
      ],
      "metadata": {
        "id": "X_NV3YLiCHZi"
      },
      "execution_count": 233,
      "outputs": []
    },
    {
      "cell_type": "markdown",
      "source": [
        "# Parte 3: Carga e Análise (Load & Analysis)"
      ],
      "metadata": {
        "id": "nlbA2Io6JQAl"
      }
    },
    {
      "cell_type": "code",
      "source": [
        "import seaborn as sns\n",
        "\n",
        "# Calculando a taxa de Churn (clientes que deixaram de fazer negócios com a empresa)\n",
        "percentual = df['Churn']\n",
        "percentuais = percentual.value_counts(normalize=True).mul(100).round(2)\n",
        "print(percentuais)"
      ],
      "metadata": {
        "colab": {
          "base_uri": "https://localhost:8080/"
        },
        "id": "PYPdQDKlfA6T",
        "outputId": "983c6aa3-d1a1-4811-e721-038ce3b47646"
      },
      "execution_count": 234,
      "outputs": [
        {
          "output_type": "stream",
          "name": "stdout",
          "text": [
            "Churn\n",
            "No     73.46\n",
            "Yes    26.54\n",
            "Name: proportion, dtype: float64\n"
          ]
        }
      ]
    },
    {
      "cell_type": "markdown",
      "source": [
        "Início do grupo de códigos que irão retornar os percentuais de cada elemento de forma a mostrar o perfil dos clientes em Churn"
      ],
      "metadata": {
        "id": "DBcFHeT1BTa3"
      }
    },
    {
      "cell_type": "code",
      "source": [
        "# Filtrando os clientes com Churn == 'Yes'\n",
        "churn_yes = df[df['Churn'] == 'Yes']"
      ],
      "metadata": {
        "id": "erDuisJpEJhv"
      },
      "execution_count": 235,
      "outputs": []
    },
    {
      "cell_type": "code",
      "source": [
        "# Percentual em relação ao sexo: Male ou Female\n",
        "gender_pct = (churn_yes['gender'].value_counts(normalize=True) * 100).round(2)\n",
        "print(gender_pct)"
      ],
      "metadata": {
        "colab": {
          "base_uri": "https://localhost:8080/"
        },
        "id": "6QJGxc3G_bz4",
        "outputId": "f4eeebb4-ddf2-46be-d656-aa05c9bfe8cb"
      },
      "execution_count": 236,
      "outputs": [
        {
          "output_type": "stream",
          "name": "stdout",
          "text": [
            "gender\n",
            "Female    50.24\n",
            "Male      49.76\n",
            "Name: proportion, dtype: float64\n"
          ]
        }
      ]
    },
    {
      "cell_type": "code",
      "source": [
        "# Percentual de senioridade (com idade maior ou igual a 65 anos) [1=sim, 0=não]\n",
        "senior_pct = (churn_yes['SeniorCitizen'].value_counts(normalize=True) * 100).round(2)\n",
        "print(senior_pct)"
      ],
      "metadata": {
        "colab": {
          "base_uri": "https://localhost:8080/"
        },
        "id": "E0bPzyzGAYWx",
        "outputId": "2047e11a-f6e4-4d50-d576-66df5e07f432"
      },
      "execution_count": 237,
      "outputs": [
        {
          "output_type": "stream",
          "name": "stdout",
          "text": [
            "SeniorCitizen\n",
            "0    74.53\n",
            "1    25.47\n",
            "Name: proportion, dtype: float64\n"
          ]
        }
      ]
    },
    {
      "cell_type": "code",
      "source": [
        "# Percentual em relação a existência de parceiro ou parceira\n",
        "partner_pct = (churn_yes['Partner'].value_counts(normalize=True) * 100).round(2)\n",
        "print(partner_pct)"
      ],
      "metadata": {
        "colab": {
          "base_uri": "https://localhost:8080/"
        },
        "id": "DR8n2IxADAA1",
        "outputId": "809d77e9-20df-4fd1-9e30-329d04fe1c2f"
      },
      "execution_count": 238,
      "outputs": [
        {
          "output_type": "stream",
          "name": "stdout",
          "text": [
            "Partner\n",
            "No     64.21\n",
            "Yes    35.79\n",
            "Name: proportion, dtype: float64\n"
          ]
        }
      ]
    },
    {
      "cell_type": "code",
      "source": [
        "# Percentual em relação a existência de dependentes\n",
        "dependents_pct = (churn_yes['Dependents'].value_counts(normalize=True) * 100).round(2)\n",
        "print(dependents_pct)"
      ],
      "metadata": {
        "colab": {
          "base_uri": "https://localhost:8080/"
        },
        "id": "262zjsMfC_yb",
        "outputId": "8f93ca14-252a-40fb-8fc3-9c052d257297"
      },
      "execution_count": 239,
      "outputs": [
        {
          "output_type": "stream",
          "name": "stdout",
          "text": [
            "Dependents\n",
            "No     82.56\n",
            "Yes    17.44\n",
            "Name: proportion, dtype: float64\n"
          ]
        }
      ]
    },
    {
      "cell_type": "code",
      "source": [
        "# Percentual em relação ao meses de contrato\n",
        "# Definindo os limites em meses e os rótulos (ano/ano)\n",
        "tenure_pct = churn_yes['tenure']\n",
        "bins = [0, 12, 24, 36, 48, 60, 72]\n",
        "labels = ['Até 1 ano', '> 1 até 2 anos', '> 2 até 3 anos',\n",
        "    '> 3 até 4 anos', '> 4 até 5 anos', 'Acima de 5 anos']\n",
        "\n",
        "# Criando série categórica de faixas com intervalo fechado à direita, incluindo limite inferior\n",
        "tenure_year_group = pd.cut(churn_yes['tenure'],bins=bins,labels=labels,right=True,include_lowest=True)\n",
        "\n",
        "# Calculando o percentual de cada faixa, incluindo: ordenação p/labels, convertendo p/%, arredondando p/2 casas decimais)\n",
        "pct = (tenure_year_group.value_counts(normalize=True).sort_index().mul(100).round(2))\n",
        "\n",
        "# Montando o DataFrame final\n",
        "tenure_pct_df = pct.reset_index()\n",
        "tenure_pct_df.columns = ['Intervalo de Tenure', 'Percentual (%)']\n",
        "\n",
        "# Exibindo a tebela informativa\n",
        "from IPython.display import display\n",
        "display(tenure_pct_df)"
      ],
      "metadata": {
        "colab": {
          "base_uri": "https://localhost:8080/",
          "height": 238
        },
        "id": "VtvJD04tC_j6",
        "outputId": "a094dc00-e76a-4538-d844-4d0cb90ee551"
      },
      "execution_count": 240,
      "outputs": [
        {
          "output_type": "display_data",
          "data": {
            "text/plain": [
              "  Intervalo de Tenure  Percentual (%)\n",
              "0           Até 1 ano           55.48\n",
              "1      > 1 até 2 anos           15.73\n",
              "2      > 2 até 3 anos            9.63\n",
              "3      > 3 até 4 anos            7.76\n",
              "4      > 4 até 5 anos            6.42\n",
              "5     Acima de 5 anos            4.98"
            ],
            "text/html": [
              "\n",
              "  <div id=\"df-dc707b92-0cd0-4dbb-8a8e-e254395c1dc9\" class=\"colab-df-container\">\n",
              "    <div>\n",
              "<style scoped>\n",
              "    .dataframe tbody tr th:only-of-type {\n",
              "        vertical-align: middle;\n",
              "    }\n",
              "\n",
              "    .dataframe tbody tr th {\n",
              "        vertical-align: top;\n",
              "    }\n",
              "\n",
              "    .dataframe thead th {\n",
              "        text-align: right;\n",
              "    }\n",
              "</style>\n",
              "<table border=\"1\" class=\"dataframe\">\n",
              "  <thead>\n",
              "    <tr style=\"text-align: right;\">\n",
              "      <th></th>\n",
              "      <th>Intervalo de Tenure</th>\n",
              "      <th>Percentual (%)</th>\n",
              "    </tr>\n",
              "  </thead>\n",
              "  <tbody>\n",
              "    <tr>\n",
              "      <th>0</th>\n",
              "      <td>Até 1 ano</td>\n",
              "      <td>55.48</td>\n",
              "    </tr>\n",
              "    <tr>\n",
              "      <th>1</th>\n",
              "      <td>&gt; 1 até 2 anos</td>\n",
              "      <td>15.73</td>\n",
              "    </tr>\n",
              "    <tr>\n",
              "      <th>2</th>\n",
              "      <td>&gt; 2 até 3 anos</td>\n",
              "      <td>9.63</td>\n",
              "    </tr>\n",
              "    <tr>\n",
              "      <th>3</th>\n",
              "      <td>&gt; 3 até 4 anos</td>\n",
              "      <td>7.76</td>\n",
              "    </tr>\n",
              "    <tr>\n",
              "      <th>4</th>\n",
              "      <td>&gt; 4 até 5 anos</td>\n",
              "      <td>6.42</td>\n",
              "    </tr>\n",
              "    <tr>\n",
              "      <th>5</th>\n",
              "      <td>Acima de 5 anos</td>\n",
              "      <td>4.98</td>\n",
              "    </tr>\n",
              "  </tbody>\n",
              "</table>\n",
              "</div>\n",
              "    <div class=\"colab-df-buttons\">\n",
              "\n",
              "  <div class=\"colab-df-container\">\n",
              "    <button class=\"colab-df-convert\" onclick=\"convertToInteractive('df-dc707b92-0cd0-4dbb-8a8e-e254395c1dc9')\"\n",
              "            title=\"Convert this dataframe to an interactive table.\"\n",
              "            style=\"display:none;\">\n",
              "\n",
              "  <svg xmlns=\"http://www.w3.org/2000/svg\" height=\"24px\" viewBox=\"0 -960 960 960\">\n",
              "    <path d=\"M120-120v-720h720v720H120Zm60-500h600v-160H180v160Zm220 220h160v-160H400v160Zm0 220h160v-160H400v160ZM180-400h160v-160H180v160Zm440 0h160v-160H620v160ZM180-180h160v-160H180v160Zm440 0h160v-160H620v160Z\"/>\n",
              "  </svg>\n",
              "    </button>\n",
              "\n",
              "  <style>\n",
              "    .colab-df-container {\n",
              "      display:flex;\n",
              "      gap: 12px;\n",
              "    }\n",
              "\n",
              "    .colab-df-convert {\n",
              "      background-color: #E8F0FE;\n",
              "      border: none;\n",
              "      border-radius: 50%;\n",
              "      cursor: pointer;\n",
              "      display: none;\n",
              "      fill: #1967D2;\n",
              "      height: 32px;\n",
              "      padding: 0 0 0 0;\n",
              "      width: 32px;\n",
              "    }\n",
              "\n",
              "    .colab-df-convert:hover {\n",
              "      background-color: #E2EBFA;\n",
              "      box-shadow: 0px 1px 2px rgba(60, 64, 67, 0.3), 0px 1px 3px 1px rgba(60, 64, 67, 0.15);\n",
              "      fill: #174EA6;\n",
              "    }\n",
              "\n",
              "    .colab-df-buttons div {\n",
              "      margin-bottom: 4px;\n",
              "    }\n",
              "\n",
              "    [theme=dark] .colab-df-convert {\n",
              "      background-color: #3B4455;\n",
              "      fill: #D2E3FC;\n",
              "    }\n",
              "\n",
              "    [theme=dark] .colab-df-convert:hover {\n",
              "      background-color: #434B5C;\n",
              "      box-shadow: 0px 1px 3px 1px rgba(0, 0, 0, 0.15);\n",
              "      filter: drop-shadow(0px 1px 2px rgba(0, 0, 0, 0.3));\n",
              "      fill: #FFFFFF;\n",
              "    }\n",
              "  </style>\n",
              "\n",
              "    <script>\n",
              "      const buttonEl =\n",
              "        document.querySelector('#df-dc707b92-0cd0-4dbb-8a8e-e254395c1dc9 button.colab-df-convert');\n",
              "      buttonEl.style.display =\n",
              "        google.colab.kernel.accessAllowed ? 'block' : 'none';\n",
              "\n",
              "      async function convertToInteractive(key) {\n",
              "        const element = document.querySelector('#df-dc707b92-0cd0-4dbb-8a8e-e254395c1dc9');\n",
              "        const dataTable =\n",
              "          await google.colab.kernel.invokeFunction('convertToInteractive',\n",
              "                                                    [key], {});\n",
              "        if (!dataTable) return;\n",
              "\n",
              "        const docLinkHtml = 'Like what you see? Visit the ' +\n",
              "          '<a target=\"_blank\" href=https://colab.research.google.com/notebooks/data_table.ipynb>data table notebook</a>'\n",
              "          + ' to learn more about interactive tables.';\n",
              "        element.innerHTML = '';\n",
              "        dataTable['output_type'] = 'display_data';\n",
              "        await google.colab.output.renderOutput(dataTable, element);\n",
              "        const docLink = document.createElement('div');\n",
              "        docLink.innerHTML = docLinkHtml;\n",
              "        element.appendChild(docLink);\n",
              "      }\n",
              "    </script>\n",
              "  </div>\n",
              "\n",
              "\n",
              "    <div id=\"df-cad99ca3-f964-4bb9-8ab7-40046d01fa3c\">\n",
              "      <button class=\"colab-df-quickchart\" onclick=\"quickchart('df-cad99ca3-f964-4bb9-8ab7-40046d01fa3c')\"\n",
              "                title=\"Suggest charts\"\n",
              "                style=\"display:none;\">\n",
              "\n",
              "<svg xmlns=\"http://www.w3.org/2000/svg\" height=\"24px\"viewBox=\"0 0 24 24\"\n",
              "     width=\"24px\">\n",
              "    <g>\n",
              "        <path d=\"M19 3H5c-1.1 0-2 .9-2 2v14c0 1.1.9 2 2 2h14c1.1 0 2-.9 2-2V5c0-1.1-.9-2-2-2zM9 17H7v-7h2v7zm4 0h-2V7h2v10zm4 0h-2v-4h2v4z\"/>\n",
              "    </g>\n",
              "</svg>\n",
              "      </button>\n",
              "\n",
              "<style>\n",
              "  .colab-df-quickchart {\n",
              "      --bg-color: #E8F0FE;\n",
              "      --fill-color: #1967D2;\n",
              "      --hover-bg-color: #E2EBFA;\n",
              "      --hover-fill-color: #174EA6;\n",
              "      --disabled-fill-color: #AAA;\n",
              "      --disabled-bg-color: #DDD;\n",
              "  }\n",
              "\n",
              "  [theme=dark] .colab-df-quickchart {\n",
              "      --bg-color: #3B4455;\n",
              "      --fill-color: #D2E3FC;\n",
              "      --hover-bg-color: #434B5C;\n",
              "      --hover-fill-color: #FFFFFF;\n",
              "      --disabled-bg-color: #3B4455;\n",
              "      --disabled-fill-color: #666;\n",
              "  }\n",
              "\n",
              "  .colab-df-quickchart {\n",
              "    background-color: var(--bg-color);\n",
              "    border: none;\n",
              "    border-radius: 50%;\n",
              "    cursor: pointer;\n",
              "    display: none;\n",
              "    fill: var(--fill-color);\n",
              "    height: 32px;\n",
              "    padding: 0;\n",
              "    width: 32px;\n",
              "  }\n",
              "\n",
              "  .colab-df-quickchart:hover {\n",
              "    background-color: var(--hover-bg-color);\n",
              "    box-shadow: 0 1px 2px rgba(60, 64, 67, 0.3), 0 1px 3px 1px rgba(60, 64, 67, 0.15);\n",
              "    fill: var(--button-hover-fill-color);\n",
              "  }\n",
              "\n",
              "  .colab-df-quickchart-complete:disabled,\n",
              "  .colab-df-quickchart-complete:disabled:hover {\n",
              "    background-color: var(--disabled-bg-color);\n",
              "    fill: var(--disabled-fill-color);\n",
              "    box-shadow: none;\n",
              "  }\n",
              "\n",
              "  .colab-df-spinner {\n",
              "    border: 2px solid var(--fill-color);\n",
              "    border-color: transparent;\n",
              "    border-bottom-color: var(--fill-color);\n",
              "    animation:\n",
              "      spin 1s steps(1) infinite;\n",
              "  }\n",
              "\n",
              "  @keyframes spin {\n",
              "    0% {\n",
              "      border-color: transparent;\n",
              "      border-bottom-color: var(--fill-color);\n",
              "      border-left-color: var(--fill-color);\n",
              "    }\n",
              "    20% {\n",
              "      border-color: transparent;\n",
              "      border-left-color: var(--fill-color);\n",
              "      border-top-color: var(--fill-color);\n",
              "    }\n",
              "    30% {\n",
              "      border-color: transparent;\n",
              "      border-left-color: var(--fill-color);\n",
              "      border-top-color: var(--fill-color);\n",
              "      border-right-color: var(--fill-color);\n",
              "    }\n",
              "    40% {\n",
              "      border-color: transparent;\n",
              "      border-right-color: var(--fill-color);\n",
              "      border-top-color: var(--fill-color);\n",
              "    }\n",
              "    60% {\n",
              "      border-color: transparent;\n",
              "      border-right-color: var(--fill-color);\n",
              "    }\n",
              "    80% {\n",
              "      border-color: transparent;\n",
              "      border-right-color: var(--fill-color);\n",
              "      border-bottom-color: var(--fill-color);\n",
              "    }\n",
              "    90% {\n",
              "      border-color: transparent;\n",
              "      border-bottom-color: var(--fill-color);\n",
              "    }\n",
              "  }\n",
              "</style>\n",
              "\n",
              "      <script>\n",
              "        async function quickchart(key) {\n",
              "          const quickchartButtonEl =\n",
              "            document.querySelector('#' + key + ' button');\n",
              "          quickchartButtonEl.disabled = true;  // To prevent multiple clicks.\n",
              "          quickchartButtonEl.classList.add('colab-df-spinner');\n",
              "          try {\n",
              "            const charts = await google.colab.kernel.invokeFunction(\n",
              "                'suggestCharts', [key], {});\n",
              "          } catch (error) {\n",
              "            console.error('Error during call to suggestCharts:', error);\n",
              "          }\n",
              "          quickchartButtonEl.classList.remove('colab-df-spinner');\n",
              "          quickchartButtonEl.classList.add('colab-df-quickchart-complete');\n",
              "        }\n",
              "        (() => {\n",
              "          let quickchartButtonEl =\n",
              "            document.querySelector('#df-cad99ca3-f964-4bb9-8ab7-40046d01fa3c button');\n",
              "          quickchartButtonEl.style.display =\n",
              "            google.colab.kernel.accessAllowed ? 'block' : 'none';\n",
              "        })();\n",
              "      </script>\n",
              "    </div>\n",
              "\n",
              "  <div id=\"id_e76ae9f9-c219-466e-b0f9-ca99aef8ac59\">\n",
              "    <style>\n",
              "      .colab-df-generate {\n",
              "        background-color: #E8F0FE;\n",
              "        border: none;\n",
              "        border-radius: 50%;\n",
              "        cursor: pointer;\n",
              "        display: none;\n",
              "        fill: #1967D2;\n",
              "        height: 32px;\n",
              "        padding: 0 0 0 0;\n",
              "        width: 32px;\n",
              "      }\n",
              "\n",
              "      .colab-df-generate:hover {\n",
              "        background-color: #E2EBFA;\n",
              "        box-shadow: 0px 1px 2px rgba(60, 64, 67, 0.3), 0px 1px 3px 1px rgba(60, 64, 67, 0.15);\n",
              "        fill: #174EA6;\n",
              "      }\n",
              "\n",
              "      [theme=dark] .colab-df-generate {\n",
              "        background-color: #3B4455;\n",
              "        fill: #D2E3FC;\n",
              "      }\n",
              "\n",
              "      [theme=dark] .colab-df-generate:hover {\n",
              "        background-color: #434B5C;\n",
              "        box-shadow: 0px 1px 3px 1px rgba(0, 0, 0, 0.15);\n",
              "        filter: drop-shadow(0px 1px 2px rgba(0, 0, 0, 0.3));\n",
              "        fill: #FFFFFF;\n",
              "      }\n",
              "    </style>\n",
              "    <button class=\"colab-df-generate\" onclick=\"generateWithVariable('tenure_pct_df')\"\n",
              "            title=\"Generate code using this dataframe.\"\n",
              "            style=\"display:none;\">\n",
              "\n",
              "  <svg xmlns=\"http://www.w3.org/2000/svg\" height=\"24px\"viewBox=\"0 0 24 24\"\n",
              "       width=\"24px\">\n",
              "    <path d=\"M7,19H8.4L18.45,9,17,7.55,7,17.6ZM5,21V16.75L18.45,3.32a2,2,0,0,1,2.83,0l1.4,1.43a1.91,1.91,0,0,1,.58,1.4,1.91,1.91,0,0,1-.58,1.4L9.25,21ZM18.45,9,17,7.55Zm-12,3A5.31,5.31,0,0,0,4.9,8.1,5.31,5.31,0,0,0,1,6.5,5.31,5.31,0,0,0,4.9,4.9,5.31,5.31,0,0,0,6.5,1,5.31,5.31,0,0,0,8.1,4.9,5.31,5.31,0,0,0,12,6.5,5.46,5.46,0,0,0,6.5,12Z\"/>\n",
              "  </svg>\n",
              "    </button>\n",
              "    <script>\n",
              "      (() => {\n",
              "      const buttonEl =\n",
              "        document.querySelector('#id_e76ae9f9-c219-466e-b0f9-ca99aef8ac59 button.colab-df-generate');\n",
              "      buttonEl.style.display =\n",
              "        google.colab.kernel.accessAllowed ? 'block' : 'none';\n",
              "\n",
              "      buttonEl.onclick = () => {\n",
              "        google.colab.notebook.generateWithVariable('tenure_pct_df');\n",
              "      }\n",
              "      })();\n",
              "    </script>\n",
              "  </div>\n",
              "\n",
              "    </div>\n",
              "  </div>\n"
            ],
            "application/vnd.google.colaboratory.intrinsic+json": {
              "type": "dataframe",
              "variable_name": "tenure_pct_df",
              "summary": "{\n  \"name\": \"tenure_pct_df\",\n  \"rows\": 6,\n  \"fields\": [\n    {\n      \"column\": \"Intervalo de Tenure\",\n      \"properties\": {\n        \"dtype\": \"category\",\n        \"num_unique_values\": 6,\n        \"samples\": [\n          \"At\\u00e9 1 ano\",\n          \"> 1 at\\u00e9 2 anos\",\n          \"Acima de 5 anos\"\n        ],\n        \"semantic_type\": \"\",\n        \"description\": \"\"\n      }\n    },\n    {\n      \"column\": \"Percentual (%)\",\n      \"properties\": {\n        \"dtype\": \"number\",\n        \"std\": 19.379205006053954,\n        \"min\": 4.98,\n        \"max\": 55.48,\n        \"num_unique_values\": 6,\n        \"samples\": [\n          55.48,\n          15.73,\n          4.98\n        ],\n        \"semantic_type\": \"\",\n        \"description\": \"\"\n      }\n    }\n  ]\n}"
            }
          },
          "metadata": {}
        }
      ]
    },
    {
      "cell_type": "code",
      "source": [
        "# Percentual em relação a assinatura de serviços telefônicos\n",
        "phone_pct = (churn_yes['PhoneService'].value_counts(normalize=True) * 100).round(2)\n",
        "print(phone_pct)"
      ],
      "metadata": {
        "colab": {
          "base_uri": "https://localhost:8080/"
        },
        "id": "Xjh0rOf4C_WE",
        "outputId": "b0ac89f8-27f3-41cc-b708-406993d01646"
      },
      "execution_count": 241,
      "outputs": [
        {
          "output_type": "stream",
          "name": "stdout",
          "text": [
            "PhoneService\n",
            "Yes    90.9\n",
            "No      9.1\n",
            "Name: proportion, dtype: float64\n"
          ]
        }
      ]
    },
    {
      "cell_type": "code",
      "source": [
        "# Percentual em relação ao cliente ter mais de uma linha telefônica\n",
        "multi_pct = (churn_yes['MultipleLines'].value_counts(normalize=True) * 100).round(2)\n",
        "print(multi_pct)"
      ],
      "metadata": {
        "colab": {
          "base_uri": "https://localhost:8080/"
        },
        "id": "Q8mv3VFCC_Gp",
        "outputId": "e68e5a2f-53e3-4a59-fbfa-38150189947d"
      },
      "execution_count": 242,
      "outputs": [
        {
          "output_type": "stream",
          "name": "stdout",
          "text": [
            "MultipleLines\n",
            "Yes                 45.48\n",
            "No                  45.43\n",
            "No phone service     9.10\n",
            "Name: proportion, dtype: float64\n"
          ]
        }
      ]
    },
    {
      "cell_type": "code",
      "source": [
        "# Percentual em relação ao cliente assinar provedor de internet\n",
        "internet_pct = (churn_yes['InternetService'].value_counts(normalize=True) * 100).round(2)\n",
        "print(internet_pct)"
      ],
      "metadata": {
        "colab": {
          "base_uri": "https://localhost:8080/"
        },
        "id": "obVrq7n7C-3V",
        "outputId": "842b13f2-4689-41f6-88ca-ea6956b5f31c"
      },
      "execution_count": 243,
      "outputs": [
        {
          "output_type": "stream",
          "name": "stdout",
          "text": [
            "InternetService\n",
            "Fiber optic    69.40\n",
            "DSL            24.56\n",
            "No              6.05\n",
            "Name: proportion, dtype: float64\n"
          ]
        }
      ]
    },
    {
      "cell_type": "code",
      "source": [
        "# Percentual em relação a assinatura adicional de segurança online\n",
        "sec_pct = (churn_yes['OnlineSecurity'].value_counts(normalize=True) * 100).round(2)\n",
        "print(sec_pct)"
      ],
      "metadata": {
        "colab": {
          "base_uri": "https://localhost:8080/"
        },
        "id": "Q30EIQvhC-iT",
        "outputId": "b05c8a6e-7477-4304-c779-976602415b5b"
      },
      "execution_count": 244,
      "outputs": [
        {
          "output_type": "stream",
          "name": "stdout",
          "text": [
            "OnlineSecurity\n",
            "No                     78.17\n",
            "Yes                    15.78\n",
            "No internet service     6.05\n",
            "Name: proportion, dtype: float64\n"
          ]
        }
      ]
    },
    {
      "cell_type": "code",
      "source": [
        "# Percentual em relação a assinatura adicional de backup online\n",
        "backup_pct = (churn_yes['OnlineBackup'].value_counts(normalize=True) * 100).round(2)\n",
        "print(backup_pct)"
      ],
      "metadata": {
        "colab": {
          "base_uri": "https://localhost:8080/"
        },
        "id": "q5-1-t_3C-QW",
        "outputId": "4f320fd2-f9b6-4a2b-d3aa-e19a9c8e227d"
      },
      "execution_count": 245,
      "outputs": [
        {
          "output_type": "stream",
          "name": "stdout",
          "text": [
            "OnlineBackup\n",
            "No                     65.97\n",
            "Yes                    27.98\n",
            "No internet service     6.05\n",
            "Name: proportion, dtype: float64\n"
          ]
        }
      ]
    },
    {
      "cell_type": "code",
      "source": [
        "# Percentual em relação a assinatura adicional de proteção no dispositivo\n",
        "device_pct = (churn_yes['DeviceProtection'].value_counts(normalize=True) * 100).round(2)\n",
        "print(device_pct)"
      ],
      "metadata": {
        "colab": {
          "base_uri": "https://localhost:8080/"
        },
        "id": "dD_ZV-x6C9-K",
        "outputId": "942c1648-7e91-401a-c907-d8eba11f9659"
      },
      "execution_count": 246,
      "outputs": [
        {
          "output_type": "stream",
          "name": "stdout",
          "text": [
            "DeviceProtection\n",
            "No                     64.79\n",
            "Yes                    29.16\n",
            "No internet service     6.05\n",
            "Name: proportion, dtype: float64\n"
          ]
        }
      ]
    },
    {
      "cell_type": "code",
      "source": [
        "# Percentual em relção a assinatura adicional de suporte técnico, menos tempo de espera\n",
        "tech_pct = (churn_yes['TechSupport'].value_counts(normalize=True) * 100).round(2)\n",
        "print(tech_pct)"
      ],
      "metadata": {
        "colab": {
          "base_uri": "https://localhost:8080/"
        },
        "id": "XxTr4pmEH049",
        "outputId": "bdd95916-afc3-4c94-ec97-05b8d6f199f7"
      },
      "execution_count": 247,
      "outputs": [
        {
          "output_type": "stream",
          "name": "stdout",
          "text": [
            "TechSupport\n",
            "No                     77.37\n",
            "Yes                    16.59\n",
            "No internet service     6.05\n",
            "Name: proportion, dtype: float64\n"
          ]
        }
      ]
    },
    {
      "cell_type": "code",
      "source": [
        "# Percentual em relação a assinatura de TV a cabo\n",
        "tv_pct = (churn_yes['StreamingTV'].value_counts(normalize=True) * 100).round(2)\n",
        "print(tv_pct)"
      ],
      "metadata": {
        "colab": {
          "base_uri": "https://localhost:8080/"
        },
        "id": "UDiCBkoSH0r_",
        "outputId": "38895460-e137-4170-8964-36722a15cd64"
      },
      "execution_count": 248,
      "outputs": [
        {
          "output_type": "stream",
          "name": "stdout",
          "text": [
            "StreamingTV\n",
            "No                     50.40\n",
            "Yes                    43.55\n",
            "No internet service     6.05\n",
            "Name: proportion, dtype: float64\n"
          ]
        }
      ]
    },
    {
      "cell_type": "code",
      "source": [
        "# Percentual em relação a assinatura de streaming-filmes\n",
        "movies_pct = (churn_yes['StreamingMovies'].value_counts(normalize=True) * 100).round(2)\n",
        "print(movies_pct)"
      ],
      "metadata": {
        "colab": {
          "base_uri": "https://localhost:8080/"
        },
        "id": "Tj_vvPmmH0gt",
        "outputId": "326eeb3a-d350-4634-8d53-d2158003ce31"
      },
      "execution_count": 249,
      "outputs": [
        {
          "output_type": "stream",
          "name": "stdout",
          "text": [
            "StreamingMovies\n",
            "No                     50.19\n",
            "Yes                    43.77\n",
            "No internet service     6.05\n",
            "Name: proportion, dtype: float64\n"
          ]
        }
      ]
    },
    {
      "cell_type": "code",
      "source": [
        "# Percentual em relação ao tipo de contrato\n",
        "contract_pct = (churn_yes['Contract'].value_counts(normalize=True) * 100).round(2)\n",
        "print(contract_pct)"
      ],
      "metadata": {
        "colab": {
          "base_uri": "https://localhost:8080/"
        },
        "id": "483jARP3H0SM",
        "outputId": "7aa0b812-87c2-42a7-8732-1ff83ece975e"
      },
      "execution_count": 250,
      "outputs": [
        {
          "output_type": "stream",
          "name": "stdout",
          "text": [
            "Contract\n",
            "Month       88.55\n",
            "One year     8.88\n",
            "Two year     2.57\n",
            "Name: proportion, dtype: float64\n"
          ]
        }
      ]
    },
    {
      "cell_type": "code",
      "source": [
        "# Percentual em relação a preferência de receber a fatura online\n",
        "paperless_pct = (churn_yes['PaperlessBilling'].value_counts(normalize=True) * 100).round(2)\n",
        "print(paperless_pct)"
      ],
      "metadata": {
        "colab": {
          "base_uri": "https://localhost:8080/"
        },
        "id": "AGr2puyXIFYZ",
        "outputId": "9933fce7-b484-49d6-a2a4-90e4fb8d66d6"
      },
      "execution_count": 251,
      "outputs": [
        {
          "output_type": "stream",
          "name": "stdout",
          "text": [
            "PaperlessBilling\n",
            "Yes    74.91\n",
            "No     25.09\n",
            "Name: proportion, dtype: float64\n"
          ]
        }
      ]
    },
    {
      "cell_type": "code",
      "source": [
        "# Percentual em relação a forma de pagamento\n",
        "payment_pct = (churn_yes['PaymentMethod'].value_counts(normalize=True) * 100).round(2)\n",
        "print(payment_pct)"
      ],
      "metadata": {
        "colab": {
          "base_uri": "https://localhost:8080/"
        },
        "id": "ThRcn2nUC9o1",
        "outputId": "eed7e1d8-43d0-45fa-ac8e-ee1cac99cc8d"
      },
      "execution_count": 252,
      "outputs": [
        {
          "output_type": "stream",
          "name": "stdout",
          "text": [
            "PaymentMethod\n",
            "Electronic check    57.30\n",
            "Mailed check        16.48\n",
            "Bank transfer       13.80\n",
            "Credit card         12.41\n",
            "Name: proportion, dtype: float64\n"
          ]
        }
      ]
    },
    {
      "cell_type": "code",
      "source": [
        "# Definindo as colunas\n",
        "cols = ['gender', 'SeniorCitizen', 'Partner', 'Dependents', 'tenure',\n",
        "    'PhoneService', 'MultipleLines', 'InternetService',\n",
        "    'OnlineSecurity', 'OnlineBackup', 'DeviceProtection',\n",
        "    'TechSupport', 'StreamingTV', 'StreamingMovies',\n",
        "    'Contract', 'PaperlessBilling', 'PaymentMethod']\n",
        "\n",
        "resultados = []\n",
        "for col in cols:\n",
        "\n",
        "    # calculando a distribuição percentual de cada valor na coluna\n",
        "    pct = (churn_yes[col].value_counts(normalize=True).mul(100).round(2))\n",
        "    resultados.append({'Coluna': col,'Categoria de maior %': pct.idxmax(),'Percentual (%)': pct.max()})\n",
        "\n",
        "# montando o DataFrame de saída\n",
        "max_pct_df = pd.DataFrame(resultados)\n",
        "\n",
        "# Ordenando em ordem decrescente de percentual o perfil do cliente\n",
        "max_pct_df = max_pct_df.sort_values(by='Percentual (%)', ascending=False)\n",
        "\n",
        "# exibindo sem índice\n",
        "print(max_pct_df.to_string(index=False))"
      ],
      "metadata": {
        "colab": {
          "base_uri": "https://localhost:8080/"
        },
        "id": "i8E_Mi9SqFn5",
        "outputId": "84b52228-1a8d-46ae-db26-d0e4f8cfbcfd"
      },
      "execution_count": 253,
      "outputs": [
        {
          "output_type": "stream",
          "name": "stdout",
          "text": [
            "          Coluna Categoria de maior %  Percentual (%)\n",
            "    PhoneService                  Yes           90.90\n",
            "        Contract                Month           88.55\n",
            "      Dependents                   No           82.56\n",
            "  OnlineSecurity                   No           78.17\n",
            "     TechSupport                   No           77.37\n",
            "PaperlessBilling                  Yes           74.91\n",
            "   SeniorCitizen                    0           74.53\n",
            " InternetService          Fiber optic           69.40\n",
            "    OnlineBackup                   No           65.97\n",
            "DeviceProtection                   No           64.79\n",
            "         Partner                   No           64.21\n",
            "   PaymentMethod     Electronic check           57.30\n",
            "     StreamingTV                   No           50.40\n",
            "          gender               Female           50.24\n",
            " StreamingMovies                   No           50.19\n",
            "   MultipleLines                  Yes           45.48\n",
            "          tenure                    1           20.33\n"
          ]
        }
      ]
    },
    {
      "cell_type": "markdown",
      "source": [
        "Fim do grupo de códigos que retornaram os percentuais de cada elemento de forma a mostrar o perfil dos clientes em Churn"
      ],
      "metadata": {
        "id": "98vLaeZblk6f"
      }
    },
    {
      "cell_type": "code",
      "source": [
        "import plotly.express as px\n",
        "\n",
        "# Identificando as características do contrato com maior incidência de Churn\n",
        "grafico_contrato = px.histogram(df, y='Contract', color='Churn', orientation='h')\n",
        "grafico_contrato.update_yaxes(categoryorder='total ascending')\n",
        "grafico_contrato.show()"
      ],
      "metadata": {
        "colab": {
          "base_uri": "https://localhost:8080/",
          "height": 542
        },
        "id": "uaDsCzHjM9kf",
        "outputId": "a561c525-21e0-46c6-c6d8-541ed9a6077c"
      },
      "execution_count": 254,
      "outputs": [
        {
          "output_type": "display_data",
          "data": {
            "text/html": [
              "<html>\n",
              "<head><meta charset=\"utf-8\" /></head>\n",
              "<body>\n",
              "    <div>            <script src=\"https://cdnjs.cloudflare.com/ajax/libs/mathjax/2.7.5/MathJax.js?config=TeX-AMS-MML_SVG\"></script><script type=\"text/javascript\">if (window.MathJax && window.MathJax.Hub && window.MathJax.Hub.Config) {window.MathJax.Hub.Config({SVG: {font: \"STIX-Web\"}});}</script>                <script type=\"text/javascript\">window.PlotlyConfig = {MathJaxConfig: 'local'};</script>\n",
              "        <script charset=\"utf-8\" src=\"https://cdn.plot.ly/plotly-2.35.2.min.js\"></script>                <div id=\"b6138121-b1ff-4b3c-800b-a25ea00161fb\" class=\"plotly-graph-div\" style=\"height:525px; width:100%;\"></div>            <script type=\"text/javascript\">                                    window.PLOTLYENV=window.PLOTLYENV || {};                                    if (document.getElementById(\"b6138121-b1ff-4b3c-800b-a25ea00161fb\")) {                    Plotly.newPlot(                        \"b6138121-b1ff-4b3c-800b-a25ea00161fb\",                        [{\"alignmentgroup\":\"True\",\"bingroup\":\"y\",\"hovertemplate\":\"Churn=No\\u003cbr\\u003ecount=%{x}\\u003cbr\\u003eContract=%{y}\\u003cextra\\u003e\\u003c\\u002fextra\\u003e\",\"legendgroup\":\"No\",\"marker\":{\"color\":\"#636efa\",\"pattern\":{\"shape\":\"\"}},\"name\":\"No\",\"offsetgroup\":\"No\",\"orientation\":\"h\",\"showlegend\":true,\"xaxis\":\"x\",\"y\":[\"One year\",\"Month\",\"Month\",\"Two year\",\"Two year\",\"Month\",\"Two year\",\"Two year\",\"Two year\",\"Month\",\"Two year\",\"Two year\",\"Two year\",\"One year\",\"Month\",\"One year\",\"Month\",\"Month\",\"One year\",\"Two year\",\"One year\",\"Two year\",\"One year\",\"One year\",\"One year\",\"One year\",\"Two year\",\"Two year\",\"Month\",\"Month\",\"Two year\",\"Month\",\"One year\",\"Two year\",\"One year\",\"Month\",\"Two year\",\"One year\",\"One year\",\"Month\",\"Month\",\"One year\",\"Month\",\"Month\",\"Month\",\"Month\",\"Month\",\"One year\",\"One year\",\"One year\",\"Month\",\"Two year\",\"Month\",\"Month\",\"Two year\",\"Month\",\"Month\",\"Month\",\"One year\",\"Two year\",\"Month\",\"Month\",\"One year\",\"Month\",\"One year\",\"Two year\",\"Month\",\"Month\",\"Month\",\"Month\",\"Two year\",\"Two year\",\"Month\",\"Two year\",\"Month\",\"Month\",\"Month\",\"Two year\",\"One year\",\"Month\",\"Month\",\"Month\",\"Two year\",\"Month\",\"Month\",\"One year\",\"Two year\",\"Two year\",\"One year\",\"Month\",\"Month\",\"Two year\",\"Month\",\"One year\",\"One year\",\"One year\",\"Month\",\"Month\",\"Two year\",\"Month\",\"Month\",\"Month\",\"Two year\",\"One year\",\"Two year\",\"One year\",\"One year\",\"Month\",\"Two year\",\"Month\",\"Two year\",\"Month\",\"Month\",\"Two year\",\"Two year\",\"Two year\",\"One year\",\"One year\",\"Month\",\"Month\",\"Two year\",\"Two year\",\"Month\",\"Two year\",\"Two year\",\"One year\",\"Two year\",\"Month\",\"Month\",\"Two year\",\"Two year\",\"Month\",\"Month\",\"Month\",\"Month\",\"Month\",\"One year\",\"Two year\",\"Two year\",\"Two year\",\"One year\",\"Month\",\"One year\",\"One year\",\"One year\",\"One year\",\"One year\",\"Month\",\"Month\",\"Month\",\"Month\",\"Two year\",\"Month\",\"Two year\",\"Two year\",\"One year\",\"One year\",\"One year\",\"One year\",\"Two year\",\"Two year\",\"Two year\",\"Two year\",\"Month\",\"Two year\",\"Month\",\"Two year\",\"Month\",\"Two year\",\"Two year\",\"Two year\",\"Month\",\"Month\",\"Month\",\"Month\",\"One year\",\"One year\",\"Month\",\"Two year\",\"Month\",\"Month\",\"Month\",\"Two year\",\"Two year\",\"One year\",\"Month\",\"Two year\",\"One year\",\"Month\",\"Two year\",\"Two year\",\"Two year\",\"Month\",\"Month\",\"Month\",\"Two year\",\"Two year\",\"Two year\",\"Two year\",\"One year\",\"Month\",\"Month\",\"Two year\",\"Month\",\"Month\",\"Two year\",\"One year\",\"One year\",\"Month\",\"One year\",\"Month\",\"Month\",\"Month\",\"Month\",\"Two year\",\"Month\",\"Two year\",\"One year\",\"Month\",\"One year\",\"Two year\",\"One year\",\"Month\",\"Two year\",\"Two year\",\"Month\",\"Two year\",\"Two year\",\"Two year\",\"Month\",\"Month\",\"Two year\",\"Month\",\"One year\",\"Two year\",\"Month\",\"Two year\",\"One year\",\"One year\",\"Month\",\"Two year\",\"Two year\",\"Two year\",\"Month\",\"Month\",\"One year\",\"Month\",\"One year\",\"Two year\",\"Two year\",\"Month\",\"Two year\",\"One year\",\"Two year\",\"One year\",\"Month\",\"One year\",\"Month\",\"Month\",\"Two year\",\"Two year\",\"Two year\",\"Month\",\"One year\",\"Two year\",\"Month\",\"Two year\",\"Month\",\"Month\",\"Month\",\"One year\",\"Month\",\"Two year\",\"One year\",\"Two year\",\"Two year\",\"Two year\",\"Two year\",\"Month\",\"One year\",\"Month\",\"Two year\",\"Month\",\"Two year\",\"One year\",\"Month\",\"One year\",\"Month\",\"Month\",\"Two year\",\"Month\",\"Month\",\"Month\",\"Month\",\"Month\",\"Two year\",\"Month\",\"Two year\",\"Two year\",\"One year\",\"Two year\",\"Two year\",\"Two year\",\"Month\",\"Month\",\"Two year\",\"Month\",\"Two year\",\"One year\",\"One year\",\"Month\",\"Two year\",\"Two year\",\"One year\",\"Two year\",\"Month\",\"Month\",\"Month\",\"One year\",\"Month\",\"One year\",\"One year\",\"One year\",\"One year\",\"Two year\",\"Month\",\"One year\",\"Month\",\"One year\",\"Month\",\"Month\",\"Month\",\"Month\",\"Two year\",\"Two year\",\"Two year\",\"One year\",\"Month\",\"Month\",\"Month\",\"One year\",\"Month\",\"Month\",\"Month\",\"Month\",\"Two year\",\"Two year\",\"Month\",\"Month\",\"Two year\",\"Month\",\"One year\",\"One year\",\"One year\",\"Two year\",\"Two year\",\"Month\",\"One year\",\"Two year\",\"Month\",\"Two year\",\"Two year\",\"One year\",\"One year\",\"Two year\",\"Month\",\"Month\",\"One year\",\"Month\",\"Two year\",\"One year\",\"Two year\",\"Two year\",\"Two year\",\"Month\",\"Month\",\"Two year\",\"Two year\",\"One year\",\"Two year\",\"One year\",\"Month\",\"One year\",\"Month\",\"Two year\",\"One year\",\"Two year\",\"Two year\",\"Month\",\"Month\",\"One year\",\"One year\",\"One year\",\"Month\",\"Two year\",\"Two year\",\"Month\",\"Month\",\"Month\",\"Month\",\"One year\",\"Two year\",\"Two year\",\"One year\",\"Month\",\"Two year\",\"One year\",\"Two year\",\"Two year\",\"Two year\",\"One year\",\"Month\",\"Month\",\"Two year\",\"Two year\",\"Month\",\"Month\",\"One year\",\"Two year\",\"Two year\",\"Month\",\"One year\",\"Two year\",\"One year\",\"Month\",\"Two year\",\"Month\",\"Month\",\"One year\",\"Month\",\"Month\",\"Two year\",\"One year\",\"One year\",\"One year\",\"Two year\",\"One year\",\"Month\",\"Month\",\"One year\",\"Two year\",\"Two year\",\"Two year\",\"Month\",\"Two year\",\"Month\",\"Two year\",\"Month\",\"Month\",\"Month\",\"Month\",\"Month\",\"Month\",\"Month\",\"Month\",\"One year\",\"One year\",\"Two year\",\"Two year\",\"Month\",\"Two year\",\"Month\",\"Two year\",\"One year\",\"Month\",\"One year\",\"One year\",\"Month\",\"One year\",\"Two year\",\"One year\",\"Two year\",\"One year\",\"One year\",\"Month\",\"Two year\",\"Two year\",\"One year\",\"Month\",\"Two year\",\"One year\",\"Month\",\"One year\",\"Two year\",\"Month\",\"One year\",\"Month\",\"Month\",\"One year\",\"Month\",\"One year\",\"Month\",\"Month\",\"One year\",\"Month\",\"One year\",\"Two year\",\"One year\",\"Month\",\"Two year\",\"Month\",\"One year\",\"Month\",\"Month\",\"Month\",\"One year\",\"Two year\",\"Month\",\"Month\",\"Two year\",\"Month\",\"Month\",\"Month\",\"Two year\",\"Two year\",\"Month\",\"One year\",\"Month\",\"Two year\",\"One year\",\"One year\",\"Two year\",\"Month\",\"One year\",\"Month\",\"Month\",\"Two year\",\"Two year\",\"One year\",\"Two year\",\"Two year\",\"One year\",\"Month\",\"Two year\",\"Two year\",\"One year\",\"One year\",\"Two year\",\"Two year\",\"One year\",\"Two year\",\"One year\",\"Month\",\"Two year\",\"Month\",\"One year\",\"Two year\",\"Month\",\"Month\",\"Month\",\"Month\",\"Two year\",\"Month\",\"Two year\",\"Two year\",\"One year\",\"One year\",\"Month\",\"One year\",\"Two year\",\"One year\",\"One year\",\"Month\",\"One year\",\"Month\",\"One year\",\"One year\",\"Two year\",\"Month\",\"One year\",\"One year\",\"One year\",\"One year\",\"Month\",\"Month\",\"Two year\",\"Month\",\"Two year\",\"Two year\",\"Two year\",\"One year\",\"Month\",\"Month\",\"Month\",\"Two year\",\"Month\",\"Month\",\"One year\",\"One year\",\"One year\",\"One year\",\"One year\",\"Two year\",\"Two year\",\"Month\",\"Month\",\"Month\",\"Month\",\"Month\",\"Two year\",\"Two year\",\"Month\",\"Two year\",\"Month\",\"Two year\",\"Month\",\"Month\",\"Month\",\"Month\",\"One year\",\"Month\",\"Two year\",\"Month\",\"Month\",\"Two year\",\"Month\",\"One year\",\"Two year\",\"Month\",\"One year\",\"Month\",\"Two year\",\"Month\",\"Two year\",\"Two year\",\"Two year\",\"Two year\",\"Month\",\"Two year\",\"Month\",\"Month\",\"One year\",\"Month\",\"One year\",\"Two year\",\"One year\",\"Two year\",\"Two year\",\"One year\",\"Two year\",\"Two year\",\"One year\",\"One year\",\"Two year\",\"Two year\",\"One year\",\"One year\",\"Two year\",\"Two year\",\"One year\",\"Two year\",\"Month\",\"Two year\",\"Month\",\"Two year\",\"Two year\",\"Month\",\"Month\",\"One year\",\"Month\",\"Month\",\"Two year\",\"Month\",\"Two year\",\"Two year\",\"Month\",\"One year\",\"One year\",\"One year\",\"Two year\",\"Month\",\"Month\",\"One year\",\"One year\",\"Month\",\"One year\",\"Month\",\"Month\",\"One year\",\"Two year\",\"Month\",\"One year\",\"Month\",\"Two year\",\"Month\",\"Month\",\"One year\",\"Month\",\"One year\",\"Month\",\"One year\",\"One year\",\"Two year\",\"One year\",\"One year\",\"Month\",\"Month\",\"Month\",\"Month\",\"Month\",\"One year\",\"Month\",\"Month\",\"Month\",\"Month\",\"Two year\",\"One year\",\"Two year\",\"Month\",\"Two year\",\"One year\",\"One year\",\"Two year\",\"One year\",\"Month\",\"Two year\",\"Two year\",\"Month\",\"Two year\",\"Month\",\"One year\",\"Month\",\"Month\",\"Two year\",\"One year\",\"One year\",\"Two year\",\"Month\",\"Month\",\"One year\",\"Month\",\"One year\",\"One year\",\"Month\",\"Two year\",\"Month\",\"Month\",\"Month\",\"Two year\",\"Month\",\"Two year\",\"Two year\",\"Month\",\"Month\",\"Two year\",\"Month\",\"One year\",\"Month\",\"Month\",\"One year\",\"Month\",\"Month\",\"Two year\",\"One year\",\"Month\",\"Month\",\"Two year\",\"Month\",\"One year\",\"Month\",\"Two year\",\"Month\",\"Two year\",\"Two year\",\"Month\",\"Month\",\"Two year\",\"Month\",\"One year\",\"Two year\",\"Month\",\"One year\",\"Month\",\"One year\",\"One year\",\"One year\",\"Two year\",\"Month\",\"Month\",\"Month\",\"Month\",\"Month\",\"Month\",\"Two year\",\"Two year\",\"Month\",\"One year\",\"Month\",\"Month\",\"Two year\",\"Two year\",\"One year\",\"Two year\",\"Month\",\"Two year\",\"Month\",\"One year\",\"Two year\",\"Month\",\"One year\",\"One year\",\"Month\",\"Month\",\"Month\",\"Two year\",\"Two year\",\"Month\",\"Two year\",\"Month\",\"Month\",\"Month\",\"Two year\",\"Two year\",\"Month\",\"Month\",\"Month\",\"Month\",\"Two year\",\"Month\",\"Two year\",\"Month\",\"Month\",\"One year\",\"Month\",\"Month\",\"Month\",\"Two year\",\"One year\",\"One year\",\"One year\",\"Month\",\"Month\",\"Month\",\"One year\",\"Month\",\"One year\",\"One year\",\"Month\",\"One year\",\"Month\",\"One year\",\"Two year\",\"Two year\",\"Month\",\"Month\",\"Two year\",\"One year\",\"One year\",\"Two year\",\"One year\",\"Two year\",\"One year\",\"Month\",\"Month\",\"Month\",\"One year\",\"Month\",\"Month\",\"One year\",\"Two year\",\"Month\",\"Two year\",\"Month\",\"Month\",\"Month\",\"One year\",\"Month\",\"One year\",\"Month\",\"One year\",\"Month\",\"One year\",\"Month\",\"Two year\",\"Month\",\"Two year\",\"Month\",\"Month\",\"Month\",\"Two year\",\"One year\",\"Month\",\"Two year\",\"Month\",\"One year\",\"Month\",\"Two year\",\"Month\",\"Month\",\"Month\",\"Month\",\"One year\",\"Month\",\"One year\",\"Two year\",\"Month\",\"Two year\",\"Month\",\"Month\",\"Two year\",\"Two year\",\"Two year\",\"Two year\",\"Two year\",\"Month\",\"One year\",\"One year\",\"Two year\",\"Two year\",\"One year\",\"One year\",\"Two year\",\"Two year\",\"Month\",\"Month\",\"Month\",\"Month\",\"Month\",\"Two year\",\"Month\",\"Month\",\"One year\",\"Month\",\"Two year\",\"One year\",\"One year\",\"Month\",\"Month\",\"Month\",\"One year\",\"One year\",\"Two year\",\"Month\",\"Two year\",\"One year\",\"One year\",\"Two year\",\"Month\",\"Month\",\"Month\",\"One year\",\"Month\",\"One year\",\"Month\",\"One year\",\"Two year\",\"Two year\",\"Month\",\"One year\",\"One year\",\"Two year\",\"Month\",\"Month\",\"One year\",\"Month\",\"Two year\",\"Two year\",\"Two year\",\"Month\",\"Month\",\"Two year\",\"One year\",\"Two year\",\"One year\",\"Two year\",\"One year\",\"Month\",\"Two year\",\"Month\",\"One year\",\"Two year\",\"Two year\",\"Two year\",\"Month\",\"Two year\",\"Month\",\"Two year\",\"Month\",\"Two year\",\"Month\",\"Month\",\"One year\",\"Two year\",\"One year\",\"Two year\",\"Two year\",\"Two year\",\"Two year\",\"One year\",\"Two year\",\"Month\",\"Month\",\"Two year\",\"Month\",\"Month\",\"One year\",\"Month\",\"Two year\",\"Month\",\"Month\",\"Month\",\"One year\",\"Two year\",\"One year\",\"Month\",\"Two year\",\"Month\",\"Month\",\"Month\",\"Month\",\"Two year\",\"One year\",\"One year\",\"Month\",\"One year\",\"Two year\",\"Month\",\"One year\",\"Month\",\"Two year\",\"Month\",\"Two year\",\"One year\",\"Month\",\"Two year\",\"Month\",\"Two year\",\"Month\",\"Month\",\"Month\",\"Month\",\"Month\",\"Month\",\"One year\",\"Month\",\"Month\",\"Two year\",\"Two year\",\"Month\",\"Two year\",\"Month\",\"Month\",\"Month\",\"Month\",\"Month\",\"Month\",\"Month\",\"Two year\",\"One year\",\"Month\",\"Month\",\"Two year\",\"Two year\",\"Month\",\"Month\",\"Month\",\"One year\",\"Two year\",\"Month\",\"Two year\",\"Month\",\"One year\",\"Two year\",\"One year\",\"One year\",\"Month\",\"Month\",\"Two year\",\"Two year\",\"Month\",\"Two year\",\"Two year\",\"Month\",\"One year\",\"Two year\",\"Two year\",\"Month\",\"Two year\",\"Month\",\"Month\",\"Month\",\"One year\",\"Month\",\"Two year\",\"Two year\",\"Two year\",\"Two year\",\"Two year\",\"Month\",\"Two year\",\"Two year\",\"Month\",\"Month\",\"One year\",\"Month\",\"Two year\",\"Two year\",\"Two year\",\"Month\",\"Month\",\"Month\",\"Two year\",\"One year\",\"Month\",\"Month\",\"Two year\",\"Two year\",\"Month\",\"Two year\",\"Two year\",\"Month\",\"Two year\",\"Month\",\"One year\",\"Two year\",\"One year\",\"Month\",\"Two year\",\"Two year\",\"One year\",\"One year\",\"Month\",\"One year\",\"Month\",\"Two year\",\"Month\",\"Two year\",\"One year\",\"One year\",\"Two year\",\"Two year\",\"Month\",\"Two year\",\"Month\",\"One year\",\"Month\",\"Two year\",\"Two year\",\"One year\",\"Month\",\"Month\",\"Month\",\"One year\",\"Month\",\"Two year\",\"Month\",\"Two year\",\"Month\",\"One year\",\"Two year\",\"Month\",\"Month\",\"Month\",\"One year\",\"One year\",\"One year\",\"One year\",\"Month\",\"One year\",\"Two year\",\"Two year\",\"Two year\",\"Month\",\"Month\",\"Two year\",\"Month\",\"Two year\",\"One year\",\"Month\",\"One year\",\"Month\",\"Month\",\"Two year\",\"One year\",\"Two year\",\"Month\",\"One year\",\"One year\",\"One year\",\"Two year\",\"Two year\",\"Month\",\"Month\",\"Two year\",\"Month\",\"Two year\",\"Month\",\"One year\",\"Two year\",\"One year\",\"Month\",\"Month\",\"One year\",\"One year\",\"Month\",\"One year\",\"Two year\",\"Month\",\"Month\",\"Month\",\"One year\",\"Month\",\"Month\",\"Month\",\"Two year\",\"One year\",\"Two year\",\"Two year\",\"Month\",\"One year\",\"Two year\",\"One year\",\"Month\",\"Two year\",\"Two year\",\"One year\",\"Two year\",\"One year\",\"Month\",\"Month\",\"Two year\",\"Two year\",\"Month\",\"Two year\",\"Month\",\"Two year\",\"One year\",\"One year\",\"Two year\",\"Month\",\"Month\",\"Month\",\"Month\",\"One year\",\"Two year\",\"Month\",\"Two year\",\"Month\",\"One year\",\"Month\",\"Month\",\"Month\",\"Month\",\"One year\",\"Month\",\"Month\",\"Two year\",\"Month\",\"Month\",\"Month\",\"Month\",\"One year\",\"Month\",\"Month\",\"Two year\",\"One year\",\"One year\",\"Month\",\"One year\",\"Two year\",\"Two year\",\"Month\",\"Month\",\"Month\",\"Two year\",\"Two year\",\"One year\",\"Two year\",\"Month\",\"One year\",\"One year\",\"Two year\",\"Two year\",\"Month\",\"One year\",\"Month\",\"Two year\",\"Two year\",\"Month\",\"Two year\",\"Month\",\"One year\",\"Month\",\"Month\",\"Two year\",\"One year\",\"One year\",\"One year\",\"One year\",\"One year\",\"One year\",\"Two year\",\"Two year\",\"Month\",\"Month\",\"One year\",\"Two year\",\"Two year\",\"One year\",\"One year\",\"Month\",\"Month\",\"Month\",\"Month\",\"Two year\",\"One year\",\"One year\",\"Month\",\"Two year\",\"Two year\",\"One year\",\"Month\",\"Month\",\"Month\",\"One year\",\"Two year\",\"Month\",\"Two year\",\"Month\",\"Two year\",\"Month\",\"Month\",\"One year\",\"Month\",\"Two year\",\"Two year\",\"Two year\",\"One year\",\"Month\",\"One year\",\"Month\",\"Two year\",\"Two year\",\"One year\",\"Two year\",\"Month\",\"Month\",\"Two year\",\"One year\",\"Two year\",\"Month\",\"Month\",\"Month\",\"Month\",\"Month\",\"Month\",\"One year\",\"One year\",\"Month\",\"Month\",\"Month\",\"Two year\",\"Month\",\"Month\",\"Month\",\"Two year\",\"One year\",\"One year\",\"Month\",\"Month\",\"One year\",\"One year\",\"Month\",\"Month\",\"Month\",\"One year\",\"Two year\",\"Month\",\"Month\",\"One year\",\"Two year\",\"Month\",\"Two year\",\"Month\",\"Month\",\"Month\",\"Two year\",\"Month\",\"One year\",\"One year\",\"Two year\",\"Two year\",\"One year\",\"Month\",\"Month\",\"Month\",\"Month\",\"Month\",\"One year\",\"One year\",\"One year\",\"Two year\",\"Month\",\"One year\",\"Month\",\"Month\",\"Two year\",\"Two year\",\"Two year\",\"Month\",\"Month\",\"Month\",\"One year\",\"Two year\",\"Month\",\"One year\",\"Month\",\"Month\",\"Month\",\"Two year\",\"Month\",\"Two year\",\"Month\",\"Two year\",\"Month\",\"Month\",\"Month\",\"Two year\",\"Two year\",\"One year\",\"One year\",\"Two year\",\"One year\",\"Month\",\"Month\",\"One year\",\"One year\",\"Month\",\"Two year\",\"One year\",\"One year\",\"Month\",\"Two year\",\"Month\",\"Month\",\"Month\",\"Month\",\"One year\",\"One year\",\"Month\",\"Month\",\"Month\",\"One year\",\"Month\",\"Month\",\"Two year\",\"Two year\",\"Month\",\"One year\",\"Month\",\"One year\",\"One year\",\"Month\",\"Two year\",\"Month\",\"One year\",\"Month\",\"Month\",\"One year\",\"One year\",\"Two year\",\"Month\",\"Month\",\"Two year\",\"Month\",\"Two year\",\"Month\",\"Two year\",\"One year\",\"Two year\",\"One year\",\"Month\",\"One year\",\"Two year\",\"Month\",\"Two year\",\"Month\",\"One year\",\"Two year\",\"Month\",\"One year\",\"Month\",\"Month\",\"Month\",\"Month\",\"One year\",\"One year\",\"One year\",\"Two year\",\"One year\",\"Two year\",\"One year\",\"Month\",\"Month\",\"Month\",\"One year\",\"One year\",\"Two year\",\"Month\",\"Month\",\"Two year\",\"One year\",\"Month\",\"Month\",\"Month\",\"Month\",\"Two year\",\"One year\",\"Month\",\"One year\",\"One year\",\"Month\",\"One year\",\"Month\",\"Two year\",\"Month\",\"Month\",\"Two year\",\"Two year\",\"Month\",\"Month\",\"Two year\",\"Month\",\"One year\",\"Two year\",\"Two year\",\"Two year\",\"Two year\",\"Two year\",\"Two year\",\"Month\",\"Month\",\"Month\",\"Month\",\"Month\",\"Month\",\"Month\",\"Month\",\"Month\",\"One year\",\"Two year\",\"One year\",\"Two year\",\"Month\",\"Month\",\"Month\",\"Month\",\"Month\",\"Month\",\"Month\",\"Two year\",\"Month\",\"Month\",\"One year\",\"Two year\",\"Month\",\"Month\",\"Month\",\"Month\",\"One year\",\"One year\",\"Two year\",\"Two year\",\"Two year\",\"Month\",\"Month\",\"Two year\",\"One year\",\"Month\",\"One year\",\"Two year\",\"Two year\",\"Month\",\"Two year\",\"Month\",\"Month\",\"Month\",\"Month\",\"Month\",\"One year\",\"Two year\",\"Two year\",\"Month\",\"Month\",\"Month\",\"Two year\",\"Month\",\"Two year\",\"One year\",\"Two year\",\"Two year\",\"One year\",\"Month\",\"Month\",\"Two year\",\"Month\",\"One year\",\"Two year\",\"Two year\",\"Month\",\"One year\",\"Month\",\"One year\",\"Two year\",\"Two year\",\"Month\",\"Two year\",\"Month\",\"Month\",\"Month\",\"One year\",\"One year\",\"Month\",\"Month\",\"Two year\",\"Month\",\"Month\",\"Two year\",\"Month\",\"Two year\",\"Two year\",\"Month\",\"One year\",\"Month\",\"Month\",\"One year\",\"Two year\",\"Month\",\"Two year\",\"Month\",\"Month\",\"Month\",\"Month\",\"Month\",\"Two year\",\"One year\",\"Month\",\"Two year\",\"One year\",\"Month\",\"Month\",\"Two year\",\"Two year\",\"One year\",\"Two year\",\"Month\",\"Month\",\"One year\",\"Two year\",\"One year\",\"Two year\",\"Two year\",\"Month\",\"Two year\",\"One year\",\"Two year\",\"Month\",\"Two year\",\"One year\",\"One year\",\"Month\",\"Month\",\"Month\",\"Two year\",\"Two year\",\"Two year\",\"Two year\",\"Two year\",\"Two year\",\"Two year\",\"Month\",\"Two year\",\"One year\",\"Month\",\"Two year\",\"Two year\",\"One year\",\"One year\",\"Two year\",\"Two year\",\"Month\",\"Month\",\"Two year\",\"Month\",\"One year\",\"Month\",\"Two year\",\"Two year\",\"Month\",\"Month\",\"Month\",\"One year\",\"Month\",\"Month\",\"Month\",\"Month\",\"Month\",\"Month\",\"One year\",\"One year\",\"Month\",\"One year\",\"One year\",\"Month\",\"Month\",\"Month\",\"One year\",\"Month\",\"Month\",\"Two year\",\"One year\",\"Two year\",\"Two year\",\"Month\",\"Month\",\"Month\",\"Month\",\"One year\",\"Two year\",\"Month\",\"Month\",\"Two year\",\"One year\",\"Month\",\"Month\",\"Two year\",\"Month\",\"Two year\",\"Two year\",\"Two year\",\"Two year\",\"Two year\",\"One year\",\"Month\",\"Month\",\"Two year\",\"Month\",\"One year\",\"Two year\",\"Month\",\"Month\",\"Month\",\"Month\",\"One year\",\"Month\",\"Month\",\"Month\",\"One year\",\"One year\",\"Month\",\"Two year\",\"Two year\",\"Month\",\"One year\",\"One year\",\"Month\",\"Month\",\"Two year\",\"Month\",\"One year\",\"Month\",\"Month\",\"Month\",\"Two year\",\"Two year\",\"Two year\",\"Two year\",\"Month\",\"Month\",\"Month\",\"Month\",\"One year\",\"Month\",\"Two year\",\"Month\",\"Two year\",\"Two year\",\"Month\",\"One year\",\"Two year\",\"Month\",\"One year\",\"One year\",\"Month\",\"One year\",\"Month\",\"Two year\",\"Two year\",\"Month\",\"One year\",\"Two year\",\"Two year\",\"Two year\",\"Month\",\"One year\",\"Two year\",\"Two year\",\"Month\",\"Two year\",\"Two year\",\"Month\",\"Month\",\"One year\",\"Month\",\"Two year\",\"Month\",\"Month\",\"Month\",\"Two year\",\"Month\",\"Month\",\"Month\",\"Two year\",\"Month\",\"Two year\",\"One year\",\"Two year\",\"One year\",\"Two year\",\"One year\",\"Two year\",\"Two year\",\"Two year\",\"Month\",\"Month\",\"One year\",\"Month\",\"Two year\",\"One year\",\"Month\",\"One year\",\"Month\",\"One year\",\"Month\",\"Two year\",\"Two year\",\"Month\",\"One year\",\"One year\",\"One year\",\"Month\",\"Month\",\"Month\",\"One year\",\"Month\",\"Month\",\"Month\",\"Two year\",\"Month\",\"One year\",\"One year\",\"Two year\",\"Two year\",\"Two year\",\"Two year\",\"Month\",\"Month\",\"Month\",\"Month\",\"Month\",\"One year\",\"Two year\",\"Two year\",\"One year\",\"Two year\",\"Two year\",\"Month\",\"Month\",\"Two year\",\"One year\",\"Month\",\"Month\",\"Two year\",\"One year\",\"Two year\",\"One year\",\"Two year\",\"Two year\",\"Month\",\"One year\",\"Two year\",\"Month\",\"Two year\",\"Month\",\"Month\",\"Two year\",\"Month\",\"One year\",\"Month\",\"Month\",\"Month\",\"One year\",\"Month\",\"Month\",\"Two year\",\"One year\",\"Month\",\"Month\",\"Month\",\"Two year\",\"Two year\",\"One year\",\"One year\",\"Month\",\"Month\",\"Two year\",\"Month\",\"Two year\",\"Month\",\"Month\",\"Month\",\"Two year\",\"Two year\",\"One year\",\"Two year\",\"Month\",\"One year\",\"Month\",\"Two year\",\"Month\",\"One year\",\"One year\",\"Two year\",\"Month\",\"One year\",\"Month\",\"One year\",\"Month\",\"One year\",\"One year\",\"Month\",\"Two year\",\"Month\",\"Month\",\"One year\",\"Month\",\"One year\",\"One year\",\"Month\",\"Two year\",\"Two year\",\"Two year\",\"Two year\",\"Month\",\"Two year\",\"Two year\",\"One year\",\"Two year\",\"Month\",\"Month\",\"Two year\",\"Month\",\"One year\",\"Month\",\"Month\",\"Two year\",\"Two year\",\"Two year\",\"Month\",\"Month\",\"One year\",\"Month\",\"One year\",\"Month\",\"Month\",\"Two year\",\"Two year\",\"Two year\",\"Two year\",\"One year\",\"Month\",\"Two year\",\"Two year\",\"Month\",\"Two year\",\"Month\",\"Month\",\"Month\",\"Month\",\"One year\",\"Month\",\"Month\",\"One year\",\"Month\",\"Month\",\"One year\",\"Two year\",\"Month\",\"Two year\",\"Month\",\"Two year\",\"Month\",\"Two year\",\"Two year\",\"One year\",\"Two year\",\"Month\",\"Two year\",\"Two year\",\"Month\",\"Month\",\"Two year\",\"One year\",\"Month\",\"Two year\",\"Month\",\"Two year\",\"Two year\",\"Two year\",\"Two year\",\"Two year\",\"Month\",\"One year\",\"Month\",\"Month\",\"One year\",\"Month\",\"Month\",\"Two year\",\"One year\",\"Month\",\"Two year\",\"One year\",\"One year\",\"Month\",\"Two year\",\"One year\",\"Month\",\"Month\",\"Month\",\"Month\",\"One year\",\"Two year\",\"Month\",\"Two year\",\"Month\",\"Two year\",\"Two year\",\"Month\",\"Month\",\"Two year\",\"Two year\",\"Two year\",\"Month\",\"Month\",\"Two year\",\"Month\",\"Month\",\"One year\",\"One year\",\"Month\",\"Month\",\"Two year\",\"Month\",\"One year\",\"Month\",\"Month\",\"Month\",\"One year\",\"Two year\",\"Month\",\"Month\",\"Month\",\"Two year\",\"Month\",\"Month\",\"Two year\",\"Month\",\"Two year\",\"Month\",\"One year\",\"Two year\",\"Month\",\"Month\",\"One year\",\"Two year\",\"Two year\",\"Two year\",\"Month\",\"Two year\",\"Two year\",\"Month\",\"Month\",\"Month\",\"Month\",\"Month\",\"Month\",\"Month\",\"Month\",\"Month\",\"One year\",\"Two year\",\"Two year\",\"Month\",\"Two year\",\"Two year\",\"Month\",\"One year\",\"One year\",\"Two year\",\"Month\",\"One year\",\"One year\",\"One year\",\"Month\",\"Two year\",\"Month\",\"Month\",\"Two year\",\"One year\",\"Two year\",\"Month\",\"One year\",\"One year\",\"One year\",\"Two year\",\"One year\",\"Month\",\"One year\",\"Month\",\"Two year\",\"Month\",\"Month\",\"Month\",\"Month\",\"One year\",\"Month\",\"Two year\",\"Month\",\"Two year\",\"Month\",\"Month\",\"Two year\",\"One year\",\"Month\",\"One year\",\"Month\",\"Two year\",\"Month\",\"Two year\",\"Month\",\"Month\",\"One year\",\"One year\",\"Month\",\"Two year\",\"One year\",\"Month\",\"Two year\",\"Two year\",\"Month\",\"Month\",\"Two year\",\"One year\",\"Two year\",\"Month\",\"Two year\",\"Month\",\"One year\",\"Month\",\"Month\",\"One year\",\"Two year\",\"Month\",\"Month\",\"Month\",\"Month\",\"Month\",\"Month\",\"Month\",\"Two year\",\"Month\",\"Month\",\"Month\",\"One year\",\"Two year\",\"Month\",\"Month\",\"Month\",\"One year\",\"Month\",\"Month\",\"One year\",\"Month\",\"Two year\",\"One year\",\"Two year\",\"Two year\",\"Month\",\"Two year\",\"Month\",\"Month\",\"One year\",\"Two year\",\"Two year\",\"Month\",\"Month\",\"One year\",\"Two year\",\"Two year\",\"Month\",\"One year\",\"Month\",\"One year\",\"One year\",\"Month\",\"Month\",\"One year\",\"Month\",\"One year\",\"Two year\",\"Two year\",\"Two year\",\"Month\",\"One year\",\"Month\",\"One year\",\"Month\",\"One year\",\"One year\",\"Month\",\"Month\",\"Two year\",\"Month\",\"Two year\",\"Month\",\"Two year\",\"One year\",\"Month\",\"One year\",\"Two year\",\"One year\",\"One year\",\"Two year\",\"Two year\",\"Month\",\"Two year\",\"Month\",\"Two year\",\"One year\",\"One year\",\"Month\",\"Month\",\"Month\",\"Month\",\"One year\",\"One year\",\"Month\",\"Two year\",\"Month\",\"One year\",\"One year\",\"Month\",\"Month\",\"Month\",\"Month\",\"Two year\",\"One year\",\"Month\",\"Month\",\"Month\",\"Month\",\"One year\",\"Month\",\"Two year\",\"One year\",\"Month\",\"Two year\",\"Month\",\"Month\",\"Month\",\"Month\",\"Month\",\"Two year\",\"Month\",\"Two year\",\"One year\",\"One year\",\"Month\",\"Month\",\"Month\",\"Month\",\"One year\",\"One year\",\"Month\",\"Two year\",\"One year\",\"Month\",\"Month\",\"One year\",\"Two year\",\"One year\",\"Two year\",\"Month\",\"Month\",\"One year\",\"Month\",\"One year\",\"Two year\",\"Two year\",\"Month\",\"One year\",\"One year\",\"Two year\",\"Month\",\"One year\",\"Month\",\"One year\",\"One year\",\"Month\",\"One year\",\"One year\",\"Month\",\"Month\",\"Month\",\"One year\",\"One year\",\"Two year\",\"Month\",\"One year\",\"Two year\",\"Month\",\"Month\",\"Two year\",\"One year\",\"Month\",\"Month\",\"One year\",\"Two year\",\"One year\",\"Month\",\"Two year\",\"One year\",\"Month\",\"Two year\",\"One year\",\"Two year\",\"One year\",\"Two year\",\"Month\",\"Two year\",\"Two year\",\"One year\",\"Two year\",\"One year\",\"One year\",\"Month\",\"Month\",\"Two year\",\"Month\",\"One year\",\"One year\",\"Two year\",\"One year\",\"One year\",\"Month\",\"Month\",\"Month\",\"Two year\",\"Two year\",\"One year\",\"One year\",\"Two year\",\"Two year\",\"Month\",\"Month\",\"Month\",\"Two year\",\"One year\",\"Two year\",\"Two year\",\"Month\",\"Month\",\"Two year\",\"One year\",\"Two year\",\"Month\",\"One year\",\"Two year\",\"One year\",\"One year\",\"Two year\",\"Month\",\"Month\",\"One year\",\"Month\",\"Month\",\"One year\",\"Two year\",\"One year\",\"Two year\",\"One year\",\"Two year\",\"Month\",\"Two year\",\"One year\",\"One year\",\"Month\",\"Month\",\"Month\",\"Two year\",\"Month\",\"One year\",\"Two year\",\"Month\",\"Two year\",\"Month\",\"Two year\",\"Month\",\"Month\",\"Month\",\"One year\",\"Month\",\"Two year\",\"Two year\",\"Two year\",\"Month\",\"One year\",\"Two year\",\"Month\",\"Month\",\"One year\",\"Two year\",\"One year\",\"One year\",\"Month\",\"Month\",\"Month\",\"Month\",\"Two year\",\"One year\",\"Two year\",\"Two year\",\"Month\",\"Two year\",\"Two year\",\"Month\",\"One year\",\"Month\",\"Month\",\"Month\",\"Month\",\"Month\",\"Two year\",\"Two year\",\"Two year\",\"One year\",\"Month\",\"Month\",\"Month\",\"One year\",\"One year\",\"One year\",\"Two year\",\"Month\",\"Month\",\"Two year\",\"Two year\",\"Month\",\"Two year\",\"One year\",\"One year\",\"Month\",\"Two year\",\"One year\",\"Month\",\"Month\",\"Two year\",\"Month\",\"One year\",\"Month\",\"Two year\",\"Two year\",\"Two year\",\"One year\",\"Month\",\"Month\",\"Two year\",\"One year\",\"Month\",\"Month\",\"Two year\",\"Two year\",\"Month\",\"Month\",\"One year\",\"One year\",\"Two year\",\"One year\",\"One year\",\"Two year\",\"Month\",\"Month\",\"Month\",\"Two year\",\"Two year\",\"Two year\",\"Month\",\"One year\",\"Two year\",\"One year\",\"Two year\",\"Two year\",\"One year\",\"One year\",\"One year\",\"Two year\",\"Month\",\"Two year\",\"Month\",\"Two year\",\"Month\",\"Month\",\"Month\",\"Month\",\"Month\",\"Month\",\"Two year\",\"One year\",\"Month\",\"One year\",\"Month\",\"Two year\",\"One year\",\"Month\",\"Month\",\"Month\",\"Month\",\"Two year\",\"One year\",\"Two year\",\"One year\",\"Month\",\"One year\",\"Two year\",\"Two year\",\"One year\",\"Month\",\"Two year\",\"One year\",\"Month\",\"Month\",\"Month\",\"Month\",\"Month\",\"Month\",\"Two year\",\"Two year\",\"Month\",\"Two year\",\"Month\",\"One year\",\"Month\",\"One year\",\"Two year\",\"Two year\",\"Two year\",\"Month\",\"Two year\",\"One year\",\"Month\",\"One year\",\"Month\",\"Month\",\"Month\",\"Month\",\"Month\",\"Month\",\"Month\",\"One year\",\"Month\",\"One year\",\"Month\",\"One year\",\"Two year\",\"One year\",\"Month\",\"Month\",\"Two year\",\"Month\",\"One year\",\"Two year\",\"Month\",\"One year\",\"Two year\",\"Month\",\"Month\",\"One year\",\"Two year\",\"Month\",\"Month\",\"Two year\",\"One year\",\"Month\",\"One year\",\"One year\",\"Two year\",\"Month\",\"One year\",\"Month\",\"Month\",\"Two year\",\"Month\",\"Month\",\"Two year\",\"Two year\",\"Two year\",\"Two year\",\"Two year\",\"Month\",\"Two year\",\"Month\",\"Month\",\"Month\",\"One year\",\"Month\",\"Two year\",\"One year\",\"Two year\",\"One year\",\"Two year\",\"Month\",\"Two year\",\"Month\",\"Month\",\"Month\",\"Two year\",\"Two year\",\"Month\",\"Month\",\"One year\",\"Month\",\"Month\",\"Month\",\"Month\",\"Two year\",\"Two year\",\"Two year\",\"One year\",\"One year\",\"One year\",\"Month\",\"One year\",\"Month\",\"Two year\",\"Month\",\"Month\",\"Month\",\"Two year\",\"One year\",\"Two year\",\"Two year\",\"One year\",\"Month\",\"One year\",\"Two year\",\"Month\",\"Two year\",\"Month\",\"One year\",\"One year\",\"Month\",\"One year\",\"Two year\",\"Two year\",\"One year\",\"Two year\",\"Two year\",\"Month\",\"Month\",\"Month\",\"Month\",\"Two year\",\"One year\",\"One year\",\"Two year\",\"One year\",\"Two year\",\"One year\",\"One year\",\"One year\",\"One year\",\"Month\",\"Month\",\"One year\",\"One year\",\"Month\",\"Month\",\"Month\",\"Two year\",\"Month\",\"One year\",\"Two year\",\"Month\",\"Month\",\"Two year\",\"Month\",\"Month\",\"One year\",\"Month\",\"Two year\",\"Two year\",\"Two year\",\"Two year\",\"Month\",\"Month\",\"Month\",\"Two year\",\"Month\",\"One year\",\"Two year\",\"Two year\",\"Two year\",\"Two year\",\"Two year\",\"Month\",\"One year\",\"One year\",\"One year\",\"Month\",\"Month\",\"Two year\",\"Two year\",\"One year\",\"Two year\",\"Month\",\"Month\",\"One year\",\"Two year\",\"Two year\",\"One year\",\"One year\",\"Month\",\"Two year\",\"One year\",\"Month\",\"Month\",\"Two year\",\"Month\",\"One year\",\"One year\",\"Month\",\"One year\",\"One year\",\"Two year\",\"Two year\",\"Two year\",\"Two year\",\"Two year\",\"Two year\",\"One year\",\"Month\",\"Two year\",\"Two year\",\"Two year\",\"Month\",\"Two year\",\"Month\",\"One year\",\"Month\",\"Two year\",\"Month\",\"Month\",\"One year\",\"Month\",\"Two year\",\"Month\",\"Month\",\"Month\",\"Month\",\"Month\",\"Two year\",\"Two year\",\"Two year\",\"Month\",\"Month\",\"One year\",\"Month\",\"Month\",\"Two year\",\"One year\",\"Two year\",\"One year\",\"Month\",\"Month\",\"Month\",\"One year\",\"One year\",\"Month\",\"Month\",\"Two year\",\"Month\",\"Two year\",\"One year\",\"Month\",\"Month\",\"Month\",\"Month\",\"Two year\",\"Two year\",\"Month\",\"Month\",\"Month\",\"Month\",\"Month\",\"Month\",\"Month\",\"One year\",\"Month\",\"Month\",\"Two year\",\"One year\",\"Month\",\"One year\",\"Month\",\"One year\",\"Month\",\"One year\",\"Two year\",\"Month\",\"Two year\",\"Two year\",\"Two year\",\"Month\",\"Two year\",\"Month\",\"Two year\",\"Two year\",\"One year\",\"One year\",\"Month\",\"Two year\",\"One year\",\"Month\",\"Two year\",\"Two year\",\"Two year\",\"One year\",\"One year\",\"Month\",\"One year\",\"One year\",\"One year\",\"Two year\",\"Month\",\"One year\",\"Month\",\"Month\",\"One year\",\"Month\",\"Two year\",\"Month\",\"Month\",\"Month\",\"Month\",\"Month\",\"Two year\",\"Month\",\"Month\",\"Month\",\"One year\",\"Two year\",\"One year\",\"Month\",\"One year\",\"Month\",\"One year\",\"Two year\",\"Month\",\"One year\",\"Two year\",\"One year\",\"Month\",\"One year\",\"Two year\",\"Month\",\"One year\",\"Two year\",\"Month\",\"Month\",\"Month\",\"One year\",\"Month\",\"Two year\",\"Month\",\"Month\",\"Two year\",\"Month\",\"One year\",\"Two year\",\"Month\",\"Month\",\"One year\",\"Month\",\"Month\",\"Month\",\"Month\",\"Month\",\"One year\",\"Two year\",\"One year\",\"Month\",\"Two year\",\"Month\",\"Month\",\"Month\",\"One year\",\"Month\",\"Month\",\"Month\",\"Two year\",\"Two year\",\"Two year\",\"Month\",\"Two year\",\"Two year\",\"Two year\",\"One year\",\"Two year\",\"One year\",\"Two year\",\"One year\",\"Two year\",\"One year\",\"Month\",\"Two year\",\"Two year\",\"Two year\",\"Two year\",\"Month\",\"Two year\",\"One year\",\"Month\",\"Month\",\"Month\",\"Two year\",\"Month\",\"Two year\",\"Two year\",\"Month\",\"Month\",\"Two year\",\"One year\",\"One year\",\"Two year\",\"Two year\",\"Two year\",\"Month\",\"One year\",\"One year\",\"Two year\",\"Month\",\"Two year\",\"Two year\",\"One year\",\"One year\",\"One year\",\"Month\",\"Month\",\"Month\",\"Two year\",\"Two year\",\"One year\",\"Month\",\"One year\",\"One year\",\"Month\",\"Month\",\"Two year\",\"Two year\",\"Two year\",\"Two year\",\"One year\",\"One year\",\"Two year\",\"Two year\",\"One year\",\"Two year\",\"Two year\",\"One year\",\"Two year\",\"Month\",\"Two year\",\"One year\",\"One year\",\"One year\",\"Two year\",\"Month\",\"Month\",\"One year\",\"Two year\",\"One year\",\"Month\",\"Month\",\"One year\",\"Month\",\"One year\",\"One year\",\"Month\",\"Two year\",\"Month\",\"One year\",\"Two year\",\"Two year\",\"Two year\",\"Month\",\"One year\",\"Two year\",\"One year\",\"Month\",\"Two year\",\"Two year\",\"Month\",\"One year\",\"Month\",\"Two year\",\"Two year\",\"Month\",\"Month\",\"One year\",\"One year\",\"One year\",\"Two year\",\"Month\",\"Month\",\"Two year\",\"Month\",\"Two year\",\"Two year\",\"Two year\",\"Month\",\"One year\",\"Month\",\"Month\",\"Two year\",\"Month\",\"One year\",\"One year\",\"One year\",\"Two year\",\"Two year\",\"One year\",\"Month\",\"Month\",\"One year\",\"One year\",\"Month\",\"Month\",\"Month\",\"One year\",\"Month\",\"Two year\",\"Month\",\"Month\",\"Month\",\"Month\",\"Two year\",\"Month\",\"One year\",\"One year\",\"Month\",\"Month\",\"Month\",\"Month\",\"Month\",\"Two year\",\"Month\",\"Month\",\"Month\",\"One year\",\"Two year\",\"One year\",\"Two year\",\"Month\",\"One year\",\"Two year\",\"Month\",\"One year\",\"Month\",\"Two year\",\"One year\",\"Month\",\"Two year\",\"Two year\",\"One year\",\"One year\",\"One year\",\"Two year\",\"One year\",\"Month\",\"One year\",\"Two year\",\"Two year\",\"Month\",\"One year\",\"Month\",\"Two year\",\"One year\",\"Two year\",\"Two year\",\"Month\",\"Two year\",\"Two year\",\"One year\",\"Two year\",\"Two year\",\"Month\",\"One year\",\"Month\",\"Two year\",\"Two year\",\"Month\",\"Month\",\"Month\",\"Month\",\"Two year\",\"Month\",\"Month\",\"One year\",\"Two year\",\"Month\",\"Two year\",\"Two year\",\"One year\",\"One year\",\"Two year\",\"One year\",\"One year\",\"One year\",\"Two year\",\"Month\",\"One year\",\"Month\",\"Month\",\"Month\",\"Month\",\"Two year\",\"Month\",\"Month\",\"One year\",\"Two year\",\"Month\",\"Month\",\"One year\",\"One year\",\"One year\",\"Month\",\"Two year\",\"Month\",\"Month\",\"One year\",\"Two year\",\"Month\",\"Two year\",\"Two year\",\"One year\",\"Two year\",\"Two year\",\"Month\",\"Month\",\"Month\",\"Month\",\"Month\",\"Month\",\"Month\",\"Month\",\"Two year\",\"Month\",\"Month\",\"Month\",\"Two year\",\"Month\",\"Month\",\"Month\",\"One year\",\"One year\",\"Month\",\"One year\",\"Two year\",\"Month\",\"Two year\",\"Month\",\"Two year\",\"Two year\",\"Month\",\"Month\",\"One year\",\"Month\",\"Two year\",\"Two year\",\"Month\",\"Two year\",\"Month\",\"Month\",\"One year\",\"One year\",\"One year\",\"Two year\",\"One year\",\"Month\",\"Month\",\"Two year\",\"One year\",\"One year\",\"One year\",\"Two year\",\"Month\",\"Two year\",\"Month\",\"Month\",\"Two year\",\"Month\",\"Month\",\"One year\",\"One year\",\"Month\",\"One year\",\"Month\",\"Month\",\"Month\",\"Two year\",\"Two year\",\"Month\",\"One year\",\"Month\",\"Two year\",\"One year\",\"Two year\",\"One year\",\"One year\",\"Two year\",\"One year\",\"Two year\",\"Month\",\"Month\",\"Two year\",\"Month\",\"Month\",\"One year\",\"Month\",\"Two year\",\"One year\",\"One year\",\"Month\",\"Month\",\"One year\",\"Two year\",\"One year\",\"Two year\",\"Month\",\"Month\",\"Two year\",\"Month\",\"Two year\",\"Two year\",\"One year\",\"Two year\",\"Month\",\"One year\",\"Two year\",\"Month\",\"Month\",\"Two year\",\"One year\",\"One year\",\"Month\",\"Two year\",\"Two year\",\"Month\",\"Two year\",\"One year\",\"One year\",\"Month\",\"Two year\",\"Month\",\"Two year\",\"Two year\",\"Month\",\"Month\",\"One year\",\"Month\",\"Month\",\"Month\",\"One year\",\"Two year\",\"Month\",\"Month\",\"Two year\",\"Two year\",\"Two year\",\"Two year\",\"Two year\",\"Two year\",\"Month\",\"Month\",\"Month\",\"One year\",\"Two year\",\"One year\",\"Month\",\"Month\",\"One year\",\"Two year\",\"Month\",\"One year\",\"Two year\",\"One year\",\"Month\",\"Two year\",\"Two year\",\"One year\",\"One year\",\"Two year\",\"Two year\",\"Month\",\"Two year\",\"Month\",\"Two year\",\"Two year\",\"Month\",\"Two year\",\"One year\",\"Two year\",\"One year\",\"Month\",\"Month\",\"One year\",\"Two year\",\"Two year\",\"Two year\",\"Month\",\"One year\",\"One year\",\"Month\",\"Month\",\"Month\",\"Month\",\"Month\",\"One year\",\"One year\",\"Two year\",\"Two year\",\"One year\",\"Month\",\"One year\",\"Month\",\"Two year\",\"Two year\",\"One year\",\"Month\",\"Month\",\"Month\",\"One year\",\"Month\",\"Two year\",\"Two year\",\"Month\",\"Month\",\"Month\",\"One year\",\"Month\",\"One year\",\"Two year\",\"Two year\",\"Two year\",\"Month\",\"Two year\",\"Two year\",\"Month\",\"One year\",\"One year\",\"Month\",\"Month\",\"Month\",\"One year\",\"One year\",\"Two year\",\"Month\",\"Month\",\"Month\",\"Two year\",\"One year\",\"Two year\",\"Month\",\"Month\",\"One year\",\"Month\",\"One year\",\"Two year\",\"Month\",\"Month\",\"One year\",\"Month\",\"One year\",\"Month\",\"Month\",\"Month\",\"Two year\",\"Month\",\"Two year\",\"One year\",\"Two year\",\"Two year\",\"One year\",\"Month\",\"One year\",\"One year\",\"Month\",\"Two year\",\"Two year\",\"Two year\",\"Two year\",\"Month\",\"Two year\",\"Two year\",\"Two year\",\"One year\",\"Two year\",\"Month\",\"Month\",\"Two year\",\"Month\",\"Month\",\"Two year\",\"Two year\",\"Month\",\"Month\",\"Month\",\"Month\",\"Two year\",\"Month\",\"Month\",\"Month\",\"Month\",\"Month\",\"One year\",\"Month\",\"Two year\",\"Month\",\"Two year\",\"Month\",\"Month\",\"One year\",\"Two year\",\"Month\",\"Month\",\"One year\",\"One year\",\"Two year\",\"Month\",\"One year\",\"Two year\",\"One year\",\"One year\",\"Two year\",\"One year\",\"Two year\",\"Month\",\"One year\",\"Month\",\"Two year\",\"Two year\",\"Two year\",\"Two year\",\"Two year\",\"Two year\",\"Month\",\"Month\",\"Month\",\"Month\",\"Month\",\"One year\",\"Two year\",\"Month\",\"Two year\",\"One year\",\"Two year\",\"Two year\",\"One year\",\"Two year\",\"One year\",\"One year\",\"One year\",\"Month\",\"One year\",\"Month\",\"One year\",\"Two year\",\"Two year\",\"Month\",\"Two year\",\"Month\",\"Two year\",\"Two year\",\"One year\",\"One year\",\"Month\",\"Two year\",\"Month\",\"Month\",\"One year\",\"Two year\",\"Month\",\"Two year\",\"One year\",\"Two year\",\"Two year\",\"One year\",\"Two year\",\"Two year\",\"One year\",\"Month\",\"One year\",\"One year\",\"Month\",\"One year\",\"Month\",\"Month\",\"Month\",\"Month\",\"One year\",\"Month\",\"One year\",\"One year\",\"Two year\",\"One year\",\"One year\",\"Month\",\"Month\",\"One year\",\"One year\",\"One year\",\"Two year\",\"Month\",\"One year\",\"Two year\",\"Month\",\"Two year\",\"One year\",\"Month\",\"Month\",\"Two year\",\"One year\",\"Month\",\"Month\",\"Two year\",\"Month\",\"Two year\",\"Two year\",\"Month\",\"Month\",\"Month\",\"Month\",\"Two year\",\"One year\",\"One year\",\"Two year\",\"One year\",\"Month\",\"One year\",\"Month\",\"Two year\",\"Month\",\"Month\",\"Month\",\"Two year\",\"One year\",\"Month\",\"Two year\",\"Month\",\"Month\",\"Two year\",\"Two year\",\"Two year\",\"Two year\",\"One year\",\"Month\",\"Month\",\"Month\",\"Two year\",\"Two year\",\"Month\",\"Month\",\"Month\",\"Two year\",\"Month\",\"One year\",\"Two year\",\"Month\",\"One year\",\"Two year\",\"Two year\",\"One year\",\"One year\",\"One year\",\"One year\",\"Month\",\"Two year\",\"Month\",\"Two year\",\"Month\",\"Month\",\"Two year\",\"Two year\",\"Two year\",\"One year\",\"One year\",\"Month\",\"One year\",\"One year\",\"Month\",\"Month\",\"One year\",\"Two year\",\"Month\",\"One year\",\"Two year\",\"One year\",\"Month\",\"Month\",\"Month\",\"One year\",\"Two year\",\"Two year\",\"One year\",\"Month\",\"One year\",\"Two year\",\"Two year\",\"Two year\",\"Two year\",\"Month\",\"One year\",\"Two year\",\"Month\",\"Month\",\"One year\",\"Two year\",\"One year\",\"Two year\",\"Month\",\"Two year\",\"Month\",\"Month\",\"Two year\",\"One year\",\"Two year\",\"One year\",\"One year\",\"Two year\",\"Month\",\"One year\",\"Two year\",\"Two year\",\"Month\",\"Two year\",\"Month\",\"Month\",\"One year\",\"Month\",\"Month\",\"One year\",\"Two year\",\"Month\",\"Month\",\"Two year\",\"One year\",\"One year\",\"Two year\",\"Month\",\"One year\",\"Month\",\"Month\",\"Month\",\"Month\",\"One year\",\"Two year\",\"Month\",\"One year\",\"One year\",\"Month\",\"Month\",\"Two year\",\"One year\",\"Two year\",\"One year\",\"One year\",\"One year\",\"One year\",\"One year\",\"Month\",\"One year\",\"Two year\",\"Month\",\"Two year\",\"Two year\",\"Two year\",\"Two year\",\"One year\",\"Month\",\"Month\",\"Month\",\"One year\",\"Month\",\"Month\",\"Month\",\"Two year\",\"Two year\",\"One year\",\"Month\",\"One year\",\"Two year\",\"Two year\",\"Month\",\"Month\",\"Month\",\"Month\",\"Month\",\"One year\",\"One year\",\"Two year\",\"Month\",\"Two year\",\"Two year\",\"Two year\",\"One year\",\"Two year\",\"Two year\",\"Month\",\"Two year\",\"Two year\",\"Month\",\"Month\",\"Two year\",\"Month\",\"Two year\",\"One year\",\"One year\",\"One year\",\"Two year\",\"Two year\",\"Two year\",\"One year\",\"Two year\",\"Month\",\"Two year\",\"One year\",\"Month\",\"Month\",\"Month\",\"Two year\",\"One year\",\"Month\",\"Month\",\"Two year\",\"Month\",\"Month\",\"Two year\",\"Month\",\"One year\",\"One year\",\"One year\",\"Month\",\"Month\",\"One year\",\"One year\",\"Month\",\"Month\",\"Two year\",\"Month\",\"Two year\",\"Month\",\"Two year\",\"One year\",\"Month\",\"One year\",\"Two year\",\"Two year\",\"Month\",\"Month\",\"One year\",\"Month\",\"Two year\",\"One year\",\"Month\",\"Two year\",\"Month\",\"One year\",\"Month\",\"Month\",\"Two year\",\"Month\",\"One year\",\"Two year\",\"Month\",\"One year\",\"Month\",\"Month\",\"Month\",\"Month\",\"One year\",\"Two year\",\"Month\",\"Two year\",\"Two year\",\"One year\",\"Month\",\"One year\",\"Two year\",\"One year\",\"Two year\",\"One year\",\"Month\",\"Two year\",\"Month\",\"Month\",\"Two year\",\"Month\",\"Month\",\"One year\",\"Month\",\"One year\",\"Month\",\"Two year\",\"Month\",\"Month\",\"Month\",\"One year\",\"Two year\",\"Month\",\"Month\",\"Month\",\"Month\",\"Month\",\"Month\",\"Month\",\"Two year\",\"Month\",\"Month\",\"Two year\",\"Two year\",\"Month\",\"Month\",\"One year\",\"Month\",\"Month\",\"Two year\",\"One year\",\"Month\",\"Two year\",\"Month\",\"Month\",\"Month\",\"Month\",\"Month\",\"Two year\",\"One year\",\"One year\",\"Month\",\"Month\",\"One year\",\"Two year\",\"One year\",\"Month\",\"Month\",\"One year\",\"Month\",\"Month\",\"Two year\",\"Month\",\"Two year\",\"One year\",\"One year\",\"One year\",\"One year\",\"Two year\",\"Two year\",\"Month\",\"Two year\",\"Two year\",\"Two year\",\"Month\",\"Month\",\"Two year\",\"Two year\",\"Month\",\"Two year\",\"One year\",\"Month\",\"Two year\",\"Two year\",\"Month\",\"Two year\",\"Month\",\"Month\",\"Month\",\"Two year\",\"Month\",\"Two year\",\"Month\",\"Month\",\"Month\",\"Month\",\"Month\",\"One year\",\"One year\",\"Two year\",\"Month\",\"Two year\",\"Two year\",\"Two year\",\"One year\",\"Month\",\"Two year\",\"Two year\",\"Month\",\"Two year\",\"Two year\",\"Two year\",\"One year\",\"Month\",\"Month\",\"Two year\",\"One year\",\"Month\",\"Month\",\"Month\",\"Month\",\"Month\",\"Two year\",\"One year\",\"Two year\",\"Two year\",\"Two year\",\"Two year\",\"Month\",\"Two year\",\"Two year\",\"Two year\",\"Month\",\"Two year\",\"One year\",\"Two year\",\"One year\",\"Two year\",\"Month\",\"Month\",\"Month\",\"One year\",\"Month\",\"Two year\",\"Month\",\"Month\",\"One year\",\"One year\",\"One year\",\"Two year\",\"Two year\",\"Month\",\"Month\",\"One year\",\"Month\",\"Two year\",\"Two year\",\"Two year\",\"Two year\",\"Two year\",\"Two year\",\"One year\",\"Two year\",\"One year\",\"Month\",\"One year\",\"Two year\",\"Two year\",\"One year\",\"Two year\",\"One year\",\"Month\",\"Month\",\"One year\",\"Month\",\"Two year\",\"One year\",\"One year\",\"One year\",\"Month\",\"Two year\",\"Two year\",\"One year\",\"Month\",\"Two year\",\"Month\",\"Two year\",\"One year\",\"Two year\",\"Month\",\"Month\",\"One year\",\"Month\",\"Two year\",\"Two year\",\"One year\",\"Month\",\"Two year\",\"Month\",\"One year\",\"Month\",\"One year\",\"Two year\",\"Month\",\"Month\",\"Two year\",\"Two year\",\"Month\",\"Two year\",\"Month\",\"Month\",\"Month\",\"One year\",\"Month\",\"One year\",\"One year\",\"Month\",\"Two year\",\"One year\",\"Month\",\"Two year\",\"Month\",\"Two year\",\"Two year\",\"Month\",\"Month\",\"Two year\",\"One year\",\"Two year\",\"Month\",\"Month\",\"Month\",\"One year\",\"Month\",\"One year\",\"Month\",\"Month\",\"Month\",\"Two year\",\"One year\",\"Month\",\"Month\",\"Month\",\"Month\",\"One year\",\"Month\",\"Month\",\"Two year\",\"Two year\",\"One year\",\"One year\",\"Month\",\"Month\",\"Month\",\"Two year\",\"One year\",\"One year\",\"Month\",\"One year\",\"Two year\",\"Month\",\"Month\",\"Month\",\"Month\",\"Month\",\"One year\",\"Month\",\"Two year\",\"Two year\",\"One year\",\"Two year\",\"Month\",\"One year\",\"Month\",\"Two year\",\"Month\",\"One year\",\"Month\",\"Two year\",\"Month\",\"Month\",\"One year\",\"Month\",\"Month\",\"Month\",\"Month\",\"Two year\",\"Month\",\"One year\",\"Month\",\"Month\",\"Month\",\"Month\",\"Month\",\"One year\",\"Two year\",\"One year\",\"Two year\",\"Month\",\"Month\",\"Month\",\"Month\",\"Month\",\"Two year\",\"One year\",\"Two year\",\"One year\",\"Two year\",\"Month\",\"One year\",\"Month\",\"Two year\",\"Month\",\"Two year\",\"Month\",\"Month\",\"One year\",\"Month\",\"Month\",\"Month\",\"Two year\",\"Two year\",\"Two year\",\"Two year\",\"One year\",\"Month\",\"Two year\",\"Month\",\"Two year\",\"Month\",\"Month\",\"Month\",\"Month\",\"Month\",\"One year\",\"One year\",\"Two year\",\"Two year\",\"One year\",\"Two year\",\"Month\",\"Month\",\"Month\",\"Two year\",\"One year\",\"One year\",\"Month\",\"Two year\",\"Month\",\"One year\",\"Month\",\"One year\",\"Month\",\"Two year\",\"Two year\",\"Two year\",\"Month\",\"One year\",\"One year\",\"Month\",\"Two year\",\"Two year\",\"Month\",\"Two year\",\"One year\",\"Two year\",\"Month\",\"Two year\",\"Month\",\"Month\",\"Two year\",\"One year\",\"One year\",\"Month\",\"Month\",\"Two year\",\"Month\",\"Month\",\"One year\",\"Two year\",\"Two year\",\"Month\",\"Month\",\"Two year\",\"One year\",\"One year\",\"One year\",\"Month\",\"One year\",\"Two year\",\"Month\",\"Two year\",\"One year\",\"Two year\",\"Month\",\"Month\",\"One year\",\"Month\",\"Two year\",\"Two year\",\"Month\",\"Two year\",\"Month\",\"Two year\",\"Month\",\"Two year\",\"Month\",\"One year\",\"Month\",\"Month\",\"Month\",\"Month\",\"One year\",\"Two year\",\"Two year\",\"Month\",\"One year\",\"Month\",\"Two year\",\"Two year\",\"Two year\",\"Month\",\"Two year\",\"Two year\",\"Month\",\"Month\",\"One year\",\"Two year\",\"Month\",\"Month\",\"Month\",\"Two year\",\"Two year\",\"Two year\",\"One year\",\"Month\",\"Two year\",\"Two year\",\"Two year\",\"Two year\",\"Month\",\"Two year\",\"One year\",\"One year\",\"Month\",\"Month\",\"One year\",\"One year\",\"One year\",\"Two year\",\"Month\",\"One year\",\"Two year\",\"Month\",\"Month\",\"Month\",\"Two year\",\"Month\",\"Two year\",\"Two year\",\"Two year\",\"Two year\",\"Month\",\"Month\",\"One year\",\"Two year\",\"Two year\",\"Month\",\"Two year\",\"Two year\",\"One year\",\"Month\",\"Two year\",\"Month\",\"Month\",\"Two year\",\"One year\",\"One year\",\"Two year\",\"Month\",\"One year\",\"Two year\",\"Two year\",\"Two year\",\"Two year\",\"One year\",\"Month\",\"Two year\",\"Month\",\"Month\",\"One year\",\"Month\",\"One year\",\"Month\",\"Two year\",\"Month\",\"Month\",\"Two year\",\"Two year\",\"Month\",\"Month\",\"One year\",\"Month\",\"One year\",\"One year\",\"Two year\",\"Month\",\"One year\",\"Two year\",\"One year\",\"Month\",\"Two year\",\"Month\",\"Two year\",\"Two year\",\"Two year\",\"Month\",\"Month\",\"One year\",\"Two year\",\"Two year\",\"Month\",\"One year\",\"One year\",\"Month\",\"One year\",\"One year\",\"Month\",\"One year\",\"One year\",\"One year\",\"Two year\",\"Two year\",\"Month\",\"Two year\",\"Two year\",\"One year\",\"Month\",\"Month\",\"Two year\",\"Two year\",\"One year\",\"Month\",\"Two year\",\"One year\",\"Month\",\"Month\",\"Two year\",\"Month\",\"Two year\",\"Month\",\"One year\",\"Two year\",\"Month\",\"Month\",\"One year\",\"Two year\",\"Month\",\"Month\",\"Two year\",\"Month\",\"One year\",\"One year\",\"One year\",\"Month\",\"Two year\",\"Two year\",\"One year\",\"Month\",\"One year\",\"One year\",\"Two year\",\"Two year\",\"Month\",\"Two year\",\"Month\",\"Two year\",\"Month\",\"Two year\",\"Month\",\"Month\",\"Month\",\"One year\",\"Two year\",\"Two year\",\"Two year\",\"Month\",\"Month\",\"Two year\",\"One year\",\"Month\",\"Two year\",\"Month\",\"Month\",\"Month\",\"Month\",\"One year\",\"Month\",\"One year\",\"One year\",\"Two year\",\"One year\",\"Two year\",\"Two year\",\"Two year\",\"Month\",\"Two year\",\"Month\",\"Month\",\"Month\",\"Two year\",\"Month\",\"Month\",\"One year\",\"Month\",\"Two year\",\"One year\",\"Month\",\"Month\",\"One year\",\"One year\",\"Two year\",\"Month\",\"One year\",\"Two year\",\"Month\",\"One year\",\"Two year\",\"Month\",\"Month\",\"Two year\",\"One year\",\"Two year\",\"Month\",\"Two year\",\"One year\",\"One year\",\"One year\",\"One year\",\"Month\",\"Two year\",\"Two year\",\"One year\",\"One year\",\"Two year\",\"Month\",\"Two year\",\"Month\",\"Month\",\"Month\",\"Two year\",\"Two year\",\"One year\",\"Two year\",\"Month\",\"Two year\",\"Month\",\"One year\",\"Two year\",\"Month\",\"Two year\",\"Month\",\"One year\",\"Month\",\"Month\",\"One year\",\"Month\",\"Month\",\"Two year\",\"Month\",\"Two year\",\"Month\",\"One year\",\"Two year\",\"Two year\",\"Month\",\"One year\",\"Month\",\"Month\",\"One year\",\"One year\",\"Month\",\"Month\",\"One year\",\"Two year\",\"Month\",\"Month\",\"Two year\",\"Month\",\"Month\",\"Month\",\"Two year\",\"One year\",\"Month\",\"Month\",\"Two year\",\"Month\",\"Month\",\"One year\",\"One year\",\"Month\",\"Two year\",\"Month\",\"Two year\",\"Two year\",\"Month\",\"Month\",\"Month\",\"Month\",\"Month\",\"Month\",\"Month\",\"Two year\",\"One year\",\"Month\",\"Month\",\"Month\",\"One year\",\"One year\",\"Month\",\"Two year\",\"One year\",\"Month\",\"Two year\",\"Two year\",\"Month\",\"One year\",\"One year\",\"Month\",\"Two year\",\"Month\",\"Month\",\"One year\",\"One year\",\"Two year\",\"One year\",\"Two year\",\"Month\",\"Two year\",\"One year\",\"Month\",\"One year\",\"Two year\",\"Month\",\"Two year\",\"Month\",\"One year\",\"Month\",\"One year\",\"Month\",\"Two year\",\"Month\",\"Month\",\"Month\",\"Month\",\"Month\",\"Two year\",\"Two year\",\"One year\",\"Month\",\"Month\",\"Month\",\"Two year\",\"Two year\",\"One year\",\"One year\",\"Two year\",\"Two year\",\"One year\",\"Month\",\"Month\",\"One year\",\"Month\",\"Two year\",\"Two year\",\"Two year\",\"Two year\",\"One year\",\"One year\",\"Month\",\"Two year\",\"Two year\",\"Month\",\"One year\",\"Two year\",\"Month\",\"Month\",\"Two year\",\"One year\",\"Two year\",\"Two year\",\"One year\",\"One year\",\"One year\",\"Month\",\"Month\",\"One year\",\"Month\",\"Two year\",\"One year\",\"Two year\",\"One year\",\"Month\",\"Month\",\"Month\",\"One year\",\"Two year\",\"Two year\",\"One year\",\"One year\",\"Month\",\"Two year\",\"Two year\",\"Two year\",\"One year\",\"Two year\",\"Two year\",\"Month\",\"One year\",\"Month\",\"Month\",\"Two year\",\"One year\",\"Month\",\"One year\",\"Two year\",\"One year\",\"One year\",\"Month\",\"Month\",\"Two year\",\"One year\",\"Two year\",\"Month\",\"One year\",\"One year\",\"Month\",\"Two year\",\"One year\",\"Month\",\"Month\",\"One year\",\"Two year\",\"Two year\",\"One year\",\"Two year\",\"Month\",\"Month\",\"Month\",\"Month\",\"Month\",\"One year\",\"Two year\",\"One year\",\"Two year\",\"Two year\",\"Month\",\"Month\",\"Two year\",\"Month\",\"Two year\",\"Month\",\"Two year\",\"Month\",\"Two year\",\"Two year\",\"One year\",\"Month\",\"One year\",\"Month\",\"Month\",\"Month\",\"One year\",\"Month\",\"Month\",\"Month\",\"One year\",\"Month\",\"Month\",\"One year\",\"Two year\",\"One year\",\"One year\",\"One year\",\"Two year\",\"Two year\",\"Month\",\"Two year\",\"Two year\",\"Month\",\"Two year\",\"Month\",\"Two year\",\"Two year\",\"One year\",\"Two year\",\"Month\",\"Two year\",\"Month\",\"Month\",\"Month\",\"Month\",\"Month\",\"Month\",\"Two year\",\"Month\",\"One year\",\"Month\",\"Two year\",\"Two year\",\"Month\",\"One year\",\"Two year\",\"One year\",\"Month\",\"Month\",\"Month\",\"Two year\",\"One year\",\"Two year\",\"Month\",\"Month\",\"One year\",\"Two year\",\"Two year\",\"Month\",\"Month\",\"One year\",\"One year\",\"Two year\",\"Month\",\"Month\",\"Month\",\"Month\",\"One year\",\"Two year\",\"Two year\",\"Two year\",\"One year\",\"Month\",\"Month\",\"Month\",\"Month\",\"One year\",\"Two year\",\"Two year\",\"Two year\",\"Month\",\"Two year\",\"One year\",\"One year\",\"One year\",\"Month\",\"One year\",\"Month\",\"Two year\",\"Two year\",\"Two year\",\"Two year\",\"Two year\",\"Two year\",\"One year\",\"One year\",\"Two year\",\"Two year\",\"Two year\",\"Month\",\"Two year\",\"One year\",\"One year\",\"Month\",\"Two year\",\"Two year\",\"Month\",\"Month\",\"Month\",\"Month\",\"Month\",\"Month\",\"Two year\",\"Month\",\"Month\",\"Two year\",\"One year\",\"Month\",\"Month\",\"Two year\",\"Two year\",\"Two year\",\"Month\",\"One year\",\"Month\",\"Month\",\"Month\",\"One year\",\"One year\",\"Month\",\"One year\",\"Two year\",\"Month\",\"Month\",\"Two year\",\"Two year\",\"Month\",\"One year\",\"Two year\",\"Month\",\"Month\",\"Two year\",\"Two year\",\"Month\",\"Month\",\"One year\",\"One year\",\"Two year\",\"One year\",\"Month\",\"One year\",\"Month\",\"Month\",\"Two year\",\"Month\",\"Month\",\"Month\",\"Two year\",\"Two year\",\"Month\",\"Month\",\"Month\",\"Two year\",\"Two year\",\"One year\",\"One year\",\"Month\",\"One year\",\"One year\",\"Month\",\"One year\",\"Two year\",\"Month\",\"Two year\",\"Month\",\"One year\",\"Month\",\"One year\",\"Two year\",\"Month\",\"One year\",\"Month\",\"Two year\",\"Two year\",\"One year\",\"Two year\",\"Month\",\"Two year\",\"Two year\",\"Month\",\"Two year\",\"Month\",\"One year\",\"Two year\",\"Month\",\"One year\",\"Month\",\"One year\",\"Two year\",\"Month\",\"Month\",\"One year\",\"Month\",\"One year\",\"One year\",\"One year\",\"Two year\",\"Two year\",\"One year\",\"Month\",\"Month\",\"Two year\",\"One year\",\"Two year\",\"Two year\",\"Two year\",\"Two year\",\"Month\",\"One year\",\"Month\",\"One year\",\"Month\",\"Month\",\"One year\",\"Two year\",\"One year\",\"Month\",\"Two year\",\"Month\",\"One year\",\"Month\",\"Two year\",\"Month\",\"Month\",\"Two year\",\"Month\",\"One year\",\"Month\",\"One year\",\"Month\",\"Month\",\"Month\",\"One year\",\"Month\",\"Two year\",\"One year\",\"One year\",\"Two year\",\"Month\",\"Two year\",\"Two year\",\"Month\",\"Month\",\"Month\",\"Two year\",\"Two year\",\"Two year\",\"Month\",\"Two year\",\"Month\",\"Month\",\"Two year\",\"Two year\",\"Two year\",\"Two year\",\"Two year\",\"One year\",\"Month\",\"Two year\",\"One year\",\"Month\",\"Month\",\"Month\",\"One year\",\"Month\",\"Two year\",\"Two year\",\"Month\",\"Two year\",\"Two year\",\"Month\",\"One year\",\"Two year\",\"One year\",\"Month\",\"Month\",\"One year\",\"Two year\",\"Month\",\"One year\",\"Month\",\"One year\",\"Month\",\"One year\",\"One year\",\"Two year\",\"Two year\",\"Two year\",\"Month\",\"Month\",\"Month\",\"Two year\",\"Month\",\"Month\",\"Month\",\"Two year\",\"Month\",\"One year\",\"One year\",\"Month\",\"Month\",\"One year\",\"Month\",\"Two year\",\"Two year\",\"Two year\",\"Month\",\"One year\",\"Two year\",\"Month\",\"Two year\",\"One year\",\"Two year\",\"Two year\",\"One year\",\"Two year\",\"Month\",\"Month\",\"One year\",\"Month\",\"Two year\",\"Month\",\"Month\",\"Month\",\"Month\",\"Month\",\"One year\",\"One year\",\"One year\",\"Month\",\"Month\",\"Two year\",\"One year\",\"Month\",\"Two year\",\"Two year\",\"Two year\",\"Month\",\"One year\",\"One year\",\"Month\",\"One year\",\"One year\",\"Two year\",\"Month\",\"One year\",\"Month\",\"One year\",\"One year\",\"One year\",\"One year\",\"Month\",\"Month\",\"Month\",\"Two year\",\"One year\",\"Month\",\"One year\",\"Month\",\"Two year\",\"One year\",\"Month\",\"Two year\",\"One year\",\"Month\",\"Month\",\"Month\",\"Month\",\"Two year\",\"Month\",\"Two year\",\"Month\",\"Month\",\"Month\",\"Two year\",\"Two year\",\"Two year\",\"Month\",\"Month\",\"Two year\",\"Two year\",\"One year\",\"Month\",\"Two year\",\"One year\",\"Two year\",\"Month\",\"Month\",\"Two year\",\"One year\",\"Two year\",\"One year\",\"One year\",\"Month\",\"Two year\",\"Month\",\"Month\",\"Month\",\"One year\",\"Month\",\"Month\",\"Month\",\"Two year\",\"One year\",\"One year\",\"Month\",\"One year\",\"One year\",\"Month\",\"Two year\",\"Month\",\"Month\",\"Month\",\"One year\",\"Two year\",\"One year\",\"One year\",\"Two year\",\"Month\",\"Month\",\"Two year\",\"Month\",\"Two year\",\"One year\",\"Month\",\"Two year\",\"Two year\",\"Month\",\"Two year\",\"Month\",\"Month\",\"Two year\",\"Two year\",\"One year\",\"One year\",\"Month\",\"One year\",\"Month\",\"Month\",\"Two year\",\"One year\",\"Month\",\"One year\",\"Two year\",\"One year\",\"Two year\",\"Month\",\"Month\",\"Month\",\"Month\",\"Two year\",\"Two year\",\"Month\",\"Two year\",\"Month\",\"One year\",\"Month\",\"Month\",\"Two year\",\"Month\",\"Two year\",\"Two year\",\"One year\",\"Month\",\"Month\",\"Two year\",\"Two year\",\"Two year\",\"One year\",\"Month\",\"Two year\",\"Two year\",\"Month\",\"Two year\",\"Month\",\"One year\",\"Month\",\"Month\",\"Two year\",\"Month\",\"One year\",\"Month\",\"Two year\",\"Month\",\"One year\",\"One year\",\"One year\",\"Month\",\"Two year\",\"Two year\"],\"yaxis\":\"y\",\"type\":\"histogram\"},{\"alignmentgroup\":\"True\",\"bingroup\":\"y\",\"hovertemplate\":\"Churn=Yes\\u003cbr\\u003ecount=%{x}\\u003cbr\\u003eContract=%{y}\\u003cextra\\u003e\\u003c\\u002fextra\\u003e\",\"legendgroup\":\"Yes\",\"marker\":{\"color\":\"#EF553B\",\"pattern\":{\"shape\":\"\"}},\"name\":\"Yes\",\"offsetgroup\":\"Yes\",\"orientation\":\"h\",\"showlegend\":true,\"xaxis\":\"x\",\"y\":[\"Month\",\"Month\",\"Month\",\"One year\",\"Month\",\"Month\",\"Month\",\"Month\",\"Month\",\"Month\",\"Month\",\"Month\",\"Month\",\"One year\",\"Month\",\"Month\",\"Month\",\"Month\",\"Month\",\"Month\",\"Month\",\"Month\",\"Month\",\"Month\",\"Month\",\"One year\",\"Month\",\"Month\",\"One year\",\"One year\",\"Month\",\"Month\",\"Month\",\"Month\",\"Month\",\"Month\",\"Month\",\"Month\",\"Month\",\"Month\",\"Month\",\"Month\",\"Month\",\"Month\",\"Month\",\"Month\",\"Month\",\"Month\",\"Month\",\"Month\",\"Month\",\"Month\",\"Month\",\"Month\",\"Month\",\"Month\",\"Month\",\"Month\",\"Month\",\"Month\",\"Month\",\"Month\",\"Month\",\"Month\",\"Month\",\"Month\",\"Month\",\"Month\",\"Month\",\"Month\",\"One year\",\"Month\",\"Month\",\"Month\",\"Month\",\"Month\",\"One year\",\"Month\",\"Month\",\"Month\",\"Month\",\"One year\",\"Month\",\"Month\",\"One year\",\"Month\",\"Month\",\"Month\",\"Month\",\"Month\",\"Month\",\"Month\",\"Month\",\"Month\",\"One year\",\"Month\",\"Month\",\"One year\",\"Month\",\"Month\",\"Month\",\"Month\",\"One year\",\"Month\",\"Month\",\"Month\",\"Month\",\"Month\",\"Month\",\"Two year\",\"Month\",\"Month\",\"Month\",\"Two year\",\"Month\",\"Month\",\"Month\",\"Month\",\"One year\",\"Month\",\"Month\",\"Month\",\"Month\",\"Month\",\"Month\",\"Month\",\"Month\",\"Month\",\"Month\",\"Month\",\"Month\",\"Month\",\"One year\",\"Month\",\"One year\",\"One year\",\"Month\",\"Month\",\"Month\",\"Month\",\"Month\",\"Month\",\"One year\",\"Month\",\"Month\",\"Month\",\"Month\",\"Month\",\"One year\",\"Month\",\"Month\",\"Month\",\"Month\",\"Month\",\"Month\",\"Month\",\"Month\",\"Month\",\"Month\",\"Month\",\"Month\",\"Month\",\"Month\",\"One year\",\"Month\",\"Month\",\"Month\",\"Month\",\"Month\",\"Month\",\"One year\",\"Month\",\"Month\",\"Month\",\"Month\",\"Month\",\"Month\",\"Two year\",\"Month\",\"Month\",\"Month\",\"Month\",\"Month\",\"Month\",\"Month\",\"Month\",\"Month\",\"Month\",\"Month\",\"Month\",\"Month\",\"Month\",\"Month\",\"Month\",\"Month\",\"Month\",\"Month\",\"Month\",\"Month\",\"One year\",\"Month\",\"Two year\",\"Month\",\"Month\",\"Month\",\"Month\",\"Month\",\"Month\",\"Month\",\"Month\",\"Month\",\"Month\",\"One year\",\"Month\",\"Month\",\"Month\",\"Month\",\"Month\",\"Two year\",\"Month\",\"Month\",\"Month\",\"Month\",\"Month\",\"Month\",\"One year\",\"Month\",\"Month\",\"Month\",\"Month\",\"Month\",\"Month\",\"Month\",\"Month\",\"Month\",\"Month\",\"Month\",\"One year\",\"Month\",\"Month\",\"Month\",\"Month\",\"Month\",\"Month\",\"Month\",\"Month\",\"Month\",\"Month\",\"Month\",\"Month\",\"Month\",\"Month\",\"Month\",\"Month\",\"Month\",\"Month\",\"Month\",\"Month\",\"Month\",\"Month\",\"Month\",\"Month\",\"One year\",\"Month\",\"Two year\",\"Month\",\"Month\",\"Month\",\"Month\",\"Month\",\"Month\",\"Month\",\"Month\",\"Month\",\"Month\",\"Month\",\"One year\",\"Month\",\"Month\",\"Month\",\"Two year\",\"Month\",\"Month\",\"Two year\",\"Month\",\"Month\",\"Month\",\"Month\",\"Month\",\"Month\",\"Month\",\"Month\",\"Month\",\"Month\",\"Month\",\"Month\",\"Month\",\"Month\",\"Month\",\"Month\",\"Month\",\"Month\",\"Month\",\"One year\",\"Month\",\"Month\",\"One year\",\"Month\",\"One year\",\"Month\",\"Month\",\"Month\",\"Month\",\"Month\",\"One year\",\"Month\",\"Month\",\"Month\",\"Two year\",\"Month\",\"Month\",\"Month\",\"Month\",\"Month\",\"Month\",\"Month\",\"Month\",\"Month\",\"Month\",\"Month\",\"Month\",\"Month\",\"Month\",\"Month\",\"Month\",\"Month\",\"Month\",\"Month\",\"Month\",\"Month\",\"Month\",\"Month\",\"Month\",\"One year\",\"Month\",\"Month\",\"Month\",\"Month\",\"Month\",\"Month\",\"Month\",\"Month\",\"Month\",\"Month\",\"Month\",\"Month\",\"Month\",\"Month\",\"One year\",\"Month\",\"Month\",\"Month\",\"Month\",\"Month\",\"Month\",\"Month\",\"Month\",\"Month\",\"Month\",\"Month\",\"Month\",\"Month\",\"Month\",\"Month\",\"One year\",\"Month\",\"Month\",\"Month\",\"Month\",\"Month\",\"Month\",\"Month\",\"Month\",\"Month\",\"Month\",\"Month\",\"Month\",\"Month\",\"Month\",\"Month\",\"Month\",\"Month\",\"Month\",\"One year\",\"Month\",\"One year\",\"One year\",\"Month\",\"Month\",\"Month\",\"Month\",\"Month\",\"Month\",\"Month\",\"Month\",\"Month\",\"Month\",\"Month\",\"Two year\",\"Month\",\"Month\",\"One year\",\"One year\",\"Month\",\"Month\",\"Month\",\"Month\",\"Month\",\"Month\",\"Month\",\"Month\",\"Month\",\"One year\",\"One year\",\"Month\",\"Month\",\"Month\",\"Month\",\"One year\",\"Month\",\"Month\",\"Month\",\"Month\",\"One year\",\"Month\",\"Month\",\"Month\",\"Month\",\"One year\",\"One year\",\"Month\",\"Month\",\"Month\",\"Month\",\"Month\",\"Month\",\"Month\",\"Month\",\"Month\",\"Month\",\"Month\",\"Month\",\"Month\",\"Month\",\"Month\",\"Month\",\"Month\",\"Month\",\"Month\",\"Month\",\"Month\",\"Two year\",\"Two year\",\"Month\",\"Month\",\"Month\",\"Month\",\"Month\",\"Month\",\"Month\",\"Month\",\"Month\",\"Month\",\"Month\",\"Month\",\"Month\",\"One year\",\"Month\",\"Month\",\"Month\",\"Month\",\"Month\",\"Month\",\"Month\",\"Month\",\"One year\",\"Month\",\"One year\",\"Month\",\"Month\",\"Month\",\"Month\",\"Month\",\"Month\",\"Month\",\"Month\",\"Month\",\"Month\",\"Month\",\"One year\",\"Month\",\"Month\",\"Month\",\"One year\",\"Month\",\"Month\",\"Month\",\"Month\",\"Month\",\"Month\",\"One year\",\"Month\",\"Month\",\"Month\",\"Month\",\"Two year\",\"Month\",\"Month\",\"Month\",\"Month\",\"Month\",\"Month\",\"Month\",\"Month\",\"One year\",\"Month\",\"Month\",\"Month\",\"Month\",\"Month\",\"Month\",\"Month\",\"Month\",\"Month\",\"One year\",\"One year\",\"Month\",\"One year\",\"Month\",\"Month\",\"Month\",\"One year\",\"Month\",\"Month\",\"Month\",\"Month\",\"Month\",\"Month\",\"Month\",\"Month\",\"Month\",\"Month\",\"Month\",\"Month\",\"Month\",\"Month\",\"Month\",\"Month\",\"Month\",\"Month\",\"One year\",\"Month\",\"Month\",\"Month\",\"One year\",\"Month\",\"Month\",\"Month\",\"Month\",\"One year\",\"Month\",\"Month\",\"Month\",\"One year\",\"Month\",\"Month\",\"Month\",\"Month\",\"Month\",\"Month\",\"Two year\",\"Month\",\"One year\",\"Month\",\"Month\",\"Month\",\"Month\",\"One year\",\"Month\",\"Month\",\"Month\",\"Month\",\"Month\",\"Month\",\"Month\",\"Month\",\"One year\",\"Month\",\"Month\",\"Month\",\"Month\",\"One year\",\"Two year\",\"Month\",\"Month\",\"Month\",\"Month\",\"Month\",\"Month\",\"Month\",\"One year\",\"Month\",\"Month\",\"Month\",\"Month\",\"Month\",\"Month\",\"Two year\",\"Month\",\"Month\",\"Month\",\"Month\",\"One year\",\"Month\",\"Month\",\"Month\",\"Month\",\"One year\",\"Month\",\"Month\",\"Month\",\"Month\",\"Month\",\"Month\",\"One year\",\"Month\",\"Month\",\"Month\",\"Month\",\"Month\",\"Month\",\"Month\",\"Month\",\"Two year\",\"Month\",\"Month\",\"Month\",\"One year\",\"Month\",\"Month\",\"Month\",\"Month\",\"Month\",\"Month\",\"Month\",\"Month\",\"Month\",\"Two year\",\"Month\",\"Month\",\"One year\",\"Month\",\"Month\",\"Month\",\"Month\",\"Month\",\"Month\",\"Month\",\"Month\",\"Month\",\"Month\",\"One year\",\"Month\",\"Month\",\"Month\",\"Month\",\"Month\",\"Month\",\"Month\",\"Month\",\"Month\",\"Month\",\"Month\",\"Month\",\"Month\",\"Month\",\"Month\",\"Month\",\"Month\",\"Month\",\"One year\",\"Month\",\"One year\",\"Month\",\"One year\",\"Month\",\"Month\",\"Month\",\"Month\",\"Month\",\"Month\",\"Month\",\"Month\",\"Month\",\"Month\",\"Month\",\"Month\",\"Month\",\"Month\",\"One year\",\"Month\",\"Month\",\"Month\",\"Month\",\"Month\",\"Month\",\"Month\",\"Month\",\"Month\",\"Month\",\"Month\",\"Month\",\"Month\",\"Month\",\"Month\",\"Month\",\"Month\",\"Month\",\"Month\",\"One year\",\"Month\",\"One year\",\"Month\",\"Month\",\"Month\",\"Month\",\"One year\",\"Month\",\"Month\",\"Month\",\"Month\",\"Month\",\"Month\",\"One year\",\"One year\",\"Month\",\"Month\",\"Month\",\"Month\",\"Month\",\"Month\",\"Month\",\"Month\",\"Month\",\"Month\",\"Month\",\"Month\",\"Month\",\"Month\",\"Month\",\"Month\",\"Month\",\"Month\",\"Month\",\"Month\",\"Month\",\"Month\",\"One year\",\"Month\",\"Month\",\"One year\",\"Month\",\"Month\",\"One year\",\"Month\",\"Month\",\"Month\",\"Month\",\"Month\",\"Month\",\"Month\",\"Month\",\"Month\",\"Month\",\"Month\",\"Month\",\"One year\",\"Month\",\"Month\",\"One year\",\"Month\",\"Month\",\"Month\",\"Month\",\"Month\",\"Month\",\"Month\",\"Month\",\"Month\",\"Month\",\"Month\",\"Month\",\"Month\",\"Month\",\"Month\",\"One year\",\"Month\",\"Month\",\"Month\",\"Month\",\"Month\",\"Month\",\"Month\",\"Month\",\"Month\",\"Month\",\"Month\",\"One year\",\"Month\",\"Month\",\"Month\",\"Month\",\"Month\",\"Two year\",\"Month\",\"Month\",\"Month\",\"Month\",\"Month\",\"Month\",\"Month\",\"Month\",\"One year\",\"Month\",\"Month\",\"Month\",\"Month\",\"Month\",\"Month\",\"Month\",\"Month\",\"Month\",\"Month\",\"One year\",\"Month\",\"Month\",\"Month\",\"Month\",\"Month\",\"Month\",\"Month\",\"Month\",\"Month\",\"Month\",\"Month\",\"Month\",\"Month\",\"Month\",\"Month\",\"Month\",\"Month\",\"Month\",\"Month\",\"Month\",\"Month\",\"Month\",\"Month\",\"Month\",\"Month\",\"One year\",\"Month\",\"Month\",\"Month\",\"Month\",\"Month\",\"Month\",\"Month\",\"One year\",\"Month\",\"Month\",\"Month\",\"One year\",\"One year\",\"Month\",\"Month\",\"Month\",\"Month\",\"One year\",\"Month\",\"Month\",\"Month\",\"Month\",\"Month\",\"Month\",\"Month\",\"Month\",\"Month\",\"Month\",\"Month\",\"Month\",\"Month\",\"Month\",\"Month\",\"Month\",\"Month\",\"Month\",\"Month\",\"One year\",\"Month\",\"Month\",\"Month\",\"Month\",\"Month\",\"Month\",\"Month\",\"Month\",\"Month\",\"Month\",\"Month\",\"One year\",\"Month\",\"One year\",\"One year\",\"Month\",\"Month\",\"One year\",\"Month\",\"Month\",\"Month\",\"Month\",\"Month\",\"Month\",\"Month\",\"Month\",\"Month\",\"Month\",\"Month\",\"Month\",\"Month\",\"Month\",\"Month\",\"Month\",\"Month\",\"Month\",\"Month\",\"Two year\",\"Month\",\"Month\",\"Month\",\"Month\",\"Month\",\"Month\",\"Month\",\"Month\",\"Month\",\"Month\",\"One year\",\"Month\",\"Month\",\"Month\",\"One year\",\"Month\",\"Month\",\"Month\",\"Month\",\"Month\",\"Month\",\"Month\",\"Month\",\"Month\",\"Month\",\"Month\",\"Month\",\"Month\",\"Two year\",\"Month\",\"One year\",\"Month\",\"Month\",\"Month\",\"Month\",\"Month\",\"Month\",\"Month\",\"Month\",\"Month\",\"Month\",\"Month\",\"Month\",\"Two year\",\"Month\",\"Month\",\"Month\",\"Month\",\"Month\",\"Month\",\"One year\",\"Month\",\"Month\",\"Month\",\"Month\",\"Month\",\"Month\",\"Month\",\"Month\",\"Month\",\"Month\",\"Month\",\"Month\",\"Month\",\"Month\",\"Month\",\"Month\",\"Month\",\"Month\",\"Month\",\"Month\",\"Month\",\"Two year\",\"Month\",\"Month\",\"Month\",\"Two year\",\"Month\",\"Month\",\"Month\",\"Month\",\"Month\",\"Month\",\"One year\",\"Month\",\"Month\",\"Month\",\"Month\",\"Month\",\"Month\",\"Month\",\"Month\",\"Month\",\"Month\",\"Month\",\"Month\",\"Month\",\"Month\",\"Month\",\"Month\",\"Month\",\"Month\",\"Month\",\"Month\",\"Month\",\"Month\",\"Month\",\"Month\",\"Month\",\"Two year\",\"Month\",\"Month\",\"One year\",\"Month\",\"Month\",\"Two year\",\"One year\",\"Month\",\"Month\",\"Month\",\"Month\",\"Month\",\"Month\",\"Month\",\"Month\",\"Month\",\"Month\",\"Month\",\"Month\",\"Month\",\"Month\",\"Month\",\"Month\",\"Month\",\"Month\",\"Month\",\"Month\",\"Month\",\"Month\",\"Month\",\"Month\",\"Month\",\"Month\",\"Month\",\"Month\",\"Month\",\"Month\",\"Month\",\"Month\",\"Month\",\"Month\",\"Month\",\"Month\",\"Month\",\"Month\",\"Month\",\"One year\",\"Month\",\"Month\",\"Month\",\"Month\",\"Month\",\"Month\",\"Month\",\"Month\",\"Month\",\"Month\",\"Month\",\"Month\",\"Month\",\"Month\",\"Month\",\"Month\",\"Two year\",\"Month\",\"Month\",\"Month\",\"Month\",\"Month\",\"Month\",\"One year\",\"Month\",\"Month\",\"Month\",\"Month\",\"Month\",\"Month\",\"Month\",\"Month\",\"Month\",\"Month\",\"Month\",\"Month\",\"Month\",\"Month\",\"One year\",\"Month\",\"Month\",\"Month\",\"Month\",\"Month\",\"Month\",\"Month\",\"Month\",\"Month\",\"Month\",\"Month\",\"Month\",\"Month\",\"Month\",\"Month\",\"Month\",\"Month\",\"Month\",\"Month\",\"Month\",\"Month\",\"Month\",\"Month\",\"Month\",\"Month\",\"Month\",\"Month\",\"Month\",\"Month\",\"Two year\",\"Month\",\"Month\",\"Month\",\"Month\",\"Month\",\"One year\",\"Month\",\"Month\",\"Month\",\"Month\",\"Month\",\"Month\",\"Month\",\"Month\",\"Month\",\"Month\",\"One year\",\"Month\",\"Month\",\"Month\",\"Month\",\"Month\",\"Month\",\"Month\",\"Month\",\"Month\",\"Month\",\"Month\",\"Month\",\"Month\",\"Month\",\"Month\",\"Month\",\"One year\",\"One year\",\"Month\",\"Month\",\"One year\",\"Month\",\"One year\",\"Month\",\"One year\",\"Month\",\"Month\",\"Month\",\"Month\",\"Two year\",\"Month\",\"Month\",\"Month\",\"Month\",\"Month\",\"Month\",\"One year\",\"Month\",\"Month\",\"Month\",\"Month\",\"Month\",\"Month\",\"Month\",\"Month\",\"Month\",\"Two year\",\"Month\",\"Month\",\"Month\",\"Month\",\"Month\",\"Month\",\"Month\",\"Month\",\"Month\",\"Month\",\"One year\",\"Month\",\"Month\",\"Month\",\"Month\",\"Month\",\"Month\",\"Month\",\"One year\",\"Month\",\"Month\",\"Month\",\"Month\",\"Month\",\"Month\",\"One year\",\"Month\",\"Month\",\"Two year\",\"Month\",\"Month\",\"Month\",\"Month\",\"Month\",\"One year\",\"Month\",\"Month\",\"Month\",\"Month\",\"Month\",\"Month\",\"Month\",\"Month\",\"One year\",\"Month\",\"One year\",\"Month\",\"Month\",\"Month\",\"Month\",\"One year\",\"Two year\",\"Month\",\"Month\",\"Month\",\"Month\",\"Month\",\"Month\",\"Month\",\"Month\",\"Month\",\"Month\",\"Month\",\"Month\",\"Month\",\"One year\",\"Month\",\"Month\",\"Month\",\"Month\",\"Month\",\"One year\",\"Two year\",\"Two year\",\"Month\",\"Month\",\"Month\",\"Month\",\"Month\",\"Month\",\"One year\",\"Month\",\"Month\",\"Month\",\"Month\",\"Month\",\"Month\",\"Month\",\"Month\",\"Month\",\"Month\",\"Month\",\"Month\",\"Month\",\"Month\",\"Month\",\"Month\",\"Month\",\"Month\",\"Month\",\"One year\",\"Month\",\"Month\",\"Month\",\"Month\",\"Month\",\"Month\",\"Month\",\"Month\",\"Month\",\"Two year\",\"Month\",\"Month\",\"Month\",\"Month\",\"Month\",\"Month\",\"Month\",\"Month\",\"Month\",\"One year\",\"Month\",\"Month\",\"One year\",\"Month\",\"Month\",\"Month\",\"Month\",\"Month\",\"Month\",\"One year\",\"Month\",\"Month\",\"One year\",\"Month\",\"Month\",\"Month\",\"Month\",\"Month\",\"Month\",\"Month\",\"Month\",\"Month\",\"Month\",\"Month\",\"Month\",\"Month\",\"Month\",\"Month\",\"Month\",\"Month\",\"Month\",\"Month\",\"Month\",\"Month\",\"Month\",\"Two year\",\"Month\",\"Month\",\"Month\",\"Month\",\"Month\",\"Month\",\"Month\",\"Month\",\"Two year\",\"Month\",\"Month\",\"Month\",\"Month\",\"Two year\",\"Month\",\"Month\",\"Month\",\"Month\",\"Month\",\"Month\",\"Month\",\"Month\",\"Month\",\"Month\",\"Month\",\"Month\",\"Month\",\"Month\",\"Month\",\"One year\",\"Month\",\"Month\",\"Month\",\"Month\",\"Month\",\"Month\",\"Month\",\"Month\",\"Month\",\"Month\",\"Month\",\"Month\",\"One year\",\"Month\",\"Month\",\"Month\",\"Month\",\"Month\",\"Month\",\"Month\",\"Month\",\"Month\",\"Month\",\"Month\",\"Month\",\"Month\",\"Month\",\"Month\",\"Month\",\"Month\",\"Month\",\"Month\",\"Month\",\"Month\",\"One year\",\"Month\",\"Month\",\"Month\",\"Month\",\"Month\",\"One year\",\"Month\",\"Month\",\"Month\",\"One year\",\"Month\",\"Month\",\"Month\",\"Two year\",\"Month\",\"Month\",\"Month\",\"One year\",\"Month\",\"One year\",\"Month\",\"Month\",\"Month\",\"Month\",\"Month\",\"Month\",\"Month\",\"Month\",\"Two year\",\"Month\",\"One year\",\"Month\",\"Month\",\"Month\",\"Month\",\"Month\",\"Month\",\"Month\",\"Month\",\"Month\",\"Month\",\"Month\",\"Month\",\"Month\",\"Month\",\"Month\",\"Month\",\"Month\",\"Month\",\"Month\",\"Month\",\"Month\",\"Month\",\"Month\",\"Month\",\"Month\",\"Month\",\"Month\",\"Month\",\"Month\",\"Month\",\"One year\",\"Month\",\"Month\",\"Month\",\"Two year\",\"Month\",\"Month\",\"Month\",\"Month\",\"Month\",\"Month\",\"Month\",\"Month\",\"Month\",\"Month\",\"Month\",\"Month\",\"One year\",\"Month\",\"Month\",\"Month\",\"Month\",\"Month\",\"Month\",\"Month\",\"Month\",\"Month\",\"Month\",\"Month\",\"One year\",\"Month\",\"Month\",\"Month\",\"Month\",\"Month\",\"Month\",\"Month\",\"Month\",\"Month\",\"Month\",\"Two year\",\"Month\",\"Month\",\"Month\",\"Month\",\"Month\",\"Month\",\"One year\",\"One year\",\"Month\",\"Month\",\"Month\",\"Month\",\"Month\",\"Month\",\"Month\",\"One year\",\"Month\",\"Month\",\"Month\",\"Month\",\"Month\",\"One year\",\"Month\",\"Month\",\"Month\",\"Month\",\"Month\",\"Month\",\"Month\",\"Month\",\"Month\",\"Month\",\"Month\",\"Month\",\"Month\",\"Month\",\"Month\",\"Month\",\"Month\",\"Month\",\"Month\",\"Month\",\"Month\",\"Month\",\"Month\",\"Month\",\"Month\",\"Month\",\"Month\",\"Month\",\"Month\",\"Month\",\"Month\",\"Two year\",\"Month\",\"Month\",\"One year\",\"One year\",\"Month\",\"Month\",\"Two year\",\"Month\",\"Month\",\"Month\",\"Month\",\"Month\",\"Month\",\"Month\",\"Month\",\"Month\",\"One year\",\"Two year\",\"One year\",\"Month\",\"Month\",\"Month\",\"Month\",\"Month\",\"Month\",\"One year\",\"Month\",\"Month\",\"Month\",\"Month\",\"Month\",\"Month\",\"Month\",\"Month\",\"Month\",\"Month\",\"Month\",\"Month\",\"Month\",\"Month\",\"Month\",\"Month\",\"Month\",\"Month\",\"Month\",\"Month\",\"Month\",\"Month\",\"Month\",\"Month\",\"Month\",\"Month\",\"Two year\",\"Month\",\"Month\",\"Month\",\"Month\",\"Month\",\"Month\",\"Month\",\"Month\",\"One year\",\"Month\",\"Month\",\"Month\",\"One year\",\"Month\",\"Month\",\"Month\",\"Month\",\"Month\",\"Month\",\"Month\",\"Month\",\"Month\",\"Month\",\"Month\",\"One year\",\"Month\",\"Month\",\"Month\",\"Month\",\"Month\",\"Month\",\"Month\",\"Month\",\"Month\",\"Month\",\"Month\",\"One year\",\"Month\",\"Month\",\"Month\",\"Two year\",\"Month\",\"Month\",\"Month\",\"Month\",\"Month\",\"Month\",\"Month\",\"Month\",\"One year\",\"Month\",\"Month\",\"Month\",\"Month\",\"Month\",\"Month\",\"One year\",\"Month\",\"Month\",\"Month\",\"Month\",\"Month\",\"Month\",\"Month\",\"Month\",\"Month\",\"Month\",\"Month\",\"Month\",\"Month\",\"Month\",\"Month\",\"Month\",\"Month\",\"Month\",\"Month\",\"One year\",\"Month\",\"Month\",\"One year\",\"Month\",\"Month\",\"Month\",\"Month\",\"Month\",\"Month\",\"Month\",\"Month\",\"Month\",\"Month\",\"Month\",\"Month\",\"Month\",\"One year\",\"Month\",\"Month\",\"One year\",\"Month\",\"Month\",\"Month\",\"Month\",\"Two year\",\"Month\",\"Month\",\"Month\",\"Month\",\"Month\",\"Month\",\"Month\",\"Month\",\"Month\",\"Month\",\"Month\",\"Month\",\"Month\",\"Month\",\"Month\",\"Month\",\"Month\",\"Month\",\"Month\",\"One year\",\"Month\",\"Month\",\"Month\",\"Month\",\"Month\",\"Month\",\"Month\",\"Month\",\"Month\",\"One year\",\"Month\",\"Month\",\"Month\",\"Month\",\"Month\",\"Month\",\"Month\",\"Month\",\"Month\",\"Month\",\"Month\",\"Month\",\"Month\",\"One year\",\"Month\",\"Month\",\"Month\",\"Month\",\"Month\",\"Month\",\"Month\",\"Month\",\"Month\",\"Month\",\"Month\",\"Month\",\"Month\",\"Month\",\"Month\",\"Month\",\"Month\",\"Month\",\"Month\",\"Month\",\"Month\",\"Month\",\"Month\",\"Month\",\"Month\",\"Month\",\"One year\",\"One year\",\"Month\",\"Month\",\"Month\",\"Month\",\"Month\",\"Month\",\"Month\",\"Month\",\"Month\",\"Month\",\"Month\",\"Month\",\"Month\",\"Month\",\"Month\",\"Month\",\"Month\",\"Month\",\"Month\",\"Month\",\"Month\",\"Month\",\"Month\",\"Month\",\"Month\",\"Month\",\"Month\",\"Month\"],\"yaxis\":\"y\",\"type\":\"histogram\"}],                        {\"template\":{\"data\":{\"histogram2dcontour\":[{\"type\":\"histogram2dcontour\",\"colorbar\":{\"outlinewidth\":0,\"ticks\":\"\"},\"colorscale\":[[0.0,\"#0d0887\"],[0.1111111111111111,\"#46039f\"],[0.2222222222222222,\"#7201a8\"],[0.3333333333333333,\"#9c179e\"],[0.4444444444444444,\"#bd3786\"],[0.5555555555555556,\"#d8576b\"],[0.6666666666666666,\"#ed7953\"],[0.7777777777777778,\"#fb9f3a\"],[0.8888888888888888,\"#fdca26\"],[1.0,\"#f0f921\"]]}],\"choropleth\":[{\"type\":\"choropleth\",\"colorbar\":{\"outlinewidth\":0,\"ticks\":\"\"}}],\"histogram2d\":[{\"type\":\"histogram2d\",\"colorbar\":{\"outlinewidth\":0,\"ticks\":\"\"},\"colorscale\":[[0.0,\"#0d0887\"],[0.1111111111111111,\"#46039f\"],[0.2222222222222222,\"#7201a8\"],[0.3333333333333333,\"#9c179e\"],[0.4444444444444444,\"#bd3786\"],[0.5555555555555556,\"#d8576b\"],[0.6666666666666666,\"#ed7953\"],[0.7777777777777778,\"#fb9f3a\"],[0.8888888888888888,\"#fdca26\"],[1.0,\"#f0f921\"]]}],\"heatmap\":[{\"type\":\"heatmap\",\"colorbar\":{\"outlinewidth\":0,\"ticks\":\"\"},\"colorscale\":[[0.0,\"#0d0887\"],[0.1111111111111111,\"#46039f\"],[0.2222222222222222,\"#7201a8\"],[0.3333333333333333,\"#9c179e\"],[0.4444444444444444,\"#bd3786\"],[0.5555555555555556,\"#d8576b\"],[0.6666666666666666,\"#ed7953\"],[0.7777777777777778,\"#fb9f3a\"],[0.8888888888888888,\"#fdca26\"],[1.0,\"#f0f921\"]]}],\"heatmapgl\":[{\"type\":\"heatmapgl\",\"colorbar\":{\"outlinewidth\":0,\"ticks\":\"\"},\"colorscale\":[[0.0,\"#0d0887\"],[0.1111111111111111,\"#46039f\"],[0.2222222222222222,\"#7201a8\"],[0.3333333333333333,\"#9c179e\"],[0.4444444444444444,\"#bd3786\"],[0.5555555555555556,\"#d8576b\"],[0.6666666666666666,\"#ed7953\"],[0.7777777777777778,\"#fb9f3a\"],[0.8888888888888888,\"#fdca26\"],[1.0,\"#f0f921\"]]}],\"contourcarpet\":[{\"type\":\"contourcarpet\",\"colorbar\":{\"outlinewidth\":0,\"ticks\":\"\"}}],\"contour\":[{\"type\":\"contour\",\"colorbar\":{\"outlinewidth\":0,\"ticks\":\"\"},\"colorscale\":[[0.0,\"#0d0887\"],[0.1111111111111111,\"#46039f\"],[0.2222222222222222,\"#7201a8\"],[0.3333333333333333,\"#9c179e\"],[0.4444444444444444,\"#bd3786\"],[0.5555555555555556,\"#d8576b\"],[0.6666666666666666,\"#ed7953\"],[0.7777777777777778,\"#fb9f3a\"],[0.8888888888888888,\"#fdca26\"],[1.0,\"#f0f921\"]]}],\"surface\":[{\"type\":\"surface\",\"colorbar\":{\"outlinewidth\":0,\"ticks\":\"\"},\"colorscale\":[[0.0,\"#0d0887\"],[0.1111111111111111,\"#46039f\"],[0.2222222222222222,\"#7201a8\"],[0.3333333333333333,\"#9c179e\"],[0.4444444444444444,\"#bd3786\"],[0.5555555555555556,\"#d8576b\"],[0.6666666666666666,\"#ed7953\"],[0.7777777777777778,\"#fb9f3a\"],[0.8888888888888888,\"#fdca26\"],[1.0,\"#f0f921\"]]}],\"mesh3d\":[{\"type\":\"mesh3d\",\"colorbar\":{\"outlinewidth\":0,\"ticks\":\"\"}}],\"scatter\":[{\"fillpattern\":{\"fillmode\":\"overlay\",\"size\":10,\"solidity\":0.2},\"type\":\"scatter\"}],\"parcoords\":[{\"type\":\"parcoords\",\"line\":{\"colorbar\":{\"outlinewidth\":0,\"ticks\":\"\"}}}],\"scatterpolargl\":[{\"type\":\"scatterpolargl\",\"marker\":{\"colorbar\":{\"outlinewidth\":0,\"ticks\":\"\"}}}],\"bar\":[{\"error_x\":{\"color\":\"#2a3f5f\"},\"error_y\":{\"color\":\"#2a3f5f\"},\"marker\":{\"line\":{\"color\":\"#E5ECF6\",\"width\":0.5},\"pattern\":{\"fillmode\":\"overlay\",\"size\":10,\"solidity\":0.2}},\"type\":\"bar\"}],\"scattergeo\":[{\"type\":\"scattergeo\",\"marker\":{\"colorbar\":{\"outlinewidth\":0,\"ticks\":\"\"}}}],\"scatterpolar\":[{\"type\":\"scatterpolar\",\"marker\":{\"colorbar\":{\"outlinewidth\":0,\"ticks\":\"\"}}}],\"histogram\":[{\"marker\":{\"pattern\":{\"fillmode\":\"overlay\",\"size\":10,\"solidity\":0.2}},\"type\":\"histogram\"}],\"scattergl\":[{\"type\":\"scattergl\",\"marker\":{\"colorbar\":{\"outlinewidth\":0,\"ticks\":\"\"}}}],\"scatter3d\":[{\"type\":\"scatter3d\",\"line\":{\"colorbar\":{\"outlinewidth\":0,\"ticks\":\"\"}},\"marker\":{\"colorbar\":{\"outlinewidth\":0,\"ticks\":\"\"}}}],\"scattermapbox\":[{\"type\":\"scattermapbox\",\"marker\":{\"colorbar\":{\"outlinewidth\":0,\"ticks\":\"\"}}}],\"scatterternary\":[{\"type\":\"scatterternary\",\"marker\":{\"colorbar\":{\"outlinewidth\":0,\"ticks\":\"\"}}}],\"scattercarpet\":[{\"type\":\"scattercarpet\",\"marker\":{\"colorbar\":{\"outlinewidth\":0,\"ticks\":\"\"}}}],\"carpet\":[{\"aaxis\":{\"endlinecolor\":\"#2a3f5f\",\"gridcolor\":\"white\",\"linecolor\":\"white\",\"minorgridcolor\":\"white\",\"startlinecolor\":\"#2a3f5f\"},\"baxis\":{\"endlinecolor\":\"#2a3f5f\",\"gridcolor\":\"white\",\"linecolor\":\"white\",\"minorgridcolor\":\"white\",\"startlinecolor\":\"#2a3f5f\"},\"type\":\"carpet\"}],\"table\":[{\"cells\":{\"fill\":{\"color\":\"#EBF0F8\"},\"line\":{\"color\":\"white\"}},\"header\":{\"fill\":{\"color\":\"#C8D4E3\"},\"line\":{\"color\":\"white\"}},\"type\":\"table\"}],\"barpolar\":[{\"marker\":{\"line\":{\"color\":\"#E5ECF6\",\"width\":0.5},\"pattern\":{\"fillmode\":\"overlay\",\"size\":10,\"solidity\":0.2}},\"type\":\"barpolar\"}],\"pie\":[{\"automargin\":true,\"type\":\"pie\"}]},\"layout\":{\"autotypenumbers\":\"strict\",\"colorway\":[\"#636efa\",\"#EF553B\",\"#00cc96\",\"#ab63fa\",\"#FFA15A\",\"#19d3f3\",\"#FF6692\",\"#B6E880\",\"#FF97FF\",\"#FECB52\"],\"font\":{\"color\":\"#2a3f5f\"},\"hovermode\":\"closest\",\"hoverlabel\":{\"align\":\"left\"},\"paper_bgcolor\":\"white\",\"plot_bgcolor\":\"#E5ECF6\",\"polar\":{\"bgcolor\":\"#E5ECF6\",\"angularaxis\":{\"gridcolor\":\"white\",\"linecolor\":\"white\",\"ticks\":\"\"},\"radialaxis\":{\"gridcolor\":\"white\",\"linecolor\":\"white\",\"ticks\":\"\"}},\"ternary\":{\"bgcolor\":\"#E5ECF6\",\"aaxis\":{\"gridcolor\":\"white\",\"linecolor\":\"white\",\"ticks\":\"\"},\"baxis\":{\"gridcolor\":\"white\",\"linecolor\":\"white\",\"ticks\":\"\"},\"caxis\":{\"gridcolor\":\"white\",\"linecolor\":\"white\",\"ticks\":\"\"}},\"coloraxis\":{\"colorbar\":{\"outlinewidth\":0,\"ticks\":\"\"}},\"colorscale\":{\"sequential\":[[0.0,\"#0d0887\"],[0.1111111111111111,\"#46039f\"],[0.2222222222222222,\"#7201a8\"],[0.3333333333333333,\"#9c179e\"],[0.4444444444444444,\"#bd3786\"],[0.5555555555555556,\"#d8576b\"],[0.6666666666666666,\"#ed7953\"],[0.7777777777777778,\"#fb9f3a\"],[0.8888888888888888,\"#fdca26\"],[1.0,\"#f0f921\"]],\"sequentialminus\":[[0.0,\"#0d0887\"],[0.1111111111111111,\"#46039f\"],[0.2222222222222222,\"#7201a8\"],[0.3333333333333333,\"#9c179e\"],[0.4444444444444444,\"#bd3786\"],[0.5555555555555556,\"#d8576b\"],[0.6666666666666666,\"#ed7953\"],[0.7777777777777778,\"#fb9f3a\"],[0.8888888888888888,\"#fdca26\"],[1.0,\"#f0f921\"]],\"diverging\":[[0,\"#8e0152\"],[0.1,\"#c51b7d\"],[0.2,\"#de77ae\"],[0.3,\"#f1b6da\"],[0.4,\"#fde0ef\"],[0.5,\"#f7f7f7\"],[0.6,\"#e6f5d0\"],[0.7,\"#b8e186\"],[0.8,\"#7fbc41\"],[0.9,\"#4d9221\"],[1,\"#276419\"]]},\"xaxis\":{\"gridcolor\":\"white\",\"linecolor\":\"white\",\"ticks\":\"\",\"title\":{\"standoff\":15},\"zerolinecolor\":\"white\",\"automargin\":true,\"zerolinewidth\":2},\"yaxis\":{\"gridcolor\":\"white\",\"linecolor\":\"white\",\"ticks\":\"\",\"title\":{\"standoff\":15},\"zerolinecolor\":\"white\",\"automargin\":true,\"zerolinewidth\":2},\"scene\":{\"xaxis\":{\"backgroundcolor\":\"#E5ECF6\",\"gridcolor\":\"white\",\"linecolor\":\"white\",\"showbackground\":true,\"ticks\":\"\",\"zerolinecolor\":\"white\",\"gridwidth\":2},\"yaxis\":{\"backgroundcolor\":\"#E5ECF6\",\"gridcolor\":\"white\",\"linecolor\":\"white\",\"showbackground\":true,\"ticks\":\"\",\"zerolinecolor\":\"white\",\"gridwidth\":2},\"zaxis\":{\"backgroundcolor\":\"#E5ECF6\",\"gridcolor\":\"white\",\"linecolor\":\"white\",\"showbackground\":true,\"ticks\":\"\",\"zerolinecolor\":\"white\",\"gridwidth\":2}},\"shapedefaults\":{\"line\":{\"color\":\"#2a3f5f\"}},\"annotationdefaults\":{\"arrowcolor\":\"#2a3f5f\",\"arrowhead\":0,\"arrowwidth\":1},\"geo\":{\"bgcolor\":\"white\",\"landcolor\":\"#E5ECF6\",\"subunitcolor\":\"white\",\"showland\":true,\"showlakes\":true,\"lakecolor\":\"white\"},\"title\":{\"x\":0.05},\"mapbox\":{\"style\":\"light\"}}},\"xaxis\":{\"anchor\":\"y\",\"domain\":[0.0,1.0],\"title\":{\"text\":\"count\"}},\"yaxis\":{\"anchor\":\"x\",\"domain\":[0.0,1.0],\"title\":{\"text\":\"Contract\"},\"categoryorder\":\"total ascending\"},\"legend\":{\"title\":{\"text\":\"Churn\"},\"tracegroupgap\":0},\"margin\":{\"t\":60},\"barmode\":\"relative\"},                        {\"responsive\": true}                    ).then(function(){\n",
              "                            \n",
              "var gd = document.getElementById('b6138121-b1ff-4b3c-800b-a25ea00161fb');\n",
              "var x = new MutationObserver(function (mutations, observer) {{\n",
              "        var display = window.getComputedStyle(gd).display;\n",
              "        if (!display || display === 'none') {{\n",
              "            console.log([gd, 'removed!']);\n",
              "            Plotly.purge(gd);\n",
              "            observer.disconnect();\n",
              "        }}\n",
              "}});\n",
              "\n",
              "// Listen for the removal of the full notebook cells\n",
              "var notebookContainer = gd.closest('#notebook-container');\n",
              "if (notebookContainer) {{\n",
              "    x.observe(notebookContainer, {childList: true});\n",
              "}}\n",
              "\n",
              "// Listen for the clearing of the current output cell\n",
              "var outputEl = gd.closest('.output');\n",
              "if (outputEl) {{\n",
              "    x.observe(outputEl, {childList: true});\n",
              "}}\n",
              "\n",
              "                        })                };                            </script>        </div>\n",
              "</body>\n",
              "</html>"
            ]
          },
          "metadata": {}
        }
      ]
    },
    {
      "cell_type": "code",
      "source": [
        "# Identificando o incidência de Churn quanto ao cliente possuir dependentes\n",
        "grafico_dependents = px.histogram(df, y='Dependents', color='Churn', orientation='h')\n",
        "grafico_dependents.update_yaxes(categoryorder='total ascending')\n",
        "grafico_dependents.show()"
      ],
      "metadata": {
        "colab": {
          "base_uri": "https://localhost:8080/",
          "height": 542
        },
        "id": "Jy4a698TRa4m",
        "outputId": "26335532-8e7f-4ac3-a354-66e0a4eb68de"
      },
      "execution_count": 255,
      "outputs": [
        {
          "output_type": "display_data",
          "data": {
            "text/html": [
              "<html>\n",
              "<head><meta charset=\"utf-8\" /></head>\n",
              "<body>\n",
              "    <div>            <script src=\"https://cdnjs.cloudflare.com/ajax/libs/mathjax/2.7.5/MathJax.js?config=TeX-AMS-MML_SVG\"></script><script type=\"text/javascript\">if (window.MathJax && window.MathJax.Hub && window.MathJax.Hub.Config) {window.MathJax.Hub.Config({SVG: {font: \"STIX-Web\"}});}</script>                <script type=\"text/javascript\">window.PlotlyConfig = {MathJaxConfig: 'local'};</script>\n",
              "        <script charset=\"utf-8\" src=\"https://cdn.plot.ly/plotly-2.35.2.min.js\"></script>                <div id=\"50519db0-e744-4ba2-89a9-6b469282396f\" class=\"plotly-graph-div\" style=\"height:525px; width:100%;\"></div>            <script type=\"text/javascript\">                                    window.PLOTLYENV=window.PLOTLYENV || {};                                    if (document.getElementById(\"50519db0-e744-4ba2-89a9-6b469282396f\")) {                    Plotly.newPlot(                        \"50519db0-e744-4ba2-89a9-6b469282396f\",                        [{\"alignmentgroup\":\"True\",\"bingroup\":\"y\",\"hovertemplate\":\"Churn=No\\u003cbr\\u003ecount=%{x}\\u003cbr\\u003eDependents=%{y}\\u003cextra\\u003e\\u003c\\u002fextra\\u003e\",\"legendgroup\":\"No\",\"marker\":{\"color\":\"#636efa\",\"pattern\":{\"shape\":\"\"}},\"name\":\"No\",\"offsetgroup\":\"No\",\"orientation\":\"h\",\"showlegend\":true,\"xaxis\":\"x\",\"y\":[\"Yes\",\"No\",\"Yes\",\"No\",\"No\",\"No\",\"Yes\",\"No\",\"Yes\",\"No\",\"No\",\"No\",\"Yes\",\"Yes\",\"No\",\"No\",\"Yes\",\"No\",\"Yes\",\"Yes\",\"No\",\"Yes\",\"Yes\",\"No\",\"No\",\"No\",\"Yes\",\"Yes\",\"No\",\"No\",\"Yes\",\"Yes\",\"No\",\"Yes\",\"Yes\",\"Yes\",\"No\",\"No\",\"No\",\"No\",\"No\",\"No\",\"Yes\",\"No\",\"No\",\"No\",\"No\",\"No\",\"No\",\"No\",\"No\",\"No\",\"Yes\",\"Yes\",\"No\",\"No\",\"No\",\"No\",\"No\",\"Yes\",\"Yes\",\"No\",\"Yes\",\"No\",\"No\",\"No\",\"No\",\"No\",\"No\",\"No\",\"No\",\"No\",\"No\",\"Yes\",\"No\",\"No\",\"Yes\",\"Yes\",\"No\",\"No\",\"Yes\",\"No\",\"Yes\",\"No\",\"No\",\"Yes\",\"No\",\"Yes\",\"No\",\"Yes\",\"No\",\"No\",\"No\",\"Yes\",\"No\",\"Yes\",\"No\",\"No\",\"Yes\",\"No\",\"No\",\"No\",\"No\",\"No\",\"No\",\"No\",\"Yes\",\"No\",\"Yes\",\"No\",\"Yes\",\"Yes\",\"No\",\"No\",\"Yes\",\"No\",\"No\",\"Yes\",\"Yes\",\"No\",\"Yes\",\"Yes\",\"Yes\",\"Yes\",\"Yes\",\"Yes\",\"Yes\",\"Yes\",\"Yes\",\"Yes\",\"No\",\"Yes\",\"Yes\",\"No\",\"Yes\",\"No\",\"No\",\"Yes\",\"Yes\",\"No\",\"No\",\"No\",\"Yes\",\"No\",\"No\",\"No\",\"No\",\"No\",\"No\",\"No\",\"No\",\"No\",\"Yes\",\"No\",\"Yes\",\"No\",\"Yes\",\"No\",\"No\",\"No\",\"No\",\"No\",\"No\",\"No\",\"Yes\",\"No\",\"No\",\"Yes\",\"No\",\"No\",\"Yes\",\"No\",\"No\",\"No\",\"No\",\"Yes\",\"No\",\"No\",\"No\",\"No\",\"No\",\"Yes\",\"No\",\"Yes\",\"No\",\"No\",\"No\",\"No\",\"No\",\"Yes\",\"No\",\"Yes\",\"No\",\"Yes\",\"No\",\"No\",\"Yes\",\"Yes\",\"No\",\"No\",\"No\",\"No\",\"No\",\"No\",\"No\",\"No\",\"Yes\",\"No\",\"No\",\"No\",\"No\",\"No\",\"No\",\"No\",\"No\",\"No\",\"No\",\"No\",\"No\",\"No\",\"No\",\"No\",\"No\",\"No\",\"No\",\"Yes\",\"No\",\"Yes\",\"Yes\",\"No\",\"No\",\"Yes\",\"No\",\"No\",\"Yes\",\"No\",\"Yes\",\"No\",\"No\",\"No\",\"Yes\",\"Yes\",\"No\",\"No\",\"Yes\",\"Yes\",\"No\",\"No\",\"No\",\"Yes\",\"Yes\",\"Yes\",\"No\",\"Yes\",\"Yes\",\"No\",\"No\",\"Yes\",\"No\",\"No\",\"Yes\",\"Yes\",\"No\",\"No\",\"No\",\"No\",\"No\",\"Yes\",\"No\",\"Yes\",\"No\",\"No\",\"No\",\"Yes\",\"No\",\"Yes\",\"Yes\",\"No\",\"Yes\",\"No\",\"No\",\"Yes\",\"No\",\"Yes\",\"No\",\"No\",\"Yes\",\"No\",\"No\",\"No\",\"No\",\"No\",\"Yes\",\"Yes\",\"No\",\"No\",\"Yes\",\"Yes\",\"Yes\",\"Yes\",\"No\",\"Yes\",\"No\",\"No\",\"Yes\",\"No\",\"No\",\"No\",\"No\",\"No\",\"No\",\"Yes\",\"No\",\"No\",\"Yes\",\"No\",\"No\",\"No\",\"Yes\",\"No\",\"No\",\"Yes\",\"Yes\",\"No\",\"No\",\"No\",\"No\",\"No\",\"No\",\"No\",\"No\",\"No\",\"No\",\"No\",\"Yes\",\"No\",\"Yes\",\"No\",\"Yes\",\"No\",\"No\",\"Yes\",\"No\",\"Yes\",\"No\",\"No\",\"No\",\"No\",\"No\",\"No\",\"No\",\"No\",\"No\",\"No\",\"No\",\"Yes\",\"No\",\"Yes\",\"Yes\",\"Yes\",\"Yes\",\"No\",\"Yes\",\"Yes\",\"No\",\"Yes\",\"No\",\"No\",\"No\",\"Yes\",\"No\",\"Yes\",\"Yes\",\"No\",\"Yes\",\"Yes\",\"Yes\",\"No\",\"No\",\"Yes\",\"No\",\"No\",\"Yes\",\"No\",\"Yes\",\"No\",\"Yes\",\"No\",\"Yes\",\"Yes\",\"Yes\",\"Yes\",\"No\",\"Yes\",\"No\",\"No\",\"No\",\"No\",\"Yes\",\"No\",\"No\",\"No\",\"No\",\"No\",\"No\",\"Yes\",\"Yes\",\"No\",\"Yes\",\"No\",\"No\",\"No\",\"No\",\"Yes\",\"No\",\"No\",\"No\",\"No\",\"No\",\"Yes\",\"No\",\"Yes\",\"Yes\",\"Yes\",\"No\",\"No\",\"No\",\"No\",\"No\",\"No\",\"No\",\"No\",\"No\",\"No\",\"Yes\",\"Yes\",\"No\",\"No\",\"No\",\"No\",\"Yes\",\"No\",\"No\",\"Yes\",\"No\",\"Yes\",\"No\",\"Yes\",\"No\",\"No\",\"Yes\",\"No\",\"No\",\"No\",\"No\",\"No\",\"No\",\"No\",\"No\",\"Yes\",\"Yes\",\"Yes\",\"Yes\",\"No\",\"Yes\",\"No\",\"No\",\"No\",\"No\",\"Yes\",\"Yes\",\"Yes\",\"Yes\",\"Yes\",\"No\",\"No\",\"Yes\",\"No\",\"No\",\"No\",\"Yes\",\"Yes\",\"No\",\"Yes\",\"No\",\"No\",\"Yes\",\"Yes\",\"Yes\",\"No\",\"Yes\",\"No\",\"No\",\"Yes\",\"No\",\"No\",\"No\",\"No\",\"No\",\"Yes\",\"No\",\"Yes\",\"No\",\"Yes\",\"Yes\",\"Yes\",\"No\",\"Yes\",\"No\",\"No\",\"No\",\"Yes\",\"No\",\"Yes\",\"Yes\",\"No\",\"No\",\"Yes\",\"Yes\",\"Yes\",\"Yes\",\"No\",\"Yes\",\"No\",\"Yes\",\"No\",\"No\",\"Yes\",\"Yes\",\"No\",\"Yes\",\"No\",\"Yes\",\"Yes\",\"Yes\",\"Yes\",\"Yes\",\"Yes\",\"No\",\"Yes\",\"No\",\"Yes\",\"No\",\"Yes\",\"No\",\"No\",\"Yes\",\"No\",\"No\",\"Yes\",\"No\",\"Yes\",\"No\",\"No\",\"Yes\",\"Yes\",\"No\",\"No\",\"No\",\"No\",\"Yes\",\"No\",\"No\",\"Yes\",\"No\",\"Yes\",\"No\",\"No\",\"No\",\"No\",\"Yes\",\"No\",\"No\",\"No\",\"Yes\",\"No\",\"Yes\",\"Yes\",\"Yes\",\"No\",\"No\",\"No\",\"No\",\"No\",\"Yes\",\"No\",\"No\",\"Yes\",\"Yes\",\"No\",\"No\",\"No\",\"Yes\",\"No\",\"No\",\"No\",\"No\",\"No\",\"No\",\"No\",\"Yes\",\"Yes\",\"Yes\",\"No\",\"No\",\"No\",\"No\",\"No\",\"Yes\",\"No\",\"No\",\"No\",\"Yes\",\"Yes\",\"Yes\",\"No\",\"Yes\",\"No\",\"No\",\"No\",\"No\",\"No\",\"No\",\"No\",\"No\",\"No\",\"No\",\"Yes\",\"Yes\",\"No\",\"Yes\",\"No\",\"No\",\"No\",\"No\",\"No\",\"No\",\"Yes\",\"Yes\",\"Yes\",\"No\",\"Yes\",\"No\",\"No\",\"Yes\",\"No\",\"Yes\",\"Yes\",\"Yes\",\"Yes\",\"No\",\"No\",\"Yes\",\"No\",\"No\",\"Yes\",\"No\",\"No\",\"Yes\",\"No\",\"No\",\"Yes\",\"No\",\"No\",\"No\",\"No\",\"Yes\",\"No\",\"No\",\"Yes\",\"No\",\"No\",\"Yes\",\"Yes\",\"Yes\",\"No\",\"No\",\"No\",\"No\",\"Yes\",\"Yes\",\"No\",\"No\",\"Yes\",\"Yes\",\"No\",\"No\",\"Yes\",\"No\",\"Yes\",\"No\",\"No\",\"Yes\",\"No\",\"No\",\"No\",\"Yes\",\"No\",\"No\",\"No\",\"Yes\",\"No\",\"No\",\"No\",\"Yes\",\"No\",\"No\",\"Yes\",\"No\",\"No\",\"Yes\",\"Yes\",\"Yes\",\"Yes\",\"Yes\",\"Yes\",\"No\",\"Yes\",\"No\",\"No\",\"No\",\"Yes\",\"No\",\"No\",\"No\",\"No\",\"Yes\",\"Yes\",\"No\",\"No\",\"No\",\"Yes\",\"Yes\",\"Yes\",\"Yes\",\"No\",\"Yes\",\"Yes\",\"No\",\"No\",\"Yes\",\"No\",\"No\",\"Yes\",\"Yes\",\"No\",\"Yes\",\"No\",\"Yes\",\"No\",\"No\",\"No\",\"No\",\"No\",\"No\",\"Yes\",\"Yes\",\"Yes\",\"Yes\",\"Yes\",\"Yes\",\"No\",\"Yes\",\"Yes\",\"No\",\"No\",\"Yes\",\"No\",\"Yes\",\"No\",\"No\",\"Yes\",\"No\",\"No\",\"No\",\"Yes\",\"No\",\"Yes\",\"No\",\"No\",\"No\",\"Yes\",\"No\",\"Yes\",\"No\",\"No\",\"Yes\",\"No\",\"No\",\"No\",\"Yes\",\"Yes\",\"Yes\",\"No\",\"No\",\"No\",\"No\",\"No\",\"No\",\"Yes\",\"Yes\",\"No\",\"No\",\"No\",\"No\",\"No\",\"No\",\"No\",\"No\",\"No\",\"No\",\"Yes\",\"No\",\"No\",\"No\",\"Yes\",\"Yes\",\"No\",\"No\",\"No\",\"No\",\"Yes\",\"No\",\"No\",\"No\",\"No\",\"No\",\"Yes\",\"No\",\"No\",\"Yes\",\"No\",\"No\",\"No\",\"Yes\",\"No\",\"Yes\",\"Yes\",\"Yes\",\"No\",\"No\",\"Yes\",\"No\",\"No\",\"No\",\"No\",\"No\",\"No\",\"Yes\",\"No\",\"Yes\",\"Yes\",\"Yes\",\"No\",\"No\",\"Yes\",\"No\",\"No\",\"No\",\"Yes\",\"Yes\",\"Yes\",\"No\",\"No\",\"No\",\"No\",\"No\",\"No\",\"Yes\",\"Yes\",\"Yes\",\"No\",\"No\",\"Yes\",\"No\",\"No\",\"Yes\",\"No\",\"No\",\"Yes\",\"Yes\",\"No\",\"No\",\"No\",\"No\",\"Yes\",\"No\",\"Yes\",\"Yes\",\"No\",\"No\",\"No\",\"Yes\",\"Yes\",\"No\",\"No\",\"Yes\",\"No\",\"No\",\"Yes\",\"No\",\"Yes\",\"Yes\",\"Yes\",\"No\",\"Yes\",\"Yes\",\"No\",\"Yes\",\"No\",\"No\",\"No\",\"Yes\",\"Yes\",\"No\",\"No\",\"No\",\"Yes\",\"Yes\",\"No\",\"No\",\"No\",\"No\",\"Yes\",\"No\",\"No\",\"Yes\",\"No\",\"No\",\"No\",\"No\",\"Yes\",\"No\",\"Yes\",\"Yes\",\"No\",\"Yes\",\"No\",\"No\",\"No\",\"Yes\",\"Yes\",\"No\",\"No\",\"No\",\"No\",\"No\",\"No\",\"Yes\",\"No\",\"Yes\",\"Yes\",\"No\",\"Yes\",\"No\",\"No\",\"No\",\"No\",\"Yes\",\"No\",\"No\",\"No\",\"Yes\",\"No\",\"No\",\"Yes\",\"No\",\"Yes\",\"No\",\"No\",\"No\",\"No\",\"No\",\"No\",\"Yes\",\"No\",\"No\",\"No\",\"No\",\"No\",\"No\",\"No\",\"No\",\"No\",\"No\",\"No\",\"Yes\",\"Yes\",\"No\",\"No\",\"Yes\",\"Yes\",\"No\",\"No\",\"Yes\",\"Yes\",\"No\",\"Yes\",\"No\",\"No\",\"No\",\"No\",\"Yes\",\"No\",\"No\",\"Yes\",\"No\",\"No\",\"No\",\"No\",\"Yes\",\"No\",\"No\",\"No\",\"Yes\",\"No\",\"No\",\"No\",\"No\",\"No\",\"No\",\"No\",\"No\",\"Yes\",\"Yes\",\"Yes\",\"No\",\"No\",\"No\",\"No\",\"Yes\",\"No\",\"No\",\"No\",\"No\",\"No\",\"No\",\"Yes\",\"Yes\",\"No\",\"No\",\"No\",\"No\",\"No\",\"No\",\"No\",\"No\",\"No\",\"No\",\"No\",\"No\",\"Yes\",\"No\",\"Yes\",\"Yes\",\"No\",\"Yes\",\"Yes\",\"No\",\"No\",\"No\",\"No\",\"Yes\",\"No\",\"No\",\"No\",\"No\",\"Yes\",\"Yes\",\"Yes\",\"No\",\"No\",\"Yes\",\"No\",\"No\",\"No\",\"No\",\"Yes\",\"No\",\"No\",\"No\",\"No\",\"No\",\"No\",\"No\",\"No\",\"Yes\",\"No\",\"No\",\"Yes\",\"No\",\"No\",\"No\",\"Yes\",\"No\",\"Yes\",\"Yes\",\"Yes\",\"Yes\",\"No\",\"No\",\"Yes\",\"Yes\",\"No\",\"No\",\"Yes\",\"Yes\",\"No\",\"No\",\"Yes\",\"No\",\"Yes\",\"Yes\",\"Yes\",\"No\",\"Yes\",\"No\",\"No\",\"Yes\",\"Yes\",\"No\",\"Yes\",\"No\",\"No\",\"Yes\",\"Yes\",\"No\",\"Yes\",\"No\",\"Yes\",\"Yes\",\"No\",\"Yes\",\"No\",\"No\",\"No\",\"Yes\",\"Yes\",\"No\",\"No\",\"No\",\"No\",\"Yes\",\"No\",\"No\",\"No\",\"No\",\"No\",\"No\",\"No\",\"No\",\"No\",\"No\",\"No\",\"No\",\"Yes\",\"No\",\"Yes\",\"Yes\",\"No\",\"No\",\"No\",\"No\",\"No\",\"No\",\"No\",\"Yes\",\"Yes\",\"No\",\"No\",\"No\",\"No\",\"No\",\"No\",\"No\",\"No\",\"No\",\"Yes\",\"No\",\"No\",\"Yes\",\"No\",\"No\",\"No\",\"No\",\"Yes\",\"No\",\"No\",\"Yes\",\"Yes\",\"Yes\",\"No\",\"No\",\"No\",\"No\",\"No\",\"No\",\"No\",\"No\",\"No\",\"No\",\"No\",\"No\",\"No\",\"Yes\",\"No\",\"No\",\"No\",\"No\",\"No\",\"No\",\"Yes\",\"No\",\"Yes\",\"No\",\"No\",\"Yes\",\"Yes\",\"Yes\",\"Yes\",\"Yes\",\"No\",\"No\",\"No\",\"No\",\"No\",\"No\",\"No\",\"No\",\"Yes\",\"No\",\"No\",\"No\",\"No\",\"No\",\"No\",\"No\",\"No\",\"No\",\"No\",\"No\",\"Yes\",\"No\",\"Yes\",\"Yes\",\"No\",\"No\",\"No\",\"No\",\"No\",\"No\",\"No\",\"No\",\"Yes\",\"Yes\",\"No\",\"No\",\"No\",\"Yes\",\"Yes\",\"No\",\"No\",\"No\",\"No\",\"No\",\"Yes\",\"Yes\",\"Yes\",\"No\",\"No\",\"Yes\",\"Yes\",\"No\",\"No\",\"No\",\"No\",\"No\",\"Yes\",\"Yes\",\"No\",\"Yes\",\"Yes\",\"No\",\"No\",\"No\",\"No\",\"Yes\",\"No\",\"No\",\"No\",\"Yes\",\"No\",\"No\",\"No\",\"No\",\"Yes\",\"No\",\"No\",\"Yes\",\"Yes\",\"No\",\"Yes\",\"No\",\"No\",\"Yes\",\"No\",\"No\",\"No\",\"Yes\",\"Yes\",\"No\",\"No\",\"No\",\"No\",\"Yes\",\"Yes\",\"No\",\"No\",\"No\",\"No\",\"No\",\"No\",\"No\",\"No\",\"Yes\",\"Yes\",\"No\",\"No\",\"No\",\"No\",\"No\",\"Yes\",\"No\",\"Yes\",\"No\",\"No\",\"Yes\",\"Yes\",\"No\",\"Yes\",\"No\",\"No\",\"No\",\"No\",\"No\",\"Yes\",\"No\",\"No\",\"No\",\"No\",\"No\",\"No\",\"No\",\"No\",\"No\",\"No\",\"No\",\"No\",\"Yes\",\"No\",\"Yes\",\"No\",\"No\",\"No\",\"No\",\"Yes\",\"No\",\"No\",\"No\",\"Yes\",\"No\",\"No\",\"No\",\"No\",\"No\",\"Yes\",\"Yes\",\"Yes\",\"Yes\",\"Yes\",\"Yes\",\"Yes\",\"No\",\"No\",\"No\",\"Yes\",\"No\",\"No\",\"No\",\"Yes\",\"No\",\"No\",\"No\",\"No\",\"No\",\"No\",\"No\",\"No\",\"Yes\",\"No\",\"No\",\"No\",\"No\",\"Yes\",\"No\",\"Yes\",\"No\",\"No\",\"No\",\"Yes\",\"Yes\",\"No\",\"No\",\"Yes\",\"No\",\"No\",\"No\",\"Yes\",\"No\",\"Yes\",\"No\",\"Yes\",\"No\",\"No\",\"Yes\",\"No\",\"No\",\"Yes\",\"No\",\"Yes\",\"Yes\",\"No\",\"Yes\",\"Yes\",\"No\",\"No\",\"No\",\"No\",\"Yes\",\"No\",\"No\",\"No\",\"No\",\"No\",\"No\",\"No\",\"Yes\",\"No\",\"No\",\"Yes\",\"No\",\"No\",\"Yes\",\"No\",\"No\",\"Yes\",\"No\",\"No\",\"Yes\",\"Yes\",\"No\",\"No\",\"No\",\"Yes\",\"No\",\"Yes\",\"Yes\",\"Yes\",\"No\",\"Yes\",\"No\",\"No\",\"Yes\",\"No\",\"Yes\",\"No\",\"No\",\"Yes\",\"Yes\",\"No\",\"No\",\"Yes\",\"No\",\"Yes\",\"No\",\"Yes\",\"No\",\"No\",\"Yes\",\"No\",\"Yes\",\"No\",\"No\",\"No\",\"Yes\",\"No\",\"Yes\",\"No\",\"Yes\",\"No\",\"Yes\",\"No\",\"No\",\"Yes\",\"No\",\"No\",\"No\",\"Yes\",\"No\",\"No\",\"Yes\",\"No\",\"No\",\"No\",\"No\",\"No\",\"No\",\"Yes\",\"Yes\",\"No\",\"Yes\",\"No\",\"No\",\"No\",\"No\",\"No\",\"No\",\"Yes\",\"No\",\"No\",\"Yes\",\"No\",\"No\",\"No\",\"No\",\"Yes\",\"Yes\",\"No\",\"No\",\"Yes\",\"Yes\",\"Yes\",\"No\",\"No\",\"No\",\"No\",\"Yes\",\"No\",\"No\",\"No\",\"Yes\",\"No\",\"No\",\"No\",\"No\",\"No\",\"Yes\",\"No\",\"Yes\",\"No\",\"No\",\"No\",\"Yes\",\"Yes\",\"Yes\",\"Yes\",\"Yes\",\"No\",\"No\",\"No\",\"Yes\",\"No\",\"No\",\"Yes\",\"No\",\"Yes\",\"No\",\"No\",\"No\",\"Yes\",\"No\",\"No\",\"Yes\",\"Yes\",\"Yes\",\"No\",\"No\",\"Yes\",\"No\",\"No\",\"Yes\",\"No\",\"No\",\"Yes\",\"Yes\",\"Yes\",\"Yes\",\"Yes\",\"No\",\"No\",\"No\",\"No\",\"No\",\"Yes\",\"No\",\"Yes\",\"No\",\"Yes\",\"No\",\"Yes\",\"Yes\",\"No\",\"Yes\",\"No\",\"No\",\"Yes\",\"No\",\"Yes\",\"Yes\",\"Yes\",\"No\",\"Yes\",\"No\",\"No\",\"Yes\",\"No\",\"No\",\"Yes\",\"Yes\",\"Yes\",\"Yes\",\"No\",\"No\",\"No\",\"No\",\"No\",\"No\",\"No\",\"No\",\"Yes\",\"No\",\"No\",\"Yes\",\"No\",\"No\",\"No\",\"No\",\"No\",\"Yes\",\"No\",\"Yes\",\"Yes\",\"No\",\"No\",\"No\",\"No\",\"No\",\"No\",\"No\",\"Yes\",\"Yes\",\"No\",\"No\",\"No\",\"Yes\",\"No\",\"No\",\"Yes\",\"Yes\",\"No\",\"Yes\",\"No\",\"Yes\",\"No\",\"Yes\",\"No\",\"Yes\",\"Yes\",\"Yes\",\"No\",\"No\",\"No\",\"Yes\",\"No\",\"Yes\",\"No\",\"No\",\"No\",\"Yes\",\"No\",\"No\",\"Yes\",\"No\",\"No\",\"No\",\"No\",\"No\",\"No\",\"Yes\",\"No\",\"No\",\"No\",\"No\",\"No\",\"No\",\"Yes\",\"No\",\"No\",\"No\",\"Yes\",\"No\",\"Yes\",\"Yes\",\"No\",\"No\",\"Yes\",\"No\",\"Yes\",\"Yes\",\"Yes\",\"No\",\"No\",\"Yes\",\"No\",\"Yes\",\"Yes\",\"No\",\"Yes\",\"Yes\",\"No\",\"Yes\",\"Yes\",\"No\",\"No\",\"Yes\",\"Yes\",\"Yes\",\"Yes\",\"No\",\"No\",\"No\",\"No\",\"Yes\",\"No\",\"No\",\"No\",\"No\",\"No\",\"Yes\",\"No\",\"No\",\"No\",\"No\",\"Yes\",\"No\",\"No\",\"No\",\"Yes\",\"No\",\"No\",\"No\",\"No\",\"No\",\"No\",\"Yes\",\"No\",\"Yes\",\"No\",\"Yes\",\"No\",\"Yes\",\"Yes\",\"Yes\",\"Yes\",\"Yes\",\"Yes\",\"No\",\"No\",\"No\",\"Yes\",\"Yes\",\"No\",\"Yes\",\"No\",\"No\",\"No\",\"Yes\",\"Yes\",\"No\",\"No\",\"Yes\",\"No\",\"Yes\",\"No\",\"No\",\"Yes\",\"No\",\"No\",\"Yes\",\"No\",\"No\",\"No\",\"No\",\"Yes\",\"No\",\"No\",\"No\",\"Yes\",\"No\",\"No\",\"No\",\"Yes\",\"Yes\",\"Yes\",\"No\",\"No\",\"Yes\",\"Yes\",\"Yes\",\"No\",\"No\",\"Yes\",\"Yes\",\"No\",\"No\",\"Yes\",\"No\",\"Yes\",\"Yes\",\"No\",\"Yes\",\"Yes\",\"No\",\"No\",\"Yes\",\"Yes\",\"No\",\"No\",\"No\",\"No\",\"No\",\"No\",\"No\",\"No\",\"No\",\"No\",\"No\",\"No\",\"No\",\"No\",\"No\",\"Yes\",\"No\",\"Yes\",\"Yes\",\"No\",\"No\",\"No\",\"No\",\"No\",\"Yes\",\"No\",\"No\",\"No\",\"Yes\",\"No\",\"Yes\",\"Yes\",\"Yes\",\"No\",\"Yes\",\"Yes\",\"No\",\"Yes\",\"No\",\"Yes\",\"No\",\"Yes\",\"No\",\"No\",\"No\",\"No\",\"No\",\"No\",\"No\",\"Yes\",\"Yes\",\"No\",\"Yes\",\"No\",\"No\",\"No\",\"Yes\",\"No\",\"No\",\"No\",\"Yes\",\"No\",\"No\",\"Yes\",\"No\",\"No\",\"No\",\"No\",\"No\",\"No\",\"No\",\"Yes\",\"No\",\"No\",\"No\",\"No\",\"No\",\"No\",\"No\",\"No\",\"Yes\",\"Yes\",\"Yes\",\"No\",\"Yes\",\"No\",\"No\",\"No\",\"No\",\"Yes\",\"No\",\"No\",\"No\",\"No\",\"No\",\"Yes\",\"No\",\"No\",\"Yes\",\"Yes\",\"No\",\"No\",\"No\",\"No\",\"Yes\",\"No\",\"Yes\",\"No\",\"Yes\",\"Yes\",\"No\",\"No\",\"Yes\",\"Yes\",\"No\",\"No\",\"No\",\"Yes\",\"No\",\"Yes\",\"Yes\",\"No\",\"Yes\",\"No\",\"No\",\"No\",\"No\",\"Yes\",\"No\",\"Yes\",\"Yes\",\"Yes\",\"No\",\"No\",\"No\",\"Yes\",\"No\",\"No\",\"No\",\"No\",\"No\",\"Yes\",\"No\",\"Yes\",\"No\",\"Yes\",\"No\",\"No\",\"Yes\",\"Yes\",\"No\",\"No\",\"Yes\",\"No\",\"No\",\"No\",\"Yes\",\"Yes\",\"Yes\",\"Yes\",\"No\",\"No\",\"Yes\",\"No\",\"No\",\"Yes\",\"Yes\",\"No\",\"Yes\",\"No\",\"No\",\"No\",\"No\",\"Yes\",\"No\",\"No\",\"No\",\"No\",\"Yes\",\"No\",\"No\",\"No\",\"No\",\"Yes\",\"No\",\"No\",\"Yes\",\"No\",\"Yes\",\"No\",\"Yes\",\"No\",\"No\",\"No\",\"No\",\"Yes\",\"Yes\",\"No\",\"No\",\"No\",\"No\",\"Yes\",\"No\",\"No\",\"No\",\"No\",\"No\",\"No\",\"No\",\"Yes\",\"No\",\"Yes\",\"No\",\"No\",\"No\",\"No\",\"Yes\",\"Yes\",\"Yes\",\"Yes\",\"No\",\"No\",\"No\",\"No\",\"No\",\"No\",\"No\",\"No\",\"Yes\",\"No\",\"No\",\"Yes\",\"Yes\",\"Yes\",\"No\",\"No\",\"No\",\"No\",\"Yes\",\"No\",\"No\",\"No\",\"Yes\",\"Yes\",\"Yes\",\"No\",\"No\",\"No\",\"No\",\"Yes\",\"No\",\"No\",\"No\",\"Yes\",\"No\",\"Yes\",\"Yes\",\"No\",\"No\",\"No\",\"No\",\"No\",\"Yes\",\"Yes\",\"No\",\"Yes\",\"No\",\"Yes\",\"Yes\",\"No\",\"No\",\"No\",\"Yes\",\"Yes\",\"Yes\",\"No\",\"No\",\"Yes\",\"No\",\"No\",\"Yes\",\"No\",\"No\",\"No\",\"Yes\",\"No\",\"No\",\"No\",\"No\",\"Yes\",\"No\",\"No\",\"No\",\"Yes\",\"No\",\"No\",\"No\",\"No\",\"No\",\"No\",\"No\",\"No\",\"No\",\"No\",\"Yes\",\"No\",\"Yes\",\"No\",\"No\",\"No\",\"No\",\"No\",\"Yes\",\"Yes\",\"Yes\",\"No\",\"Yes\",\"No\",\"No\",\"Yes\",\"No\",\"No\",\"Yes\",\"No\",\"No\",\"Yes\",\"No\",\"No\",\"No\",\"No\",\"No\",\"No\",\"No\",\"Yes\",\"No\",\"Yes\",\"No\",\"Yes\",\"No\",\"Yes\",\"Yes\",\"No\",\"No\",\"No\",\"No\",\"Yes\",\"Yes\",\"No\",\"No\",\"Yes\",\"Yes\",\"Yes\",\"No\",\"No\",\"No\",\"No\",\"Yes\",\"No\",\"Yes\",\"No\",\"Yes\",\"No\",\"No\",\"No\",\"Yes\",\"No\",\"No\",\"Yes\",\"No\",\"No\",\"Yes\",\"No\",\"No\",\"Yes\",\"No\",\"No\",\"Yes\",\"No\",\"Yes\",\"No\",\"No\",\"Yes\",\"Yes\",\"No\",\"No\",\"No\",\"No\",\"No\",\"No\",\"No\",\"Yes\",\"No\",\"No\",\"No\",\"Yes\",\"Yes\",\"No\",\"Yes\",\"No\",\"Yes\",\"No\",\"No\",\"Yes\",\"No\",\"No\",\"No\",\"No\",\"No\",\"No\",\"No\",\"No\",\"Yes\",\"Yes\",\"Yes\",\"Yes\",\"No\",\"No\",\"Yes\",\"Yes\",\"No\",\"No\",\"No\",\"No\",\"No\",\"Yes\",\"No\",\"Yes\",\"No\",\"No\",\"No\",\"Yes\",\"No\",\"Yes\",\"No\",\"No\",\"No\",\"Yes\",\"Yes\",\"Yes\",\"Yes\",\"No\",\"No\",\"No\",\"No\",\"No\",\"No\",\"Yes\",\"No\",\"Yes\",\"Yes\",\"No\",\"No\",\"Yes\",\"No\",\"No\",\"Yes\",\"No\",\"No\",\"No\",\"No\",\"No\",\"Yes\",\"No\",\"Yes\",\"No\",\"Yes\",\"Yes\",\"Yes\",\"No\",\"Yes\",\"No\",\"Yes\",\"Yes\",\"No\",\"Yes\",\"No\",\"No\",\"No\",\"No\",\"No\",\"No\",\"No\",\"No\",\"Yes\",\"No\",\"No\",\"No\",\"Yes\",\"Yes\",\"No\",\"No\",\"No\",\"No\",\"No\",\"Yes\",\"Yes\",\"No\",\"No\",\"No\",\"No\",\"Yes\",\"No\",\"No\",\"No\",\"No\",\"Yes\",\"No\",\"No\",\"Yes\",\"Yes\",\"No\",\"No\",\"Yes\",\"No\",\"Yes\",\"Yes\",\"Yes\",\"Yes\",\"Yes\",\"No\",\"No\",\"Yes\",\"No\",\"Yes\",\"No\",\"No\",\"No\",\"No\",\"Yes\",\"Yes\",\"No\",\"No\",\"Yes\",\"No\",\"No\",\"No\",\"No\",\"Yes\",\"No\",\"No\",\"No\",\"No\",\"No\",\"No\",\"Yes\",\"No\",\"No\",\"No\",\"No\",\"No\",\"Yes\",\"Yes\",\"No\",\"Yes\",\"No\",\"No\",\"No\",\"No\",\"No\",\"Yes\",\"Yes\",\"Yes\",\"No\",\"Yes\",\"Yes\",\"No\",\"No\",\"No\",\"No\",\"Yes\",\"Yes\",\"No\",\"No\",\"No\",\"No\",\"Yes\",\"Yes\",\"No\",\"Yes\",\"No\",\"No\",\"Yes\",\"Yes\",\"No\",\"No\",\"No\",\"Yes\",\"No\",\"No\",\"No\",\"Yes\",\"No\",\"No\",\"No\",\"Yes\",\"No\",\"Yes\",\"Yes\",\"No\",\"No\",\"No\",\"No\",\"No\",\"Yes\",\"Yes\",\"Yes\",\"Yes\",\"Yes\",\"No\",\"No\",\"No\",\"No\",\"No\",\"No\",\"No\",\"Yes\",\"Yes\",\"Yes\",\"No\",\"Yes\",\"Yes\",\"No\",\"No\",\"No\",\"No\",\"Yes\",\"No\",\"Yes\",\"Yes\",\"No\",\"Yes\",\"No\",\"Yes\",\"No\",\"No\",\"No\",\"No\",\"No\",\"No\",\"No\",\"No\",\"No\",\"Yes\",\"No\",\"No\",\"Yes\",\"Yes\",\"No\",\"No\",\"Yes\",\"No\",\"No\",\"No\",\"Yes\",\"Yes\",\"Yes\",\"No\",\"Yes\",\"Yes\",\"No\",\"No\",\"No\",\"No\",\"Yes\",\"No\",\"Yes\",\"Yes\",\"No\",\"Yes\",\"No\",\"No\",\"No\",\"Yes\",\"No\",\"No\",\"No\",\"No\",\"No\",\"No\",\"No\",\"No\",\"No\",\"No\",\"No\",\"Yes\",\"No\",\"No\",\"No\",\"No\",\"Yes\",\"No\",\"No\",\"No\",\"Yes\",\"Yes\",\"Yes\",\"No\",\"Yes\",\"No\",\"No\",\"No\",\"No\",\"Yes\",\"No\",\"Yes\",\"No\",\"No\",\"No\",\"No\",\"No\",\"No\",\"Yes\",\"No\",\"Yes\",\"No\",\"No\",\"No\",\"Yes\",\"No\",\"No\",\"Yes\",\"Yes\",\"No\",\"Yes\",\"No\",\"Yes\",\"No\",\"No\",\"Yes\",\"No\",\"Yes\",\"No\",\"No\",\"Yes\",\"No\",\"No\",\"No\",\"No\",\"No\",\"No\",\"No\",\"No\",\"No\",\"No\",\"No\",\"Yes\",\"No\",\"Yes\",\"Yes\",\"Yes\",\"Yes\",\"Yes\",\"No\",\"No\",\"No\",\"Yes\",\"Yes\",\"Yes\",\"Yes\",\"No\",\"No\",\"No\",\"No\",\"Yes\",\"No\",\"No\",\"No\",\"No\",\"No\",\"No\",\"No\",\"Yes\",\"Yes\",\"No\",\"Yes\",\"No\",\"No\",\"No\",\"No\",\"No\",\"No\",\"Yes\",\"Yes\",\"Yes\",\"No\",\"No\",\"No\",\"Yes\",\"No\",\"No\",\"No\",\"Yes\",\"No\",\"No\",\"No\",\"Yes\",\"No\",\"No\",\"No\",\"No\",\"No\",\"No\",\"Yes\",\"Yes\",\"No\",\"No\",\"Yes\",\"No\",\"Yes\",\"No\",\"Yes\",\"Yes\",\"Yes\",\"Yes\",\"Yes\",\"No\",\"No\",\"Yes\",\"Yes\",\"No\",\"No\",\"No\",\"No\",\"No\",\"Yes\",\"No\",\"No\",\"No\",\"No\",\"Yes\",\"Yes\",\"No\",\"No\",\"No\",\"No\",\"No\",\"No\",\"No\",\"Yes\",\"No\",\"Yes\",\"Yes\",\"No\",\"Yes\",\"Yes\",\"Yes\",\"No\",\"No\",\"No\",\"Yes\",\"No\",\"No\",\"Yes\",\"No\",\"No\",\"No\",\"Yes\",\"Yes\",\"No\",\"Yes\",\"No\",\"No\",\"No\",\"No\",\"No\",\"No\",\"No\",\"No\",\"No\",\"No\",\"No\",\"Yes\",\"No\",\"No\",\"Yes\",\"Yes\",\"No\",\"Yes\",\"Yes\",\"Yes\",\"Yes\",\"No\",\"Yes\",\"No\",\"Yes\",\"Yes\",\"No\",\"No\",\"No\",\"No\",\"Yes\",\"No\",\"Yes\",\"No\",\"No\",\"No\",\"No\",\"No\",\"Yes\",\"Yes\",\"No\",\"No\",\"No\",\"Yes\",\"Yes\",\"No\",\"No\",\"Yes\",\"No\",\"Yes\",\"Yes\",\"Yes\",\"Yes\",\"Yes\",\"No\",\"No\",\"No\",\"No\",\"No\",\"No\",\"No\",\"No\",\"Yes\",\"Yes\",\"Yes\",\"No\",\"Yes\",\"No\",\"No\",\"Yes\",\"No\",\"Yes\",\"Yes\",\"No\",\"No\",\"No\",\"No\",\"Yes\",\"No\",\"No\",\"No\",\"No\",\"Yes\",\"Yes\",\"Yes\",\"Yes\",\"No\",\"No\",\"No\",\"Yes\",\"No\",\"No\",\"No\",\"Yes\",\"Yes\",\"No\",\"Yes\",\"No\",\"No\",\"No\",\"No\",\"No\",\"No\",\"No\",\"No\",\"No\",\"No\",\"No\",\"Yes\",\"No\",\"No\",\"No\",\"No\",\"Yes\",\"Yes\",\"No\",\"No\",\"Yes\",\"No\",\"No\",\"Yes\",\"Yes\",\"No\",\"No\",\"Yes\",\"No\",\"Yes\",\"No\",\"Yes\",\"No\",\"No\",\"No\",\"Yes\",\"No\",\"No\",\"Yes\",\"No\",\"No\",\"No\",\"Yes\",\"No\",\"Yes\",\"No\",\"No\",\"No\",\"No\",\"Yes\",\"Yes\",\"No\",\"Yes\",\"Yes\",\"Yes\",\"Yes\",\"No\",\"No\",\"No\",\"No\",\"No\",\"No\",\"No\",\"No\",\"No\",\"No\",\"No\",\"No\",\"Yes\",\"Yes\",\"Yes\",\"Yes\",\"No\",\"Yes\",\"No\",\"No\",\"No\",\"No\",\"No\",\"No\",\"Yes\",\"Yes\",\"Yes\",\"Yes\",\"No\",\"No\",\"Yes\",\"No\",\"No\",\"No\",\"No\",\"No\",\"No\",\"No\",\"No\",\"No\",\"Yes\",\"No\",\"No\",\"Yes\",\"No\",\"No\",\"Yes\",\"No\",\"Yes\",\"No\",\"No\",\"Yes\",\"No\",\"Yes\",\"No\",\"No\",\"No\",\"No\",\"No\",\"Yes\",\"No\",\"No\",\"Yes\",\"No\",\"No\",\"No\",\"Yes\",\"No\",\"No\",\"Yes\",\"No\",\"No\",\"Yes\",\"Yes\",\"No\",\"No\",\"No\",\"Yes\",\"No\",\"Yes\",\"Yes\",\"No\",\"No\",\"Yes\",\"No\",\"No\",\"No\",\"No\",\"Yes\",\"Yes\",\"No\",\"No\",\"Yes\",\"Yes\",\"No\",\"Yes\",\"Yes\",\"No\",\"No\",\"No\",\"No\",\"Yes\",\"Yes\",\"No\",\"Yes\",\"No\",\"No\",\"No\",\"No\",\"No\",\"No\",\"No\",\"No\",\"Yes\",\"Yes\",\"No\",\"No\",\"No\",\"No\",\"No\",\"No\",\"No\",\"Yes\",\"No\",\"Yes\",\"No\",\"Yes\",\"Yes\",\"No\",\"Yes\",\"No\",\"No\",\"Yes\",\"Yes\",\"Yes\",\"Yes\",\"No\",\"Yes\",\"No\",\"No\",\"No\",\"No\",\"Yes\",\"Yes\",\"No\",\"No\",\"Yes\",\"No\",\"Yes\",\"No\",\"Yes\",\"No\",\"Yes\",\"Yes\",\"No\",\"Yes\",\"Yes\",\"No\",\"No\",\"Yes\",\"No\",\"Yes\",\"No\",\"No\",\"Yes\",\"No\",\"Yes\",\"No\",\"No\",\"Yes\",\"No\",\"No\",\"Yes\",\"No\",\"No\",\"Yes\",\"Yes\",\"No\",\"Yes\",\"Yes\",\"No\",\"No\",\"No\",\"Yes\",\"No\",\"Yes\",\"No\",\"Yes\",\"No\",\"No\",\"No\",\"No\",\"No\",\"No\",\"Yes\",\"No\",\"No\",\"No\",\"No\",\"Yes\",\"Yes\",\"No\",\"No\",\"Yes\",\"Yes\",\"No\",\"No\",\"Yes\",\"No\",\"No\",\"No\",\"Yes\",\"No\",\"No\",\"No\",\"No\",\"No\",\"No\",\"No\",\"No\",\"No\",\"Yes\",\"No\",\"Yes\",\"No\",\"Yes\",\"Yes\",\"No\",\"Yes\",\"Yes\",\"No\",\"No\",\"Yes\",\"Yes\",\"No\",\"No\",\"No\",\"Yes\",\"No\",\"Yes\",\"No\",\"No\",\"No\",\"No\",\"No\",\"No\",\"No\",\"Yes\",\"No\",\"No\",\"No\",\"No\",\"No\",\"Yes\",\"No\",\"No\",\"Yes\",\"Yes\",\"No\",\"Yes\",\"No\",\"Yes\",\"No\",\"No\",\"No\",\"No\",\"No\",\"No\",\"No\",\"Yes\",\"No\",\"No\",\"No\",\"No\",\"Yes\",\"Yes\",\"No\",\"Yes\",\"No\",\"Yes\",\"No\",\"No\",\"Yes\",\"No\",\"No\",\"No\",\"No\",\"No\",\"Yes\",\"No\",\"Yes\",\"No\",\"Yes\",\"No\",\"No\",\"Yes\",\"Yes\",\"No\",\"Yes\",\"Yes\",\"No\",\"No\",\"No\",\"No\",\"No\",\"No\",\"No\",\"Yes\",\"Yes\",\"No\",\"No\",\"No\",\"No\",\"No\",\"Yes\",\"No\",\"No\",\"No\",\"No\",\"No\",\"Yes\",\"No\",\"No\",\"No\",\"No\",\"No\",\"No\",\"No\",\"Yes\",\"No\",\"Yes\",\"No\",\"No\",\"No\",\"Yes\",\"No\",\"No\",\"No\",\"No\",\"No\",\"No\",\"No\",\"Yes\",\"No\",\"No\",\"No\",\"No\",\"No\",\"No\",\"No\",\"No\",\"No\",\"Yes\",\"No\",\"No\",\"No\",\"No\",\"No\",\"No\",\"No\",\"No\",\"Yes\",\"No\",\"No\",\"No\",\"No\",\"No\",\"Yes\",\"Yes\",\"No\",\"No\",\"Yes\",\"No\",\"No\",\"Yes\",\"No\",\"Yes\",\"Yes\",\"Yes\",\"No\",\"No\",\"Yes\",\"Yes\",\"No\",\"No\",\"No\",\"No\",\"No\",\"No\",\"No\",\"No\",\"No\",\"Yes\",\"No\",\"No\",\"No\",\"No\",\"Yes\",\"No\",\"Yes\",\"No\",\"Yes\",\"Yes\",\"No\",\"No\",\"No\",\"No\",\"No\",\"No\",\"No\",\"No\",\"Yes\",\"Yes\",\"No\",\"Yes\",\"No\",\"No\",\"No\",\"No\",\"No\",\"Yes\",\"No\",\"Yes\",\"No\",\"No\",\"No\",\"Yes\",\"No\",\"No\",\"No\",\"No\",\"Yes\",\"No\",\"No\",\"No\",\"Yes\",\"Yes\",\"No\",\"Yes\",\"Yes\",\"No\",\"Yes\",\"No\",\"Yes\",\"No\",\"No\",\"No\",\"No\",\"No\",\"Yes\",\"No\",\"No\",\"No\",\"No\",\"No\",\"No\",\"Yes\",\"No\",\"No\",\"No\",\"No\",\"No\",\"Yes\",\"No\",\"Yes\",\"No\",\"Yes\",\"No\",\"No\",\"No\",\"No\",\"Yes\",\"Yes\",\"Yes\",\"No\",\"Yes\",\"No\",\"Yes\",\"No\",\"Yes\",\"No\",\"No\",\"Yes\",\"Yes\",\"No\",\"Yes\",\"No\",\"Yes\",\"Yes\",\"No\",\"No\",\"Yes\",\"Yes\",\"No\",\"No\",\"Yes\",\"Yes\",\"No\",\"Yes\",\"No\",\"No\",\"No\",\"Yes\",\"No\",\"Yes\",\"No\",\"No\",\"Yes\",\"Yes\",\"No\",\"No\",\"Yes\",\"No\",\"Yes\",\"No\",\"Yes\",\"No\",\"Yes\",\"Yes\",\"No\",\"Yes\",\"No\",\"No\",\"No\",\"No\",\"Yes\",\"Yes\",\"No\",\"No\",\"No\",\"Yes\",\"No\",\"No\",\"Yes\",\"No\",\"No\",\"Yes\",\"No\",\"Yes\",\"No\",\"No\",\"No\",\"Yes\",\"No\",\"No\",\"No\",\"No\",\"No\",\"Yes\",\"No\",\"No\",\"Yes\",\"Yes\",\"No\",\"Yes\",\"No\",\"Yes\",\"No\",\"No\",\"No\",\"No\",\"Yes\",\"No\",\"No\",\"Yes\",\"No\",\"Yes\",\"Yes\",\"Yes\",\"No\",\"No\",\"Yes\",\"No\",\"No\",\"No\",\"No\",\"No\",\"No\",\"No\",\"No\",\"No\",\"No\",\"No\",\"Yes\",\"Yes\",\"No\",\"No\",\"Yes\",\"No\",\"No\",\"Yes\",\"No\",\"No\",\"No\",\"Yes\",\"No\",\"Yes\",\"Yes\",\"Yes\",\"Yes\",\"No\",\"No\",\"No\",\"Yes\",\"No\",\"Yes\",\"No\",\"No\",\"No\",\"Yes\",\"No\",\"No\",\"Yes\",\"Yes\",\"No\",\"Yes\",\"No\",\"No\",\"No\",\"No\",\"No\",\"No\",\"No\",\"No\",\"No\",\"Yes\",\"No\",\"No\",\"No\",\"No\",\"No\",\"No\",\"Yes\",\"No\",\"No\",\"No\",\"No\",\"No\",\"Yes\",\"No\",\"No\",\"No\",\"No\",\"Yes\",\"No\",\"Yes\",\"No\",\"No\",\"No\",\"No\",\"No\",\"No\",\"No\",\"Yes\",\"No\",\"Yes\",\"Yes\",\"Yes\",\"No\",\"No\",\"Yes\",\"Yes\",\"Yes\",\"Yes\",\"No\",\"No\",\"No\",\"Yes\",\"No\",\"Yes\",\"No\",\"No\",\"No\",\"No\",\"No\",\"Yes\",\"No\",\"No\",\"No\",\"Yes\",\"No\",\"No\",\"Yes\",\"Yes\",\"No\",\"No\",\"Yes\",\"No\",\"No\",\"Yes\",\"No\",\"No\",\"No\",\"Yes\",\"No\",\"No\",\"Yes\",\"No\",\"Yes\",\"Yes\",\"No\",\"No\",\"No\",\"No\",\"Yes\",\"No\",\"No\",\"No\",\"No\",\"No\",\"No\",\"No\",\"No\",\"No\",\"No\",\"Yes\",\"No\",\"No\",\"No\",\"Yes\",\"No\",\"No\",\"Yes\",\"No\",\"Yes\",\"No\",\"No\",\"No\",\"No\",\"No\",\"No\",\"No\",\"Yes\",\"No\",\"No\",\"Yes\",\"Yes\",\"Yes\",\"Yes\",\"No\",\"No\",\"No\",\"Yes\",\"No\",\"Yes\",\"Yes\",\"No\",\"No\",\"Yes\",\"No\",\"No\",\"No\",\"No\",\"No\",\"No\",\"Yes\",\"Yes\",\"Yes\",\"No\",\"No\",\"No\",\"No\",\"No\",\"No\",\"Yes\",\"No\",\"No\",\"Yes\",\"Yes\",\"No\",\"No\",\"No\",\"No\",\"Yes\",\"No\",\"Yes\",\"No\",\"No\",\"Yes\",\"No\",\"No\",\"Yes\",\"No\",\"Yes\",\"Yes\",\"Yes\",\"No\",\"No\",\"No\",\"No\",\"Yes\",\"No\",\"Yes\",\"Yes\",\"No\",\"Yes\",\"No\",\"No\",\"No\",\"No\",\"Yes\",\"No\",\"No\",\"Yes\",\"No\",\"No\",\"Yes\",\"No\",\"No\",\"No\",\"No\",\"No\",\"No\",\"No\",\"No\",\"No\",\"No\",\"Yes\",\"No\",\"Yes\",\"Yes\",\"Yes\",\"No\",\"No\",\"No\",\"Yes\",\"No\",\"No\",\"Yes\",\"Yes\",\"No\",\"Yes\",\"No\",\"No\",\"Yes\",\"Yes\",\"Yes\",\"No\",\"Yes\",\"Yes\",\"No\",\"Yes\",\"No\",\"No\",\"No\",\"No\",\"Yes\",\"No\",\"No\",\"No\",\"No\",\"No\",\"No\",\"Yes\",\"No\",\"No\",\"No\",\"Yes\",\"No\",\"No\",\"Yes\",\"No\",\"No\",\"Yes\",\"No\",\"No\",\"Yes\",\"No\",\"Yes\",\"Yes\",\"No\",\"Yes\",\"Yes\",\"No\",\"No\",\"Yes\",\"Yes\",\"Yes\",\"No\",\"Yes\",\"Yes\",\"No\",\"No\",\"No\",\"No\",\"No\",\"Yes\",\"No\",\"No\",\"No\",\"No\",\"No\",\"No\",\"No\",\"No\",\"No\",\"No\",\"Yes\",\"Yes\",\"Yes\",\"No\",\"Yes\",\"No\",\"No\",\"No\",\"Yes\",\"No\",\"No\",\"Yes\",\"No\",\"No\",\"No\",\"No\",\"No\",\"Yes\",\"No\",\"No\",\"No\",\"No\",\"Yes\",\"Yes\",\"Yes\",\"No\",\"Yes\",\"No\",\"No\",\"No\",\"No\",\"No\",\"No\",\"No\",\"No\",\"No\",\"No\",\"No\",\"No\",\"Yes\",\"Yes\",\"No\",\"No\",\"Yes\",\"No\",\"No\",\"No\",\"Yes\",\"No\",\"No\",\"No\",\"No\",\"No\",\"No\",\"Yes\",\"Yes\",\"No\",\"Yes\",\"No\",\"No\",\"Yes\",\"Yes\",\"Yes\",\"No\",\"Yes\",\"Yes\",\"No\",\"Yes\",\"No\",\"No\",\"No\",\"No\",\"No\",\"No\",\"No\",\"No\",\"Yes\",\"No\",\"No\",\"No\",\"No\",\"No\",\"No\",\"No\",\"No\",\"Yes\",\"No\",\"No\",\"No\",\"Yes\",\"No\",\"No\",\"No\",\"Yes\",\"Yes\",\"No\",\"No\",\"No\",\"No\",\"No\",\"Yes\",\"No\",\"No\",\"No\",\"No\",\"No\",\"No\",\"No\",\"Yes\",\"No\",\"Yes\",\"No\",\"No\",\"No\",\"No\",\"Yes\",\"No\",\"No\",\"Yes\",\"Yes\",\"No\",\"No\",\"No\",\"No\",\"No\",\"No\",\"Yes\",\"No\",\"Yes\",\"Yes\",\"Yes\",\"Yes\",\"Yes\",\"No\",\"Yes\",\"Yes\",\"No\",\"Yes\",\"No\",\"No\",\"No\",\"Yes\",\"No\",\"No\",\"No\",\"No\",\"No\",\"Yes\",\"Yes\",\"Yes\",\"No\",\"No\",\"Yes\",\"No\",\"No\",\"No\",\"No\",\"No\",\"Yes\",\"Yes\",\"No\",\"No\",\"No\",\"Yes\",\"No\",\"Yes\",\"No\",\"Yes\",\"No\",\"No\",\"Yes\",\"No\",\"Yes\",\"Yes\",\"Yes\",\"No\",\"Yes\",\"No\",\"No\",\"Yes\",\"No\",\"No\",\"Yes\",\"No\",\"No\",\"No\",\"Yes\",\"No\",\"Yes\",\"No\",\"No\",\"Yes\",\"No\",\"No\",\"No\",\"Yes\",\"Yes\",\"No\",\"No\",\"No\",\"Yes\",\"No\",\"No\",\"No\",\"No\",\"No\",\"Yes\",\"No\",\"No\",\"Yes\",\"No\",\"Yes\",\"Yes\",\"No\",\"Yes\",\"No\",\"No\",\"Yes\",\"Yes\",\"Yes\",\"Yes\",\"Yes\",\"No\",\"No\",\"No\",\"No\",\"No\",\"No\",\"No\",\"Yes\",\"Yes\",\"No\",\"No\",\"Yes\",\"No\",\"No\",\"Yes\",\"No\",\"No\",\"Yes\",\"Yes\",\"Yes\",\"No\",\"Yes\",\"Yes\",\"No\",\"No\",\"No\",\"Yes\",\"Yes\",\"No\",\"No\",\"No\",\"No\",\"Yes\",\"Yes\",\"Yes\",\"No\",\"Yes\",\"No\",\"No\",\"No\",\"Yes\",\"Yes\",\"No\",\"Yes\",\"Yes\",\"Yes\",\"No\",\"No\",\"No\",\"Yes\",\"No\",\"Yes\",\"Yes\",\"No\",\"No\",\"No\",\"Yes\",\"Yes\",\"Yes\",\"Yes\",\"No\",\"Yes\",\"No\",\"Yes\",\"Yes\",\"No\",\"Yes\",\"Yes\",\"Yes\",\"No\",\"No\",\"No\",\"No\",\"No\",\"No\",\"No\",\"No\",\"No\",\"No\",\"No\",\"Yes\",\"No\",\"No\",\"No\",\"No\",\"No\",\"No\",\"Yes\",\"No\",\"No\",\"No\",\"No\",\"No\",\"Yes\",\"Yes\",\"No\",\"Yes\",\"No\",\"Yes\",\"No\",\"No\",\"No\",\"No\",\"No\",\"No\",\"No\",\"Yes\",\"Yes\",\"No\",\"No\",\"No\",\"Yes\",\"No\",\"No\",\"Yes\",\"Yes\",\"No\",\"Yes\",\"No\",\"No\",\"No\",\"No\",\"No\",\"Yes\",\"No\",\"No\",\"No\",\"No\",\"No\",\"No\",\"No\",\"Yes\",\"Yes\",\"Yes\",\"No\",\"No\",\"No\",\"No\",\"Yes\",\"No\",\"Yes\",\"No\",\"No\",\"Yes\",\"No\",\"No\",\"No\",\"No\",\"No\",\"No\",\"No\",\"No\",\"No\",\"Yes\",\"No\",\"No\",\"No\",\"No\",\"No\",\"Yes\",\"Yes\",\"Yes\",\"No\",\"No\",\"No\",\"Yes\",\"No\",\"Yes\",\"No\",\"Yes\",\"Yes\",\"Yes\",\"No\",\"No\",\"No\",\"Yes\",\"No\",\"No\",\"No\",\"No\",\"No\",\"No\",\"No\",\"No\",\"Yes\",\"No\",\"Yes\",\"No\",\"No\",\"No\",\"No\",\"No\",\"No\",\"Yes\",\"No\",\"Yes\",\"No\",\"No\",\"No\",\"Yes\",\"No\",\"No\",\"No\",\"No\",\"Yes\",\"Yes\",\"No\",\"No\",\"Yes\",\"No\",\"Yes\",\"Yes\",\"No\",\"Yes\",\"No\",\"Yes\",\"No\",\"No\",\"Yes\",\"Yes\",\"No\",\"No\",\"No\",\"No\",\"No\",\"No\",\"Yes\",\"No\",\"No\",\"No\",\"No\",\"No\",\"No\",\"No\",\"No\",\"Yes\",\"No\",\"No\",\"Yes\",\"Yes\",\"Yes\",\"No\",\"No\",\"No\",\"No\",\"Yes\",\"No\",\"No\",\"Yes\",\"Yes\",\"Yes\",\"No\",\"No\",\"Yes\",\"No\",\"No\",\"No\",\"Yes\",\"No\",\"No\",\"No\",\"Yes\",\"Yes\",\"No\",\"No\",\"No\",\"No\",\"No\",\"No\",\"No\",\"Yes\",\"Yes\",\"Yes\",\"No\",\"No\",\"No\",\"Yes\",\"No\",\"No\",\"No\",\"Yes\",\"Yes\",\"No\",\"No\",\"No\",\"No\",\"No\",\"Yes\",\"Yes\",\"Yes\",\"No\",\"No\",\"Yes\",\"No\",\"No\",\"Yes\",\"Yes\",\"No\",\"Yes\",\"No\",\"No\",\"No\",\"Yes\",\"Yes\",\"Yes\",\"Yes\",\"No\",\"No\",\"Yes\",\"No\",\"No\",\"Yes\",\"No\",\"No\",\"Yes\",\"No\",\"No\",\"Yes\",\"No\",\"No\",\"Yes\",\"No\",\"No\",\"No\",\"No\",\"No\",\"No\",\"No\",\"No\",\"Yes\",\"No\",\"Yes\",\"Yes\",\"No\",\"No\",\"No\",\"No\",\"Yes\",\"No\",\"Yes\",\"No\",\"No\",\"No\",\"Yes\",\"No\",\"No\",\"No\",\"Yes\",\"No\",\"No\",\"Yes\",\"No\",\"No\",\"Yes\",\"No\",\"No\",\"No\",\"No\",\"Yes\",\"No\",\"No\",\"No\",\"Yes\",\"No\",\"No\",\"Yes\",\"Yes\",\"No\",\"No\",\"Yes\",\"No\",\"Yes\",\"Yes\",\"No\",\"No\",\"No\",\"No\",\"No\",\"No\",\"No\",\"No\",\"Yes\",\"Yes\",\"No\",\"Yes\",\"Yes\",\"No\",\"No\",\"No\",\"No\",\"Yes\",\"No\",\"Yes\",\"Yes\",\"No\",\"No\",\"No\",\"No\",\"No\",\"Yes\",\"No\",\"No\",\"No\",\"No\",\"No\",\"Yes\",\"Yes\",\"Yes\",\"No\",\"Yes\",\"No\",\"Yes\",\"No\",\"No\",\"Yes\",\"Yes\",\"No\",\"No\",\"No\",\"No\",\"No\",\"No\",\"No\",\"Yes\",\"Yes\",\"No\",\"No\",\"Yes\",\"No\",\"No\",\"Yes\",\"No\",\"No\",\"No\",\"No\",\"No\",\"No\",\"No\",\"No\",\"Yes\",\"No\",\"No\",\"Yes\",\"Yes\",\"No\",\"No\",\"No\",\"No\",\"No\",\"No\",\"No\",\"No\",\"No\",\"Yes\",\"No\",\"Yes\",\"No\",\"No\",\"No\",\"No\",\"No\",\"No\",\"No\",\"Yes\",\"No\",\"No\",\"Yes\",\"No\",\"No\",\"No\",\"Yes\",\"No\",\"No\",\"Yes\",\"No\",\"No\",\"Yes\",\"No\",\"No\",\"Yes\",\"Yes\",\"Yes\",\"Yes\",\"Yes\",\"No\",\"Yes\",\"No\",\"No\",\"No\",\"No\",\"Yes\",\"No\",\"No\",\"No\",\"No\",\"Yes\",\"No\",\"Yes\",\"No\",\"Yes\",\"No\",\"No\",\"Yes\",\"No\",\"Yes\",\"No\",\"No\",\"Yes\",\"No\",\"No\",\"No\",\"No\",\"No\",\"Yes\",\"No\",\"Yes\",\"No\",\"No\",\"No\",\"No\",\"Yes\",\"No\",\"Yes\",\"Yes\",\"No\",\"No\",\"No\",\"No\",\"No\",\"No\",\"Yes\",\"No\",\"No\",\"No\",\"Yes\",\"No\",\"No\",\"No\",\"No\",\"No\",\"Yes\",\"No\",\"Yes\",\"No\",\"No\",\"No\",\"Yes\",\"Yes\",\"No\",\"No\",\"Yes\",\"No\",\"No\",\"No\",\"No\",\"Yes\",\"No\",\"No\",\"No\",\"No\",\"Yes\",\"No\",\"No\",\"Yes\",\"No\",\"No\",\"Yes\",\"No\",\"Yes\",\"No\",\"No\",\"Yes\",\"Yes\",\"No\",\"Yes\",\"No\",\"No\",\"No\",\"No\",\"No\",\"Yes\",\"Yes\",\"No\",\"No\",\"No\",\"No\",\"No\",\"No\",\"No\",\"No\",\"No\",\"Yes\",\"Yes\",\"No\",\"No\",\"Yes\",\"No\",\"Yes\",\"Yes\",\"No\",\"No\",\"No\",\"No\",\"Yes\",\"No\",\"No\",\"No\",\"Yes\",\"No\",\"No\",\"Yes\",\"No\",\"No\",\"No\",\"Yes\",\"No\",\"No\",\"Yes\",\"No\",\"No\",\"No\",\"No\",\"No\",\"Yes\",\"No\",\"No\",\"No\",\"No\",\"Yes\",\"Yes\",\"No\",\"No\",\"Yes\",\"No\",\"No\",\"No\",\"No\",\"Yes\",\"No\",\"Yes\",\"Yes\",\"No\",\"Yes\",\"No\",\"No\",\"No\",\"No\",\"No\",\"No\",\"No\",\"Yes\",\"No\",\"Yes\",\"No\",\"Yes\",\"No\",\"Yes\",\"No\",\"No\",\"No\",\"Yes\",\"Yes\",\"No\",\"No\",\"Yes\",\"No\",\"Yes\",\"Yes\",\"Yes\",\"Yes\",\"Yes\",\"No\",\"No\",\"No\",\"No\",\"No\",\"No\",\"No\",\"No\",\"Yes\",\"No\",\"No\",\"No\",\"No\",\"No\",\"No\",\"No\",\"No\",\"Yes\",\"No\",\"No\",\"Yes\",\"No\",\"Yes\",\"No\",\"No\",\"Yes\",\"No\",\"No\",\"No\",\"No\",\"Yes\",\"No\",\"No\",\"No\",\"No\",\"No\",\"No\",\"No\",\"Yes\",\"No\",\"No\",\"No\",\"No\",\"Yes\",\"Yes\",\"No\",\"No\",\"No\",\"No\",\"No\",\"Yes\",\"No\",\"Yes\",\"No\",\"No\",\"No\",\"Yes\",\"Yes\",\"No\",\"No\",\"Yes\",\"No\",\"Yes\",\"No\",\"Yes\",\"Yes\",\"No\",\"No\",\"No\",\"No\",\"No\",\"No\",\"No\",\"Yes\",\"No\",\"No\",\"Yes\",\"No\",\"No\",\"No\",\"Yes\",\"No\",\"No\",\"No\",\"No\",\"Yes\",\"No\",\"No\",\"No\",\"No\",\"No\",\"Yes\",\"No\",\"No\",\"Yes\",\"Yes\",\"No\",\"No\",\"No\",\"No\",\"Yes\",\"Yes\",\"No\",\"No\",\"No\",\"No\",\"Yes\",\"No\",\"No\",\"No\",\"No\",\"Yes\",\"Yes\",\"Yes\",\"Yes\",\"Yes\",\"No\",\"No\",\"No\",\"No\",\"No\",\"No\",\"No\",\"Yes\",\"No\",\"Yes\",\"No\",\"No\",\"Yes\",\"No\",\"No\",\"No\",\"No\",\"Yes\",\"No\",\"Yes\",\"No\",\"No\",\"No\",\"Yes\",\"Yes\",\"No\",\"No\",\"No\",\"No\",\"No\",\"No\",\"No\",\"No\",\"No\",\"Yes\",\"No\",\"No\",\"Yes\",\"No\",\"Yes\",\"No\",\"Yes\",\"No\",\"Yes\",\"No\",\"Yes\",\"No\",\"No\",\"No\",\"Yes\",\"No\",\"Yes\",\"No\",\"Yes\",\"No\",\"No\",\"No\",\"Yes\",\"No\",\"Yes\",\"No\",\"No\",\"No\",\"No\",\"No\",\"No\",\"No\",\"No\",\"No\",\"No\",\"Yes\",\"No\",\"Yes\",\"No\",\"No\",\"No\",\"Yes\",\"No\",\"No\",\"Yes\",\"No\",\"Yes\",\"No\",\"No\",\"No\",\"Yes\",\"No\",\"Yes\",\"No\",\"No\",\"Yes\",\"No\",\"No\",\"No\",\"No\",\"No\",\"Yes\",\"No\",\"Yes\",\"No\",\"Yes\",\"Yes\",\"Yes\",\"Yes\",\"Yes\",\"No\",\"Yes\",\"No\",\"No\",\"No\",\"No\",\"No\",\"Yes\",\"Yes\",\"No\",\"No\",\"No\",\"No\",\"No\",\"No\",\"Yes\",\"Yes\",\"No\",\"No\",\"No\",\"Yes\",\"No\",\"No\",\"No\",\"Yes\",\"Yes\",\"Yes\",\"Yes\",\"No\",\"Yes\",\"Yes\",\"No\",\"No\",\"No\",\"Yes\",\"Yes\",\"Yes\",\"No\",\"No\",\"Yes\",\"No\",\"No\",\"No\",\"Yes\",\"No\",\"No\",\"Yes\",\"No\",\"No\",\"No\",\"No\",\"No\",\"No\",\"No\",\"No\",\"No\",\"No\",\"No\",\"Yes\",\"No\",\"No\",\"Yes\",\"Yes\",\"No\",\"Yes\",\"Yes\",\"No\",\"Yes\",\"No\",\"No\",\"Yes\",\"No\",\"Yes\",\"Yes\",\"Yes\",\"No\",\"No\",\"Yes\",\"Yes\",\"No\",\"No\",\"No\",\"Yes\",\"No\",\"No\",\"No\",\"Yes\",\"Yes\",\"No\",\"Yes\",\"No\",\"No\",\"No\",\"No\",\"No\",\"No\",\"Yes\",\"No\",\"No\",\"No\",\"No\",\"No\",\"No\",\"No\",\"No\",\"No\",\"No\",\"Yes\",\"No\",\"No\",\"Yes\",\"Yes\",\"Yes\",\"No\",\"Yes\",\"No\",\"No\",\"No\",\"No\",\"No\",\"No\",\"No\",\"Yes\",\"Yes\",\"No\",\"No\",\"Yes\",\"No\",\"Yes\",\"Yes\",\"No\",\"No\",\"No\",\"No\",\"No\",\"No\",\"No\",\"Yes\",\"Yes\",\"Yes\",\"No\",\"No\",\"No\",\"No\",\"Yes\",\"No\",\"No\",\"Yes\",\"No\",\"No\",\"Yes\",\"Yes\",\"Yes\",\"No\",\"No\",\"No\",\"Yes\",\"No\",\"Yes\",\"Yes\",\"Yes\",\"No\",\"Yes\",\"No\",\"No\",\"No\",\"No\",\"Yes\",\"No\",\"Yes\",\"No\",\"Yes\",\"No\",\"Yes\",\"No\",\"No\",\"No\",\"Yes\",\"No\",\"Yes\",\"No\",\"No\",\"Yes\",\"No\",\"No\",\"No\",\"Yes\",\"No\",\"No\",\"No\",\"No\",\"No\",\"Yes\",\"No\",\"No\",\"Yes\",\"No\",\"Yes\",\"No\",\"Yes\",\"No\",\"No\",\"No\",\"No\",\"Yes\",\"No\",\"No\",\"No\",\"Yes\",\"No\",\"No\",\"Yes\",\"Yes\",\"Yes\",\"Yes\",\"Yes\",\"Yes\",\"No\",\"No\",\"No\",\"No\",\"No\",\"No\",\"Yes\",\"No\",\"No\",\"Yes\",\"No\",\"No\",\"No\",\"Yes\",\"Yes\",\"Yes\",\"Yes\",\"Yes\",\"No\",\"Yes\",\"Yes\",\"No\",\"Yes\",\"No\",\"No\",\"No\",\"No\",\"No\",\"Yes\",\"No\",\"Yes\",\"No\",\"Yes\",\"Yes\",\"No\",\"Yes\",\"No\",\"No\",\"Yes\",\"Yes\",\"No\",\"No\",\"No\",\"No\",\"No\",\"Yes\",\"No\",\"No\",\"Yes\",\"Yes\",\"No\",\"Yes\",\"No\",\"No\",\"No\",\"Yes\",\"No\",\"No\",\"Yes\",\"No\",\"No\",\"Yes\",\"Yes\",\"No\",\"No\",\"No\",\"No\",\"Yes\",\"Yes\",\"No\",\"No\",\"No\",\"Yes\",\"Yes\",\"No\",\"No\",\"No\",\"Yes\",\"Yes\",\"Yes\",\"No\",\"No\",\"No\",\"No\",\"Yes\",\"Yes\",\"No\",\"No\",\"Yes\",\"Yes\",\"No\",\"Yes\",\"No\",\"No\",\"No\",\"Yes\",\"Yes\"],\"yaxis\":\"y\",\"type\":\"histogram\"},{\"alignmentgroup\":\"True\",\"bingroup\":\"y\",\"hovertemplate\":\"Churn=Yes\\u003cbr\\u003ecount=%{x}\\u003cbr\\u003eDependents=%{y}\\u003cextra\\u003e\\u003c\\u002fextra\\u003e\",\"legendgroup\":\"Yes\",\"marker\":{\"color\":\"#EF553B\",\"pattern\":{\"shape\":\"\"}},\"name\":\"Yes\",\"offsetgroup\":\"Yes\",\"orientation\":\"h\",\"showlegend\":true,\"xaxis\":\"x\",\"y\":[\"No\",\"No\",\"No\",\"No\",\"No\",\"No\",\"Yes\",\"Yes\",\"No\",\"No\",\"No\",\"No\",\"Yes\",\"No\",\"No\",\"Yes\",\"No\",\"No\",\"No\",\"No\",\"No\",\"No\",\"No\",\"No\",\"No\",\"No\",\"No\",\"No\",\"No\",\"No\",\"No\",\"Yes\",\"No\",\"No\",\"No\",\"No\",\"No\",\"Yes\",\"No\",\"No\",\"Yes\",\"No\",\"No\",\"No\",\"No\",\"No\",\"No\",\"No\",\"Yes\",\"No\",\"No\",\"Yes\",\"No\",\"No\",\"No\",\"No\",\"No\",\"No\",\"No\",\"No\",\"No\",\"No\",\"No\",\"Yes\",\"No\",\"No\",\"No\",\"No\",\"Yes\",\"No\",\"No\",\"No\",\"No\",\"No\",\"No\",\"No\",\"No\",\"No\",\"No\",\"Yes\",\"No\",\"Yes\",\"No\",\"Yes\",\"No\",\"No\",\"No\",\"No\",\"No\",\"No\",\"No\",\"No\",\"No\",\"Yes\",\"Yes\",\"No\",\"No\",\"No\",\"No\",\"No\",\"No\",\"No\",\"No\",\"Yes\",\"No\",\"Yes\",\"No\",\"Yes\",\"No\",\"Yes\",\"No\",\"No\",\"No\",\"No\",\"Yes\",\"Yes\",\"No\",\"No\",\"Yes\",\"No\",\"No\",\"Yes\",\"No\",\"No\",\"No\",\"Yes\",\"No\",\"No\",\"Yes\",\"No\",\"No\",\"No\",\"Yes\",\"No\",\"No\",\"No\",\"No\",\"Yes\",\"No\",\"No\",\"No\",\"No\",\"No\",\"No\",\"No\",\"No\",\"No\",\"No\",\"No\",\"No\",\"No\",\"No\",\"No\",\"No\",\"No\",\"Yes\",\"No\",\"No\",\"No\",\"No\",\"No\",\"No\",\"No\",\"No\",\"No\",\"No\",\"No\",\"No\",\"No\",\"No\",\"No\",\"Yes\",\"No\",\"No\",\"No\",\"No\",\"No\",\"No\",\"No\",\"No\",\"No\",\"No\",\"No\",\"No\",\"No\",\"No\",\"No\",\"No\",\"No\",\"No\",\"Yes\",\"No\",\"No\",\"No\",\"No\",\"No\",\"No\",\"No\",\"No\",\"Yes\",\"No\",\"No\",\"Yes\",\"No\",\"No\",\"No\",\"Yes\",\"Yes\",\"No\",\"No\",\"No\",\"No\",\"No\",\"Yes\",\"No\",\"Yes\",\"No\",\"No\",\"Yes\",\"No\",\"No\",\"No\",\"No\",\"No\",\"No\",\"Yes\",\"No\",\"Yes\",\"No\",\"Yes\",\"No\",\"No\",\"No\",\"No\",\"No\",\"No\",\"No\",\"No\",\"No\",\"No\",\"No\",\"No\",\"No\",\"No\",\"No\",\"No\",\"No\",\"No\",\"No\",\"No\",\"No\",\"No\",\"No\",\"Yes\",\"No\",\"No\",\"No\",\"Yes\",\"No\",\"No\",\"No\",\"No\",\"No\",\"No\",\"No\",\"Yes\",\"No\",\"No\",\"No\",\"No\",\"No\",\"Yes\",\"No\",\"No\",\"No\",\"No\",\"No\",\"No\",\"No\",\"Yes\",\"Yes\",\"No\",\"No\",\"Yes\",\"No\",\"Yes\",\"No\",\"No\",\"No\",\"No\",\"No\",\"No\",\"No\",\"No\",\"Yes\",\"No\",\"No\",\"No\",\"No\",\"No\",\"No\",\"No\",\"No\",\"No\",\"No\",\"No\",\"Yes\",\"No\",\"Yes\",\"No\",\"No\",\"Yes\",\"No\",\"Yes\",\"No\",\"No\",\"No\",\"No\",\"No\",\"Yes\",\"No\",\"Yes\",\"No\",\"Yes\",\"No\",\"No\",\"No\",\"No\",\"No\",\"Yes\",\"No\",\"No\",\"Yes\",\"No\",\"Yes\",\"No\",\"No\",\"Yes\",\"No\",\"No\",\"No\",\"No\",\"No\",\"No\",\"Yes\",\"No\",\"No\",\"No\",\"No\",\"No\",\"No\",\"No\",\"No\",\"No\",\"No\",\"No\",\"No\",\"No\",\"No\",\"No\",\"No\",\"No\",\"No\",\"No\",\"No\",\"No\",\"No\",\"No\",\"No\",\"No\",\"No\",\"No\",\"No\",\"Yes\",\"No\",\"No\",\"No\",\"No\",\"No\",\"Yes\",\"No\",\"No\",\"Yes\",\"Yes\",\"No\",\"No\",\"No\",\"No\",\"No\",\"No\",\"No\",\"No\",\"Yes\",\"No\",\"No\",\"No\",\"Yes\",\"No\",\"No\",\"No\",\"Yes\",\"No\",\"No\",\"No\",\"No\",\"No\",\"No\",\"No\",\"Yes\",\"No\",\"Yes\",\"No\",\"No\",\"Yes\",\"No\",\"No\",\"No\",\"No\",\"No\",\"No\",\"Yes\",\"Yes\",\"Yes\",\"Yes\",\"No\",\"No\",\"No\",\"No\",\"No\",\"No\",\"No\",\"No\",\"No\",\"Yes\",\"No\",\"Yes\",\"Yes\",\"No\",\"Yes\",\"No\",\"No\",\"No\",\"No\",\"No\",\"No\",\"No\",\"No\",\"No\",\"No\",\"No\",\"No\",\"No\",\"Yes\",\"No\",\"No\",\"No\",\"No\",\"No\",\"No\",\"Yes\",\"No\",\"No\",\"No\",\"No\",\"No\",\"No\",\"Yes\",\"No\",\"No\",\"No\",\"No\",\"No\",\"No\",\"No\",\"Yes\",\"No\",\"No\",\"No\",\"No\",\"Yes\",\"No\",\"No\",\"No\",\"No\",\"No\",\"Yes\",\"No\",\"Yes\",\"No\",\"No\",\"No\",\"No\",\"Yes\",\"No\",\"No\",\"Yes\",\"No\",\"No\",\"No\",\"No\",\"No\",\"No\",\"No\",\"No\",\"Yes\",\"No\",\"No\",\"No\",\"No\",\"No\",\"No\",\"No\",\"No\",\"No\",\"No\",\"No\",\"No\",\"No\",\"No\",\"No\",\"No\",\"Yes\",\"No\",\"No\",\"Yes\",\"No\",\"No\",\"No\",\"No\",\"No\",\"No\",\"Yes\",\"No\",\"No\",\"No\",\"No\",\"No\",\"Yes\",\"No\",\"No\",\"Yes\",\"No\",\"No\",\"Yes\",\"Yes\",\"Yes\",\"No\",\"Yes\",\"No\",\"No\",\"No\",\"No\",\"No\",\"No\",\"Yes\",\"No\",\"No\",\"Yes\",\"No\",\"No\",\"No\",\"No\",\"No\",\"Yes\",\"No\",\"No\",\"Yes\",\"No\",\"No\",\"No\",\"No\",\"No\",\"No\",\"Yes\",\"No\",\"No\",\"No\",\"No\",\"No\",\"No\",\"No\",\"No\",\"Yes\",\"No\",\"No\",\"No\",\"No\",\"Yes\",\"No\",\"No\",\"No\",\"No\",\"Yes\",\"No\",\"No\",\"No\",\"No\",\"Yes\",\"No\",\"No\",\"No\",\"Yes\",\"No\",\"Yes\",\"Yes\",\"No\",\"No\",\"No\",\"No\",\"No\",\"No\",\"No\",\"Yes\",\"No\",\"No\",\"No\",\"No\",\"Yes\",\"No\",\"No\",\"No\",\"No\",\"No\",\"No\",\"No\",\"No\",\"No\",\"Yes\",\"No\",\"No\",\"No\",\"No\",\"No\",\"No\",\"Yes\",\"No\",\"No\",\"No\",\"No\",\"No\",\"No\",\"No\",\"No\",\"Yes\",\"Yes\",\"No\",\"Yes\",\"No\",\"No\",\"No\",\"No\",\"No\",\"No\",\"No\",\"No\",\"No\",\"Yes\",\"No\",\"No\",\"No\",\"Yes\",\"No\",\"No\",\"No\",\"No\",\"No\",\"No\",\"No\",\"No\",\"No\",\"No\",\"No\",\"No\",\"No\",\"No\",\"No\",\"No\",\"No\",\"No\",\"No\",\"No\",\"No\",\"No\",\"No\",\"No\",\"No\",\"No\",\"No\",\"No\",\"No\",\"No\",\"Yes\",\"No\",\"No\",\"No\",\"No\",\"No\",\"No\",\"No\",\"No\",\"No\",\"No\",\"No\",\"No\",\"No\",\"No\",\"No\",\"No\",\"No\",\"No\",\"No\",\"No\",\"No\",\"No\",\"No\",\"No\",\"Yes\",\"Yes\",\"Yes\",\"Yes\",\"No\",\"No\",\"No\",\"No\",\"No\",\"No\",\"No\",\"No\",\"No\",\"Yes\",\"No\",\"No\",\"No\",\"No\",\"No\",\"No\",\"No\",\"Yes\",\"No\",\"No\",\"No\",\"No\",\"No\",\"No\",\"No\",\"No\",\"No\",\"Yes\",\"No\",\"No\",\"No\",\"No\",\"No\",\"No\",\"No\",\"No\",\"No\",\"No\",\"No\",\"No\",\"No\",\"No\",\"No\",\"No\",\"Yes\",\"No\",\"No\",\"No\",\"No\",\"No\",\"No\",\"No\",\"No\",\"Yes\",\"No\",\"No\",\"No\",\"No\",\"Yes\",\"No\",\"No\",\"No\",\"No\",\"No\",\"No\",\"No\",\"Yes\",\"No\",\"Yes\",\"No\",\"Yes\",\"No\",\"No\",\"No\",\"No\",\"No\",\"No\",\"No\",\"No\",\"No\",\"Yes\",\"No\",\"No\",\"No\",\"No\",\"No\",\"Yes\",\"No\",\"No\",\"No\",\"No\",\"No\",\"No\",\"No\",\"No\",\"No\",\"No\",\"Yes\",\"Yes\",\"No\",\"No\",\"No\",\"No\",\"Yes\",\"No\",\"Yes\",\"No\",\"Yes\",\"No\",\"No\",\"No\",\"No\",\"No\",\"No\",\"No\",\"No\",\"No\",\"No\",\"No\",\"No\",\"Yes\",\"No\",\"No\",\"Yes\",\"No\",\"No\",\"No\",\"No\",\"Yes\",\"No\",\"No\",\"No\",\"No\",\"No\",\"No\",\"No\",\"No\",\"No\",\"No\",\"No\",\"No\",\"No\",\"Yes\",\"No\",\"No\",\"Yes\",\"Yes\",\"No\",\"No\",\"No\",\"Yes\",\"No\",\"Yes\",\"No\",\"No\",\"No\",\"Yes\",\"No\",\"No\",\"No\",\"No\",\"Yes\",\"No\",\"No\",\"No\",\"No\",\"No\",\"Yes\",\"Yes\",\"No\",\"Yes\",\"Yes\",\"No\",\"Yes\",\"No\",\"No\",\"No\",\"No\",\"No\",\"No\",\"Yes\",\"No\",\"No\",\"No\",\"No\",\"No\",\"No\",\"No\",\"No\",\"No\",\"Yes\",\"No\",\"No\",\"No\",\"No\",\"No\",\"Yes\",\"No\",\"Yes\",\"No\",\"No\",\"No\",\"No\",\"No\",\"Yes\",\"Yes\",\"No\",\"No\",\"No\",\"No\",\"No\",\"No\",\"No\",\"No\",\"No\",\"No\",\"No\",\"No\",\"No\",\"No\",\"No\",\"Yes\",\"No\",\"No\",\"No\",\"No\",\"No\",\"No\",\"No\",\"No\",\"Yes\",\"No\",\"No\",\"No\",\"No\",\"No\",\"No\",\"Yes\",\"No\",\"Yes\",\"Yes\",\"No\",\"Yes\",\"Yes\",\"No\",\"No\",\"Yes\",\"No\",\"Yes\",\"Yes\",\"No\",\"No\",\"No\",\"No\",\"No\",\"No\",\"No\",\"No\",\"No\",\"No\",\"No\",\"Yes\",\"No\",\"No\",\"Yes\",\"No\",\"No\",\"No\",\"No\",\"No\",\"No\",\"Yes\",\"Yes\",\"No\",\"No\",\"Yes\",\"Yes\",\"No\",\"No\",\"No\",\"No\",\"No\",\"No\",\"No\",\"No\",\"No\",\"No\",\"Yes\",\"No\",\"No\",\"No\",\"Yes\",\"No\",\"No\",\"No\",\"No\",\"No\",\"No\",\"No\",\"No\",\"No\",\"No\",\"Yes\",\"No\",\"No\",\"No\",\"No\",\"Yes\",\"No\",\"Yes\",\"Yes\",\"Yes\",\"No\",\"No\",\"No\",\"No\",\"No\",\"No\",\"No\",\"No\",\"No\",\"No\",\"No\",\"No\",\"No\",\"No\",\"No\",\"No\",\"No\",\"No\",\"No\",\"No\",\"No\",\"No\",\"Yes\",\"No\",\"Yes\",\"Yes\",\"No\",\"No\",\"Yes\",\"Yes\",\"Yes\",\"No\",\"No\",\"No\",\"No\",\"No\",\"No\",\"No\",\"Yes\",\"Yes\",\"Yes\",\"No\",\"Yes\",\"No\",\"No\",\"Yes\",\"No\",\"No\",\"No\",\"No\",\"No\",\"No\",\"No\",\"No\",\"No\",\"Yes\",\"No\",\"No\",\"No\",\"No\",\"No\",\"No\",\"No\",\"No\",\"No\",\"Yes\",\"No\",\"No\",\"No\",\"No\",\"No\",\"No\",\"No\",\"No\",\"No\",\"No\",\"Yes\",\"No\",\"Yes\",\"No\",\"No\",\"No\",\"No\",\"Yes\",\"No\",\"Yes\",\"No\",\"No\",\"No\",\"No\",\"No\",\"No\",\"No\",\"No\",\"Yes\",\"No\",\"No\",\"No\",\"No\",\"Yes\",\"No\",\"No\",\"Yes\",\"No\",\"No\",\"No\",\"No\",\"Yes\",\"No\",\"Yes\",\"No\",\"No\",\"No\",\"Yes\",\"No\",\"No\",\"No\",\"No\",\"Yes\",\"Yes\",\"Yes\",\"No\",\"No\",\"No\",\"No\",\"No\",\"No\",\"No\",\"No\",\"No\",\"No\",\"No\",\"No\",\"Yes\",\"No\",\"No\",\"No\",\"No\",\"No\",\"No\",\"No\",\"No\",\"No\",\"No\",\"No\",\"Yes\",\"Yes\",\"Yes\",\"Yes\",\"No\",\"No\",\"No\",\"No\",\"No\",\"No\",\"Yes\",\"No\",\"No\",\"No\",\"No\",\"Yes\",\"No\",\"Yes\",\"No\",\"No\",\"Yes\",\"No\",\"Yes\",\"No\",\"Yes\",\"No\",\"No\",\"Yes\",\"No\",\"No\",\"No\",\"No\",\"Yes\",\"No\",\"Yes\",\"No\",\"No\",\"No\",\"No\",\"No\",\"Yes\",\"No\",\"No\",\"No\",\"No\",\"No\",\"No\",\"No\",\"No\",\"No\",\"No\",\"No\",\"No\",\"No\",\"No\",\"No\",\"No\",\"No\",\"Yes\",\"Yes\",\"No\",\"No\",\"No\",\"No\",\"No\",\"No\",\"Yes\",\"Yes\",\"No\",\"No\",\"No\",\"No\",\"No\",\"No\",\"No\",\"Yes\",\"No\",\"No\",\"No\",\"No\",\"No\",\"No\",\"No\",\"Yes\",\"No\",\"Yes\",\"No\",\"No\",\"No\",\"No\",\"No\",\"No\",\"No\",\"No\",\"No\",\"No\",\"No\",\"No\",\"No\",\"No\",\"No\",\"No\",\"No\",\"No\",\"No\",\"No\",\"Yes\",\"No\",\"No\",\"No\",\"No\",\"No\",\"Yes\",\"No\",\"No\",\"No\",\"No\",\"No\",\"Yes\",\"No\",\"No\",\"No\",\"No\",\"No\",\"No\",\"No\",\"Yes\",\"No\",\"No\",\"No\",\"No\",\"Yes\",\"No\",\"No\",\"No\",\"No\",\"No\",\"Yes\",\"No\",\"Yes\",\"Yes\",\"No\",\"Yes\",\"No\",\"Yes\",\"No\",\"No\",\"No\",\"No\",\"No\",\"No\",\"Yes\",\"No\",\"Yes\",\"No\",\"No\",\"No\",\"No\",\"No\",\"No\",\"No\",\"No\",\"No\",\"No\",\"No\",\"No\",\"No\",\"Yes\",\"No\",\"Yes\",\"No\",\"No\",\"No\",\"No\",\"No\",\"No\",\"No\",\"No\",\"No\",\"No\",\"No\",\"No\",\"No\",\"No\",\"No\",\"No\",\"No\",\"No\",\"No\",\"No\",\"No\",\"No\",\"No\",\"No\",\"No\",\"No\",\"No\",\"Yes\",\"Yes\",\"No\",\"No\",\"Yes\",\"No\",\"No\",\"No\",\"No\",\"No\",\"No\",\"No\",\"No\",\"No\",\"Yes\",\"No\",\"No\",\"Yes\",\"No\",\"No\",\"No\",\"No\",\"No\",\"No\",\"No\",\"Yes\",\"No\",\"No\",\"No\",\"No\",\"No\",\"No\",\"No\",\"No\",\"No\",\"No\",\"No\",\"No\",\"Yes\",\"No\",\"No\",\"No\",\"No\",\"No\",\"No\",\"No\",\"No\",\"No\",\"No\",\"No\",\"No\",\"No\",\"No\",\"No\",\"No\",\"No\",\"No\",\"No\",\"No\",\"No\",\"No\",\"No\",\"No\",\"No\",\"Yes\",\"Yes\",\"No\",\"No\",\"No\",\"No\",\"No\",\"No\",\"No\",\"No\",\"No\",\"Yes\",\"No\",\"Yes\",\"No\",\"No\",\"No\",\"Yes\",\"No\",\"Yes\",\"No\",\"Yes\",\"Yes\",\"No\",\"No\",\"No\",\"No\",\"No\",\"Yes\",\"No\",\"No\",\"No\",\"No\",\"No\",\"No\",\"Yes\",\"Yes\",\"No\",\"No\",\"Yes\",\"No\",\"No\",\"Yes\",\"Yes\",\"Yes\",\"No\",\"No\",\"No\",\"No\",\"No\",\"No\",\"No\",\"No\",\"No\",\"No\",\"No\",\"No\",\"Yes\",\"No\",\"No\",\"No\",\"No\",\"No\",\"No\",\"No\",\"No\",\"No\",\"Yes\",\"No\",\"Yes\",\"No\",\"No\",\"No\",\"No\",\"No\",\"No\",\"No\",\"No\",\"No\",\"No\",\"No\",\"No\",\"No\",\"No\",\"No\",\"Yes\",\"No\",\"Yes\",\"No\",\"No\",\"No\",\"No\",\"No\",\"No\",\"No\",\"No\",\"No\",\"No\",\"No\",\"No\",\"No\",\"No\",\"No\",\"No\",\"No\",\"No\",\"No\",\"No\",\"No\",\"No\",\"No\",\"No\",\"No\",\"No\",\"No\",\"No\",\"No\",\"No\",\"No\",\"No\",\"No\",\"No\",\"No\",\"No\",\"No\",\"No\",\"No\",\"No\",\"No\",\"No\",\"No\",\"No\",\"No\",\"No\",\"No\",\"No\",\"No\",\"No\",\"No\",\"No\",\"No\",\"No\",\"No\",\"No\",\"No\",\"No\",\"No\",\"No\",\"No\",\"No\",\"No\",\"Yes\",\"No\",\"No\",\"Yes\",\"No\",\"Yes\",\"Yes\",\"No\",\"No\",\"No\",\"No\",\"Yes\",\"No\",\"No\",\"Yes\",\"No\",\"No\",\"No\",\"Yes\",\"No\",\"No\",\"No\",\"No\",\"No\",\"No\",\"No\",\"No\",\"Yes\",\"Yes\",\"No\",\"No\",\"Yes\",\"No\",\"No\",\"No\",\"Yes\",\"No\",\"No\",\"Yes\",\"No\",\"No\",\"No\",\"Yes\",\"No\",\"No\",\"No\",\"No\",\"No\",\"No\",\"No\",\"No\",\"Yes\",\"No\",\"No\",\"No\",\"No\",\"No\",\"Yes\",\"Yes\",\"No\",\"No\",\"No\",\"No\",\"No\",\"No\",\"No\",\"No\",\"Yes\",\"No\",\"No\",\"No\",\"No\",\"No\",\"No\",\"No\",\"No\",\"No\",\"Yes\",\"No\",\"Yes\",\"Yes\",\"Yes\",\"No\",\"No\",\"No\",\"Yes\",\"No\",\"No\",\"No\",\"No\",\"No\",\"No\",\"No\",\"Yes\",\"No\",\"No\",\"No\",\"No\",\"No\",\"No\",\"No\",\"Yes\",\"No\",\"No\",\"No\",\"Yes\",\"Yes\",\"No\",\"No\",\"No\",\"No\",\"No\",\"No\",\"No\",\"No\",\"No\",\"No\",\"No\",\"No\",\"No\",\"No\",\"No\",\"No\",\"Yes\",\"No\",\"No\",\"No\",\"No\",\"Yes\",\"No\",\"No\",\"No\",\"No\",\"No\",\"Yes\",\"No\",\"No\",\"Yes\",\"No\",\"Yes\",\"No\",\"No\",\"No\",\"No\",\"No\",\"No\",\"No\",\"No\",\"No\",\"No\",\"No\",\"No\",\"No\",\"No\",\"No\",\"No\",\"No\",\"Yes\",\"No\",\"Yes\",\"No\",\"No\",\"Yes\",\"No\",\"No\",\"No\",\"No\",\"No\",\"No\",\"No\",\"No\",\"No\",\"No\",\"No\",\"No\",\"No\",\"No\",\"Yes\",\"No\",\"Yes\",\"No\",\"No\",\"No\",\"Yes\",\"No\",\"No\",\"Yes\",\"No\",\"No\",\"No\",\"No\",\"No\",\"No\",\"No\",\"No\",\"No\",\"No\",\"Yes\",\"No\",\"No\",\"No\",\"No\",\"No\",\"No\",\"No\",\"No\",\"Yes\",\"No\",\"Yes\",\"No\",\"No\",\"Yes\",\"No\",\"No\",\"No\",\"No\",\"No\",\"No\",\"No\",\"No\",\"No\",\"No\",\"Yes\",\"No\",\"No\",\"No\",\"Yes\",\"No\",\"No\",\"No\",\"No\",\"No\",\"No\",\"Yes\",\"Yes\",\"No\",\"No\",\"No\",\"No\",\"No\",\"No\",\"No\",\"No\",\"No\",\"No\",\"No\",\"No\",\"No\",\"Yes\",\"Yes\",\"Yes\",\"No\",\"No\",\"No\",\"No\",\"No\",\"No\",\"No\",\"No\",\"No\",\"Yes\",\"No\",\"No\",\"No\",\"No\",\"Yes\",\"Yes\",\"No\",\"No\",\"No\",\"No\",\"No\",\"No\",\"No\",\"No\",\"No\",\"No\",\"No\",\"No\",\"No\"],\"yaxis\":\"y\",\"type\":\"histogram\"}],                        {\"template\":{\"data\":{\"histogram2dcontour\":[{\"type\":\"histogram2dcontour\",\"colorbar\":{\"outlinewidth\":0,\"ticks\":\"\"},\"colorscale\":[[0.0,\"#0d0887\"],[0.1111111111111111,\"#46039f\"],[0.2222222222222222,\"#7201a8\"],[0.3333333333333333,\"#9c179e\"],[0.4444444444444444,\"#bd3786\"],[0.5555555555555556,\"#d8576b\"],[0.6666666666666666,\"#ed7953\"],[0.7777777777777778,\"#fb9f3a\"],[0.8888888888888888,\"#fdca26\"],[1.0,\"#f0f921\"]]}],\"choropleth\":[{\"type\":\"choropleth\",\"colorbar\":{\"outlinewidth\":0,\"ticks\":\"\"}}],\"histogram2d\":[{\"type\":\"histogram2d\",\"colorbar\":{\"outlinewidth\":0,\"ticks\":\"\"},\"colorscale\":[[0.0,\"#0d0887\"],[0.1111111111111111,\"#46039f\"],[0.2222222222222222,\"#7201a8\"],[0.3333333333333333,\"#9c179e\"],[0.4444444444444444,\"#bd3786\"],[0.5555555555555556,\"#d8576b\"],[0.6666666666666666,\"#ed7953\"],[0.7777777777777778,\"#fb9f3a\"],[0.8888888888888888,\"#fdca26\"],[1.0,\"#f0f921\"]]}],\"heatmap\":[{\"type\":\"heatmap\",\"colorbar\":{\"outlinewidth\":0,\"ticks\":\"\"},\"colorscale\":[[0.0,\"#0d0887\"],[0.1111111111111111,\"#46039f\"],[0.2222222222222222,\"#7201a8\"],[0.3333333333333333,\"#9c179e\"],[0.4444444444444444,\"#bd3786\"],[0.5555555555555556,\"#d8576b\"],[0.6666666666666666,\"#ed7953\"],[0.7777777777777778,\"#fb9f3a\"],[0.8888888888888888,\"#fdca26\"],[1.0,\"#f0f921\"]]}],\"heatmapgl\":[{\"type\":\"heatmapgl\",\"colorbar\":{\"outlinewidth\":0,\"ticks\":\"\"},\"colorscale\":[[0.0,\"#0d0887\"],[0.1111111111111111,\"#46039f\"],[0.2222222222222222,\"#7201a8\"],[0.3333333333333333,\"#9c179e\"],[0.4444444444444444,\"#bd3786\"],[0.5555555555555556,\"#d8576b\"],[0.6666666666666666,\"#ed7953\"],[0.7777777777777778,\"#fb9f3a\"],[0.8888888888888888,\"#fdca26\"],[1.0,\"#f0f921\"]]}],\"contourcarpet\":[{\"type\":\"contourcarpet\",\"colorbar\":{\"outlinewidth\":0,\"ticks\":\"\"}}],\"contour\":[{\"type\":\"contour\",\"colorbar\":{\"outlinewidth\":0,\"ticks\":\"\"},\"colorscale\":[[0.0,\"#0d0887\"],[0.1111111111111111,\"#46039f\"],[0.2222222222222222,\"#7201a8\"],[0.3333333333333333,\"#9c179e\"],[0.4444444444444444,\"#bd3786\"],[0.5555555555555556,\"#d8576b\"],[0.6666666666666666,\"#ed7953\"],[0.7777777777777778,\"#fb9f3a\"],[0.8888888888888888,\"#fdca26\"],[1.0,\"#f0f921\"]]}],\"surface\":[{\"type\":\"surface\",\"colorbar\":{\"outlinewidth\":0,\"ticks\":\"\"},\"colorscale\":[[0.0,\"#0d0887\"],[0.1111111111111111,\"#46039f\"],[0.2222222222222222,\"#7201a8\"],[0.3333333333333333,\"#9c179e\"],[0.4444444444444444,\"#bd3786\"],[0.5555555555555556,\"#d8576b\"],[0.6666666666666666,\"#ed7953\"],[0.7777777777777778,\"#fb9f3a\"],[0.8888888888888888,\"#fdca26\"],[1.0,\"#f0f921\"]]}],\"mesh3d\":[{\"type\":\"mesh3d\",\"colorbar\":{\"outlinewidth\":0,\"ticks\":\"\"}}],\"scatter\":[{\"fillpattern\":{\"fillmode\":\"overlay\",\"size\":10,\"solidity\":0.2},\"type\":\"scatter\"}],\"parcoords\":[{\"type\":\"parcoords\",\"line\":{\"colorbar\":{\"outlinewidth\":0,\"ticks\":\"\"}}}],\"scatterpolargl\":[{\"type\":\"scatterpolargl\",\"marker\":{\"colorbar\":{\"outlinewidth\":0,\"ticks\":\"\"}}}],\"bar\":[{\"error_x\":{\"color\":\"#2a3f5f\"},\"error_y\":{\"color\":\"#2a3f5f\"},\"marker\":{\"line\":{\"color\":\"#E5ECF6\",\"width\":0.5},\"pattern\":{\"fillmode\":\"overlay\",\"size\":10,\"solidity\":0.2}},\"type\":\"bar\"}],\"scattergeo\":[{\"type\":\"scattergeo\",\"marker\":{\"colorbar\":{\"outlinewidth\":0,\"ticks\":\"\"}}}],\"scatterpolar\":[{\"type\":\"scatterpolar\",\"marker\":{\"colorbar\":{\"outlinewidth\":0,\"ticks\":\"\"}}}],\"histogram\":[{\"marker\":{\"pattern\":{\"fillmode\":\"overlay\",\"size\":10,\"solidity\":0.2}},\"type\":\"histogram\"}],\"scattergl\":[{\"type\":\"scattergl\",\"marker\":{\"colorbar\":{\"outlinewidth\":0,\"ticks\":\"\"}}}],\"scatter3d\":[{\"type\":\"scatter3d\",\"line\":{\"colorbar\":{\"outlinewidth\":0,\"ticks\":\"\"}},\"marker\":{\"colorbar\":{\"outlinewidth\":0,\"ticks\":\"\"}}}],\"scattermapbox\":[{\"type\":\"scattermapbox\",\"marker\":{\"colorbar\":{\"outlinewidth\":0,\"ticks\":\"\"}}}],\"scatterternary\":[{\"type\":\"scatterternary\",\"marker\":{\"colorbar\":{\"outlinewidth\":0,\"ticks\":\"\"}}}],\"scattercarpet\":[{\"type\":\"scattercarpet\",\"marker\":{\"colorbar\":{\"outlinewidth\":0,\"ticks\":\"\"}}}],\"carpet\":[{\"aaxis\":{\"endlinecolor\":\"#2a3f5f\",\"gridcolor\":\"white\",\"linecolor\":\"white\",\"minorgridcolor\":\"white\",\"startlinecolor\":\"#2a3f5f\"},\"baxis\":{\"endlinecolor\":\"#2a3f5f\",\"gridcolor\":\"white\",\"linecolor\":\"white\",\"minorgridcolor\":\"white\",\"startlinecolor\":\"#2a3f5f\"},\"type\":\"carpet\"}],\"table\":[{\"cells\":{\"fill\":{\"color\":\"#EBF0F8\"},\"line\":{\"color\":\"white\"}},\"header\":{\"fill\":{\"color\":\"#C8D4E3\"},\"line\":{\"color\":\"white\"}},\"type\":\"table\"}],\"barpolar\":[{\"marker\":{\"line\":{\"color\":\"#E5ECF6\",\"width\":0.5},\"pattern\":{\"fillmode\":\"overlay\",\"size\":10,\"solidity\":0.2}},\"type\":\"barpolar\"}],\"pie\":[{\"automargin\":true,\"type\":\"pie\"}]},\"layout\":{\"autotypenumbers\":\"strict\",\"colorway\":[\"#636efa\",\"#EF553B\",\"#00cc96\",\"#ab63fa\",\"#FFA15A\",\"#19d3f3\",\"#FF6692\",\"#B6E880\",\"#FF97FF\",\"#FECB52\"],\"font\":{\"color\":\"#2a3f5f\"},\"hovermode\":\"closest\",\"hoverlabel\":{\"align\":\"left\"},\"paper_bgcolor\":\"white\",\"plot_bgcolor\":\"#E5ECF6\",\"polar\":{\"bgcolor\":\"#E5ECF6\",\"angularaxis\":{\"gridcolor\":\"white\",\"linecolor\":\"white\",\"ticks\":\"\"},\"radialaxis\":{\"gridcolor\":\"white\",\"linecolor\":\"white\",\"ticks\":\"\"}},\"ternary\":{\"bgcolor\":\"#E5ECF6\",\"aaxis\":{\"gridcolor\":\"white\",\"linecolor\":\"white\",\"ticks\":\"\"},\"baxis\":{\"gridcolor\":\"white\",\"linecolor\":\"white\",\"ticks\":\"\"},\"caxis\":{\"gridcolor\":\"white\",\"linecolor\":\"white\",\"ticks\":\"\"}},\"coloraxis\":{\"colorbar\":{\"outlinewidth\":0,\"ticks\":\"\"}},\"colorscale\":{\"sequential\":[[0.0,\"#0d0887\"],[0.1111111111111111,\"#46039f\"],[0.2222222222222222,\"#7201a8\"],[0.3333333333333333,\"#9c179e\"],[0.4444444444444444,\"#bd3786\"],[0.5555555555555556,\"#d8576b\"],[0.6666666666666666,\"#ed7953\"],[0.7777777777777778,\"#fb9f3a\"],[0.8888888888888888,\"#fdca26\"],[1.0,\"#f0f921\"]],\"sequentialminus\":[[0.0,\"#0d0887\"],[0.1111111111111111,\"#46039f\"],[0.2222222222222222,\"#7201a8\"],[0.3333333333333333,\"#9c179e\"],[0.4444444444444444,\"#bd3786\"],[0.5555555555555556,\"#d8576b\"],[0.6666666666666666,\"#ed7953\"],[0.7777777777777778,\"#fb9f3a\"],[0.8888888888888888,\"#fdca26\"],[1.0,\"#f0f921\"]],\"diverging\":[[0,\"#8e0152\"],[0.1,\"#c51b7d\"],[0.2,\"#de77ae\"],[0.3,\"#f1b6da\"],[0.4,\"#fde0ef\"],[0.5,\"#f7f7f7\"],[0.6,\"#e6f5d0\"],[0.7,\"#b8e186\"],[0.8,\"#7fbc41\"],[0.9,\"#4d9221\"],[1,\"#276419\"]]},\"xaxis\":{\"gridcolor\":\"white\",\"linecolor\":\"white\",\"ticks\":\"\",\"title\":{\"standoff\":15},\"zerolinecolor\":\"white\",\"automargin\":true,\"zerolinewidth\":2},\"yaxis\":{\"gridcolor\":\"white\",\"linecolor\":\"white\",\"ticks\":\"\",\"title\":{\"standoff\":15},\"zerolinecolor\":\"white\",\"automargin\":true,\"zerolinewidth\":2},\"scene\":{\"xaxis\":{\"backgroundcolor\":\"#E5ECF6\",\"gridcolor\":\"white\",\"linecolor\":\"white\",\"showbackground\":true,\"ticks\":\"\",\"zerolinecolor\":\"white\",\"gridwidth\":2},\"yaxis\":{\"backgroundcolor\":\"#E5ECF6\",\"gridcolor\":\"white\",\"linecolor\":\"white\",\"showbackground\":true,\"ticks\":\"\",\"zerolinecolor\":\"white\",\"gridwidth\":2},\"zaxis\":{\"backgroundcolor\":\"#E5ECF6\",\"gridcolor\":\"white\",\"linecolor\":\"white\",\"showbackground\":true,\"ticks\":\"\",\"zerolinecolor\":\"white\",\"gridwidth\":2}},\"shapedefaults\":{\"line\":{\"color\":\"#2a3f5f\"}},\"annotationdefaults\":{\"arrowcolor\":\"#2a3f5f\",\"arrowhead\":0,\"arrowwidth\":1},\"geo\":{\"bgcolor\":\"white\",\"landcolor\":\"#E5ECF6\",\"subunitcolor\":\"white\",\"showland\":true,\"showlakes\":true,\"lakecolor\":\"white\"},\"title\":{\"x\":0.05},\"mapbox\":{\"style\":\"light\"}}},\"xaxis\":{\"anchor\":\"y\",\"domain\":[0.0,1.0],\"title\":{\"text\":\"count\"}},\"yaxis\":{\"anchor\":\"x\",\"domain\":[0.0,1.0],\"title\":{\"text\":\"Dependents\"},\"categoryorder\":\"total ascending\"},\"legend\":{\"title\":{\"text\":\"Churn\"},\"tracegroupgap\":0},\"margin\":{\"t\":60},\"barmode\":\"relative\"},                        {\"responsive\": true}                    ).then(function(){\n",
              "                            \n",
              "var gd = document.getElementById('50519db0-e744-4ba2-89a9-6b469282396f');\n",
              "var x = new MutationObserver(function (mutations, observer) {{\n",
              "        var display = window.getComputedStyle(gd).display;\n",
              "        if (!display || display === 'none') {{\n",
              "            console.log([gd, 'removed!']);\n",
              "            Plotly.purge(gd);\n",
              "            observer.disconnect();\n",
              "        }}\n",
              "}});\n",
              "\n",
              "// Listen for the removal of the full notebook cells\n",
              "var notebookContainer = gd.closest('#notebook-container');\n",
              "if (notebookContainer) {{\n",
              "    x.observe(notebookContainer, {childList: true});\n",
              "}}\n",
              "\n",
              "// Listen for the clearing of the current output cell\n",
              "var outputEl = gd.closest('.output');\n",
              "if (outputEl) {{\n",
              "    x.observe(outputEl, {childList: true});\n",
              "}}\n",
              "\n",
              "                        })                };                            </script>        </div>\n",
              "</body>\n",
              "</html>"
            ]
          },
          "metadata": {}
        }
      ]
    },
    {
      "cell_type": "code",
      "source": [
        "# Identificando o incidência de Churn quanto ao cliente possuir serviço de segurança online\n",
        "grafico_security = px.histogram(df, y='OnlineSecurity', color='Churn', orientation='h')\n",
        "grafico_security.update_yaxes(categoryorder='total ascending')\n",
        "grafico_security.show()"
      ],
      "metadata": {
        "colab": {
          "base_uri": "https://localhost:8080/",
          "height": 542
        },
        "id": "XfcvGMHCSGIn",
        "outputId": "8150200a-aeb8-4a67-dc78-fc0fadd92126"
      },
      "execution_count": 256,
      "outputs": [
        {
          "output_type": "display_data",
          "data": {
            "text/html": [
              "<html>\n",
              "<head><meta charset=\"utf-8\" /></head>\n",
              "<body>\n",
              "    <div>            <script src=\"https://cdnjs.cloudflare.com/ajax/libs/mathjax/2.7.5/MathJax.js?config=TeX-AMS-MML_SVG\"></script><script type=\"text/javascript\">if (window.MathJax && window.MathJax.Hub && window.MathJax.Hub.Config) {window.MathJax.Hub.Config({SVG: {font: \"STIX-Web\"}});}</script>                <script type=\"text/javascript\">window.PlotlyConfig = {MathJaxConfig: 'local'};</script>\n",
              "        <script charset=\"utf-8\" src=\"https://cdn.plot.ly/plotly-2.35.2.min.js\"></script>                <div id=\"33f6858a-e467-4948-bce1-26f9c9eb3aa7\" class=\"plotly-graph-div\" style=\"height:525px; width:100%;\"></div>            <script type=\"text/javascript\">                                    window.PLOTLYENV=window.PLOTLYENV || {};                                    if (document.getElementById(\"33f6858a-e467-4948-bce1-26f9c9eb3aa7\")) {                    Plotly.newPlot(                        \"33f6858a-e467-4948-bce1-26f9c9eb3aa7\",                        [{\"alignmentgroup\":\"True\",\"bingroup\":\"y\",\"hovertemplate\":\"Churn=No\\u003cbr\\u003ecount=%{x}\\u003cbr\\u003eOnlineSecurity=%{y}\\u003cextra\\u003e\\u003c\\u002fextra\\u003e\",\"legendgroup\":\"No\",\"marker\":{\"color\":\"#636efa\",\"pattern\":{\"shape\":\"\"}},\"name\":\"No\",\"offsetgroup\":\"No\",\"orientation\":\"h\",\"showlegend\":true,\"xaxis\":\"x\",\"y\":[\"No\",\"No\",\"No\",\"Yes\",\"Yes\",\"Yes\",\"Yes\",\"Yes\",\"Yes\",\"No\",\"Yes\",\"Yes\",\"No\",\"Yes\",\"No\",\"No internet service\",\"No\",\"No internet service\",\"No\",\"No internet service\",\"No internet service\",\"No internet service\",\"No\",\"No internet service\",\"Yes\",\"No internet service\",\"Yes\",\"No internet service\",\"Yes\",\"Yes\",\"No internet service\",\"No\",\"No\",\"No internet service\",\"Yes\",\"Yes\",\"No\",\"No\",\"No\",\"No\",\"No\",\"Yes\",\"No\",\"No\",\"No\",\"Yes\",\"No internet service\",\"No\",\"No\",\"No\",\"No\",\"Yes\",\"No\",\"No\",\"No\",\"No\",\"No internet service\",\"Yes\",\"Yes\",\"Yes\",\"Yes\",\"No\",\"No internet service\",\"No\",\"No\",\"No\",\"Yes\",\"No\",\"No internet service\",\"No\",\"Yes\",\"No internet service\",\"No\",\"No internet service\",\"Yes\",\"No internet service\",\"No\",\"Yes\",\"Yes\",\"No\",\"Yes\",\"No internet service\",\"Yes\",\"Yes\",\"No\",\"Yes\",\"Yes\",\"No internet service\",\"Yes\",\"No internet service\",\"No\",\"No\",\"Yes\",\"No\",\"No internet service\",\"No internet service\",\"Yes\",\"Yes\",\"No internet service\",\"No\",\"No\",\"No\",\"Yes\",\"Yes\",\"Yes\",\"No\",\"Yes\",\"Yes\",\"Yes\",\"Yes\",\"Yes\",\"No internet service\",\"No\",\"Yes\",\"No\",\"Yes\",\"Yes\",\"No\",\"No\",\"No\",\"Yes\",\"No internet service\",\"Yes\",\"No\",\"Yes\",\"No internet service\",\"Yes\",\"Yes\",\"No\",\"No\",\"No internet service\",\"No\",\"Yes\",\"Yes\",\"No\",\"No\",\"No\",\"No\",\"Yes\",\"No internet service\",\"No\",\"No internet service\",\"Yes\",\"No internet service\",\"No\",\"No\",\"Yes\",\"No internet service\",\"Yes\",\"Yes\",\"No\",\"No internet service\",\"No\",\"Yes\",\"No internet service\",\"No\",\"No\",\"No\",\"Yes\",\"Yes\",\"Yes\",\"Yes\",\"No\",\"No internet service\",\"No internet service\",\"No\",\"No\",\"No internet service\",\"Yes\",\"No internet service\",\"Yes\",\"No\",\"No\",\"Yes\",\"No internet service\",\"No\",\"Yes\",\"Yes\",\"No internet service\",\"No\",\"Yes\",\"Yes\",\"Yes\",\"Yes\",\"No\",\"No internet service\",\"Yes\",\"Yes\",\"Yes\",\"No internet service\",\"Yes\",\"No internet service\",\"No internet service\",\"No\",\"No\",\"No internet service\",\"Yes\",\"No internet service\",\"No internet service\",\"Yes\",\"No\",\"No\",\"Yes\",\"No\",\"No\",\"Yes\",\"No internet service\",\"No\",\"No\",\"No internet service\",\"No\",\"No\",\"No\",\"No\",\"Yes\",\"No\",\"No\",\"No\",\"No\",\"No\",\"No internet service\",\"Yes\",\"No\",\"No\",\"Yes\",\"No\",\"No\",\"Yes\",\"No internet service\",\"No internet service\",\"No\",\"No internet service\",\"No\",\"Yes\",\"No\",\"No\",\"No internet service\",\"No\",\"No\",\"No internet service\",\"No internet service\",\"No internet service\",\"No\",\"Yes\",\"No internet service\",\"No\",\"No\",\"Yes\",\"No internet service\",\"No internet service\",\"No\",\"No internet service\",\"No\",\"Yes\",\"No\",\"No internet service\",\"Yes\",\"No internet service\",\"No\",\"Yes\",\"Yes\",\"Yes\",\"No\",\"No\",\"Yes\",\"No internet service\",\"Yes\",\"Yes\",\"Yes\",\"No internet service\",\"No\",\"No\",\"No\",\"No\",\"No internet service\",\"Yes\",\"No internet service\",\"Yes\",\"No\",\"Yes\",\"Yes\",\"Yes\",\"No\",\"Yes\",\"No\",\"Yes\",\"Yes\",\"No\",\"No\",\"No internet service\",\"Yes\",\"No\",\"No internet service\",\"Yes\",\"No\",\"No\",\"Yes\",\"No internet service\",\"No\",\"No\",\"No internet service\",\"No internet service\",\"Yes\",\"No\",\"No internet service\",\"No internet service\",\"No\",\"No\",\"No internet service\",\"Yes\",\"Yes\",\"No internet service\",\"No internet service\",\"No\",\"No internet service\",\"Yes\",\"No\",\"No\",\"Yes\",\"No\",\"Yes\",\"No\",\"No internet service\",\"Yes\",\"No\",\"No\",\"No\",\"Yes\",\"Yes\",\"No internet service\",\"No internet service\",\"No\",\"No\",\"Yes\",\"Yes\",\"No\",\"Yes\",\"No\",\"No\",\"No internet service\",\"No\",\"No\",\"Yes\",\"No\",\"Yes\",\"No internet service\",\"No\",\"Yes\",\"No\",\"Yes\",\"No\",\"No\",\"No\",\"Yes\",\"No\",\"Yes\",\"Yes\",\"No internet service\",\"No internet service\",\"No\",\"Yes\",\"Yes\",\"Yes\",\"No\",\"Yes\",\"Yes\",\"No\",\"Yes\",\"No internet service\",\"No internet service\",\"No\",\"No\",\"Yes\",\"Yes\",\"Yes\",\"Yes\",\"Yes\",\"No internet service\",\"No internet service\",\"No internet service\",\"No\",\"No internet service\",\"No internet service\",\"Yes\",\"No internet service\",\"Yes\",\"Yes\",\"No internet service\",\"No\",\"No\",\"No internet service\",\"Yes\",\"Yes\",\"No\",\"No\",\"No\",\"No internet service\",\"No\",\"No\",\"No\",\"Yes\",\"No internet service\",\"No internet service\",\"No internet service\",\"Yes\",\"No internet service\",\"No internet service\",\"No\",\"Yes\",\"No internet service\",\"Yes\",\"No\",\"No\",\"No internet service\",\"Yes\",\"No\",\"Yes\",\"Yes\",\"Yes\",\"No internet service\",\"No\",\"No internet service\",\"No\",\"Yes\",\"No\",\"Yes\",\"No\",\"No internet service\",\"Yes\",\"Yes\",\"Yes\",\"Yes\",\"No\",\"No\",\"No internet service\",\"Yes\",\"No\",\"No\",\"Yes\",\"No internet service\",\"No internet service\",\"Yes\",\"Yes\",\"Yes\",\"Yes\",\"No\",\"Yes\",\"No\",\"No\",\"No\",\"No internet service\",\"No\",\"No\",\"Yes\",\"No\",\"Yes\",\"Yes\",\"No internet service\",\"No internet service\",\"No\",\"No\",\"No\",\"Yes\",\"No\",\"No\",\"No\",\"No internet service\",\"No\",\"Yes\",\"No\",\"Yes\",\"No internet service\",\"No internet service\",\"No internet service\",\"No internet service\",\"No internet service\",\"Yes\",\"Yes\",\"No\",\"No\",\"No\",\"No\",\"No\",\"Yes\",\"No\",\"No\",\"No\",\"No\",\"Yes\",\"No\",\"No internet service\",\"No internet service\",\"No\",\"No\",\"No\",\"No internet service\",\"Yes\",\"No\",\"No\",\"Yes\",\"No\",\"Yes\",\"No\",\"Yes\",\"No internet service\",\"No\",\"Yes\",\"No internet service\",\"No\",\"No internet service\",\"No\",\"No internet service\",\"No internet service\",\"No internet service\",\"Yes\",\"No internet service\",\"Yes\",\"Yes\",\"No\",\"No internet service\",\"No internet service\",\"No internet service\",\"No\",\"No internet service\",\"No\",\"No\",\"No internet service\",\"Yes\",\"No internet service\",\"No internet service\",\"Yes\",\"Yes\",\"No\",\"No internet service\",\"Yes\",\"Yes\",\"No\",\"No internet service\",\"No internet service\",\"No\",\"No\",\"No\",\"Yes\",\"No internet service\",\"No internet service\",\"Yes\",\"No internet service\",\"No\",\"No\",\"No\",\"No\",\"No internet service\",\"Yes\",\"Yes\",\"Yes\",\"No\",\"Yes\",\"No\",\"No internet service\",\"No internet service\",\"No\",\"No internet service\",\"No\",\"No\",\"No internet service\",\"No\",\"No\",\"No\",\"No internet service\",\"No\",\"Yes\",\"No\",\"Yes\",\"No internet service\",\"No internet service\",\"No\",\"Yes\",\"Yes\",\"No internet service\",\"No internet service\",\"No\",\"Yes\",\"No\",\"No internet service\",\"Yes\",\"No\",\"No\",\"No\",\"Yes\",\"No internet service\",\"No internet service\",\"No\",\"Yes\",\"Yes\",\"No\",\"No internet service\",\"No\",\"No\",\"Yes\",\"Yes\",\"No internet service\",\"No\",\"Yes\",\"Yes\",\"No internet service\",\"No\",\"Yes\",\"Yes\",\"No\",\"No\",\"No\",\"Yes\",\"No internet service\",\"No internet service\",\"No internet service\",\"No\",\"No internet service\",\"Yes\",\"No\",\"Yes\",\"No\",\"No internet service\",\"No internet service\",\"No internet service\",\"No internet service\",\"No internet service\",\"No internet service\",\"No\",\"No internet service\",\"Yes\",\"No internet service\",\"Yes\",\"No\",\"No\",\"No\",\"Yes\",\"Yes\",\"Yes\",\"No internet service\",\"No internet service\",\"No\",\"No internet service\",\"No\",\"No\",\"No internet service\",\"No internet service\",\"No\",\"No\",\"No internet service\",\"Yes\",\"No internet service\",\"No\",\"No\",\"No\",\"No\",\"No internet service\",\"No\",\"No\",\"No\",\"No\",\"Yes\",\"Yes\",\"No\",\"Yes\",\"No internet service\",\"No\",\"No internet service\",\"No\",\"No\",\"No\",\"No\",\"No internet service\",\"No\",\"No\",\"No internet service\",\"No internet service\",\"No\",\"Yes\",\"No\",\"Yes\",\"No\",\"Yes\",\"No\",\"No internet service\",\"No\",\"Yes\",\"No\",\"No\",\"No\",\"No\",\"No\",\"No\",\"Yes\",\"No internet service\",\"No\",\"Yes\",\"No\",\"No\",\"No internet service\",\"No internet service\",\"Yes\",\"No\",\"No\",\"Yes\",\"No\",\"No internet service\",\"Yes\",\"No internet service\",\"No\",\"No\",\"No internet service\",\"Yes\",\"No internet service\",\"No internet service\",\"No\",\"No internet service\",\"No\",\"Yes\",\"Yes\",\"Yes\",\"No\",\"No internet service\",\"No\",\"Yes\",\"No internet service\",\"Yes\",\"No\",\"No internet service\",\"No\",\"No internet service\",\"No\",\"Yes\",\"No\",\"No\",\"Yes\",\"No\",\"Yes\",\"Yes\",\"Yes\",\"No\",\"Yes\",\"No internet service\",\"No\",\"No internet service\",\"No internet service\",\"No\",\"No\",\"No\",\"No\",\"Yes\",\"No\",\"No\",\"Yes\",\"No\",\"Yes\",\"No\",\"Yes\",\"No internet service\",\"Yes\",\"Yes\",\"No internet service\",\"No internet service\",\"Yes\",\"Yes\",\"No\",\"No\",\"No\",\"Yes\",\"Yes\",\"No internet service\",\"No\",\"Yes\",\"No internet service\",\"No\",\"Yes\",\"Yes\",\"Yes\",\"No\",\"Yes\",\"Yes\",\"Yes\",\"No internet service\",\"No internet service\",\"No internet service\",\"Yes\",\"No\",\"No internet service\",\"No internet service\",\"No\",\"Yes\",\"Yes\",\"No\",\"No internet service\",\"Yes\",\"Yes\",\"Yes\",\"Yes\",\"No internet service\",\"No\",\"No internet service\",\"Yes\",\"No\",\"No\",\"No internet service\",\"No internet service\",\"Yes\",\"No internet service\",\"No internet service\",\"No\",\"Yes\",\"No\",\"No internet service\",\"No internet service\",\"No\",\"No\",\"No internet service\",\"No\",\"Yes\",\"No\",\"No internet service\",\"Yes\",\"No\",\"Yes\",\"No internet service\",\"No\",\"No\",\"Yes\",\"Yes\",\"No internet service\",\"No internet service\",\"No\",\"No\",\"No\",\"No internet service\",\"No\",\"Yes\",\"No\",\"No\",\"No internet service\",\"Yes\",\"Yes\",\"No internet service\",\"Yes\",\"No\",\"No\",\"No internet service\",\"No\",\"Yes\",\"No internet service\",\"No\",\"Yes\",\"No internet service\",\"No internet service\",\"No\",\"No\",\"Yes\",\"No\",\"No\",\"No\",\"No internet service\",\"No internet service\",\"Yes\",\"No internet service\",\"No\",\"No\",\"Yes\",\"No\",\"No internet service\",\"No internet service\",\"No internet service\",\"No internet service\",\"No internet service\",\"No\",\"No internet service\",\"No\",\"No internet service\",\"No\",\"Yes\",\"No\",\"Yes\",\"No internet service\",\"No\",\"Yes\",\"No internet service\",\"No\",\"No\",\"No internet service\",\"Yes\",\"No\",\"No internet service\",\"No\",\"Yes\",\"Yes\",\"No internet service\",\"Yes\",\"No internet service\",\"Yes\",\"No\",\"No\",\"No internet service\",\"Yes\",\"Yes\",\"No internet service\",\"No\",\"No\",\"No\",\"No internet service\",\"Yes\",\"No internet service\",\"No internet service\",\"No\",\"Yes\",\"No internet service\",\"No\",\"No\",\"Yes\",\"Yes\",\"No internet service\",\"No internet service\",\"Yes\",\"No\",\"No\",\"No internet service\",\"No internet service\",\"Yes\",\"Yes\",\"No\",\"No internet service\",\"Yes\",\"No internet service\",\"Yes\",\"Yes\",\"No\",\"Yes\",\"No internet service\",\"No\",\"Yes\",\"No internet service\",\"Yes\",\"No\",\"No internet service\",\"No\",\"No\",\"No internet service\",\"No\",\"No internet service\",\"No internet service\",\"Yes\",\"Yes\",\"No internet service\",\"Yes\",\"No\",\"No\",\"No internet service\",\"No\",\"No\",\"Yes\",\"Yes\",\"No\",\"No\",\"No internet service\",\"Yes\",\"Yes\",\"No internet service\",\"No internet service\",\"No\",\"No\",\"Yes\",\"No\",\"No internet service\",\"No internet service\",\"Yes\",\"No\",\"Yes\",\"No internet service\",\"No internet service\",\"No internet service\",\"Yes\",\"No internet service\",\"No internet service\",\"No\",\"No internet service\",\"Yes\",\"Yes\",\"No\",\"No\",\"No internet service\",\"No internet service\",\"No\",\"No internet service\",\"No\",\"No\",\"No\",\"No internet service\",\"No\",\"Yes\",\"No\",\"No internet service\",\"No\",\"No\",\"Yes\",\"Yes\",\"No\",\"No\",\"Yes\",\"Yes\",\"No\",\"Yes\",\"Yes\",\"No\",\"No internet service\",\"No\",\"Yes\",\"No\",\"No\",\"Yes\",\"No internet service\",\"No\",\"No\",\"No internet service\",\"No\",\"No internet service\",\"No\",\"No\",\"No internet service\",\"Yes\",\"Yes\",\"No\",\"No\",\"No\",\"No internet service\",\"No internet service\",\"No\",\"No\",\"No internet service\",\"No\",\"Yes\",\"No\",\"No internet service\",\"No internet service\",\"No\",\"No\",\"No\",\"No\",\"No\",\"No internet service\",\"No internet service\",\"Yes\",\"No internet service\",\"Yes\",\"No\",\"No\",\"No\",\"No internet service\",\"Yes\",\"No\",\"Yes\",\"No internet service\",\"No\",\"No internet service\",\"Yes\",\"Yes\",\"No internet service\",\"No internet service\",\"No\",\"No\",\"No internet service\",\"Yes\",\"No\",\"No internet service\",\"Yes\",\"No internet service\",\"No internet service\",\"No\",\"Yes\",\"Yes\",\"No\",\"No internet service\",\"Yes\",\"Yes\",\"No\",\"Yes\",\"No\",\"Yes\",\"Yes\",\"Yes\",\"Yes\",\"Yes\",\"Yes\",\"No\",\"No\",\"Yes\",\"No\",\"Yes\",\"No\",\"No internet service\",\"No internet service\",\"No internet service\",\"Yes\",\"No\",\"No\",\"No\",\"No\",\"No\",\"No internet service\",\"Yes\",\"Yes\",\"No\",\"No internet service\",\"No internet service\",\"No\",\"No internet service\",\"No internet service\",\"Yes\",\"Yes\",\"No\",\"No\",\"Yes\",\"No internet service\",\"No internet service\",\"Yes\",\"No\",\"Yes\",\"No internet service\",\"No\",\"Yes\",\"Yes\",\"No\",\"Yes\",\"Yes\",\"Yes\",\"No\",\"No\",\"No\",\"No\",\"No\",\"No internet service\",\"No internet service\",\"No\",\"Yes\",\"No\",\"Yes\",\"No\",\"Yes\",\"Yes\",\"No\",\"Yes\",\"No\",\"No internet service\",\"No\",\"No\",\"No\",\"No\",\"Yes\",\"No\",\"No\",\"No\",\"No\",\"No\",\"Yes\",\"No internet service\",\"No\",\"No internet service\",\"No\",\"Yes\",\"No internet service\",\"Yes\",\"Yes\",\"No\",\"No internet service\",\"No internet service\",\"Yes\",\"Yes\",\"No internet service\",\"No\",\"Yes\",\"No\",\"No\",\"No internet service\",\"No internet service\",\"Yes\",\"Yes\",\"No internet service\",\"No internet service\",\"No\",\"No internet service\",\"Yes\",\"Yes\",\"Yes\",\"No internet service\",\"No\",\"Yes\",\"No\",\"Yes\",\"No\",\"Yes\",\"Yes\",\"No internet service\",\"No\",\"No internet service\",\"Yes\",\"No\",\"Yes\",\"No\",\"Yes\",\"No\",\"Yes\",\"No internet service\",\"No\",\"No internet service\",\"Yes\",\"No\",\"No internet service\",\"No internet service\",\"Yes\",\"No\",\"Yes\",\"Yes\",\"No\",\"No internet service\",\"No internet service\",\"No\",\"No\",\"No internet service\",\"No internet service\",\"No internet service\",\"Yes\",\"No\",\"Yes\",\"No\",\"No\",\"No internet service\",\"No\",\"No\",\"Yes\",\"No\",\"No internet service\",\"Yes\",\"No\",\"Yes\",\"Yes\",\"No\",\"No internet service\",\"No internet service\",\"No internet service\",\"No\",\"No\",\"No\",\"Yes\",\"No\",\"No\",\"No\",\"No internet service\",\"No\",\"No internet service\",\"Yes\",\"No\",\"Yes\",\"No internet service\",\"Yes\",\"No\",\"No\",\"No\",\"No\",\"No internet service\",\"No internet service\",\"No\",\"Yes\",\"No\",\"No\",\"No\",\"No internet service\",\"Yes\",\"Yes\",\"No\",\"No\",\"No internet service\",\"No\",\"Yes\",\"Yes\",\"No\",\"Yes\",\"No internet service\",\"No\",\"No internet service\",\"Yes\",\"Yes\",\"No internet service\",\"Yes\",\"No\",\"No internet service\",\"No internet service\",\"No internet service\",\"No\",\"No internet service\",\"No\",\"No\",\"Yes\",\"Yes\",\"Yes\",\"No\",\"Yes\",\"No\",\"Yes\",\"No internet service\",\"No internet service\",\"No internet service\",\"No internet service\",\"No internet service\",\"Yes\",\"No\",\"No\",\"Yes\",\"No\",\"Yes\",\"No internet service\",\"No\",\"No\",\"Yes\",\"No internet service\",\"Yes\",\"No internet service\",\"No\",\"No\",\"No internet service\",\"Yes\",\"No internet service\",\"Yes\",\"No\",\"Yes\",\"No internet service\",\"No internet service\",\"Yes\",\"No internet service\",\"Yes\",\"No internet service\",\"No\",\"No\",\"No internet service\",\"Yes\",\"No\",\"No internet service\",\"No\",\"Yes\",\"No\",\"No\",\"Yes\",\"No internet service\",\"No\",\"No\",\"No\",\"No internet service\",\"Yes\",\"No internet service\",\"Yes\",\"No\",\"Yes\",\"No internet service\",\"Yes\",\"No\",\"No internet service\",\"No\",\"No\",\"No internet service\",\"No\",\"Yes\",\"No internet service\",\"No\",\"No internet service\",\"Yes\",\"No internet service\",\"Yes\",\"Yes\",\"No internet service\",\"Yes\",\"No internet service\",\"No internet service\",\"No\",\"No\",\"Yes\",\"Yes\",\"No internet service\",\"Yes\",\"No internet service\",\"No\",\"No internet service\",\"No internet service\",\"No\",\"No\",\"No internet service\",\"Yes\",\"No\",\"No\",\"Yes\",\"No\",\"No\",\"Yes\",\"No\",\"Yes\",\"No\",\"No\",\"No\",\"No internet service\",\"Yes\",\"No\",\"Yes\",\"No internet service\",\"Yes\",\"No internet service\",\"No internet service\",\"No\",\"Yes\",\"No\",\"No internet service\",\"No\",\"No\",\"Yes\",\"No internet service\",\"No internet service\",\"No\",\"No\",\"No internet service\",\"No internet service\",\"No\",\"No\",\"Yes\",\"No internet service\",\"No internet service\",\"No internet service\",\"No internet service\",\"No internet service\",\"No\",\"Yes\",\"No\",\"Yes\",\"No\",\"No\",\"No internet service\",\"No\",\"No\",\"No\",\"No internet service\",\"Yes\",\"No\",\"No\",\"No\",\"No internet service\",\"No\",\"No\",\"No\",\"No\",\"No internet service\",\"No\",\"Yes\",\"No internet service\",\"No\",\"No\",\"No\",\"No\",\"No internet service\",\"Yes\",\"No\",\"No internet service\",\"Yes\",\"No\",\"Yes\",\"No\",\"No internet service\",\"Yes\",\"No internet service\",\"No\",\"No\",\"No\",\"No internet service\",\"No\",\"Yes\",\"No\",\"No internet service\",\"No internet service\",\"No\",\"Yes\",\"No\",\"Yes\",\"No\",\"Yes\",\"No internet service\",\"Yes\",\"No\",\"Yes\",\"No internet service\",\"Yes\",\"No\",\"No internet service\",\"No\",\"Yes\",\"Yes\",\"No\",\"Yes\",\"Yes\",\"No\",\"Yes\",\"No\",\"No internet service\",\"Yes\",\"No\",\"No\",\"No internet service\",\"No internet service\",\"No\",\"Yes\",\"Yes\",\"Yes\",\"No\",\"No\",\"Yes\",\"Yes\",\"No\",\"No internet service\",\"Yes\",\"No\",\"No\",\"Yes\",\"Yes\",\"No\",\"Yes\",\"Yes\",\"No\",\"No internet service\",\"No\",\"Yes\",\"No\",\"No\",\"No\",\"No\",\"No internet service\",\"No internet service\",\"No internet service\",\"No\",\"No\",\"Yes\",\"No\",\"Yes\",\"No internet service\",\"No\",\"No internet service\",\"Yes\",\"No internet service\",\"No internet service\",\"No\",\"No\",\"Yes\",\"No\",\"No\",\"No\",\"Yes\",\"No\",\"Yes\",\"No internet service\",\"Yes\",\"Yes\",\"No\",\"No\",\"No internet service\",\"Yes\",\"Yes\",\"No internet service\",\"No internet service\",\"No internet service\",\"No\",\"No internet service\",\"Yes\",\"Yes\",\"Yes\",\"No internet service\",\"Yes\",\"Yes\",\"No internet service\",\"No\",\"No\",\"Yes\",\"No\",\"No internet service\",\"No\",\"No internet service\",\"Yes\",\"Yes\",\"Yes\",\"No internet service\",\"Yes\",\"No internet service\",\"No internet service\",\"No internet service\",\"No\",\"Yes\",\"No internet service\",\"Yes\",\"No internet service\",\"Yes\",\"Yes\",\"No\",\"Yes\",\"No\",\"No internet service\",\"Yes\",\"No internet service\",\"Yes\",\"No internet service\",\"No internet service\",\"Yes\",\"No\",\"Yes\",\"No\",\"No\",\"Yes\",\"Yes\",\"No\",\"Yes\",\"No internet service\",\"No\",\"No internet service\",\"No\",\"No\",\"No internet service\",\"Yes\",\"No internet service\",\"No\",\"Yes\",\"No internet service\",\"No internet service\",\"No\",\"No\",\"No internet service\",\"No\",\"Yes\",\"No\",\"Yes\",\"No\",\"Yes\",\"No\",\"No\",\"No\",\"No internet service\",\"No internet service\",\"Yes\",\"Yes\",\"No\",\"No\",\"Yes\",\"Yes\",\"Yes\",\"Yes\",\"Yes\",\"No\",\"No internet service\",\"No internet service\",\"Yes\",\"No internet service\",\"No\",\"No internet service\",\"Yes\",\"No\",\"No\",\"No\",\"Yes\",\"Yes\",\"No\",\"Yes\",\"No internet service\",\"Yes\",\"No internet service\",\"No\",\"No internet service\",\"No\",\"No\",\"No internet service\",\"No\",\"No internet service\",\"No\",\"No internet service\",\"No internet service\",\"No\",\"No\",\"Yes\",\"Yes\",\"Yes\",\"Yes\",\"No internet service\",\"Yes\",\"No internet service\",\"No\",\"No\",\"Yes\",\"Yes\",\"No\",\"No internet service\",\"No\",\"No\",\"No\",\"Yes\",\"Yes\",\"No\",\"No\",\"No\",\"No internet service\",\"No\",\"No\",\"No\",\"Yes\",\"No\",\"No internet service\",\"Yes\",\"No internet service\",\"Yes\",\"No internet service\",\"No\",\"No\",\"No\",\"No internet service\",\"No internet service\",\"No internet service\",\"No internet service\",\"Yes\",\"No internet service\",\"No\",\"No internet service\",\"No internet service\",\"No\",\"No\",\"Yes\",\"No\",\"Yes\",\"Yes\",\"Yes\",\"Yes\",\"No\",\"Yes\",\"No internet service\",\"No\",\"No\",\"No\",\"No\",\"No\",\"No\",\"No\",\"No\",\"No\",\"No\",\"Yes\",\"No internet service\",\"No\",\"No\",\"Yes\",\"No\",\"Yes\",\"Yes\",\"No\",\"No\",\"No internet service\",\"No\",\"No internet service\",\"No\",\"No\",\"No\",\"No internet service\",\"No internet service\",\"No internet service\",\"No internet service\",\"No\",\"No\",\"Yes\",\"Yes\",\"Yes\",\"No\",\"Yes\",\"Yes\",\"No internet service\",\"No\",\"No\",\"Yes\",\"Yes\",\"No internet service\",\"No internet service\",\"Yes\",\"No\",\"Yes\",\"No\",\"No internet service\",\"No\",\"No\",\"No internet service\",\"No internet service\",\"Yes\",\"Yes\",\"No\",\"Yes\",\"Yes\",\"Yes\",\"No\",\"Yes\",\"No internet service\",\"No\",\"Yes\",\"No internet service\",\"No\",\"No internet service\",\"No\",\"No internet service\",\"No internet service\",\"Yes\",\"No\",\"Yes\",\"Yes\",\"Yes\",\"No\",\"No internet service\",\"No internet service\",\"No internet service\",\"Yes\",\"No\",\"No internet service\",\"Yes\",\"Yes\",\"No\",\"No\",\"No\",\"No\",\"Yes\",\"Yes\",\"Yes\",\"No\",\"No\",\"No\",\"No internet service\",\"No\",\"No internet service\",\"Yes\",\"No\",\"Yes\",\"No\",\"Yes\",\"Yes\",\"No\",\"No internet service\",\"No internet service\",\"No internet service\",\"Yes\",\"No\",\"No\",\"No\",\"Yes\",\"No\",\"No\",\"No internet service\",\"Yes\",\"No internet service\",\"Yes\",\"Yes\",\"No internet service\",\"No\",\"No\",\"No\",\"No\",\"No internet service\",\"No\",\"Yes\",\"No\",\"Yes\",\"No\",\"No internet service\",\"Yes\",\"No\",\"No internet service\",\"No internet service\",\"No\",\"No\",\"No internet service\",\"No\",\"Yes\",\"Yes\",\"Yes\",\"No internet service\",\"No\",\"Yes\",\"No internet service\",\"No internet service\",\"No internet service\",\"No internet service\",\"Yes\",\"No internet service\",\"No\",\"No\",\"No\",\"Yes\",\"No internet service\",\"No internet service\",\"Yes\",\"Yes\",\"No\",\"Yes\",\"No\",\"Yes\",\"No\",\"No internet service\",\"No\",\"Yes\",\"No\",\"No\",\"No internet service\",\"Yes\",\"No\",\"No internet service\",\"No internet service\",\"Yes\",\"No internet service\",\"No internet service\",\"No\",\"No internet service\",\"No internet service\",\"Yes\",\"No internet service\",\"No internet service\",\"Yes\",\"Yes\",\"No\",\"No\",\"No\",\"No\",\"No\",\"Yes\",\"Yes\",\"No internet service\",\"No\",\"No\",\"No internet service\",\"No internet service\",\"No internet service\",\"Yes\",\"Yes\",\"No\",\"No internet service\",\"Yes\",\"No internet service\",\"No internet service\",\"No\",\"No internet service\",\"No internet service\",\"No internet service\",\"Yes\",\"No\",\"No\",\"No internet service\",\"No internet service\",\"Yes\",\"No\",\"No\",\"Yes\",\"Yes\",\"No\",\"No\",\"No\",\"Yes\",\"No internet service\",\"Yes\",\"No internet service\",\"No\",\"Yes\",\"No internet service\",\"No internet service\",\"Yes\",\"No internet service\",\"No internet service\",\"Yes\",\"No internet service\",\"No\",\"Yes\",\"Yes\",\"No internet service\",\"No\",\"No internet service\",\"Yes\",\"No\",\"No\",\"Yes\",\"No\",\"Yes\",\"Yes\",\"No internet service\",\"Yes\",\"Yes\",\"No\",\"No internet service\",\"No\",\"Yes\",\"Yes\",\"No internet service\",\"Yes\",\"No\",\"Yes\",\"Yes\",\"No\",\"No\",\"No internet service\",\"Yes\",\"Yes\",\"Yes\",\"Yes\",\"Yes\",\"No internet service\",\"No\",\"Yes\",\"No internet service\",\"No\",\"Yes\",\"No\",\"No\",\"No\",\"No internet service\",\"No\",\"No\",\"No internet service\",\"No internet service\",\"Yes\",\"No\",\"No\",\"No\",\"Yes\",\"Yes\",\"No\",\"No\",\"Yes\",\"No\",\"Yes\",\"No internet service\",\"No\",\"Yes\",\"No\",\"Yes\",\"No internet service\",\"Yes\",\"Yes\",\"No internet service\",\"No internet service\",\"No internet service\",\"No internet service\",\"No internet service\",\"No internet service\",\"No internet service\",\"Yes\",\"No internet service\",\"No internet service\",\"Yes\",\"No\",\"No internet service\",\"No\",\"No\",\"No\",\"Yes\",\"No\",\"Yes\",\"Yes\",\"Yes\",\"Yes\",\"Yes\",\"Yes\",\"No\",\"No internet service\",\"No\",\"No internet service\",\"No internet service\",\"No internet service\",\"Yes\",\"Yes\",\"No\",\"No\",\"Yes\",\"No\",\"No\",\"Yes\",\"No internet service\",\"Yes\",\"No\",\"No\",\"No\",\"No\",\"No\",\"No internet service\",\"No\",\"No\",\"No\",\"Yes\",\"Yes\",\"No\",\"Yes\",\"No internet service\",\"No\",\"Yes\",\"Yes\",\"Yes\",\"Yes\",\"No internet service\",\"No\",\"Yes\",\"No internet service\",\"Yes\",\"No\",\"Yes\",\"Yes\",\"No\",\"No\",\"Yes\",\"No\",\"No\",\"No\",\"No internet service\",\"Yes\",\"No\",\"No internet service\",\"Yes\",\"No\",\"No\",\"No\",\"No\",\"No\",\"Yes\",\"Yes\",\"Yes\",\"Yes\",\"No\",\"No\",\"Yes\",\"Yes\",\"No\",\"No\",\"No internet service\",\"No internet service\",\"No internet service\",\"Yes\",\"No internet service\",\"No\",\"Yes\",\"No internet service\",\"No\",\"No\",\"No\",\"Yes\",\"Yes\",\"No\",\"No\",\"No internet service\",\"Yes\",\"No\",\"No\",\"No internet service\",\"Yes\",\"No\",\"No internet service\",\"No internet service\",\"No\",\"Yes\",\"No\",\"No\",\"Yes\",\"No internet service\",\"No internet service\",\"No\",\"No\",\"No internet service\",\"No\",\"No\",\"Yes\",\"Yes\",\"No\",\"No\",\"No\",\"No\",\"No internet service\",\"Yes\",\"No\",\"No\",\"Yes\",\"Yes\",\"No internet service\",\"No\",\"No\",\"Yes\",\"No internet service\",\"No\",\"Yes\",\"No\",\"No internet service\",\"Yes\",\"No\",\"No internet service\",\"Yes\",\"Yes\",\"No\",\"No\",\"No internet service\",\"Yes\",\"No internet service\",\"Yes\",\"No internet service\",\"No\",\"No internet service\",\"No\",\"Yes\",\"No\",\"No\",\"Yes\",\"Yes\",\"Yes\",\"No internet service\",\"No internet service\",\"No\",\"Yes\",\"Yes\",\"No\",\"No\",\"No\",\"No internet service\",\"No\",\"No\",\"No internet service\",\"No internet service\",\"No\",\"No\",\"No internet service\",\"No\",\"No\",\"Yes\",\"Yes\",\"Yes\",\"No internet service\",\"Yes\",\"Yes\",\"No\",\"Yes\",\"No\",\"Yes\",\"No internet service\",\"Yes\",\"No\",\"No internet service\",\"No internet service\",\"Yes\",\"No internet service\",\"Yes\",\"No\",\"No\",\"No\",\"No\",\"No internet service\",\"No\",\"No internet service\",\"Yes\",\"No\",\"No internet service\",\"Yes\",\"No\",\"No\",\"No\",\"No\",\"No internet service\",\"No\",\"No internet service\",\"No\",\"No\",\"No internet service\",\"No\",\"No\",\"No\",\"No\",\"No\",\"Yes\",\"Yes\",\"No internet service\",\"Yes\",\"No\",\"No\",\"No\",\"No\",\"No internet service\",\"No internet service\",\"No\",\"Yes\",\"No\",\"No\",\"No\",\"Yes\",\"Yes\",\"Yes\",\"No internet service\",\"No internet service\",\"No\",\"No\",\"Yes\",\"Yes\",\"Yes\",\"No internet service\",\"Yes\",\"No\",\"No internet service\",\"Yes\",\"No internet service\",\"No\",\"No internet service\",\"No\",\"No internet service\",\"No\",\"No\",\"Yes\",\"Yes\",\"No\",\"No internet service\",\"No\",\"Yes\",\"Yes\",\"No internet service\",\"No\",\"No\",\"Yes\",\"No internet service\",\"No\",\"No internet service\",\"No\",\"No\",\"No\",\"No internet service\",\"No internet service\",\"Yes\",\"No\",\"No internet service\",\"Yes\",\"No\",\"No\",\"No internet service\",\"No\",\"No\",\"Yes\",\"No internet service\",\"No internet service\",\"No internet service\",\"No\",\"Yes\",\"No internet service\",\"Yes\",\"No\",\"No internet service\",\"No internet service\",\"No\",\"No\",\"No internet service\",\"No internet service\",\"No internet service\",\"Yes\",\"Yes\",\"No\",\"No\",\"No\",\"No internet service\",\"Yes\",\"Yes\",\"Yes\",\"No internet service\",\"No\",\"Yes\",\"No internet service\",\"Yes\",\"Yes\",\"No\",\"Yes\",\"Yes\",\"Yes\",\"Yes\",\"Yes\",\"Yes\",\"Yes\",\"No\",\"No\",\"No\",\"No internet service\",\"No\",\"No\",\"No\",\"No\",\"No internet service\",\"No internet service\",\"No internet service\",\"No internet service\",\"Yes\",\"Yes\",\"Yes\",\"No internet service\",\"No\",\"No internet service\",\"No internet service\",\"No internet service\",\"Yes\",\"Yes\",\"No internet service\",\"No\",\"No\",\"No internet service\",\"No\",\"No\",\"Yes\",\"No internet service\",\"Yes\",\"Yes\",\"Yes\",\"No\",\"Yes\",\"No internet service\",\"No internet service\",\"Yes\",\"No\",\"Yes\",\"Yes\",\"No internet service\",\"Yes\",\"No\",\"No internet service\",\"No\",\"No\",\"No\",\"Yes\",\"No\",\"No internet service\",\"No\",\"No internet service\",\"No\",\"Yes\",\"No internet service\",\"No internet service\",\"Yes\",\"No internet service\",\"No internet service\",\"No internet service\",\"Yes\",\"No internet service\",\"Yes\",\"No internet service\",\"No internet service\",\"No internet service\",\"Yes\",\"No internet service\",\"Yes\",\"No\",\"No\",\"No\",\"No internet service\",\"Yes\",\"No\",\"No internet service\",\"No\",\"Yes\",\"No internet service\",\"No\",\"Yes\",\"No internet service\",\"Yes\",\"No\",\"No\",\"Yes\",\"Yes\",\"No\",\"No\",\"Yes\",\"No internet service\",\"No\",\"Yes\",\"No\",\"No internet service\",\"Yes\",\"Yes\",\"No\",\"No\",\"Yes\",\"No\",\"Yes\",\"No\",\"Yes\",\"No\",\"Yes\",\"No internet service\",\"Yes\",\"No\",\"Yes\",\"Yes\",\"Yes\",\"No internet service\",\"No\",\"No internet service\",\"No\",\"No internet service\",\"No internet service\",\"Yes\",\"No\",\"Yes\",\"No\",\"No internet service\",\"No internet service\",\"Yes\",\"No\",\"No\",\"No\",\"No\",\"No\",\"Yes\",\"No\",\"No\",\"No\",\"No\",\"No\",\"Yes\",\"No\",\"Yes\",\"No internet service\",\"No internet service\",\"No internet service\",\"No\",\"No\",\"Yes\",\"Yes\",\"No\",\"No\",\"No\",\"No\",\"No internet service\",\"No internet service\",\"No internet service\",\"Yes\",\"Yes\",\"No internet service\",\"Yes\",\"Yes\",\"Yes\",\"No\",\"No internet service\",\"No internet service\",\"Yes\",\"No\",\"No\",\"No internet service\",\"No\",\"No\",\"No internet service\",\"Yes\",\"No\",\"Yes\",\"No\",\"No\",\"Yes\",\"No internet service\",\"No\",\"No internet service\",\"Yes\",\"No\",\"No internet service\",\"Yes\",\"No\",\"No internet service\",\"No\",\"No internet service\",\"Yes\",\"No\",\"No\",\"No\",\"No internet service\",\"Yes\",\"No\",\"Yes\",\"No\",\"No\",\"Yes\",\"No internet service\",\"No\",\"No\",\"No internet service\",\"Yes\",\"Yes\",\"Yes\",\"Yes\",\"Yes\",\"No internet service\",\"No\",\"Yes\",\"No\",\"No internet service\",\"No internet service\",\"No internet service\",\"Yes\",\"No\",\"Yes\",\"Yes\",\"No\",\"No internet service\",\"No\",\"No\",\"Yes\",\"No internet service\",\"No\",\"Yes\",\"Yes\",\"No internet service\",\"Yes\",\"Yes\",\"Yes\",\"No internet service\",\"No\",\"Yes\",\"No\",\"No\",\"No\",\"No\",\"No\",\"No internet service\",\"Yes\",\"No\",\"Yes\",\"Yes\",\"Yes\",\"Yes\",\"No\",\"No\",\"Yes\",\"Yes\",\"Yes\",\"No\",\"No\",\"Yes\",\"Yes\",\"No internet service\",\"No\",\"No\",\"No internet service\",\"No internet service\",\"Yes\",\"No\",\"Yes\",\"No\",\"No\",\"Yes\",\"Yes\",\"Yes\",\"No\",\"No\",\"No\",\"No internet service\",\"No\",\"Yes\",\"No\",\"No\",\"No\",\"Yes\",\"No internet service\",\"No\",\"Yes\",\"No\",\"No internet service\",\"No\",\"No\",\"No\",\"No internet service\",\"Yes\",\"No internet service\",\"Yes\",\"Yes\",\"No\",\"Yes\",\"No internet service\",\"No\",\"No\",\"Yes\",\"Yes\",\"No\",\"Yes\",\"No internet service\",\"No\",\"No\",\"Yes\",\"No internet service\",\"Yes\",\"No\",\"Yes\",\"Yes\",\"Yes\",\"No\",\"Yes\",\"Yes\",\"No\",\"No internet service\",\"No\",\"No\",\"No\",\"No internet service\",\"No\",\"No internet service\",\"Yes\",\"No\",\"Yes\",\"No\",\"No internet service\",\"No\",\"No\",\"Yes\",\"Yes\",\"No internet service\",\"No\",\"Yes\",\"Yes\",\"Yes\",\"Yes\",\"No internet service\",\"No\",\"No internet service\",\"No internet service\",\"No\",\"No\",\"No\",\"Yes\",\"Yes\",\"No\",\"Yes\",\"No\",\"No\",\"No\",\"No\",\"No internet service\",\"No internet service\",\"Yes\",\"Yes\",\"No\",\"No\",\"No\",\"Yes\",\"No\",\"No internet service\",\"Yes\",\"No\",\"No internet service\",\"No\",\"No internet service\",\"No\",\"Yes\",\"Yes\",\"Yes\",\"No\",\"Yes\",\"No internet service\",\"No internet service\",\"Yes\",\"Yes\",\"No\",\"No\",\"No\",\"No internet service\",\"Yes\",\"No\",\"No\",\"Yes\",\"Yes\",\"Yes\",\"No\",\"No internet service\",\"No internet service\",\"No\",\"No\",\"No\",\"Yes\",\"No\",\"No internet service\",\"No\",\"Yes\",\"No\",\"No\",\"No\",\"Yes\",\"No internet service\",\"Yes\",\"No\",\"Yes\",\"No internet service\",\"No\",\"Yes\",\"No internet service\",\"No\",\"Yes\",\"No\",\"Yes\",\"No\",\"No internet service\",\"Yes\",\"No\",\"No\",\"No\",\"No\",\"No\",\"No internet service\",\"No\",\"No\",\"No\",\"No\",\"No\",\"Yes\",\"No\",\"No\",\"No\",\"No\",\"No internet service\",\"No internet service\",\"No\",\"Yes\",\"No\",\"Yes\",\"No\",\"Yes\",\"No internet service\",\"Yes\",\"No\",\"Yes\",\"Yes\",\"Yes\",\"No\",\"No internet service\",\"No internet service\",\"No internet service\",\"Yes\",\"No\",\"No internet service\",\"Yes\",\"No internet service\",\"Yes\",\"No\",\"Yes\",\"Yes\",\"No internet service\",\"No\",\"Yes\",\"No\",\"No\",\"No internet service\",\"No internet service\",\"Yes\",\"No\",\"No internet service\",\"No\",\"No\",\"Yes\",\"No\",\"No internet service\",\"No\",\"No\",\"No internet service\",\"No internet service\",\"Yes\",\"No internet service\",\"No\",\"No\",\"No internet service\",\"No internet service\",\"No internet service\",\"No\",\"No internet service\",\"No internet service\",\"No internet service\",\"Yes\",\"No internet service\",\"No\",\"No\",\"Yes\",\"Yes\",\"Yes\",\"Yes\",\"Yes\",\"Yes\",\"No\",\"No internet service\",\"No\",\"No\",\"No\",\"No internet service\",\"No\",\"No internet service\",\"Yes\",\"Yes\",\"Yes\",\"Yes\",\"No internet service\",\"No internet service\",\"No internet service\",\"Yes\",\"No internet service\",\"No\",\"Yes\",\"Yes\",\"No\",\"Yes\",\"No\",\"Yes\",\"No internet service\",\"No\",\"No internet service\",\"No\",\"No\",\"No\",\"No\",\"No\",\"No\",\"No\",\"No internet service\",\"Yes\",\"No\",\"No\",\"No internet service\",\"Yes\",\"No\",\"No\",\"No\",\"Yes\",\"Yes\",\"Yes\",\"Yes\",\"No\",\"No\",\"No\",\"No\",\"No internet service\",\"Yes\",\"No\",\"No internet service\",\"Yes\",\"No internet service\",\"No\",\"No\",\"Yes\",\"No internet service\",\"Yes\",\"Yes\",\"No\",\"No internet service\",\"Yes\",\"No\",\"Yes\",\"No internet service\",\"Yes\",\"No internet service\",\"Yes\",\"Yes\",\"Yes\",\"Yes\",\"Yes\",\"No internet service\",\"Yes\",\"Yes\",\"No\",\"No\",\"Yes\",\"No\",\"Yes\",\"Yes\",\"Yes\",\"No internet service\",\"No internet service\",\"No\",\"No internet service\",\"No\",\"No\",\"Yes\",\"Yes\",\"No internet service\",\"Yes\",\"No internet service\",\"Yes\",\"Yes\",\"No internet service\",\"No\",\"Yes\",\"No internet service\",\"Yes\",\"Yes\",\"Yes\",\"No internet service\",\"No internet service\",\"No\",\"Yes\",\"No\",\"No\",\"No\",\"Yes\",\"No internet service\",\"Yes\",\"No\",\"Yes\",\"Yes\",\"Yes\",\"No\",\"No\",\"No\",\"Yes\",\"No\",\"Yes\",\"No internet service\",\"No internet service\",\"Yes\",\"No\",\"No internet service\",\"No internet service\",\"No internet service\",\"No internet service\",\"No internet service\",\"Yes\",\"No\",\"No internet service\",\"No\",\"No internet service\",\"Yes\",\"No internet service\",\"No internet service\",\"No internet service\",\"Yes\",\"No internet service\",\"Yes\",\"No\",\"No\",\"No internet service\",\"No\",\"No\",\"No internet service\",\"No\",\"No\",\"Yes\",\"Yes\",\"No\",\"No internet service\",\"No internet service\",\"Yes\",\"Yes\",\"No internet service\",\"Yes\",\"Yes\",\"Yes\",\"No\",\"No internet service\",\"No internet service\",\"No internet service\",\"No internet service\",\"Yes\",\"No\",\"No internet service\",\"No\",\"Yes\",\"No\",\"No\",\"No\",\"Yes\",\"No internet service\",\"No\",\"No\",\"Yes\",\"No\",\"No\",\"No\",\"No\",\"No\",\"No\",\"No internet service\",\"No\",\"No\",\"No internet service\",\"Yes\",\"Yes\",\"No internet service\",\"No\",\"No\",\"No internet service\",\"No\",\"Yes\",\"No\",\"Yes\",\"Yes\",\"No\",\"Yes\",\"No internet service\",\"No\",\"Yes\",\"No internet service\",\"Yes\",\"Yes\",\"No\",\"No internet service\",\"Yes\",\"No internet service\",\"No\",\"No internet service\",\"No internet service\",\"No\",\"Yes\",\"Yes\",\"No\",\"Yes\",\"No internet service\",\"Yes\",\"No\",\"No internet service\",\"No\",\"No internet service\",\"No internet service\",\"No\",\"No\",\"No internet service\",\"No\",\"No\",\"No\",\"No\",\"No\",\"No internet service\",\"No internet service\",\"Yes\",\"No internet service\",\"No\",\"No\",\"No\",\"No\",\"No internet service\",\"No internet service\",\"Yes\",\"No internet service\",\"Yes\",\"Yes\",\"Yes\",\"No internet service\",\"Yes\",\"No\",\"No\",\"No\",\"No internet service\",\"No\",\"No internet service\",\"No internet service\",\"Yes\",\"No\",\"Yes\",\"Yes\",\"No internet service\",\"No internet service\",\"No\",\"No\",\"Yes\",\"No internet service\",\"Yes\",\"Yes\",\"No\",\"Yes\",\"Yes\",\"Yes\",\"Yes\",\"Yes\",\"No internet service\",\"No\",\"No\",\"No\",\"Yes\",\"No internet service\",\"No internet service\",\"No\",\"No internet service\",\"Yes\",\"Yes\",\"No\",\"No internet service\",\"No\",\"No\",\"No internet service\",\"Yes\",\"Yes\",\"No\",\"Yes\",\"Yes\",\"No internet service\",\"Yes\",\"No\",\"Yes\",\"No internet service\",\"Yes\",\"No\",\"Yes\",\"No\",\"Yes\",\"Yes\",\"No\",\"No internet service\",\"No internet service\",\"No\",\"No internet service\",\"Yes\",\"No\",\"Yes\",\"Yes\",\"No\",\"No\",\"No internet service\",\"No\",\"No\",\"No internet service\",\"Yes\",\"No\",\"Yes\",\"No\",\"Yes\",\"No internet service\",\"No\",\"No\",\"No internet service\",\"No\",\"No\",\"Yes\",\"No internet service\",\"No\",\"Yes\",\"Yes\",\"Yes\",\"Yes\",\"Yes\",\"No\",\"No\",\"No internet service\",\"Yes\",\"Yes\",\"Yes\",\"Yes\",\"No\",\"No\",\"No\",\"No internet service\",\"Yes\",\"No\",\"No\",\"No internet service\",\"No\",\"No internet service\",\"No\",\"Yes\",\"No\",\"No internet service\",\"No\",\"Yes\",\"Yes\",\"No internet service\",\"No internet service\",\"No internet service\",\"Yes\",\"No\",\"No internet service\",\"Yes\",\"No\",\"No\",\"No\",\"No\",\"No\",\"No internet service\",\"Yes\",\"No\",\"Yes\",\"Yes\",\"No\",\"No\",\"No\",\"No\",\"No internet service\",\"Yes\",\"Yes\",\"No\",\"No internet service\",\"No\",\"Yes\",\"No internet service\",\"No\",\"Yes\",\"Yes\",\"Yes\",\"No\",\"Yes\",\"No\",\"Yes\",\"Yes\",\"No\",\"No internet service\",\"Yes\",\"No internet service\",\"Yes\",\"Yes\",\"Yes\",\"No internet service\",\"No\",\"No internet service\",\"Yes\",\"Yes\",\"Yes\",\"No internet service\",\"No\",\"Yes\",\"No internet service\",\"No\",\"Yes\",\"Yes\",\"No\",\"Yes\",\"Yes\",\"Yes\",\"No internet service\",\"Yes\",\"No internet service\",\"Yes\",\"No\",\"Yes\",\"No\",\"Yes\",\"Yes\",\"Yes\",\"Yes\",\"No\",\"Yes\",\"No internet service\",\"No\",\"Yes\",\"Yes\",\"Yes\",\"Yes\",\"Yes\",\"No\",\"No\",\"No internet service\",\"No internet service\",\"Yes\",\"No\",\"No internet service\",\"No\",\"Yes\",\"No internet service\",\"No internet service\",\"Yes\",\"Yes\",\"No\",\"No\",\"Yes\",\"No internet service\",\"No internet service\",\"No\",\"No internet service\",\"No\",\"Yes\",\"Yes\",\"Yes\",\"Yes\",\"Yes\",\"No internet service\",\"No\",\"No\",\"No internet service\",\"No internet service\",\"No internet service\",\"Yes\",\"No internet service\",\"No internet service\",\"No\",\"Yes\",\"No\",\"Yes\",\"No internet service\",\"No\",\"Yes\",\"No\",\"No\",\"Yes\",\"No internet service\",\"No\",\"Yes\",\"No internet service\",\"No\",\"No internet service\",\"No internet service\",\"No\",\"No\",\"No\",\"No\",\"Yes\",\"No internet service\",\"No\",\"No internet service\",\"No\",\"No\",\"Yes\",\"No\",\"Yes\",\"No internet service\",\"No\",\"No internet service\",\"No\",\"No\",\"Yes\",\"No internet service\",\"Yes\",\"No\",\"Yes\",\"Yes\",\"No\",\"No\",\"No\",\"Yes\",\"No internet service\",\"No\",\"No\",\"Yes\",\"No internet service\",\"Yes\",\"Yes\",\"No internet service\",\"Yes\",\"Yes\",\"No internet service\",\"No internet service\",\"Yes\",\"No internet service\",\"Yes\",\"No\",\"Yes\",\"Yes\",\"No\",\"No\",\"No\",\"No\",\"No\",\"Yes\",\"Yes\",\"No\",\"No internet service\",\"Yes\",\"No\",\"No internet service\",\"No\",\"No internet service\",\"Yes\",\"Yes\",\"No\",\"No\",\"Yes\",\"No\",\"No\",\"No internet service\",\"No internet service\",\"No\",\"Yes\",\"Yes\",\"No internet service\",\"Yes\",\"Yes\",\"No\",\"Yes\",\"No\",\"Yes\",\"Yes\",\"No internet service\",\"No internet service\",\"No\",\"Yes\",\"No\",\"No\",\"No\",\"No\",\"Yes\",\"No\",\"Yes\",\"No\",\"No\",\"No\",\"No internet service\",\"No\",\"Yes\",\"No\",\"No\",\"Yes\",\"No\",\"No internet service\",\"No internet service\",\"No\",\"Yes\",\"No\",\"Yes\",\"No internet service\",\"Yes\",\"No\",\"No internet service\",\"No internet service\",\"Yes\",\"Yes\",\"Yes\",\"Yes\",\"No\",\"No\",\"No internet service\",\"No\",\"Yes\",\"No\",\"No internet service\",\"No internet service\",\"Yes\",\"No internet service\",\"No\",\"No internet service\",\"No internet service\",\"No\",\"Yes\",\"Yes\",\"No\",\"No\",\"No\",\"No\",\"No\",\"Yes\",\"No\",\"No internet service\",\"Yes\",\"Yes\",\"No internet service\",\"No internet service\",\"No\",\"No\",\"No\",\"No\",\"No internet service\",\"Yes\",\"No internet service\",\"No\",\"No internet service\",\"No\",\"No internet service\",\"No\",\"Yes\",\"No\",\"No\",\"No internet service\",\"No\",\"No\",\"Yes\",\"No internet service\",\"No\",\"No internet service\",\"Yes\",\"No\",\"No\",\"No\",\"Yes\",\"Yes\",\"No\",\"No internet service\",\"No\",\"No\",\"Yes\",\"No\",\"No internet service\",\"Yes\",\"Yes\",\"Yes\",\"Yes\",\"No internet service\",\"Yes\",\"No\",\"Yes\",\"No\",\"No\",\"No\",\"No\",\"Yes\",\"Yes\",\"No\",\"No\",\"No\",\"No\",\"Yes\",\"No internet service\",\"No\",\"Yes\",\"No\",\"Yes\",\"No\",\"No internet service\",\"No internet service\",\"Yes\",\"No internet service\",\"No internet service\",\"No internet service\",\"No\",\"Yes\",\"Yes\",\"No\",\"No internet service\",\"No\",\"No\",\"No\",\"No\",\"Yes\",\"No internet service\",\"Yes\",\"No internet service\",\"Yes\",\"Yes\",\"No\",\"No\",\"No\",\"No\",\"No internet service\",\"No internet service\",\"No internet service\",\"No internet service\",\"No internet service\",\"No internet service\",\"No\",\"No\",\"No\",\"No\",\"No\",\"Yes\",\"Yes\",\"No\",\"No\",\"No\",\"Yes\",\"Yes\",\"Yes\",\"No internet service\",\"Yes\",\"No internet service\",\"No internet service\",\"No internet service\",\"No\",\"No\",\"No internet service\",\"Yes\",\"Yes\",\"No internet service\",\"Yes\",\"No\",\"No\",\"Yes\",\"No\",\"No\",\"No internet service\",\"Yes\",\"No\",\"Yes\",\"Yes\",\"No internet service\",\"No\",\"No\",\"Yes\",\"No\",\"No\",\"No\",\"No internet service\",\"Yes\",\"Yes\",\"Yes\",\"No\",\"No\",\"Yes\",\"No internet service\",\"No\",\"No internet service\",\"No\",\"No internet service\",\"No\",\"Yes\",\"No\",\"Yes\",\"No\",\"No internet service\",\"Yes\",\"No internet service\",\"No\",\"No internet service\",\"No internet service\",\"No internet service\",\"Yes\",\"Yes\",\"Yes\",\"No\",\"Yes\",\"Yes\",\"No\",\"No internet service\",\"No\",\"Yes\",\"No\",\"No\",\"Yes\",\"No internet service\",\"No internet service\",\"No\",\"Yes\",\"No\",\"Yes\",\"No\",\"No\",\"Yes\",\"Yes\",\"Yes\",\"No\",\"No\",\"Yes\",\"No internet service\",\"No\",\"Yes\",\"No internet service\",\"Yes\",\"No\",\"No\",\"No\",\"Yes\",\"No\",\"No internet service\",\"No\",\"No\",\"No internet service\",\"Yes\",\"No\",\"Yes\",\"No internet service\",\"No internet service\",\"Yes\",\"Yes\",\"Yes\",\"No\",\"Yes\",\"Yes\",\"Yes\",\"No\",\"No\",\"No internet service\",\"No\",\"No internet service\",\"Yes\",\"No\",\"No internet service\",\"No\",\"No\",\"No internet service\",\"Yes\",\"No internet service\",\"No\",\"No internet service\",\"No\",\"No\",\"Yes\",\"Yes\",\"No internet service\",\"Yes\",\"No internet service\",\"No internet service\",\"No internet service\",\"Yes\",\"No\",\"No\",\"Yes\",\"Yes\",\"No\",\"No\",\"No\",\"No\",\"No internet service\",\"No internet service\",\"No\",\"No internet service\",\"No\",\"No\",\"No\",\"Yes\",\"No internet service\",\"Yes\",\"No\",\"No internet service\",\"No\",\"Yes\",\"Yes\",\"No internet service\",\"No internet service\",\"No\",\"No internet service\",\"No internet service\",\"Yes\",\"No\",\"No internet service\",\"No internet service\",\"Yes\",\"No internet service\",\"No internet service\",\"Yes\",\"No\",\"No\",\"No\",\"No internet service\",\"No internet service\",\"No\",\"Yes\",\"Yes\",\"Yes\",\"No\",\"No internet service\",\"No internet service\",\"Yes\",\"No internet service\",\"Yes\",\"No\",\"Yes\",\"No internet service\",\"No\",\"Yes\",\"No\",\"Yes\",\"No internet service\",\"No\",\"No internet service\",\"No\",\"Yes\",\"No\",\"No\",\"No\",\"No internet service\",\"No\",\"Yes\",\"No\",\"No\",\"No\",\"No\",\"Yes\",\"No\",\"Yes\",\"Yes\",\"No\",\"Yes\",\"Yes\",\"Yes\",\"No\",\"No\",\"No\",\"No internet service\",\"Yes\",\"No\",\"Yes\",\"No internet service\",\"No\",\"No\",\"Yes\",\"No\",\"Yes\",\"No internet service\",\"No\",\"No internet service\",\"No\",\"No\",\"No\",\"No\",\"No internet service\",\"Yes\",\"No\",\"No internet service\",\"Yes\",\"No\",\"No internet service\",\"No\",\"No internet service\",\"No\",\"No\",\"No internet service\",\"Yes\",\"No internet service\",\"No internet service\",\"No\",\"Yes\",\"No internet service\",\"No\",\"No\",\"No\",\"No internet service\",\"Yes\",\"No\",\"Yes\",\"Yes\",\"No\",\"No internet service\",\"Yes\",\"No\",\"No\",\"Yes\",\"No\",\"No internet service\",\"Yes\",\"No internet service\",\"No internet service\",\"No\",\"No internet service\",\"Yes\",\"No\",\"No internet service\",\"No\",\"Yes\",\"No internet service\",\"No\",\"No internet service\",\"No internet service\",\"Yes\",\"No internet service\",\"No\",\"Yes\",\"No\",\"No\",\"Yes\",\"Yes\",\"No\",\"Yes\",\"Yes\",\"No\",\"Yes\",\"No\",\"No\",\"Yes\",\"No\",\"No\",\"No\",\"No internet service\",\"Yes\",\"Yes\",\"Yes\",\"No internet service\",\"No internet service\",\"No internet service\",\"No internet service\",\"Yes\",\"Yes\",\"No\",\"No internet service\",\"No\",\"No internet service\",\"No internet service\",\"Yes\",\"No internet service\",\"Yes\",\"No internet service\",\"Yes\",\"No\",\"Yes\",\"No\",\"No internet service\",\"Yes\",\"Yes\",\"No internet service\",\"Yes\",\"No internet service\",\"Yes\",\"No\",\"No\",\"No internet service\",\"Yes\",\"Yes\",\"No\",\"No internet service\",\"No internet service\",\"No internet service\",\"No internet service\",\"Yes\",\"Yes\",\"No\",\"No\",\"Yes\",\"Yes\",\"No\",\"Yes\",\"No internet service\",\"No\",\"No\",\"Yes\",\"Yes\",\"No internet service\",\"Yes\",\"No\",\"No internet service\",\"No\",\"No internet service\",\"Yes\",\"Yes\",\"No\",\"No\",\"No\",\"No internet service\",\"No\",\"No internet service\",\"No internet service\",\"No internet service\",\"No internet service\",\"Yes\",\"No\",\"No internet service\",\"Yes\",\"No\",\"No internet service\",\"No\",\"Yes\",\"No internet service\",\"No\",\"Yes\",\"No internet service\",\"No\",\"No internet service\",\"No\",\"No\",\"No\",\"No\",\"No\",\"No\",\"Yes\",\"No\",\"No\",\"No\",\"No\",\"No\",\"No internet service\",\"No internet service\",\"Yes\",\"No\",\"No\",\"No\",\"No\",\"No internet service\",\"Yes\",\"No\",\"Yes\",\"No internet service\",\"No internet service\",\"Yes\",\"Yes\",\"Yes\",\"Yes\",\"Yes\",\"No\",\"Yes\",\"No internet service\",\"Yes\",\"No\",\"Yes\",\"No internet service\",\"No\",\"No internet service\",\"No\",\"No internet service\",\"No internet service\",\"No\",\"No internet service\",\"No\",\"Yes\",\"No\",\"No\",\"No\",\"Yes\",\"Yes\",\"Yes\",\"No\",\"No internet service\",\"Yes\",\"Yes\",\"Yes\",\"No internet service\",\"No\",\"No\",\"No\",\"Yes\",\"Yes\",\"Yes\",\"Yes\",\"No\",\"No internet service\",\"No\",\"Yes\",\"No internet service\",\"Yes\",\"No\",\"No internet service\",\"No\",\"No internet service\",\"Yes\",\"Yes\",\"No\",\"No\",\"No\",\"Yes\",\"No\",\"No\",\"No\",\"Yes\",\"Yes\",\"No\",\"No\",\"No\",\"Yes\",\"No\",\"Yes\",\"No\",\"Yes\",\"No internet service\",\"No\",\"No\",\"Yes\",\"Yes\",\"No internet service\",\"Yes\",\"No internet service\",\"No\",\"Yes\",\"No\",\"No\",\"No internet service\",\"Yes\",\"Yes\",\"Yes\",\"No\",\"Yes\",\"No\",\"No internet service\",\"No internet service\",\"No\",\"Yes\",\"Yes\",\"No\",\"No internet service\",\"No internet service\",\"No\",\"No internet service\",\"No\",\"Yes\",\"Yes\",\"Yes\",\"No\",\"No\",\"Yes\",\"No internet service\",\"No internet service\",\"No\",\"Yes\",\"No internet service\",\"No internet service\",\"No internet service\",\"No internet service\",\"Yes\",\"No internet service\",\"No\",\"Yes\",\"Yes\",\"No\",\"No\",\"No internet service\",\"No\",\"Yes\",\"No internet service\",\"Yes\",\"No\",\"Yes\",\"Yes\",\"No\",\"Yes\",\"Yes\",\"No\",\"Yes\",\"No internet service\",\"No internet service\",\"No internet service\",\"Yes\",\"No internet service\",\"No\",\"Yes\",\"No\",\"Yes\",\"No\",\"No\",\"No\",\"No\",\"No\",\"Yes\",\"No internet service\",\"Yes\",\"No\",\"No\",\"Yes\",\"No internet service\",\"No internet service\",\"Yes\",\"No\",\"No internet service\",\"Yes\",\"No\",\"No\",\"No\",\"No internet service\",\"No\",\"No\",\"No\",\"Yes\",\"No internet service\",\"Yes\",\"Yes\",\"Yes\",\"Yes\",\"Yes\",\"No\",\"No\",\"Yes\",\"Yes\",\"Yes\",\"No\",\"No\",\"Yes\",\"No\",\"Yes\",\"No internet service\",\"No\",\"Yes\",\"No internet service\",\"No internet service\",\"Yes\",\"Yes\",\"No\",\"No internet service\",\"No internet service\",\"No\",\"No internet service\",\"No\",\"No\",\"No\",\"No\",\"No\",\"No internet service\",\"No\",\"No internet service\",\"Yes\",\"No\",\"Yes\",\"No internet service\",\"No internet service\",\"Yes\",\"No\",\"No\",\"Yes\",\"No internet service\",\"Yes\",\"No\",\"No\",\"No internet service\",\"No internet service\",\"Yes\",\"No\",\"Yes\",\"Yes\",\"No\",\"No internet service\",\"No internet service\",\"Yes\",\"Yes\",\"Yes\",\"Yes\",\"No internet service\",\"Yes\",\"No\",\"Yes\",\"No\",\"No internet service\",\"No\",\"Yes\",\"Yes\",\"No internet service\",\"Yes\",\"Yes\",\"Yes\",\"No\",\"Yes\",\"No internet service\",\"Yes\",\"Yes\",\"No internet service\",\"No\",\"No\",\"Yes\",\"No internet service\",\"No internet service\",\"No internet service\",\"No internet service\",\"No\",\"Yes\",\"No\",\"No internet service\",\"No internet service\",\"Yes\",\"No\",\"Yes\",\"Yes\",\"No internet service\",\"No\",\"Yes\",\"Yes\",\"No\",\"No internet service\",\"Yes\",\"No\",\"No\",\"No internet service\",\"No internet service\",\"Yes\",\"Yes\",\"No internet service\",\"No\",\"No internet service\",\"Yes\",\"No\",\"No\",\"Yes\",\"No\",\"No\",\"No\",\"Yes\",\"No internet service\",\"Yes\",\"No internet service\",\"Yes\",\"No\",\"No\",\"No internet service\",\"Yes\",\"No\",\"No\",\"Yes\",\"No internet service\",\"Yes\",\"Yes\",\"No\",\"Yes\",\"No internet service\",\"Yes\",\"No\",\"No\",\"No internet service\",\"Yes\",\"No\",\"No\",\"No internet service\",\"Yes\",\"No\",\"No internet service\",\"No internet service\",\"Yes\",\"No\",\"No internet service\",\"No internet service\",\"Yes\",\"Yes\",\"Yes\",\"Yes\",\"No internet service\",\"Yes\",\"No\",\"Yes\",\"No internet service\",\"No\",\"Yes\",\"No\",\"No internet service\",\"Yes\",\"No\",\"No\",\"No\",\"No internet service\",\"No\",\"No\",\"No internet service\",\"No internet service\",\"No internet service\",\"No\",\"No internet service\",\"No\",\"Yes\",\"No\",\"No\",\"No internet service\",\"No internet service\",\"No internet service\",\"No\",\"Yes\",\"Yes\",\"Yes\",\"Yes\",\"Yes\",\"Yes\",\"Yes\",\"No\",\"No\",\"Yes\",\"No\",\"Yes\",\"Yes\",\"No internet service\",\"No internet service\",\"No\",\"No internet service\",\"Yes\",\"No internet service\",\"No internet service\",\"Yes\",\"No internet service\",\"No\",\"Yes\",\"No\",\"No internet service\",\"Yes\",\"No\",\"No\",\"Yes\",\"No internet service\",\"No\",\"No internet service\",\"No\",\"No\",\"Yes\",\"Yes\",\"No internet service\",\"Yes\",\"Yes\",\"No internet service\",\"No internet service\",\"No internet service\",\"Yes\",\"No\",\"No\",\"No internet service\",\"Yes\",\"Yes\",\"Yes\",\"No internet service\",\"No internet service\",\"Yes\",\"No\",\"No internet service\",\"Yes\",\"No internet service\",\"Yes\",\"No internet service\",\"No internet service\",\"No\",\"Yes\",\"No internet service\",\"No\",\"No\",\"Yes\",\"No internet service\",\"No\",\"Yes\",\"No\",\"No\",\"No\",\"No internet service\",\"Yes\",\"Yes\",\"No\",\"No\",\"No\",\"No\",\"No\",\"No\",\"No\",\"No\",\"Yes\",\"No\",\"Yes\",\"Yes\",\"Yes\",\"Yes\",\"Yes\",\"Yes\",\"No\",\"No\",\"No\",\"No\",\"Yes\",\"No internet service\",\"No\",\"Yes\",\"Yes\",\"No\",\"Yes\",\"No internet service\",\"No\",\"No\",\"Yes\",\"No\",\"Yes\",\"No\",\"No\",\"No internet service\",\"No internet service\",\"No\",\"No\",\"No internet service\",\"No\",\"Yes\",\"No\",\"No internet service\",\"No\",\"No\",\"No\",\"No\",\"No\",\"Yes\",\"No\",\"No internet service\",\"No internet service\",\"Yes\",\"No internet service\",\"No\",\"Yes\",\"Yes\",\"No internet service\",\"No internet service\",\"No internet service\",\"No internet service\",\"No internet service\",\"No internet service\",\"No internet service\",\"No\",\"Yes\",\"No internet service\",\"No\",\"No internet service\",\"No\",\"Yes\",\"Yes\",\"No internet service\",\"No\",\"Yes\",\"No internet service\",\"No\",\"No\",\"Yes\",\"Yes\",\"No internet service\",\"No internet service\",\"No internet service\",\"Yes\",\"No\",\"Yes\",\"No\",\"No\",\"No\",\"Yes\",\"No\",\"No\",\"No\",\"No\",\"No\",\"No internet service\",\"Yes\",\"No\",\"No internet service\",\"No\",\"No\",\"Yes\",\"Yes\",\"No\",\"Yes\",\"Yes\",\"No internet service\",\"No\",\"No\",\"No\",\"Yes\",\"Yes\",\"No\",\"No internet service\",\"No internet service\",\"No internet service\",\"No internet service\",\"No\",\"Yes\",\"Yes\",\"No\",\"No\",\"No internet service\",\"No internet service\",\"No\",\"No\",\"Yes\",\"Yes\",\"Yes\",\"No\",\"Yes\",\"No internet service\",\"No internet service\",\"Yes\",\"No\",\"Yes\",\"No internet service\",\"No internet service\",\"No\",\"No\",\"No internet service\",\"Yes\",\"No\",\"No\",\"No\",\"Yes\",\"No internet service\",\"No internet service\",\"Yes\",\"No\",\"Yes\",\"No internet service\",\"No internet service\",\"No\",\"No internet service\",\"No\",\"No\",\"Yes\",\"No internet service\",\"No internet service\",\"No internet service\",\"Yes\",\"No\",\"Yes\",\"No internet service\",\"No internet service\",\"No\",\"Yes\",\"No internet service\",\"No internet service\",\"No internet service\",\"No internet service\",\"No\",\"No internet service\",\"No\",\"No internet service\",\"Yes\",\"No\",\"No\",\"No\",\"No\",\"No\",\"Yes\",\"No\",\"Yes\",\"No\",\"No internet service\",\"No\",\"Yes\",\"No\",\"No\",\"No internet service\",\"No\",\"Yes\",\"No\",\"No\",\"No\",\"No\",\"No\",\"Yes\",\"No internet service\",\"Yes\",\"No\",\"No internet service\",\"No\",\"Yes\",\"No internet service\",\"No\",\"No internet service\",\"No internet service\",\"No\",\"Yes\",\"Yes\",\"No\",\"No\",\"Yes\",\"Yes\",\"Yes\",\"No\",\"Yes\",\"No internet service\",\"No internet service\",\"No internet service\",\"No internet service\",\"Yes\",\"Yes\",\"Yes\",\"Yes\",\"Yes\",\"No\",\"Yes\",\"No internet service\",\"No internet service\",\"No\",\"No internet service\",\"No\",\"Yes\",\"No internet service\",\"No\",\"No\",\"No\",\"Yes\",\"No internet service\",\"No\",\"No internet service\",\"No\",\"Yes\",\"No internet service\",\"Yes\",\"No\",\"No\",\"Yes\",\"Yes\",\"No\",\"No\",\"No internet service\",\"Yes\",\"Yes\",\"No\",\"No\",\"No\",\"Yes\",\"No internet service\",\"Yes\",\"No internet service\",\"Yes\",\"No\",\"Yes\",\"Yes\",\"No\",\"No internet service\",\"Yes\",\"No internet service\",\"Yes\",\"No internet service\",\"Yes\",\"No internet service\",\"No\",\"No\",\"No\",\"No\",\"No\",\"No internet service\",\"No internet service\",\"No\",\"No internet service\",\"No internet service\",\"Yes\",\"Yes\",\"No\",\"Yes\",\"No\",\"Yes\",\"No\",\"Yes\",\"No\",\"Yes\",\"Yes\",\"No internet service\",\"Yes\",\"No internet service\",\"No\",\"Yes\",\"Yes\",\"Yes\",\"No\",\"No internet service\",\"Yes\",\"Yes\",\"No internet service\",\"No internet service\",\"Yes\",\"No\",\"No\",\"No\",\"No internet service\",\"Yes\",\"No\",\"No\",\"No\",\"No\",\"Yes\",\"No\",\"No\",\"No internet service\",\"Yes\",\"Yes\",\"Yes\",\"Yes\",\"No\",\"No internet service\",\"No internet service\",\"No\",\"No\",\"Yes\",\"No\",\"Yes\",\"No\",\"No\",\"No\",\"No internet service\",\"No\",\"No\",\"No internet service\",\"Yes\",\"No\",\"No\",\"No internet service\",\"Yes\",\"Yes\",\"No\",\"Yes\",\"Yes\",\"Yes\",\"Yes\",\"No\",\"No internet service\",\"Yes\",\"No internet service\",\"No internet service\",\"No\",\"No internet service\",\"No internet service\",\"No internet service\",\"Yes\",\"No\",\"No internet service\",\"No\",\"No internet service\",\"Yes\",\"Yes\",\"No\",\"No\",\"No\",\"Yes\",\"No internet service\",\"No\",\"No internet service\",\"No\",\"No internet service\",\"No\",\"No\",\"No\",\"Yes\",\"No\",\"Yes\",\"Yes\",\"No\",\"Yes\",\"No internet service\",\"No\",\"No internet service\",\"No internet service\",\"No internet service\",\"Yes\",\"No\",\"Yes\",\"No internet service\",\"No internet service\",\"Yes\",\"No\",\"No internet service\",\"No\",\"No internet service\",\"Yes\",\"No internet service\",\"No\",\"No\",\"No\",\"Yes\",\"Yes\",\"No\",\"Yes\",\"No\",\"Yes\",\"Yes\",\"No\",\"Yes\",\"No internet service\",\"Yes\",\"No\",\"Yes\",\"Yes\",\"Yes\",\"No\",\"No\",\"Yes\",\"No\",\"Yes\",\"No internet service\",\"Yes\",\"Yes\",\"No\",\"No internet service\",\"No\",\"No internet service\",\"Yes\",\"No internet service\",\"No\",\"No\",\"No internet service\",\"No\",\"No internet service\",\"No internet service\",\"Yes\",\"Yes\",\"Yes\",\"No\",\"No internet service\",\"Yes\",\"No\",\"No internet service\",\"No internet service\",\"No internet service\",\"Yes\",\"No\",\"Yes\",\"No\",\"No internet service\",\"No\",\"No internet service\",\"Yes\",\"No\",\"Yes\",\"Yes\",\"Yes\",\"Yes\",\"Yes\",\"Yes\",\"No internet service\",\"Yes\",\"Yes\",\"No\",\"No\",\"No internet service\",\"No internet service\",\"Yes\",\"Yes\",\"No internet service\",\"Yes\",\"No\",\"No internet service\",\"No\",\"No\",\"No internet service\",\"No\",\"Yes\",\"Yes\",\"No internet service\",\"No internet service\",\"No\",\"No\",\"No\",\"Yes\",\"No\",\"No internet service\",\"No internet service\",\"No\",\"No\",\"No internet service\",\"No internet service\",\"No internet service\",\"Yes\",\"No internet service\",\"No\",\"Yes\",\"No internet service\",\"No internet service\",\"No\",\"No\",\"No\",\"Yes\",\"No\",\"No internet service\",\"No\",\"No\",\"No\",\"No\",\"Yes\",\"No internet service\",\"No internet service\",\"No internet service\",\"Yes\",\"No\",\"No internet service\",\"No\",\"No internet service\",\"Yes\",\"Yes\",\"Yes\",\"No\",\"Yes\",\"Yes\",\"No\",\"Yes\",\"No\",\"Yes\",\"No\",\"Yes\",\"No\",\"No internet service\",\"No\",\"No\",\"No\",\"Yes\",\"No\",\"No internet service\",\"No internet service\",\"No\",\"Yes\",\"Yes\",\"Yes\",\"No internet service\",\"No\",\"Yes\",\"Yes\",\"No\",\"No internet service\",\"No\",\"Yes\",\"No\",\"Yes\",\"No\",\"Yes\",\"No internet service\",\"Yes\",\"Yes\",\"No\",\"No internet service\",\"Yes\",\"Yes\",\"No\",\"No\",\"No\",\"Yes\",\"No internet service\",\"No internet service\",\"No\",\"Yes\",\"Yes\",\"No internet service\",\"No\",\"No\",\"No\",\"Yes\",\"No\",\"Yes\",\"No\",\"Yes\",\"Yes\",\"Yes\",\"Yes\",\"Yes\",\"No internet service\",\"No\",\"Yes\",\"Yes\",\"No\",\"No\",\"Yes\",\"No\",\"No internet service\",\"No\",\"No\",\"No internet service\",\"No internet service\",\"Yes\",\"Yes\",\"No internet service\",\"No\",\"No internet service\",\"No internet service\",\"No internet service\",\"No\",\"No\",\"Yes\",\"No\",\"Yes\",\"Yes\",\"No internet service\",\"No\",\"Yes\",\"Yes\",\"Yes\",\"No internet service\",\"No internet service\",\"Yes\",\"No\",\"Yes\",\"No\",\"No\",\"No internet service\",\"No internet service\",\"No\",\"No\",\"No internet service\",\"No\",\"No\",\"Yes\",\"No internet service\",\"No internet service\",\"Yes\",\"Yes\",\"No\",\"No\",\"No\",\"No\",\"Yes\",\"Yes\",\"No internet service\",\"No\",\"No\",\"Yes\",\"No\",\"No\",\"No\",\"Yes\",\"No\",\"No\",\"No internet service\",\"Yes\",\"Yes\",\"No\",\"No\",\"Yes\",\"No\",\"Yes\",\"No\",\"Yes\",\"Yes\",\"No internet service\",\"No\",\"Yes\",\"No internet service\",\"Yes\",\"Yes\",\"No internet service\",\"Yes\",\"No\",\"No\",\"No\",\"No internet service\",\"No internet service\",\"No internet service\",\"No\",\"No\",\"Yes\",\"Yes\",\"No internet service\",\"No internet service\",\"No internet service\",\"Yes\",\"No internet service\",\"No\",\"No internet service\",\"No\",\"No\",\"No\",\"No internet service\",\"No internet service\",\"No\",\"No\",\"Yes\",\"No\",\"Yes\",\"Yes\"],\"yaxis\":\"y\",\"type\":\"histogram\"},{\"alignmentgroup\":\"True\",\"bingroup\":\"y\",\"hovertemplate\":\"Churn=Yes\\u003cbr\\u003ecount=%{x}\\u003cbr\\u003eOnlineSecurity=%{y}\\u003cextra\\u003e\\u003c\\u002fextra\\u003e\",\"legendgroup\":\"Yes\",\"marker\":{\"color\":\"#EF553B\",\"pattern\":{\"shape\":\"\"}},\"name\":\"Yes\",\"offsetgroup\":\"Yes\",\"orientation\":\"h\",\"showlegend\":true,\"xaxis\":\"x\",\"y\":[\"No\",\"No\",\"No\",\"Yes\",\"No\",\"No\",\"No internet service\",\"Yes\",\"Yes\",\"No\",\"No\",\"No internet service\",\"No\",\"Yes\",\"No\",\"Yes\",\"No\",\"No\",\"Yes\",\"No\",\"No\",\"No internet service\",\"No\",\"No\",\"Yes\",\"Yes\",\"No\",\"No\",\"Yes\",\"No internet service\",\"Yes\",\"No\",\"No\",\"No\",\"No\",\"No\",\"No\",\"No\",\"Yes\",\"No\",\"No\",\"No\",\"No internet service\",\"No internet service\",\"No\",\"No\",\"No\",\"No\",\"No\",\"No\",\"No\",\"Yes\",\"No\",\"Yes\",\"No\",\"No\",\"No\",\"No\",\"No\",\"No\",\"No\",\"No\",\"No\",\"No\",\"No\",\"Yes\",\"No\",\"No\",\"No\",\"No\",\"Yes\",\"Yes\",\"No\",\"No\",\"No\",\"No\",\"No\",\"No\",\"No\",\"No\",\"No internet service\",\"No\",\"Yes\",\"No\",\"No\",\"No\",\"Yes\",\"No\",\"No\",\"No\",\"No\",\"No\",\"No\",\"No\",\"No internet service\",\"Yes\",\"No\",\"No\",\"No\",\"No\",\"No\",\"No\",\"Yes\",\"No internet service\",\"No\",\"No\",\"Yes\",\"No\",\"No\",\"No internet service\",\"No\",\"No\",\"No\",\"Yes\",\"No\",\"Yes\",\"No\",\"Yes\",\"Yes\",\"Yes\",\"No\",\"Yes\",\"No\",\"Yes\",\"Yes\",\"No\",\"No\",\"No\",\"No\",\"No\",\"Yes\",\"No\",\"Yes\",\"No\",\"Yes\",\"No\",\"No\",\"No\",\"No\",\"Yes\",\"No\",\"No\",\"No\",\"No\",\"Yes\",\"No\",\"No\",\"No\",\"Yes\",\"No\",\"No internet service\",\"No\",\"No\",\"No\",\"No\",\"Yes\",\"No\",\"No\",\"No\",\"No\",\"No\",\"No\",\"No\",\"Yes\",\"Yes\",\"Yes\",\"No\",\"No\",\"No\",\"No\",\"Yes\",\"No\",\"No internet service\",\"Yes\",\"No\",\"No\",\"No\",\"No\",\"No\",\"No\",\"No\",\"No\",\"No\",\"No\",\"No\",\"No\",\"Yes\",\"No\",\"No\",\"No\",\"No\",\"Yes\",\"No internet service\",\"No internet service\",\"No\",\"No\",\"No\",\"No internet service\",\"No\",\"No internet service\",\"No\",\"No internet service\",\"No\",\"No internet service\",\"No\",\"No\",\"No\",\"No\",\"No internet service\",\"No\",\"No\",\"No\",\"Yes\",\"No\",\"No\",\"No\",\"No\",\"No\",\"Yes\",\"No\",\"No\",\"Yes\",\"No\",\"No\",\"No\",\"No\",\"No\",\"No internet service\",\"No\",\"Yes\",\"No\",\"No internet service\",\"No\",\"No\",\"No\",\"No\",\"No\",\"Yes\",\"No\",\"No\",\"No\",\"No\",\"No\",\"No\",\"No\",\"No\",\"No\",\"No\",\"No\",\"No\",\"No\",\"No internet service\",\"No\",\"No\",\"No\",\"No internet service\",\"No\",\"No\",\"No\",\"No\",\"No\",\"No\",\"Yes\",\"No\",\"No\",\"No\",\"No internet service\",\"No\",\"No\",\"No\",\"No\",\"No\",\"Yes\",\"No internet service\",\"No\",\"No\",\"Yes\",\"No\",\"Yes\",\"No\",\"No\",\"No\",\"No\",\"Yes\",\"No\",\"No\",\"No\",\"No\",\"No\",\"No internet service\",\"No\",\"No\",\"No\",\"No\",\"No\",\"No\",\"No\",\"No\",\"No\",\"Yes\",\"No\",\"No\",\"No\",\"No\",\"No\",\"Yes\",\"No\",\"No\",\"No\",\"No\",\"No\",\"No\",\"No\",\"No\",\"No\",\"No\",\"No\",\"No\",\"Yes\",\"No internet service\",\"No\",\"No\",\"No\",\"No\",\"No\",\"No\",\"No\",\"No\",\"Yes\",\"No\",\"No\",\"No\",\"No\",\"No\",\"No\",\"No\",\"No\",\"No\",\"Yes\",\"No\",\"No\",\"No\",\"No\",\"No\",\"No\",\"No\",\"No\",\"No\",\"No\",\"No internet service\",\"No\",\"No internet service\",\"No\",\"No\",\"No\",\"No\",\"No\",\"No\",\"No\",\"No\",\"No internet service\",\"No\",\"No\",\"No\",\"No\",\"No\",\"No\",\"No\",\"No\",\"No\",\"No\",\"No\",\"No\",\"No\",\"No\",\"No\",\"No\",\"No\",\"Yes\",\"No\",\"No\",\"No\",\"No\",\"No\",\"No\",\"No\",\"Yes\",\"No\",\"No\",\"No\",\"No\",\"No\",\"Yes\",\"Yes\",\"No\",\"No\",\"Yes\",\"No\",\"No\",\"Yes\",\"No\",\"No\",\"No\",\"No\",\"No\",\"Yes\",\"No\",\"No internet service\",\"Yes\",\"No\",\"No\",\"Yes\",\"No\",\"No\",\"No\",\"Yes\",\"No\",\"No\",\"Yes\",\"No\",\"No\",\"No internet service\",\"Yes\",\"Yes\",\"No internet service\",\"No\",\"No\",\"No\",\"Yes\",\"No\",\"No\",\"No\",\"No\",\"No\",\"No\",\"Yes\",\"No\",\"No\",\"No\",\"Yes\",\"No\",\"No\",\"Yes\",\"No\",\"No\",\"No\",\"Yes\",\"No\",\"No\",\"Yes\",\"Yes\",\"No\",\"No internet service\",\"No\",\"No\",\"Yes\",\"No\",\"No\",\"No\",\"No\",\"No\",\"No\",\"No\",\"No internet service\",\"No\",\"No\",\"No\",\"No\",\"No\",\"No\",\"No\",\"No\",\"No\",\"No\",\"No\",\"No\",\"Yes\",\"No\",\"No\",\"No\",\"No\",\"No\",\"No\",\"No\",\"No\",\"Yes\",\"No\",\"No internet service\",\"No\",\"No\",\"Yes\",\"Yes\",\"No\",\"No\",\"No\",\"No\",\"Yes\",\"No\",\"Yes\",\"No\",\"No\",\"No\",\"No\",\"No\",\"No\",\"No\",\"No\",\"No\",\"No\",\"Yes\",\"No\",\"Yes\",\"No\",\"Yes\",\"No\",\"Yes\",\"Yes\",\"No internet service\",\"No\",\"No\",\"No\",\"No\",\"No\",\"No\",\"No\",\"No\",\"No\",\"No\",\"No\",\"No\",\"No\",\"No\",\"No internet service\",\"No\",\"No\",\"Yes\",\"No\",\"Yes\",\"Yes\",\"No\",\"No\",\"No\",\"Yes\",\"No\",\"Yes\",\"No\",\"No\",\"No\",\"No internet service\",\"Yes\",\"No\",\"No\",\"No\",\"No\",\"Yes\",\"No\",\"No\",\"No\",\"No\",\"No\",\"No\",\"No\",\"Yes\",\"No\",\"No\",\"Yes\",\"No\",\"No\",\"No\",\"No\",\"No\",\"No\",\"No\",\"No\",\"No\",\"No\",\"No\",\"No\",\"No\",\"No\",\"Yes\",\"No\",\"No\",\"No\",\"Yes\",\"No\",\"No\",\"No\",\"No\",\"No\",\"No\",\"No\",\"No\",\"No\",\"No internet service\",\"No\",\"No\",\"No\",\"No\",\"No\",\"No\",\"No\",\"No\",\"No\",\"No\",\"No\",\"No\",\"No\",\"No\",\"No\",\"No\",\"Yes\",\"No\",\"No\",\"No\",\"No\",\"No\",\"No\",\"No\",\"No\",\"No\",\"No\",\"No\",\"No\",\"No\",\"No\",\"No\",\"Yes\",\"No\",\"Yes\",\"No\",\"No\",\"No\",\"Yes\",\"Yes\",\"No\",\"No\",\"No\",\"No\",\"No\",\"No\",\"No\",\"No\",\"Yes\",\"No\",\"Yes\",\"No\",\"Yes\",\"No\",\"No\",\"No\",\"No\",\"No\",\"No\",\"No\",\"Yes\",\"No internet service\",\"Yes\",\"No\",\"No\",\"No\",\"No\",\"No\",\"Yes\",\"No\",\"No\",\"No\",\"No\",\"No\",\"No\",\"No\",\"Yes\",\"No\",\"No\",\"No\",\"Yes\",\"No\",\"No\",\"No\",\"Yes\",\"Yes\",\"No\",\"Yes\",\"No\",\"No\",\"No\",\"No\",\"No\",\"No\",\"No\",\"No\",\"No\",\"No internet service\",\"No\",\"No\",\"Yes\",\"No\",\"No\",\"No\",\"No\",\"Yes\",\"No\",\"No\",\"No\",\"No\",\"No\",\"No\",\"No\",\"No\",\"No\",\"No\",\"No\",\"No\",\"No\",\"No\",\"No\",\"No\",\"No\",\"No internet service\",\"No\",\"Yes\",\"No\",\"No\",\"Yes\",\"No\",\"No\",\"No\",\"No\",\"No\",\"No\",\"Yes\",\"No\",\"No\",\"No\",\"No\",\"No\",\"No\",\"No\",\"No internet service\",\"No\",\"No\",\"No\",\"No\",\"No\",\"No\",\"Yes\",\"No\",\"No\",\"No\",\"Yes\",\"No\",\"No\",\"No\",\"No\",\"No\",\"No\",\"No\",\"No\",\"No\",\"No\",\"No\",\"No\",\"No\",\"No\",\"No\",\"No\",\"Yes\",\"No\",\"No internet service\",\"No\",\"No\",\"No\",\"No\",\"Yes\",\"No\",\"No\",\"Yes\",\"No\",\"Yes\",\"No\",\"No internet service\",\"No\",\"No\",\"No\",\"No\",\"No internet service\",\"No\",\"No\",\"Yes\",\"No\",\"No\",\"No\",\"No\",\"No internet service\",\"Yes\",\"No\",\"No\",\"No internet service\",\"No\",\"No\",\"No\",\"No\",\"No\",\"Yes\",\"Yes\",\"No\",\"No internet service\",\"No\",\"No\",\"No\",\"No\",\"No\",\"No\",\"No\",\"Yes\",\"Yes\",\"No\",\"No\",\"Yes\",\"Yes\",\"No\",\"No\",\"No\",\"Yes\",\"Yes\",\"No\",\"Yes\",\"No\",\"No\",\"No internet service\",\"No\",\"No\",\"Yes\",\"No\",\"No\",\"Yes\",\"No\",\"No\",\"No\",\"No\",\"No\",\"No\",\"No\",\"No internet service\",\"No\",\"No\",\"No\",\"No internet service\",\"Yes\",\"No\",\"No\",\"No\",\"No\",\"Yes\",\"No\",\"No\",\"No\",\"No\",\"No internet service\",\"No\",\"No\",\"No\",\"No\",\"No\",\"No\",\"Yes\",\"No\",\"No\",\"No\",\"No\",\"No\",\"No\",\"No\",\"Yes\",\"No\",\"No internet service\",\"Yes\",\"No internet service\",\"No\",\"No\",\"No\",\"No\",\"No\",\"No\",\"Yes\",\"No\",\"No\",\"No\",\"No\",\"No\",\"No\",\"No\",\"No\",\"No\",\"Yes\",\"No\",\"No internet service\",\"No\",\"No\",\"No\",\"No\",\"No\",\"No\",\"No\",\"No\",\"No\",\"No\",\"No\",\"No\",\"No\",\"No\",\"No\",\"No internet service\",\"No\",\"No\",\"No\",\"No internet service\",\"No\",\"Yes\",\"No\",\"No internet service\",\"Yes\",\"No\",\"No\",\"Yes\",\"Yes\",\"No internet service\",\"No\",\"No\",\"No\",\"No\",\"No\",\"No\",\"No\",\"No\",\"Yes\",\"No\",\"No\",\"No\",\"No\",\"No\",\"Yes\",\"No\",\"No\",\"No\",\"Yes\",\"No\",\"No\",\"No\",\"No internet service\",\"No\",\"No internet service\",\"No internet service\",\"No internet service\",\"No\",\"No internet service\",\"No\",\"No\",\"No\",\"No\",\"Yes\",\"No\",\"Yes\",\"No\",\"No\",\"No\",\"No internet service\",\"No\",\"No\",\"No\",\"No\",\"No\",\"No\",\"No\",\"Yes\",\"No\",\"Yes\",\"No\",\"No\",\"No\",\"No internet service\",\"No\",\"No internet service\",\"No\",\"No\",\"No\",\"No\",\"No\",\"No\",\"Yes\",\"No\",\"No\",\"No\",\"Yes\",\"No\",\"No\",\"Yes\",\"Yes\",\"No\",\"No internet service\",\"Yes\",\"No\",\"No\",\"No\",\"No\",\"No\",\"No\",\"Yes\",\"No\",\"No\",\"No\",\"No\",\"No\",\"No\",\"No\",\"No\",\"No\",\"No\",\"Yes\",\"No\",\"No\",\"No\",\"Yes\",\"No\",\"No\",\"No\",\"Yes\",\"Yes\",\"No\",\"Yes\",\"Yes\",\"Yes\",\"No\",\"No\",\"No\",\"No\",\"No\",\"No internet service\",\"No\",\"No\",\"No\",\"No\",\"No\",\"No\",\"No\",\"No\",\"No\",\"No\",\"Yes\",\"No\",\"No\",\"No\",\"No\",\"No\",\"No\",\"No\",\"No\",\"No\",\"Yes\",\"No\",\"No\",\"Yes\",\"Yes\",\"No\",\"No\",\"Yes\",\"No\",\"Yes\",\"Yes\",\"No\",\"No\",\"No\",\"No internet service\",\"No\",\"No internet service\",\"No\",\"Yes\",\"No\",\"No\",\"No\",\"No\",\"No\",\"No\",\"No\",\"No\",\"No\",\"No\",\"No\",\"No\",\"No\",\"No\",\"No internet service\",\"No\",\"Yes\",\"No\",\"No\",\"No\",\"No internet service\",\"No internet service\",\"No\",\"No\",\"No\",\"No\",\"No\",\"No\",\"No\",\"No\",\"No\",\"No\",\"No internet service\",\"No internet service\",\"No\",\"No\",\"No\",\"Yes\",\"Yes\",\"No\",\"No\",\"No\",\"No\",\"No\",\"Yes\",\"No internet service\",\"No\",\"No\",\"No\",\"No\",\"No\",\"No\",\"No\",\"Yes\",\"No\",\"No\",\"No\",\"Yes\",\"No\",\"No\",\"No\",\"No\",\"No\",\"No\",\"No\",\"No\",\"No\",\"No\",\"No\",\"No\",\"Yes\",\"No\",\"No\",\"No\",\"No\",\"No\",\"No\",\"No\",\"No\",\"No\",\"No\",\"No\",\"No\",\"Yes\",\"No\",\"No\",\"No\",\"No\",\"No\",\"No\",\"No\",\"No\",\"No\",\"No\",\"No\",\"No\",\"No\",\"No\",\"No\",\"No\",\"No\",\"No\",\"No\",\"No\",\"No\",\"No internet service\",\"No\",\"No\",\"No\",\"No internet service\",\"No\",\"No\",\"No\",\"No\",\"No\",\"No\",\"No\",\"Yes\",\"Yes\",\"No\",\"Yes\",\"No\",\"No\",\"No\",\"No\",\"No\",\"No\",\"No\",\"Yes\",\"No\",\"No\",\"No\",\"No\",\"No\",\"No\",\"No\",\"No\",\"No\",\"No\",\"No\",\"No\",\"No internet service\",\"No\",\"No\",\"No\",\"No\",\"No\",\"No\",\"No\",\"No\",\"No\",\"Yes\",\"No\",\"No\",\"No\",\"No\",\"No\",\"No\",\"No\",\"Yes\",\"No\",\"No\",\"No\",\"Yes\",\"Yes\",\"No\",\"Yes\",\"No\",\"No\",\"No\",\"No\",\"No\",\"No\",\"No\",\"No\",\"No\",\"No\",\"Yes\",\"No\",\"Yes\",\"No\",\"No\",\"No\",\"No\",\"No internet service\",\"No\",\"No\",\"No\",\"No\",\"No\",\"No\",\"No\",\"No\",\"No internet service\",\"No\",\"No\",\"No\",\"No\",\"No internet service\",\"No\",\"No\",\"No\",\"Yes\",\"No\",\"No\",\"No\",\"No\",\"No\",\"No\",\"No\",\"No\",\"No\",\"Yes\",\"No\",\"Yes\",\"No\",\"No\",\"No\",\"No\",\"No\",\"No\",\"No\",\"No\",\"No\",\"No\",\"Yes\",\"No internet service\",\"No\",\"Yes\",\"No internet service\",\"Yes\",\"No\",\"No\",\"No\",\"Yes\",\"No\",\"No\",\"No\",\"Yes\",\"No\",\"No internet service\",\"No\",\"No internet service\",\"No\",\"No\",\"No\",\"No\",\"No\",\"No\",\"No\",\"No\",\"No\",\"No\",\"No\",\"No\",\"No\",\"No\",\"No\",\"No\",\"Yes\",\"Yes\",\"No\",\"No\",\"No\",\"No\",\"No\",\"No internet service\",\"No\",\"No\",\"Yes\",\"No\",\"No\",\"No\",\"No\",\"No\",\"No\",\"No\",\"No\",\"No\",\"Yes\",\"No\",\"No\",\"No\",\"No\",\"No\",\"No internet service\",\"Yes\",\"No\",\"No\",\"No\",\"No\",\"Yes\",\"No\",\"No\",\"No\",\"No\",\"No\",\"No\",\"Yes\",\"No\",\"No\",\"No\",\"No\",\"No\",\"No\",\"No\",\"No\",\"No\",\"No internet service\",\"No\",\"No\",\"No\",\"No\",\"No\",\"No\",\"No\",\"No\",\"No\",\"No\",\"No\",\"Yes\",\"No\",\"No\",\"No\",\"No\",\"No\",\"No\",\"No\",\"No\",\"Yes\",\"Yes\",\"No\",\"No\",\"No\",\"No\",\"No\",\"No\",\"No\",\"No internet service\",\"No\",\"Yes\",\"No\",\"No\",\"No\",\"No\",\"No\",\"No\",\"No\",\"No\",\"No\",\"No\",\"No\",\"No\",\"Yes\",\"No\",\"No\",\"No\",\"No\",\"No\",\"No\",\"No\",\"Yes\",\"No\",\"No internet service\",\"No\",\"No\",\"No\",\"No\",\"No\",\"No\",\"Yes\",\"No\",\"No\",\"No\",\"No\",\"No\",\"No\",\"No\",\"No\",\"No\",\"No\",\"No\",\"Yes\",\"No\",\"No\",\"No\",\"No\",\"No\",\"Yes\",\"Yes\",\"No\",\"No\",\"No\",\"No\",\"No\",\"No\",\"Yes\",\"No\",\"No\",\"No\",\"No\",\"No\",\"Yes\",\"No\",\"No\",\"No\",\"No\",\"No\",\"No\",\"Yes\",\"No\",\"No\",\"No\",\"No\",\"Yes\",\"Yes\",\"No\",\"No\",\"No internet service\",\"No\",\"Yes\",\"No\",\"No\",\"No internet service\",\"No\",\"No internet service\",\"No\",\"No\",\"No internet service\",\"Yes\",\"No internet service\",\"No\",\"No\",\"Yes\",\"No\",\"No\",\"No\",\"No internet service\",\"Yes\",\"No\",\"No\",\"No\",\"No\",\"No\",\"No\",\"No\",\"No internet service\",\"Yes\",\"No\",\"No\",\"No\",\"No internet service\",\"Yes\",\"No\",\"No\",\"No\",\"No\",\"No\",\"No\",\"Yes\",\"No\",\"No\",\"No internet service\",\"No\",\"No\",\"No\",\"No\",\"Yes\",\"No\",\"No\",\"No internet service\",\"Yes\",\"No\",\"No\",\"No\",\"No\",\"No\",\"No\",\"No\",\"Yes\",\"No\",\"No\",\"No\",\"No\",\"Yes\",\"No\",\"No\",\"No\",\"No\",\"Yes\",\"No\",\"No\",\"No\",\"No\",\"Yes\",\"No\",\"No\",\"No\",\"Yes\",\"No\",\"No\",\"No\",\"No\",\"No internet service\",\"No\",\"No internet service\",\"No\",\"No\",\"No\",\"No\",\"No\",\"No\",\"No\",\"No\",\"No\",\"No\",\"No\",\"No\",\"No\",\"No\",\"No\",\"No\",\"No\",\"No\",\"Yes\",\"Yes\",\"No\",\"No\",\"No\",\"No\",\"Yes\",\"No\",\"No\",\"No\",\"No\",\"Yes\",\"No internet service\",\"No\",\"No\",\"Yes\",\"Yes\",\"No\",\"No\",\"Yes\",\"No\",\"No\",\"No\",\"No\",\"No\",\"No\",\"No\",\"Yes\",\"No\",\"No\",\"Yes\",\"No\",\"No\",\"Yes\",\"No\",\"No\",\"No\",\"No\",\"No\",\"No\",\"No\",\"No\",\"No\",\"No\",\"No\",\"No\",\"No\",\"No\",\"Yes\",\"No\",\"No\",\"Yes\",\"Yes\",\"No\",\"No\",\"No\",\"No\",\"No\",\"No\",\"No\",\"No\",\"No internet service\",\"No\",\"No\",\"No\",\"No\",\"No\",\"Yes\",\"No\",\"No\",\"No\",\"Yes\",\"Yes\",\"No\",\"Yes\",\"No\",\"No\",\"No\",\"Yes\",\"No\",\"No\",\"No\",\"No\",\"No\",\"No\",\"No\",\"Yes\",\"No\",\"No\",\"No\",\"Yes\",\"No\",\"No\",\"No\",\"No\",\"No\",\"No\",\"No\",\"No\",\"No\",\"No internet service\",\"No\",\"No\",\"Yes\",\"No\",\"No\",\"Yes\",\"Yes\",\"No\",\"No\",\"No\",\"No internet service\",\"No\",\"No\",\"No\",\"Yes\",\"No\",\"Yes\",\"No\",\"No\",\"No\",\"No\",\"No\",\"Yes\",\"Yes\",\"Yes\",\"Yes\",\"No\",\"No internet service\",\"No\",\"No\",\"No\",\"No\",\"Yes\",\"No\",\"No\",\"No\",\"No\",\"No\",\"No\",\"No\",\"No\",\"Yes\",\"No\",\"No\",\"No\",\"Yes\",\"No\",\"No\",\"No\",\"No\",\"No\",\"No\",\"No\",\"No\",\"No\",\"No\",\"No internet service\",\"Yes\",\"Yes\",\"No\",\"No\",\"No\",\"No\",\"No\",\"No\",\"No\",\"No\",\"No\",\"No\",\"Yes\",\"No\",\"No\",\"No\",\"No\",\"No\",\"No\",\"No\",\"No\",\"No\",\"No\",\"No\",\"No\",\"No\",\"No\",\"No\",\"No\",\"No\",\"No\",\"Yes\",\"No\",\"No\",\"No\",\"No\",\"No\",\"No\",\"No\",\"No\",\"Yes\",\"Yes\",\"No\",\"No\",\"No\",\"No\",\"No\",\"No\",\"No\",\"No\",\"No\",\"No\",\"No\",\"Yes\",\"Yes\",\"Yes\",\"No\",\"No\",\"No\",\"No\",\"No\",\"Yes\",\"Yes\",\"No\",\"No\",\"No\",\"Yes\",\"No\",\"No\",\"No\",\"Yes\",\"Yes\",\"No\",\"No\",\"No\",\"No\",\"Yes\",\"No\",\"No\",\"No\",\"No\",\"No\",\"No\",\"No\",\"No\",\"No\",\"Yes\",\"No\",\"No\",\"No\",\"Yes\",\"No\",\"No\",\"Yes\",\"No\",\"No\",\"No\",\"No\",\"No\",\"No\",\"Yes\",\"No\",\"No\",\"No\",\"Yes\",\"No\",\"No\",\"No\",\"No internet service\",\"No\"],\"yaxis\":\"y\",\"type\":\"histogram\"}],                        {\"template\":{\"data\":{\"histogram2dcontour\":[{\"type\":\"histogram2dcontour\",\"colorbar\":{\"outlinewidth\":0,\"ticks\":\"\"},\"colorscale\":[[0.0,\"#0d0887\"],[0.1111111111111111,\"#46039f\"],[0.2222222222222222,\"#7201a8\"],[0.3333333333333333,\"#9c179e\"],[0.4444444444444444,\"#bd3786\"],[0.5555555555555556,\"#d8576b\"],[0.6666666666666666,\"#ed7953\"],[0.7777777777777778,\"#fb9f3a\"],[0.8888888888888888,\"#fdca26\"],[1.0,\"#f0f921\"]]}],\"choropleth\":[{\"type\":\"choropleth\",\"colorbar\":{\"outlinewidth\":0,\"ticks\":\"\"}}],\"histogram2d\":[{\"type\":\"histogram2d\",\"colorbar\":{\"outlinewidth\":0,\"ticks\":\"\"},\"colorscale\":[[0.0,\"#0d0887\"],[0.1111111111111111,\"#46039f\"],[0.2222222222222222,\"#7201a8\"],[0.3333333333333333,\"#9c179e\"],[0.4444444444444444,\"#bd3786\"],[0.5555555555555556,\"#d8576b\"],[0.6666666666666666,\"#ed7953\"],[0.7777777777777778,\"#fb9f3a\"],[0.8888888888888888,\"#fdca26\"],[1.0,\"#f0f921\"]]}],\"heatmap\":[{\"type\":\"heatmap\",\"colorbar\":{\"outlinewidth\":0,\"ticks\":\"\"},\"colorscale\":[[0.0,\"#0d0887\"],[0.1111111111111111,\"#46039f\"],[0.2222222222222222,\"#7201a8\"],[0.3333333333333333,\"#9c179e\"],[0.4444444444444444,\"#bd3786\"],[0.5555555555555556,\"#d8576b\"],[0.6666666666666666,\"#ed7953\"],[0.7777777777777778,\"#fb9f3a\"],[0.8888888888888888,\"#fdca26\"],[1.0,\"#f0f921\"]]}],\"heatmapgl\":[{\"type\":\"heatmapgl\",\"colorbar\":{\"outlinewidth\":0,\"ticks\":\"\"},\"colorscale\":[[0.0,\"#0d0887\"],[0.1111111111111111,\"#46039f\"],[0.2222222222222222,\"#7201a8\"],[0.3333333333333333,\"#9c179e\"],[0.4444444444444444,\"#bd3786\"],[0.5555555555555556,\"#d8576b\"],[0.6666666666666666,\"#ed7953\"],[0.7777777777777778,\"#fb9f3a\"],[0.8888888888888888,\"#fdca26\"],[1.0,\"#f0f921\"]]}],\"contourcarpet\":[{\"type\":\"contourcarpet\",\"colorbar\":{\"outlinewidth\":0,\"ticks\":\"\"}}],\"contour\":[{\"type\":\"contour\",\"colorbar\":{\"outlinewidth\":0,\"ticks\":\"\"},\"colorscale\":[[0.0,\"#0d0887\"],[0.1111111111111111,\"#46039f\"],[0.2222222222222222,\"#7201a8\"],[0.3333333333333333,\"#9c179e\"],[0.4444444444444444,\"#bd3786\"],[0.5555555555555556,\"#d8576b\"],[0.6666666666666666,\"#ed7953\"],[0.7777777777777778,\"#fb9f3a\"],[0.8888888888888888,\"#fdca26\"],[1.0,\"#f0f921\"]]}],\"surface\":[{\"type\":\"surface\",\"colorbar\":{\"outlinewidth\":0,\"ticks\":\"\"},\"colorscale\":[[0.0,\"#0d0887\"],[0.1111111111111111,\"#46039f\"],[0.2222222222222222,\"#7201a8\"],[0.3333333333333333,\"#9c179e\"],[0.4444444444444444,\"#bd3786\"],[0.5555555555555556,\"#d8576b\"],[0.6666666666666666,\"#ed7953\"],[0.7777777777777778,\"#fb9f3a\"],[0.8888888888888888,\"#fdca26\"],[1.0,\"#f0f921\"]]}],\"mesh3d\":[{\"type\":\"mesh3d\",\"colorbar\":{\"outlinewidth\":0,\"ticks\":\"\"}}],\"scatter\":[{\"fillpattern\":{\"fillmode\":\"overlay\",\"size\":10,\"solidity\":0.2},\"type\":\"scatter\"}],\"parcoords\":[{\"type\":\"parcoords\",\"line\":{\"colorbar\":{\"outlinewidth\":0,\"ticks\":\"\"}}}],\"scatterpolargl\":[{\"type\":\"scatterpolargl\",\"marker\":{\"colorbar\":{\"outlinewidth\":0,\"ticks\":\"\"}}}],\"bar\":[{\"error_x\":{\"color\":\"#2a3f5f\"},\"error_y\":{\"color\":\"#2a3f5f\"},\"marker\":{\"line\":{\"color\":\"#E5ECF6\",\"width\":0.5},\"pattern\":{\"fillmode\":\"overlay\",\"size\":10,\"solidity\":0.2}},\"type\":\"bar\"}],\"scattergeo\":[{\"type\":\"scattergeo\",\"marker\":{\"colorbar\":{\"outlinewidth\":0,\"ticks\":\"\"}}}],\"scatterpolar\":[{\"type\":\"scatterpolar\",\"marker\":{\"colorbar\":{\"outlinewidth\":0,\"ticks\":\"\"}}}],\"histogram\":[{\"marker\":{\"pattern\":{\"fillmode\":\"overlay\",\"size\":10,\"solidity\":0.2}},\"type\":\"histogram\"}],\"scattergl\":[{\"type\":\"scattergl\",\"marker\":{\"colorbar\":{\"outlinewidth\":0,\"ticks\":\"\"}}}],\"scatter3d\":[{\"type\":\"scatter3d\",\"line\":{\"colorbar\":{\"outlinewidth\":0,\"ticks\":\"\"}},\"marker\":{\"colorbar\":{\"outlinewidth\":0,\"ticks\":\"\"}}}],\"scattermapbox\":[{\"type\":\"scattermapbox\",\"marker\":{\"colorbar\":{\"outlinewidth\":0,\"ticks\":\"\"}}}],\"scatterternary\":[{\"type\":\"scatterternary\",\"marker\":{\"colorbar\":{\"outlinewidth\":0,\"ticks\":\"\"}}}],\"scattercarpet\":[{\"type\":\"scattercarpet\",\"marker\":{\"colorbar\":{\"outlinewidth\":0,\"ticks\":\"\"}}}],\"carpet\":[{\"aaxis\":{\"endlinecolor\":\"#2a3f5f\",\"gridcolor\":\"white\",\"linecolor\":\"white\",\"minorgridcolor\":\"white\",\"startlinecolor\":\"#2a3f5f\"},\"baxis\":{\"endlinecolor\":\"#2a3f5f\",\"gridcolor\":\"white\",\"linecolor\":\"white\",\"minorgridcolor\":\"white\",\"startlinecolor\":\"#2a3f5f\"},\"type\":\"carpet\"}],\"table\":[{\"cells\":{\"fill\":{\"color\":\"#EBF0F8\"},\"line\":{\"color\":\"white\"}},\"header\":{\"fill\":{\"color\":\"#C8D4E3\"},\"line\":{\"color\":\"white\"}},\"type\":\"table\"}],\"barpolar\":[{\"marker\":{\"line\":{\"color\":\"#E5ECF6\",\"width\":0.5},\"pattern\":{\"fillmode\":\"overlay\",\"size\":10,\"solidity\":0.2}},\"type\":\"barpolar\"}],\"pie\":[{\"automargin\":true,\"type\":\"pie\"}]},\"layout\":{\"autotypenumbers\":\"strict\",\"colorway\":[\"#636efa\",\"#EF553B\",\"#00cc96\",\"#ab63fa\",\"#FFA15A\",\"#19d3f3\",\"#FF6692\",\"#B6E880\",\"#FF97FF\",\"#FECB52\"],\"font\":{\"color\":\"#2a3f5f\"},\"hovermode\":\"closest\",\"hoverlabel\":{\"align\":\"left\"},\"paper_bgcolor\":\"white\",\"plot_bgcolor\":\"#E5ECF6\",\"polar\":{\"bgcolor\":\"#E5ECF6\",\"angularaxis\":{\"gridcolor\":\"white\",\"linecolor\":\"white\",\"ticks\":\"\"},\"radialaxis\":{\"gridcolor\":\"white\",\"linecolor\":\"white\",\"ticks\":\"\"}},\"ternary\":{\"bgcolor\":\"#E5ECF6\",\"aaxis\":{\"gridcolor\":\"white\",\"linecolor\":\"white\",\"ticks\":\"\"},\"baxis\":{\"gridcolor\":\"white\",\"linecolor\":\"white\",\"ticks\":\"\"},\"caxis\":{\"gridcolor\":\"white\",\"linecolor\":\"white\",\"ticks\":\"\"}},\"coloraxis\":{\"colorbar\":{\"outlinewidth\":0,\"ticks\":\"\"}},\"colorscale\":{\"sequential\":[[0.0,\"#0d0887\"],[0.1111111111111111,\"#46039f\"],[0.2222222222222222,\"#7201a8\"],[0.3333333333333333,\"#9c179e\"],[0.4444444444444444,\"#bd3786\"],[0.5555555555555556,\"#d8576b\"],[0.6666666666666666,\"#ed7953\"],[0.7777777777777778,\"#fb9f3a\"],[0.8888888888888888,\"#fdca26\"],[1.0,\"#f0f921\"]],\"sequentialminus\":[[0.0,\"#0d0887\"],[0.1111111111111111,\"#46039f\"],[0.2222222222222222,\"#7201a8\"],[0.3333333333333333,\"#9c179e\"],[0.4444444444444444,\"#bd3786\"],[0.5555555555555556,\"#d8576b\"],[0.6666666666666666,\"#ed7953\"],[0.7777777777777778,\"#fb9f3a\"],[0.8888888888888888,\"#fdca26\"],[1.0,\"#f0f921\"]],\"diverging\":[[0,\"#8e0152\"],[0.1,\"#c51b7d\"],[0.2,\"#de77ae\"],[0.3,\"#f1b6da\"],[0.4,\"#fde0ef\"],[0.5,\"#f7f7f7\"],[0.6,\"#e6f5d0\"],[0.7,\"#b8e186\"],[0.8,\"#7fbc41\"],[0.9,\"#4d9221\"],[1,\"#276419\"]]},\"xaxis\":{\"gridcolor\":\"white\",\"linecolor\":\"white\",\"ticks\":\"\",\"title\":{\"standoff\":15},\"zerolinecolor\":\"white\",\"automargin\":true,\"zerolinewidth\":2},\"yaxis\":{\"gridcolor\":\"white\",\"linecolor\":\"white\",\"ticks\":\"\",\"title\":{\"standoff\":15},\"zerolinecolor\":\"white\",\"automargin\":true,\"zerolinewidth\":2},\"scene\":{\"xaxis\":{\"backgroundcolor\":\"#E5ECF6\",\"gridcolor\":\"white\",\"linecolor\":\"white\",\"showbackground\":true,\"ticks\":\"\",\"zerolinecolor\":\"white\",\"gridwidth\":2},\"yaxis\":{\"backgroundcolor\":\"#E5ECF6\",\"gridcolor\":\"white\",\"linecolor\":\"white\",\"showbackground\":true,\"ticks\":\"\",\"zerolinecolor\":\"white\",\"gridwidth\":2},\"zaxis\":{\"backgroundcolor\":\"#E5ECF6\",\"gridcolor\":\"white\",\"linecolor\":\"white\",\"showbackground\":true,\"ticks\":\"\",\"zerolinecolor\":\"white\",\"gridwidth\":2}},\"shapedefaults\":{\"line\":{\"color\":\"#2a3f5f\"}},\"annotationdefaults\":{\"arrowcolor\":\"#2a3f5f\",\"arrowhead\":0,\"arrowwidth\":1},\"geo\":{\"bgcolor\":\"white\",\"landcolor\":\"#E5ECF6\",\"subunitcolor\":\"white\",\"showland\":true,\"showlakes\":true,\"lakecolor\":\"white\"},\"title\":{\"x\":0.05},\"mapbox\":{\"style\":\"light\"}}},\"xaxis\":{\"anchor\":\"y\",\"domain\":[0.0,1.0],\"title\":{\"text\":\"count\"}},\"yaxis\":{\"anchor\":\"x\",\"domain\":[0.0,1.0],\"title\":{\"text\":\"OnlineSecurity\"},\"categoryorder\":\"total ascending\"},\"legend\":{\"title\":{\"text\":\"Churn\"},\"tracegroupgap\":0},\"margin\":{\"t\":60},\"barmode\":\"relative\"},                        {\"responsive\": true}                    ).then(function(){\n",
              "                            \n",
              "var gd = document.getElementById('33f6858a-e467-4948-bce1-26f9c9eb3aa7');\n",
              "var x = new MutationObserver(function (mutations, observer) {{\n",
              "        var display = window.getComputedStyle(gd).display;\n",
              "        if (!display || display === 'none') {{\n",
              "            console.log([gd, 'removed!']);\n",
              "            Plotly.purge(gd);\n",
              "            observer.disconnect();\n",
              "        }}\n",
              "}});\n",
              "\n",
              "// Listen for the removal of the full notebook cells\n",
              "var notebookContainer = gd.closest('#notebook-container');\n",
              "if (notebookContainer) {{\n",
              "    x.observe(notebookContainer, {childList: true});\n",
              "}}\n",
              "\n",
              "// Listen for the clearing of the current output cell\n",
              "var outputEl = gd.closest('.output');\n",
              "if (outputEl) {{\n",
              "    x.observe(outputEl, {childList: true});\n",
              "}}\n",
              "\n",
              "                        })                };                            </script>        </div>\n",
              "</body>\n",
              "</html>"
            ]
          },
          "metadata": {}
        }
      ]
    },
    {
      "cell_type": "code",
      "source": [
        "# Identificando o incidência de Churn quanto ao cliente possuir suporte técnico (menor tempo de espera)\n",
        "grafico_support = px.histogram(df, y='TechSupport', color='Churn', orientation='h')\n",
        "grafico_support.update_yaxes(categoryorder='total ascending')\n",
        "grafico_support.show()"
      ],
      "metadata": {
        "colab": {
          "base_uri": "https://localhost:8080/",
          "height": 542
        },
        "id": "t9XtBw8PSjxp",
        "outputId": "cccb4995-0ae2-4dd0-976f-e29957eef153"
      },
      "execution_count": 257,
      "outputs": [
        {
          "output_type": "display_data",
          "data": {
            "text/html": [
              "<html>\n",
              "<head><meta charset=\"utf-8\" /></head>\n",
              "<body>\n",
              "    <div>            <script src=\"https://cdnjs.cloudflare.com/ajax/libs/mathjax/2.7.5/MathJax.js?config=TeX-AMS-MML_SVG\"></script><script type=\"text/javascript\">if (window.MathJax && window.MathJax.Hub && window.MathJax.Hub.Config) {window.MathJax.Hub.Config({SVG: {font: \"STIX-Web\"}});}</script>                <script type=\"text/javascript\">window.PlotlyConfig = {MathJaxConfig: 'local'};</script>\n",
              "        <script charset=\"utf-8\" src=\"https://cdn.plot.ly/plotly-2.35.2.min.js\"></script>                <div id=\"f26d4208-7f55-4b92-8d50-0ed5bea22983\" class=\"plotly-graph-div\" style=\"height:525px; width:100%;\"></div>            <script type=\"text/javascript\">                                    window.PLOTLYENV=window.PLOTLYENV || {};                                    if (document.getElementById(\"f26d4208-7f55-4b92-8d50-0ed5bea22983\")) {                    Plotly.newPlot(                        \"f26d4208-7f55-4b92-8d50-0ed5bea22983\",                        [{\"alignmentgroup\":\"True\",\"bingroup\":\"y\",\"hovertemplate\":\"Churn=No\\u003cbr\\u003ecount=%{x}\\u003cbr\\u003eTechSupport=%{y}\\u003cextra\\u003e\\u003c\\u002fextra\\u003e\",\"legendgroup\":\"No\",\"marker\":{\"color\":\"#636efa\",\"pattern\":{\"shape\":\"\"}},\"name\":\"No\",\"offsetgroup\":\"No\",\"orientation\":\"h\",\"showlegend\":true,\"xaxis\":\"x\",\"y\":[\"Yes\",\"No\",\"Yes\",\"Yes\",\"Yes\",\"No\",\"Yes\",\"Yes\",\"Yes\",\"No\",\"No\",\"Yes\",\"No\",\"Yes\",\"No\",\"No internet service\",\"No\",\"No internet service\",\"Yes\",\"No internet service\",\"No internet service\",\"No internet service\",\"No\",\"No internet service\",\"Yes\",\"No internet service\",\"Yes\",\"No internet service\",\"No\",\"No\",\"No internet service\",\"No\",\"Yes\",\"No internet service\",\"No\",\"Yes\",\"Yes\",\"No\",\"Yes\",\"No\",\"Yes\",\"Yes\",\"Yes\",\"No\",\"No\",\"No\",\"No internet service\",\"No\",\"Yes\",\"No\",\"No\",\"Yes\",\"No\",\"No\",\"Yes\",\"No\",\"No internet service\",\"No\",\"Yes\",\"Yes\",\"Yes\",\"No\",\"No internet service\",\"No\",\"Yes\",\"Yes\",\"No\",\"No\",\"No internet service\",\"Yes\",\"Yes\",\"No internet service\",\"No\",\"No internet service\",\"Yes\",\"No internet service\",\"No\",\"Yes\",\"Yes\",\"No\",\"No\",\"No internet service\",\"Yes\",\"No\",\"No\",\"No\",\"No\",\"No internet service\",\"Yes\",\"No internet service\",\"No\",\"Yes\",\"No\",\"No\",\"No internet service\",\"No internet service\",\"No\",\"No\",\"No internet service\",\"No\",\"No\",\"Yes\",\"Yes\",\"Yes\",\"Yes\",\"No\",\"No\",\"Yes\",\"Yes\",\"No\",\"Yes\",\"No internet service\",\"No\",\"Yes\",\"Yes\",\"Yes\",\"Yes\",\"No\",\"No\",\"No\",\"Yes\",\"No internet service\",\"No\",\"Yes\",\"Yes\",\"No internet service\",\"Yes\",\"No\",\"No\",\"Yes\",\"No internet service\",\"Yes\",\"No\",\"No\",\"Yes\",\"Yes\",\"Yes\",\"Yes\",\"Yes\",\"No internet service\",\"No\",\"No internet service\",\"Yes\",\"No internet service\",\"Yes\",\"Yes\",\"Yes\",\"No internet service\",\"No\",\"No\",\"No\",\"No internet service\",\"No\",\"Yes\",\"No internet service\",\"No\",\"No\",\"No\",\"Yes\",\"Yes\",\"Yes\",\"No\",\"Yes\",\"No internet service\",\"No internet service\",\"No\",\"Yes\",\"No internet service\",\"Yes\",\"No internet service\",\"Yes\",\"No\",\"Yes\",\"No\",\"No internet service\",\"No\",\"No\",\"No\",\"No internet service\",\"No\",\"No\",\"Yes\",\"Yes\",\"No\",\"No\",\"No internet service\",\"Yes\",\"No\",\"No\",\"No internet service\",\"No\",\"No internet service\",\"No internet service\",\"Yes\",\"No\",\"No internet service\",\"No\",\"No internet service\",\"No internet service\",\"No\",\"No\",\"No\",\"Yes\",\"No\",\"No\",\"No\",\"No internet service\",\"No\",\"Yes\",\"No internet service\",\"No\",\"No\",\"No\",\"No\",\"Yes\",\"No\",\"Yes\",\"No\",\"No\",\"Yes\",\"No internet service\",\"Yes\",\"No\",\"Yes\",\"Yes\",\"No\",\"Yes\",\"No\",\"No internet service\",\"No internet service\",\"No\",\"No internet service\",\"Yes\",\"No\",\"Yes\",\"No\",\"No internet service\",\"No\",\"No\",\"No internet service\",\"No internet service\",\"No internet service\",\"Yes\",\"Yes\",\"No internet service\",\"Yes\",\"No\",\"Yes\",\"No internet service\",\"No internet service\",\"No\",\"No internet service\",\"No\",\"Yes\",\"No\",\"No internet service\",\"No\",\"No internet service\",\"Yes\",\"No\",\"Yes\",\"Yes\",\"No\",\"No\",\"No\",\"No internet service\",\"No\",\"No\",\"No\",\"No internet service\",\"No\",\"Yes\",\"Yes\",\"Yes\",\"No internet service\",\"Yes\",\"No internet service\",\"Yes\",\"Yes\",\"Yes\",\"No\",\"No\",\"No\",\"Yes\",\"No\",\"No\",\"No\",\"No\",\"No\",\"No internet service\",\"Yes\",\"No\",\"No internet service\",\"No\",\"No\",\"Yes\",\"No\",\"No internet service\",\"Yes\",\"No\",\"No internet service\",\"No internet service\",\"Yes\",\"No\",\"No internet service\",\"No internet service\",\"No\",\"Yes\",\"No internet service\",\"Yes\",\"No\",\"No internet service\",\"No internet service\",\"Yes\",\"No internet service\",\"Yes\",\"No\",\"No\",\"Yes\",\"No\",\"Yes\",\"Yes\",\"No internet service\",\"Yes\",\"No\",\"No\",\"Yes\",\"No\",\"Yes\",\"No internet service\",\"No internet service\",\"No\",\"No\",\"Yes\",\"Yes\",\"No\",\"Yes\",\"Yes\",\"Yes\",\"No internet service\",\"Yes\",\"Yes\",\"No\",\"No\",\"Yes\",\"No internet service\",\"Yes\",\"No\",\"Yes\",\"Yes\",\"Yes\",\"Yes\",\"No\",\"Yes\",\"Yes\",\"Yes\",\"No\",\"No internet service\",\"No internet service\",\"Yes\",\"No\",\"No\",\"Yes\",\"Yes\",\"Yes\",\"Yes\",\"No\",\"No\",\"No internet service\",\"No internet service\",\"Yes\",\"No\",\"Yes\",\"No\",\"Yes\",\"No\",\"Yes\",\"No internet service\",\"No internet service\",\"No internet service\",\"No\",\"No internet service\",\"No internet service\",\"No\",\"No internet service\",\"No\",\"Yes\",\"No internet service\",\"No\",\"No\",\"No internet service\",\"No\",\"Yes\",\"No\",\"No\",\"Yes\",\"No internet service\",\"Yes\",\"Yes\",\"Yes\",\"No\",\"No internet service\",\"No internet service\",\"No internet service\",\"No\",\"No internet service\",\"No internet service\",\"Yes\",\"Yes\",\"No internet service\",\"Yes\",\"No\",\"No\",\"No internet service\",\"Yes\",\"No\",\"Yes\",\"No\",\"Yes\",\"No internet service\",\"No\",\"No internet service\",\"Yes\",\"Yes\",\"Yes\",\"Yes\",\"No\",\"No internet service\",\"Yes\",\"No\",\"No\",\"Yes\",\"Yes\",\"No\",\"No internet service\",\"Yes\",\"No\",\"No\",\"Yes\",\"No internet service\",\"No internet service\",\"Yes\",\"Yes\",\"No\",\"Yes\",\"No\",\"No\",\"No\",\"No\",\"No\",\"No internet service\",\"No\",\"No\",\"No\",\"No\",\"Yes\",\"No\",\"No internet service\",\"No internet service\",\"Yes\",\"Yes\",\"No\",\"Yes\",\"No\",\"Yes\",\"No\",\"No internet service\",\"No\",\"No\",\"Yes\",\"No\",\"No internet service\",\"No internet service\",\"No internet service\",\"No internet service\",\"No internet service\",\"No\",\"Yes\",\"No\",\"Yes\",\"No\",\"No\",\"Yes\",\"Yes\",\"No\",\"Yes\",\"Yes\",\"No\",\"No\",\"No\",\"No internet service\",\"No internet service\",\"No\",\"Yes\",\"Yes\",\"No internet service\",\"No\",\"No\",\"No\",\"Yes\",\"Yes\",\"Yes\",\"No\",\"Yes\",\"No internet service\",\"Yes\",\"Yes\",\"No internet service\",\"No\",\"No internet service\",\"No\",\"No internet service\",\"No internet service\",\"No internet service\",\"Yes\",\"No internet service\",\"Yes\",\"Yes\",\"Yes\",\"No internet service\",\"No internet service\",\"No internet service\",\"Yes\",\"No internet service\",\"No\",\"No\",\"No internet service\",\"Yes\",\"No internet service\",\"No internet service\",\"Yes\",\"Yes\",\"Yes\",\"No internet service\",\"Yes\",\"Yes\",\"No\",\"No internet service\",\"No internet service\",\"Yes\",\"No\",\"No\",\"No\",\"No internet service\",\"No internet service\",\"No\",\"No internet service\",\"No\",\"No\",\"No\",\"Yes\",\"No internet service\",\"No\",\"No\",\"Yes\",\"No\",\"No\",\"No\",\"No internet service\",\"No internet service\",\"Yes\",\"No internet service\",\"Yes\",\"Yes\",\"No internet service\",\"Yes\",\"Yes\",\"Yes\",\"No internet service\",\"No\",\"No\",\"No\",\"Yes\",\"No internet service\",\"No internet service\",\"Yes\",\"No\",\"Yes\",\"No internet service\",\"No internet service\",\"Yes\",\"Yes\",\"No\",\"No internet service\",\"No\",\"No\",\"No\",\"Yes\",\"Yes\",\"No internet service\",\"No internet service\",\"Yes\",\"Yes\",\"Yes\",\"No\",\"No internet service\",\"No\",\"No\",\"Yes\",\"No\",\"No internet service\",\"No\",\"Yes\",\"No\",\"No internet service\",\"No\",\"Yes\",\"Yes\",\"No\",\"No\",\"No\",\"Yes\",\"No internet service\",\"No internet service\",\"No internet service\",\"No\",\"No internet service\",\"Yes\",\"No\",\"Yes\",\"Yes\",\"No internet service\",\"No internet service\",\"No internet service\",\"No internet service\",\"No internet service\",\"No internet service\",\"No\",\"No internet service\",\"No\",\"No internet service\",\"No\",\"No\",\"Yes\",\"Yes\",\"No\",\"Yes\",\"Yes\",\"No internet service\",\"No internet service\",\"Yes\",\"No internet service\",\"No\",\"Yes\",\"No internet service\",\"No internet service\",\"Yes\",\"Yes\",\"No internet service\",\"Yes\",\"No internet service\",\"No\",\"No\",\"No\",\"No\",\"No internet service\",\"No\",\"No\",\"No\",\"No\",\"No\",\"No\",\"Yes\",\"No\",\"No internet service\",\"No\",\"No internet service\",\"No\",\"No\",\"Yes\",\"No\",\"No internet service\",\"No\",\"No\",\"No internet service\",\"No internet service\",\"Yes\",\"No\",\"Yes\",\"Yes\",\"Yes\",\"No\",\"Yes\",\"No internet service\",\"No\",\"Yes\",\"No\",\"No\",\"Yes\",\"Yes\",\"Yes\",\"No\",\"Yes\",\"No internet service\",\"No\",\"No\",\"No\",\"No\",\"No internet service\",\"No internet service\",\"No\",\"No\",\"Yes\",\"Yes\",\"No\",\"No internet service\",\"No\",\"No internet service\",\"No\",\"Yes\",\"No internet service\",\"Yes\",\"No internet service\",\"No internet service\",\"No\",\"No internet service\",\"Yes\",\"Yes\",\"Yes\",\"Yes\",\"Yes\",\"No internet service\",\"Yes\",\"Yes\",\"No internet service\",\"Yes\",\"Yes\",\"No internet service\",\"No\",\"No internet service\",\"No\",\"No\",\"No\",\"No\",\"Yes\",\"No\",\"No\",\"No\",\"Yes\",\"No\",\"Yes\",\"No internet service\",\"Yes\",\"No internet service\",\"No internet service\",\"No\",\"No\",\"No\",\"No\",\"Yes\",\"No\",\"No\",\"Yes\",\"No\",\"No\",\"Yes\",\"Yes\",\"No internet service\",\"Yes\",\"Yes\",\"No internet service\",\"No internet service\",\"Yes\",\"Yes\",\"No\",\"No\",\"No\",\"No\",\"No\",\"No internet service\",\"Yes\",\"Yes\",\"No internet service\",\"Yes\",\"Yes\",\"No\",\"No\",\"Yes\",\"No\",\"No\",\"Yes\",\"No internet service\",\"No internet service\",\"No internet service\",\"Yes\",\"No\",\"No internet service\",\"No internet service\",\"Yes\",\"Yes\",\"Yes\",\"No\",\"No internet service\",\"No\",\"No\",\"No\",\"No\",\"No internet service\",\"No\",\"No internet service\",\"No\",\"No\",\"No\",\"No internet service\",\"No internet service\",\"Yes\",\"No internet service\",\"No internet service\",\"No\",\"No\",\"No\",\"No internet service\",\"No internet service\",\"No\",\"No\",\"No internet service\",\"No\",\"Yes\",\"Yes\",\"No internet service\",\"No\",\"No\",\"Yes\",\"No internet service\",\"No\",\"No\",\"Yes\",\"No\",\"No internet service\",\"No internet service\",\"Yes\",\"No\",\"No\",\"No internet service\",\"No\",\"No\",\"No\",\"No\",\"No internet service\",\"No\",\"No\",\"No internet service\",\"No\",\"Yes\",\"Yes\",\"No internet service\",\"No\",\"Yes\",\"No internet service\",\"No\",\"Yes\",\"No internet service\",\"No internet service\",\"No\",\"No\",\"Yes\",\"Yes\",\"No\",\"No\",\"No internet service\",\"No internet service\",\"Yes\",\"No internet service\",\"No\",\"No\",\"No\",\"No\",\"No internet service\",\"No internet service\",\"No internet service\",\"No internet service\",\"No internet service\",\"Yes\",\"No internet service\",\"No\",\"No internet service\",\"No\",\"Yes\",\"No\",\"Yes\",\"No internet service\",\"No\",\"Yes\",\"No internet service\",\"No\",\"No\",\"No internet service\",\"No\",\"Yes\",\"No internet service\",\"Yes\",\"No\",\"Yes\",\"No internet service\",\"No\",\"No internet service\",\"Yes\",\"Yes\",\"Yes\",\"No internet service\",\"No\",\"Yes\",\"No internet service\",\"No\",\"No\",\"No\",\"No internet service\",\"Yes\",\"No internet service\",\"No internet service\",\"Yes\",\"Yes\",\"No internet service\",\"No\",\"No\",\"No\",\"No\",\"No internet service\",\"No internet service\",\"No\",\"No\",\"No\",\"No internet service\",\"No internet service\",\"Yes\",\"Yes\",\"No\",\"No internet service\",\"No\",\"No internet service\",\"Yes\",\"Yes\",\"No\",\"Yes\",\"No internet service\",\"No\",\"No\",\"No internet service\",\"No\",\"No\",\"No internet service\",\"No\",\"Yes\",\"No internet service\",\"No\",\"No internet service\",\"No internet service\",\"No\",\"Yes\",\"No internet service\",\"Yes\",\"No\",\"No\",\"No internet service\",\"No\",\"No\",\"Yes\",\"Yes\",\"No\",\"No\",\"No internet service\",\"Yes\",\"Yes\",\"No internet service\",\"No internet service\",\"No\",\"No\",\"No\",\"No\",\"No internet service\",\"No internet service\",\"Yes\",\"Yes\",\"No\",\"No internet service\",\"No internet service\",\"No internet service\",\"No\",\"No internet service\",\"No internet service\",\"No\",\"No internet service\",\"Yes\",\"No\",\"No\",\"Yes\",\"No internet service\",\"No internet service\",\"No\",\"No internet service\",\"Yes\",\"No\",\"No\",\"No internet service\",\"Yes\",\"Yes\",\"Yes\",\"No internet service\",\"Yes\",\"No\",\"Yes\",\"No\",\"Yes\",\"Yes\",\"No\",\"Yes\",\"No\",\"No\",\"No\",\"Yes\",\"No internet service\",\"Yes\",\"Yes\",\"No\",\"Yes\",\"Yes\",\"No internet service\",\"No\",\"Yes\",\"No internet service\",\"No\",\"No internet service\",\"Yes\",\"Yes\",\"No internet service\",\"No\",\"Yes\",\"No\",\"No\",\"No\",\"No internet service\",\"No internet service\",\"Yes\",\"No\",\"No internet service\",\"No\",\"Yes\",\"Yes\",\"No internet service\",\"No internet service\",\"No\",\"No\",\"Yes\",\"No\",\"No\",\"No internet service\",\"No internet service\",\"Yes\",\"No internet service\",\"No\",\"No\",\"Yes\",\"Yes\",\"No internet service\",\"No\",\"No\",\"No\",\"No internet service\",\"Yes\",\"No internet service\",\"No\",\"No\",\"No internet service\",\"No internet service\",\"No\",\"Yes\",\"No internet service\",\"Yes\",\"Yes\",\"No internet service\",\"Yes\",\"No internet service\",\"No internet service\",\"No\",\"Yes\",\"Yes\",\"No\",\"No internet service\",\"No\",\"No\",\"No\",\"No\",\"Yes\",\"No\",\"No\",\"Yes\",\"Yes\",\"Yes\",\"No\",\"No\",\"No\",\"Yes\",\"No\",\"Yes\",\"Yes\",\"No internet service\",\"No internet service\",\"No internet service\",\"No\",\"No\",\"No\",\"Yes\",\"No\",\"No\",\"No internet service\",\"Yes\",\"Yes\",\"Yes\",\"No internet service\",\"No internet service\",\"No\",\"No internet service\",\"No internet service\",\"No\",\"Yes\",\"No\",\"No\",\"Yes\",\"No internet service\",\"No internet service\",\"Yes\",\"No\",\"No\",\"No internet service\",\"Yes\",\"No\",\"Yes\",\"No\",\"No\",\"Yes\",\"Yes\",\"No\",\"Yes\",\"Yes\",\"Yes\",\"No\",\"No internet service\",\"No internet service\",\"Yes\",\"No\",\"No\",\"Yes\",\"Yes\",\"Yes\",\"No\",\"Yes\",\"Yes\",\"No\",\"No internet service\",\"No\",\"Yes\",\"No\",\"Yes\",\"Yes\",\"Yes\",\"Yes\",\"No\",\"No\",\"Yes\",\"No\",\"No internet service\",\"No\",\"No internet service\",\"Yes\",\"Yes\",\"No internet service\",\"Yes\",\"Yes\",\"Yes\",\"No internet service\",\"No internet service\",\"No\",\"Yes\",\"No internet service\",\"No\",\"No\",\"No\",\"Yes\",\"No internet service\",\"No internet service\",\"Yes\",\"No\",\"No internet service\",\"No internet service\",\"No\",\"No internet service\",\"No\",\"No\",\"No\",\"No internet service\",\"No\",\"No\",\"Yes\",\"Yes\",\"Yes\",\"Yes\",\"Yes\",\"No internet service\",\"No\",\"No internet service\",\"No\",\"No\",\"No\",\"No\",\"Yes\",\"No\",\"Yes\",\"No internet service\",\"Yes\",\"No internet service\",\"Yes\",\"Yes\",\"No internet service\",\"No internet service\",\"Yes\",\"No\",\"Yes\",\"Yes\",\"Yes\",\"No internet service\",\"No internet service\",\"Yes\",\"Yes\",\"No internet service\",\"No internet service\",\"No internet service\",\"No\",\"No\",\"No\",\"No\",\"No\",\"No internet service\",\"No\",\"Yes\",\"Yes\",\"No\",\"No internet service\",\"No\",\"Yes\",\"No\",\"No\",\"No\",\"No internet service\",\"No internet service\",\"No internet service\",\"Yes\",\"Yes\",\"Yes\",\"Yes\",\"No\",\"No\",\"No\",\"No internet service\",\"No\",\"No internet service\",\"No\",\"Yes\",\"No\",\"No internet service\",\"Yes\",\"Yes\",\"No\",\"No\",\"Yes\",\"No internet service\",\"No internet service\",\"No\",\"Yes\",\"Yes\",\"No\",\"Yes\",\"No internet service\",\"Yes\",\"Yes\",\"Yes\",\"No\",\"No internet service\",\"Yes\",\"No\",\"Yes\",\"No\",\"Yes\",\"No internet service\",\"No\",\"No internet service\",\"No\",\"No\",\"No internet service\",\"No\",\"Yes\",\"No internet service\",\"No internet service\",\"No internet service\",\"No\",\"No internet service\",\"Yes\",\"Yes\",\"Yes\",\"No\",\"Yes\",\"No\",\"Yes\",\"No\",\"No\",\"No internet service\",\"No internet service\",\"No internet service\",\"No internet service\",\"No internet service\",\"Yes\",\"No\",\"No\",\"Yes\",\"No\",\"Yes\",\"No internet service\",\"Yes\",\"Yes\",\"No\",\"No internet service\",\"No\",\"No internet service\",\"No\",\"No\",\"No internet service\",\"Yes\",\"No internet service\",\"No\",\"No\",\"No\",\"No internet service\",\"No internet service\",\"Yes\",\"No internet service\",\"Yes\",\"No internet service\",\"No\",\"Yes\",\"No internet service\",\"Yes\",\"No\",\"No internet service\",\"Yes\",\"No\",\"No\",\"No\",\"No\",\"No internet service\",\"No\",\"No\",\"No\",\"No internet service\",\"No\",\"No internet service\",\"No\",\"Yes\",\"Yes\",\"No internet service\",\"No\",\"No\",\"No internet service\",\"Yes\",\"No\",\"No internet service\",\"Yes\",\"No\",\"No internet service\",\"Yes\",\"No internet service\",\"No\",\"No internet service\",\"No\",\"Yes\",\"No internet service\",\"No\",\"No internet service\",\"No internet service\",\"No\",\"Yes\",\"Yes\",\"Yes\",\"No internet service\",\"Yes\",\"No internet service\",\"No\",\"No internet service\",\"No internet service\",\"No\",\"No\",\"No internet service\",\"Yes\",\"Yes\",\"Yes\",\"Yes\",\"No\",\"No\",\"Yes\",\"Yes\",\"Yes\",\"Yes\",\"No\",\"Yes\",\"No internet service\",\"Yes\",\"No\",\"No\",\"No internet service\",\"Yes\",\"No internet service\",\"No internet service\",\"No\",\"Yes\",\"No\",\"No internet service\",\"Yes\",\"No\",\"Yes\",\"No internet service\",\"No internet service\",\"Yes\",\"No\",\"No internet service\",\"No internet service\",\"No\",\"No\",\"Yes\",\"No internet service\",\"No internet service\",\"No internet service\",\"No internet service\",\"No internet service\",\"Yes\",\"No\",\"No\",\"No\",\"No\",\"No\",\"No internet service\",\"Yes\",\"No\",\"Yes\",\"No internet service\",\"Yes\",\"No\",\"No\",\"Yes\",\"No internet service\",\"Yes\",\"Yes\",\"Yes\",\"No\",\"No internet service\",\"No\",\"Yes\",\"No internet service\",\"Yes\",\"Yes\",\"No\",\"Yes\",\"No internet service\",\"No\",\"No\",\"No internet service\",\"Yes\",\"Yes\",\"Yes\",\"No\",\"No internet service\",\"Yes\",\"No internet service\",\"No\",\"No\",\"No\",\"No internet service\",\"No\",\"No\",\"No\",\"No internet service\",\"No internet service\",\"Yes\",\"Yes\",\"No\",\"No\",\"No\",\"No\",\"No internet service\",\"No\",\"No\",\"Yes\",\"No internet service\",\"Yes\",\"No\",\"No internet service\",\"No\",\"Yes\",\"Yes\",\"Yes\",\"No\",\"No\",\"Yes\",\"Yes\",\"No\",\"No internet service\",\"No\",\"No\",\"Yes\",\"No internet service\",\"No internet service\",\"No\",\"Yes\",\"No\",\"No\",\"Yes\",\"No\",\"Yes\",\"Yes\",\"No\",\"No internet service\",\"Yes\",\"No\",\"No\",\"No\",\"No\",\"No\",\"No\",\"Yes\",\"Yes\",\"No internet service\",\"Yes\",\"Yes\",\"No\",\"No\",\"Yes\",\"No\",\"No internet service\",\"No internet service\",\"No internet service\",\"No\",\"No\",\"Yes\",\"Yes\",\"No\",\"No internet service\",\"No\",\"No internet service\",\"No\",\"No internet service\",\"No internet service\",\"Yes\",\"No\",\"Yes\",\"No\",\"No\",\"No\",\"No\",\"No\",\"No\",\"No internet service\",\"No\",\"Yes\",\"No\",\"No\",\"No internet service\",\"Yes\",\"No\",\"No internet service\",\"No internet service\",\"No internet service\",\"No\",\"No internet service\",\"Yes\",\"Yes\",\"Yes\",\"No internet service\",\"No\",\"No\",\"No internet service\",\"No\",\"No\",\"No\",\"Yes\",\"No internet service\",\"No\",\"No internet service\",\"Yes\",\"No\",\"No\",\"No internet service\",\"No\",\"No internet service\",\"No internet service\",\"No internet service\",\"No\",\"No\",\"No internet service\",\"No\",\"No internet service\",\"Yes\",\"No\",\"Yes\",\"No\",\"No\",\"No internet service\",\"Yes\",\"No internet service\",\"No\",\"No internet service\",\"No internet service\",\"No\",\"No\",\"Yes\",\"No\",\"Yes\",\"No\",\"Yes\",\"No\",\"Yes\",\"No internet service\",\"No\",\"No internet service\",\"Yes\",\"Yes\",\"No internet service\",\"No\",\"No internet service\",\"Yes\",\"Yes\",\"No internet service\",\"No internet service\",\"No\",\"No\",\"No internet service\",\"No\",\"Yes\",\"No\",\"Yes\",\"No\",\"Yes\",\"Yes\",\"No\",\"Yes\",\"No internet service\",\"No internet service\",\"Yes\",\"Yes\",\"Yes\",\"No\",\"Yes\",\"Yes\",\"Yes\",\"Yes\",\"No\",\"Yes\",\"No internet service\",\"No internet service\",\"Yes\",\"No internet service\",\"No\",\"No internet service\",\"No\",\"No\",\"No\",\"No\",\"Yes\",\"Yes\",\"No\",\"No\",\"No internet service\",\"Yes\",\"No internet service\",\"Yes\",\"No internet service\",\"Yes\",\"No\",\"No internet service\",\"Yes\",\"No internet service\",\"Yes\",\"No internet service\",\"No internet service\",\"Yes\",\"No\",\"Yes\",\"No\",\"No\",\"No\",\"No internet service\",\"Yes\",\"No internet service\",\"No\",\"Yes\",\"Yes\",\"Yes\",\"No\",\"No internet service\",\"No\",\"No\",\"Yes\",\"No\",\"Yes\",\"No\",\"No\",\"Yes\",\"No internet service\",\"No\",\"No\",\"No\",\"No\",\"No\",\"No internet service\",\"Yes\",\"No internet service\",\"No\",\"No internet service\",\"No\",\"No\",\"No\",\"No internet service\",\"No internet service\",\"No internet service\",\"No internet service\",\"Yes\",\"No internet service\",\"No\",\"No internet service\",\"No internet service\",\"No\",\"Yes\",\"Yes\",\"No\",\"Yes\",\"Yes\",\"Yes\",\"Yes\",\"Yes\",\"No\",\"No internet service\",\"No\",\"Yes\",\"No\",\"No\",\"No\",\"Yes\",\"No\",\"No\",\"No\",\"No\",\"Yes\",\"No internet service\",\"No\",\"No\",\"Yes\",\"No\",\"Yes\",\"No\",\"No\",\"No\",\"No internet service\",\"No\",\"No internet service\",\"No\",\"No\",\"No\",\"No internet service\",\"No internet service\",\"No internet service\",\"No internet service\",\"No\",\"Yes\",\"No\",\"No\",\"No\",\"No\",\"Yes\",\"No\",\"No internet service\",\"Yes\",\"No\",\"Yes\",\"Yes\",\"No internet service\",\"No internet service\",\"Yes\",\"No\",\"Yes\",\"No\",\"No internet service\",\"Yes\",\"No\",\"No internet service\",\"No internet service\",\"Yes\",\"Yes\",\"No\",\"No\",\"No\",\"No\",\"No\",\"Yes\",\"No internet service\",\"No\",\"No\",\"No internet service\",\"No\",\"No internet service\",\"No\",\"No internet service\",\"No internet service\",\"No\",\"No\",\"No\",\"No\",\"No\",\"No\",\"No internet service\",\"No internet service\",\"No internet service\",\"No\",\"No\",\"No internet service\",\"Yes\",\"Yes\",\"Yes\",\"No\",\"No\",\"No\",\"Yes\",\"Yes\",\"Yes\",\"No\",\"Yes\",\"Yes\",\"No internet service\",\"Yes\",\"No internet service\",\"No\",\"Yes\",\"Yes\",\"Yes\",\"No\",\"No\",\"No\",\"No internet service\",\"No internet service\",\"No internet service\",\"Yes\",\"No\",\"Yes\",\"Yes\",\"No\",\"No\",\"Yes\",\"No internet service\",\"No\",\"No internet service\",\"Yes\",\"Yes\",\"No internet service\",\"Yes\",\"No\",\"Yes\",\"No\",\"No internet service\",\"No\",\"Yes\",\"Yes\",\"No\",\"No\",\"No internet service\",\"Yes\",\"No\",\"No internet service\",\"No internet service\",\"Yes\",\"Yes\",\"No internet service\",\"Yes\",\"Yes\",\"No\",\"No\",\"No internet service\",\"No\",\"Yes\",\"No internet service\",\"No internet service\",\"No internet service\",\"No internet service\",\"Yes\",\"No internet service\",\"No\",\"Yes\",\"No\",\"No\",\"No internet service\",\"No internet service\",\"Yes\",\"No\",\"No\",\"No\",\"Yes\",\"No\",\"Yes\",\"No internet service\",\"No\",\"Yes\",\"No\",\"Yes\",\"No internet service\",\"No\",\"No\",\"No internet service\",\"No internet service\",\"Yes\",\"No internet service\",\"No internet service\",\"No\",\"No internet service\",\"No internet service\",\"Yes\",\"No internet service\",\"No internet service\",\"No\",\"Yes\",\"No\",\"Yes\",\"Yes\",\"Yes\",\"No\",\"No\",\"Yes\",\"No internet service\",\"Yes\",\"Yes\",\"No internet service\",\"No internet service\",\"No internet service\",\"No\",\"Yes\",\"No\",\"No internet service\",\"Yes\",\"No internet service\",\"No internet service\",\"No\",\"No internet service\",\"No internet service\",\"No internet service\",\"Yes\",\"Yes\",\"Yes\",\"No internet service\",\"No internet service\",\"No\",\"No\",\"No\",\"Yes\",\"Yes\",\"Yes\",\"No\",\"No\",\"Yes\",\"No internet service\",\"No\",\"No internet service\",\"No\",\"Yes\",\"No internet service\",\"No internet service\",\"Yes\",\"No internet service\",\"No internet service\",\"Yes\",\"No internet service\",\"No\",\"Yes\",\"No\",\"No internet service\",\"No\",\"No internet service\",\"No\",\"Yes\",\"No\",\"No\",\"Yes\",\"No\",\"No\",\"No internet service\",\"No\",\"Yes\",\"No\",\"No internet service\",\"No\",\"Yes\",\"No\",\"No internet service\",\"Yes\",\"Yes\",\"Yes\",\"Yes\",\"No\",\"Yes\",\"No internet service\",\"Yes\",\"Yes\",\"Yes\",\"No\",\"No\",\"No internet service\",\"Yes\",\"Yes\",\"No internet service\",\"Yes\",\"No\",\"No\",\"No\",\"Yes\",\"No internet service\",\"Yes\",\"Yes\",\"No internet service\",\"No internet service\",\"Yes\",\"No\",\"No\",\"Yes\",\"Yes\",\"Yes\",\"No\",\"No\",\"No\",\"No\",\"No\",\"No internet service\",\"No\",\"Yes\",\"No\",\"Yes\",\"No internet service\",\"No\",\"No\",\"No internet service\",\"No internet service\",\"No internet service\",\"No internet service\",\"No internet service\",\"No internet service\",\"No internet service\",\"No\",\"No internet service\",\"No internet service\",\"No\",\"No\",\"No internet service\",\"No\",\"No\",\"No\",\"Yes\",\"Yes\",\"Yes\",\"Yes\",\"No\",\"No\",\"No\",\"Yes\",\"No\",\"No internet service\",\"Yes\",\"No internet service\",\"No internet service\",\"No internet service\",\"No\",\"Yes\",\"Yes\",\"No\",\"No\",\"No\",\"Yes\",\"No\",\"No internet service\",\"Yes\",\"No\",\"No\",\"No\",\"No\",\"No\",\"No internet service\",\"No\",\"No\",\"No\",\"No\",\"No\",\"Yes\",\"Yes\",\"No internet service\",\"No\",\"Yes\",\"Yes\",\"No\",\"No\",\"No internet service\",\"No\",\"No\",\"No internet service\",\"No\",\"No\",\"No\",\"Yes\",\"No\",\"Yes\",\"No\",\"Yes\",\"No\",\"No\",\"No internet service\",\"Yes\",\"Yes\",\"No internet service\",\"No\",\"Yes\",\"No\",\"Yes\",\"No\",\"Yes\",\"No\",\"Yes\",\"Yes\",\"No\",\"Yes\",\"No\",\"Yes\",\"Yes\",\"No\",\"No\",\"No internet service\",\"No internet service\",\"No internet service\",\"No\",\"No internet service\",\"Yes\",\"Yes\",\"No internet service\",\"No\",\"No\",\"Yes\",\"Yes\",\"Yes\",\"No\",\"Yes\",\"No internet service\",\"Yes\",\"Yes\",\"No\",\"No internet service\",\"Yes\",\"Yes\",\"No internet service\",\"No internet service\",\"Yes\",\"No\",\"No\",\"Yes\",\"No\",\"No internet service\",\"No internet service\",\"No\",\"No\",\"No internet service\",\"No\",\"No\",\"No\",\"Yes\",\"Yes\",\"No\",\"No\",\"No\",\"No internet service\",\"Yes\",\"No\",\"No\",\"Yes\",\"Yes\",\"No internet service\",\"No\",\"No\",\"Yes\",\"No internet service\",\"Yes\",\"Yes\",\"Yes\",\"No internet service\",\"No\",\"No\",\"No internet service\",\"Yes\",\"No\",\"Yes\",\"No\",\"No internet service\",\"Yes\",\"No internet service\",\"No\",\"No internet service\",\"No\",\"No internet service\",\"Yes\",\"No\",\"No\",\"Yes\",\"Yes\",\"Yes\",\"Yes\",\"No internet service\",\"No internet service\",\"No\",\"Yes\",\"No\",\"Yes\",\"No\",\"No\",\"No internet service\",\"No\",\"No\",\"No internet service\",\"No internet service\",\"Yes\",\"No\",\"No internet service\",\"Yes\",\"No\",\"Yes\",\"Yes\",\"No\",\"No internet service\",\"No\",\"Yes\",\"Yes\",\"No\",\"Yes\",\"Yes\",\"No internet service\",\"No\",\"No\",\"No internet service\",\"No internet service\",\"No\",\"No internet service\",\"Yes\",\"Yes\",\"Yes\",\"No\",\"No\",\"No internet service\",\"Yes\",\"No internet service\",\"Yes\",\"Yes\",\"No internet service\",\"No\",\"No\",\"No\",\"No\",\"No\",\"No internet service\",\"No\",\"No internet service\",\"Yes\",\"No\",\"No internet service\",\"No\",\"No\",\"No\",\"No\",\"Yes\",\"Yes\",\"No\",\"No internet service\",\"Yes\",\"No\",\"No\",\"No\",\"Yes\",\"No internet service\",\"No internet service\",\"No\",\"No\",\"Yes\",\"Yes\",\"Yes\",\"No\",\"Yes\",\"No\",\"No internet service\",\"No internet service\",\"Yes\",\"No\",\"Yes\",\"No\",\"Yes\",\"No internet service\",\"Yes\",\"No\",\"No internet service\",\"Yes\",\"No internet service\",\"No\",\"No internet service\",\"No\",\"No internet service\",\"No\",\"No\",\"No\",\"Yes\",\"No\",\"No internet service\",\"No\",\"Yes\",\"Yes\",\"No internet service\",\"No\",\"Yes\",\"No\",\"No internet service\",\"No\",\"No internet service\",\"Yes\",\"No\",\"Yes\",\"No internet service\",\"No internet service\",\"Yes\",\"No\",\"No internet service\",\"No\",\"No\",\"Yes\",\"No internet service\",\"Yes\",\"No\",\"Yes\",\"No internet service\",\"No internet service\",\"No internet service\",\"Yes\",\"Yes\",\"No internet service\",\"Yes\",\"No\",\"No internet service\",\"No internet service\",\"No\",\"Yes\",\"No internet service\",\"No internet service\",\"No internet service\",\"No\",\"Yes\",\"No\",\"No\",\"Yes\",\"No internet service\",\"No\",\"Yes\",\"Yes\",\"No internet service\",\"No\",\"No\",\"No internet service\",\"Yes\",\"Yes\",\"Yes\",\"Yes\",\"Yes\",\"Yes\",\"Yes\",\"No\",\"No\",\"No\",\"Yes\",\"Yes\",\"No\",\"No internet service\",\"Yes\",\"No\",\"No\",\"Yes\",\"No internet service\",\"No internet service\",\"No internet service\",\"No internet service\",\"No\",\"Yes\",\"Yes\",\"No internet service\",\"No\",\"No internet service\",\"No internet service\",\"No internet service\",\"Yes\",\"No\",\"No internet service\",\"No\",\"Yes\",\"No internet service\",\"Yes\",\"No\",\"Yes\",\"No internet service\",\"Yes\",\"Yes\",\"No\",\"No\",\"Yes\",\"No internet service\",\"No internet service\",\"Yes\",\"Yes\",\"Yes\",\"No\",\"No internet service\",\"Yes\",\"No\",\"No internet service\",\"No\",\"No\",\"Yes\",\"No\",\"No\",\"No internet service\",\"No\",\"No internet service\",\"Yes\",\"Yes\",\"No internet service\",\"No internet service\",\"Yes\",\"No internet service\",\"No internet service\",\"No internet service\",\"No\",\"No internet service\",\"No\",\"No internet service\",\"No internet service\",\"No internet service\",\"Yes\",\"No internet service\",\"No\",\"Yes\",\"Yes\",\"No\",\"No internet service\",\"Yes\",\"Yes\",\"No internet service\",\"No\",\"No\",\"No internet service\",\"No\",\"No\",\"No internet service\",\"Yes\",\"Yes\",\"No\",\"Yes\",\"Yes\",\"No\",\"No\",\"No\",\"No internet service\",\"No\",\"No\",\"Yes\",\"No internet service\",\"Yes\",\"Yes\",\"No\",\"No\",\"Yes\",\"No\",\"No\",\"No\",\"Yes\",\"Yes\",\"No\",\"No internet service\",\"Yes\",\"No\",\"Yes\",\"Yes\",\"Yes\",\"No internet service\",\"No\",\"No internet service\",\"No\",\"No internet service\",\"No internet service\",\"Yes\",\"No\",\"Yes\",\"Yes\",\"No internet service\",\"No internet service\",\"Yes\",\"No\",\"Yes\",\"No\",\"Yes\",\"No\",\"No\",\"Yes\",\"No\",\"Yes\",\"Yes\",\"No\",\"No\",\"No\",\"No\",\"No internet service\",\"No internet service\",\"No internet service\",\"No\",\"Yes\",\"Yes\",\"No\",\"No\",\"No\",\"No\",\"No\",\"No internet service\",\"No internet service\",\"No internet service\",\"Yes\",\"Yes\",\"No internet service\",\"Yes\",\"Yes\",\"Yes\",\"No\",\"No internet service\",\"No internet service\",\"Yes\",\"No\",\"Yes\",\"No internet service\",\"No\",\"No\",\"No internet service\",\"No\",\"Yes\",\"Yes\",\"No\",\"Yes\",\"No\",\"No internet service\",\"Yes\",\"No internet service\",\"Yes\",\"Yes\",\"No internet service\",\"No\",\"No\",\"No internet service\",\"No\",\"No internet service\",\"Yes\",\"No\",\"Yes\",\"No\",\"No internet service\",\"Yes\",\"No\",\"No\",\"No\",\"No\",\"Yes\",\"No internet service\",\"No\",\"No\",\"No internet service\",\"No\",\"Yes\",\"Yes\",\"No\",\"Yes\",\"No internet service\",\"Yes\",\"Yes\",\"No\",\"No internet service\",\"No internet service\",\"No internet service\",\"No\",\"Yes\",\"No\",\"Yes\",\"Yes\",\"No internet service\",\"No\",\"Yes\",\"Yes\",\"No internet service\",\"Yes\",\"No\",\"Yes\",\"No internet service\",\"Yes\",\"No\",\"Yes\",\"No internet service\",\"No\",\"Yes\",\"Yes\",\"No\",\"No\",\"No\",\"Yes\",\"No internet service\",\"Yes\",\"Yes\",\"No\",\"Yes\",\"Yes\",\"No\",\"No\",\"No\",\"No\",\"Yes\",\"No\",\"No\",\"Yes\",\"No\",\"Yes\",\"No internet service\",\"No\",\"No\",\"No internet service\",\"No internet service\",\"Yes\",\"Yes\",\"Yes\",\"Yes\",\"No\",\"No\",\"No\",\"No\",\"No\",\"No\",\"No\",\"No internet service\",\"No\",\"Yes\",\"Yes\",\"Yes\",\"No\",\"Yes\",\"No internet service\",\"Yes\",\"Yes\",\"Yes\",\"No internet service\",\"No\",\"No\",\"No\",\"No internet service\",\"No\",\"No internet service\",\"No\",\"Yes\",\"Yes\",\"Yes\",\"No internet service\",\"No\",\"No\",\"Yes\",\"Yes\",\"Yes\",\"No\",\"No internet service\",\"No\",\"Yes\",\"Yes\",\"No internet service\",\"No\",\"Yes\",\"No\",\"Yes\",\"No\",\"Yes\",\"No\",\"Yes\",\"Yes\",\"No internet service\",\"No\",\"No\",\"No\",\"No internet service\",\"No\",\"No internet service\",\"No\",\"No\",\"Yes\",\"Yes\",\"No internet service\",\"Yes\",\"No\",\"No\",\"Yes\",\"No internet service\",\"No\",\"No\",\"Yes\",\"Yes\",\"Yes\",\"No internet service\",\"Yes\",\"No internet service\",\"No internet service\",\"No\",\"Yes\",\"No\",\"No\",\"Yes\",\"Yes\",\"No\",\"No\",\"No\",\"No\",\"Yes\",\"No internet service\",\"No internet service\",\"No\",\"No\",\"Yes\",\"Yes\",\"No\",\"No\",\"Yes\",\"No internet service\",\"Yes\",\"No\",\"No internet service\",\"No\",\"No internet service\",\"No\",\"Yes\",\"Yes\",\"Yes\",\"No\",\"Yes\",\"No internet service\",\"No internet service\",\"Yes\",\"No\",\"No\",\"Yes\",\"No\",\"No internet service\",\"No\",\"No\",\"Yes\",\"Yes\",\"No\",\"No\",\"No\",\"No internet service\",\"No internet service\",\"No\",\"No\",\"No\",\"No\",\"Yes\",\"No internet service\",\"No\",\"Yes\",\"No\",\"Yes\",\"Yes\",\"No\",\"No internet service\",\"Yes\",\"No\",\"Yes\",\"No internet service\",\"No\",\"No\",\"No internet service\",\"No\",\"Yes\",\"No\",\"Yes\",\"Yes\",\"No internet service\",\"No\",\"No\",\"No\",\"No\",\"No\",\"No\",\"No internet service\",\"Yes\",\"No\",\"No\",\"No\",\"No\",\"Yes\",\"No\",\"No\",\"Yes\",\"No\",\"No internet service\",\"No internet service\",\"No\",\"No\",\"No\",\"Yes\",\"No\",\"Yes\",\"No internet service\",\"Yes\",\"No\",\"Yes\",\"Yes\",\"Yes\",\"Yes\",\"No internet service\",\"No internet service\",\"No internet service\",\"Yes\",\"No\",\"No internet service\",\"No\",\"No internet service\",\"No\",\"No\",\"Yes\",\"Yes\",\"No internet service\",\"Yes\",\"No\",\"No\",\"Yes\",\"No internet service\",\"No internet service\",\"Yes\",\"No\",\"No internet service\",\"No\",\"Yes\",\"No\",\"Yes\",\"No internet service\",\"Yes\",\"No\",\"No internet service\",\"No internet service\",\"No\",\"No internet service\",\"No\",\"No\",\"No internet service\",\"No internet service\",\"No internet service\",\"No\",\"No internet service\",\"No internet service\",\"No internet service\",\"No\",\"No internet service\",\"Yes\",\"No\",\"Yes\",\"No\",\"No\",\"No\",\"Yes\",\"No\",\"No\",\"No internet service\",\"No\",\"No\",\"Yes\",\"No internet service\",\"No\",\"No internet service\",\"No\",\"No\",\"Yes\",\"No\",\"No internet service\",\"No internet service\",\"No internet service\",\"No\",\"No internet service\",\"No\",\"No\",\"Yes\",\"No\",\"No\",\"Yes\",\"Yes\",\"No internet service\",\"No\",\"No internet service\",\"No\",\"No\",\"No\",\"Yes\",\"No\",\"No\",\"No\",\"No internet service\",\"Yes\",\"No\",\"Yes\",\"No internet service\",\"Yes\",\"No\",\"Yes\",\"Yes\",\"No\",\"Yes\",\"Yes\",\"Yes\",\"Yes\",\"No\",\"Yes\",\"Yes\",\"No internet service\",\"No\",\"No\",\"No internet service\",\"No\",\"No internet service\",\"Yes\",\"Yes\",\"Yes\",\"No internet service\",\"Yes\",\"No\",\"No\",\"No internet service\",\"Yes\",\"No\",\"No\",\"No internet service\",\"Yes\",\"No internet service\",\"No\",\"Yes\",\"Yes\",\"Yes\",\"No\",\"No internet service\",\"Yes\",\"Yes\",\"Yes\",\"No\",\"No\",\"No\",\"Yes\",\"No\",\"Yes\",\"No internet service\",\"No internet service\",\"No\",\"No internet service\",\"Yes\",\"Yes\",\"No\",\"Yes\",\"No internet service\",\"Yes\",\"No internet service\",\"No\",\"No\",\"No internet service\",\"Yes\",\"No\",\"No internet service\",\"No\",\"Yes\",\"No\",\"No internet service\",\"No internet service\",\"No\",\"Yes\",\"Yes\",\"Yes\",\"No\",\"Yes\",\"No internet service\",\"No\",\"Yes\",\"No\",\"Yes\",\"No\",\"Yes\",\"No\",\"Yes\",\"Yes\",\"No\",\"No\",\"No internet service\",\"No internet service\",\"Yes\",\"Yes\",\"No internet service\",\"No internet service\",\"No internet service\",\"No internet service\",\"No internet service\",\"Yes\",\"No\",\"No internet service\",\"No\",\"No internet service\",\"Yes\",\"No internet service\",\"No internet service\",\"No internet service\",\"No\",\"No internet service\",\"Yes\",\"No\",\"Yes\",\"No internet service\",\"Yes\",\"Yes\",\"No internet service\",\"Yes\",\"No\",\"No\",\"Yes\",\"No\",\"No internet service\",\"No internet service\",\"Yes\",\"Yes\",\"No internet service\",\"Yes\",\"Yes\",\"No\",\"No\",\"No internet service\",\"No internet service\",\"No internet service\",\"No internet service\",\"No\",\"Yes\",\"No internet service\",\"No\",\"Yes\",\"No\",\"No\",\"No\",\"No\",\"No internet service\",\"No\",\"Yes\",\"No\",\"No\",\"No\",\"Yes\",\"No\",\"No\",\"Yes\",\"No internet service\",\"No\",\"Yes\",\"No internet service\",\"No\",\"Yes\",\"No internet service\",\"No\",\"No\",\"No internet service\",\"Yes\",\"No\",\"No\",\"Yes\",\"No\",\"No\",\"Yes\",\"No internet service\",\"No\",\"No\",\"No internet service\",\"Yes\",\"No\",\"No\",\"No internet service\",\"No\",\"No internet service\",\"No\",\"No internet service\",\"No internet service\",\"Yes\",\"Yes\",\"Yes\",\"Yes\",\"No\",\"No internet service\",\"Yes\",\"No\",\"No internet service\",\"Yes\",\"No internet service\",\"No internet service\",\"Yes\",\"No\",\"No internet service\",\"No\",\"Yes\",\"Yes\",\"Yes\",\"No\",\"No internet service\",\"No internet service\",\"No\",\"No internet service\",\"No\",\"Yes\",\"Yes\",\"No\",\"No internet service\",\"No internet service\",\"No\",\"No internet service\",\"Yes\",\"No\",\"No\",\"No internet service\",\"No\",\"No\",\"No\",\"No\",\"No internet service\",\"No\",\"No internet service\",\"No internet service\",\"Yes\",\"No\",\"Yes\",\"No\",\"No internet service\",\"No internet service\",\"No\",\"No\",\"Yes\",\"No internet service\",\"Yes\",\"Yes\",\"No\",\"Yes\",\"Yes\",\"Yes\",\"Yes\",\"Yes\",\"No internet service\",\"No\",\"No\",\"No\",\"No\",\"No internet service\",\"No internet service\",\"Yes\",\"No internet service\",\"No\",\"No\",\"No\",\"No internet service\",\"No\",\"No\",\"No internet service\",\"Yes\",\"Yes\",\"No\",\"Yes\",\"Yes\",\"No internet service\",\"Yes\",\"Yes\",\"Yes\",\"No internet service\",\"Yes\",\"No\",\"No\",\"No\",\"No\",\"No\",\"No\",\"No internet service\",\"No internet service\",\"No\",\"No internet service\",\"Yes\",\"Yes\",\"No\",\"No\",\"No\",\"No\",\"No internet service\",\"Yes\",\"No\",\"No internet service\",\"Yes\",\"Yes\",\"No\",\"No\",\"No\",\"No internet service\",\"No\",\"No\",\"No internet service\",\"No\",\"No\",\"Yes\",\"No internet service\",\"No\",\"Yes\",\"Yes\",\"Yes\",\"No\",\"No\",\"No\",\"Yes\",\"No internet service\",\"Yes\",\"Yes\",\"Yes\",\"Yes\",\"No\",\"Yes\",\"Yes\",\"No internet service\",\"Yes\",\"No\",\"No\",\"No internet service\",\"No\",\"No internet service\",\"No\",\"Yes\",\"No\",\"No internet service\",\"No\",\"Yes\",\"No\",\"No internet service\",\"No internet service\",\"No internet service\",\"Yes\",\"Yes\",\"No internet service\",\"No\",\"No\",\"Yes\",\"Yes\",\"No\",\"Yes\",\"No internet service\",\"Yes\",\"No\",\"Yes\",\"Yes\",\"No\",\"Yes\",\"Yes\",\"No\",\"No internet service\",\"Yes\",\"Yes\",\"No\",\"No internet service\",\"No\",\"Yes\",\"No internet service\",\"No\",\"Yes\",\"Yes\",\"No\",\"No\",\"No\",\"Yes\",\"Yes\",\"No\",\"Yes\",\"No internet service\",\"Yes\",\"No internet service\",\"No\",\"Yes\",\"Yes\",\"No internet service\",\"No\",\"No internet service\",\"No\",\"Yes\",\"No\",\"No internet service\",\"No\",\"No\",\"No internet service\",\"No\",\"Yes\",\"Yes\",\"No\",\"No\",\"Yes\",\"Yes\",\"No internet service\",\"No\",\"No internet service\",\"No\",\"No\",\"Yes\",\"Yes\",\"No\",\"No\",\"Yes\",\"Yes\",\"No\",\"Yes\",\"No internet service\",\"No\",\"No\",\"Yes\",\"Yes\",\"No\",\"Yes\",\"No\",\"Yes\",\"No internet service\",\"No internet service\",\"Yes\",\"Yes\",\"No internet service\",\"Yes\",\"Yes\",\"No internet service\",\"No internet service\",\"Yes\",\"Yes\",\"No\",\"No\",\"No\",\"No internet service\",\"No internet service\",\"No\",\"No internet service\",\"No\",\"No\",\"No\",\"Yes\",\"No\",\"Yes\",\"No internet service\",\"No\",\"No\",\"No internet service\",\"No internet service\",\"No internet service\",\"Yes\",\"No internet service\",\"No internet service\",\"No\",\"Yes\",\"No\",\"No\",\"No internet service\",\"No\",\"No\",\"No\",\"No\",\"Yes\",\"No internet service\",\"Yes\",\"No\",\"No internet service\",\"No\",\"No internet service\",\"No internet service\",\"No\",\"No\",\"Yes\",\"Yes\",\"Yes\",\"No internet service\",\"Yes\",\"No internet service\",\"No\",\"Yes\",\"Yes\",\"Yes\",\"No\",\"No internet service\",\"No\",\"No internet service\",\"No\",\"No\",\"No\",\"No internet service\",\"Yes\",\"Yes\",\"Yes\",\"No\",\"No\",\"No\",\"Yes\",\"Yes\",\"No internet service\",\"Yes\",\"No\",\"Yes\",\"No internet service\",\"No\",\"No\",\"No internet service\",\"Yes\",\"No\",\"No internet service\",\"No internet service\",\"No\",\"No internet service\",\"No\",\"No\",\"No\",\"No\",\"No\",\"Yes\",\"Yes\",\"No\",\"No\",\"No\",\"No\",\"Yes\",\"No internet service\",\"Yes\",\"No\",\"No internet service\",\"No\",\"No internet service\",\"Yes\",\"Yes\",\"Yes\",\"Yes\",\"Yes\",\"Yes\",\"No\",\"No internet service\",\"No internet service\",\"No\",\"Yes\",\"Yes\",\"No internet service\",\"No\",\"Yes\",\"No\",\"No\",\"No\",\"Yes\",\"Yes\",\"No internet service\",\"No internet service\",\"Yes\",\"Yes\",\"No\",\"Yes\",\"No\",\"Yes\",\"No\",\"Yes\",\"Yes\",\"No\",\"Yes\",\"Yes\",\"No internet service\",\"No\",\"No\",\"Yes\",\"No\",\"No\",\"No\",\"No internet service\",\"No internet service\",\"No\",\"No\",\"Yes\",\"Yes\",\"No internet service\",\"Yes\",\"No\",\"No internet service\",\"No internet service\",\"No\",\"No\",\"No\",\"Yes\",\"No\",\"Yes\",\"No internet service\",\"No\",\"No\",\"No\",\"No internet service\",\"No internet service\",\"Yes\",\"No internet service\",\"Yes\",\"No internet service\",\"No internet service\",\"No\",\"No\",\"No\",\"No\",\"No\",\"No\",\"No\",\"No\",\"No\",\"No\",\"No internet service\",\"No\",\"Yes\",\"No internet service\",\"No internet service\",\"Yes\",\"No\",\"Yes\",\"No\",\"No internet service\",\"Yes\",\"No internet service\",\"No\",\"No internet service\",\"No\",\"No internet service\",\"Yes\",\"Yes\",\"Yes\",\"Yes\",\"No internet service\",\"Yes\",\"No\",\"No\",\"No internet service\",\"No\",\"No internet service\",\"Yes\",\"No\",\"No\",\"No\",\"No\",\"Yes\",\"No\",\"No internet service\",\"Yes\",\"Yes\",\"No\",\"No\",\"No internet service\",\"Yes\",\"No\",\"No\",\"No\",\"No internet service\",\"Yes\",\"No\",\"Yes\",\"Yes\",\"Yes\",\"Yes\",\"No\",\"Yes\",\"Yes\",\"Yes\",\"Yes\",\"No\",\"No\",\"Yes\",\"No internet service\",\"Yes\",\"No\",\"No\",\"Yes\",\"Yes\",\"No internet service\",\"No internet service\",\"No\",\"No internet service\",\"No internet service\",\"No internet service\",\"No\",\"Yes\",\"No\",\"No\",\"No internet service\",\"Yes\",\"No\",\"Yes\",\"No\",\"No\",\"No internet service\",\"Yes\",\"No internet service\",\"Yes\",\"Yes\",\"No\",\"No\",\"No\",\"No\",\"No internet service\",\"No internet service\",\"No internet service\",\"No internet service\",\"No internet service\",\"No internet service\",\"Yes\",\"No\",\"No\",\"No\",\"Yes\",\"Yes\",\"Yes\",\"Yes\",\"No\",\"No\",\"Yes\",\"No\",\"Yes\",\"No internet service\",\"No\",\"No internet service\",\"No internet service\",\"No internet service\",\"Yes\",\"Yes\",\"No internet service\",\"No\",\"Yes\",\"No internet service\",\"No\",\"No\",\"No\",\"Yes\",\"Yes\",\"Yes\",\"No internet service\",\"Yes\",\"Yes\",\"Yes\",\"No\",\"No internet service\",\"Yes\",\"Yes\",\"Yes\",\"No\",\"No\",\"Yes\",\"No internet service\",\"No\",\"Yes\",\"No\",\"No\",\"Yes\",\"Yes\",\"No internet service\",\"No\",\"No internet service\",\"No\",\"No internet service\",\"Yes\",\"No\",\"Yes\",\"No\",\"No\",\"No internet service\",\"No\",\"No internet service\",\"No\",\"No internet service\",\"No internet service\",\"No internet service\",\"Yes\",\"Yes\",\"No\",\"Yes\",\"Yes\",\"No\",\"No\",\"No internet service\",\"No\",\"Yes\",\"No\",\"Yes\",\"Yes\",\"No internet service\",\"No internet service\",\"Yes\",\"No\",\"No\",\"No\",\"No\",\"No\",\"No\",\"No\",\"Yes\",\"Yes\",\"Yes\",\"Yes\",\"No internet service\",\"Yes\",\"No\",\"No internet service\",\"Yes\",\"No\",\"No\",\"Yes\",\"Yes\",\"Yes\",\"No internet service\",\"No\",\"No\",\"No internet service\",\"Yes\",\"Yes\",\"Yes\",\"No internet service\",\"No internet service\",\"Yes\",\"No\",\"Yes\",\"No\",\"Yes\",\"No\",\"No\",\"No\",\"No\",\"No internet service\",\"No\",\"No internet service\",\"Yes\",\"No\",\"No internet service\",\"No\",\"Yes\",\"No internet service\",\"Yes\",\"No internet service\",\"No\",\"No internet service\",\"Yes\",\"No\",\"Yes\",\"Yes\",\"No internet service\",\"Yes\",\"No internet service\",\"No internet service\",\"No internet service\",\"Yes\",\"Yes\",\"No\",\"Yes\",\"Yes\",\"Yes\",\"No\",\"No\",\"Yes\",\"No internet service\",\"No internet service\",\"Yes\",\"No internet service\",\"No\",\"No\",\"No\",\"Yes\",\"No internet service\",\"Yes\",\"No\",\"No internet service\",\"No\",\"No\",\"No\",\"No internet service\",\"No internet service\",\"No\",\"No internet service\",\"No internet service\",\"Yes\",\"Yes\",\"No internet service\",\"No internet service\",\"No\",\"No internet service\",\"No internet service\",\"No\",\"Yes\",\"No\",\"Yes\",\"No internet service\",\"No internet service\",\"No\",\"Yes\",\"Yes\",\"Yes\",\"No\",\"No internet service\",\"No internet service\",\"Yes\",\"No internet service\",\"Yes\",\"No\",\"Yes\",\"No internet service\",\"No\",\"Yes\",\"No\",\"Yes\",\"No internet service\",\"No\",\"No internet service\",\"No\",\"Yes\",\"Yes\",\"No\",\"No\",\"No internet service\",\"Yes\",\"No\",\"Yes\",\"No\",\"No\",\"No\",\"Yes\",\"No\",\"Yes\",\"No\",\"No\",\"Yes\",\"Yes\",\"No\",\"No\",\"Yes\",\"No\",\"No internet service\",\"Yes\",\"Yes\",\"No\",\"No internet service\",\"No\",\"No\",\"No\",\"Yes\",\"No\",\"No internet service\",\"Yes\",\"No internet service\",\"No\",\"No\",\"Yes\",\"Yes\",\"No internet service\",\"No\",\"No\",\"No internet service\",\"Yes\",\"No\",\"No internet service\",\"No\",\"No internet service\",\"No\",\"Yes\",\"No internet service\",\"No\",\"No internet service\",\"No internet service\",\"No\",\"No\",\"No internet service\",\"Yes\",\"No\",\"No\",\"No internet service\",\"Yes\",\"No\",\"Yes\",\"No\",\"No\",\"No internet service\",\"No\",\"No\",\"Yes\",\"No\",\"No\",\"No internet service\",\"Yes\",\"No internet service\",\"No internet service\",\"No\",\"No internet service\",\"No\",\"No\",\"No internet service\",\"Yes\",\"No\",\"No internet service\",\"No\",\"No internet service\",\"No internet service\",\"Yes\",\"No internet service\",\"No\",\"No\",\"Yes\",\"No\",\"Yes\",\"No\",\"Yes\",\"Yes\",\"Yes\",\"No\",\"Yes\",\"Yes\",\"No\",\"Yes\",\"No\",\"No\",\"No\",\"No internet service\",\"No\",\"Yes\",\"Yes\",\"No internet service\",\"No internet service\",\"No internet service\",\"No internet service\",\"Yes\",\"Yes\",\"No\",\"No internet service\",\"No\",\"No internet service\",\"No internet service\",\"Yes\",\"No internet service\",\"No\",\"No internet service\",\"No\",\"Yes\",\"Yes\",\"Yes\",\"No internet service\",\"Yes\",\"No\",\"No internet service\",\"Yes\",\"No internet service\",\"No\",\"No\",\"No\",\"No internet service\",\"Yes\",\"Yes\",\"Yes\",\"No internet service\",\"No internet service\",\"No internet service\",\"No internet service\",\"Yes\",\"Yes\",\"No\",\"Yes\",\"Yes\",\"Yes\",\"Yes\",\"Yes\",\"No internet service\",\"No\",\"No\",\"Yes\",\"Yes\",\"No internet service\",\"No\",\"Yes\",\"No internet service\",\"No\",\"No internet service\",\"Yes\",\"No\",\"Yes\",\"No\",\"No\",\"No internet service\",\"No\",\"No internet service\",\"No internet service\",\"No internet service\",\"No internet service\",\"Yes\",\"Yes\",\"No internet service\",\"Yes\",\"No\",\"No internet service\",\"No\",\"Yes\",\"No internet service\",\"Yes\",\"Yes\",\"No internet service\",\"No\",\"No internet service\",\"Yes\",\"No\",\"Yes\",\"No\",\"Yes\",\"Yes\",\"No\",\"Yes\",\"Yes\",\"Yes\",\"No\",\"Yes\",\"No internet service\",\"No internet service\",\"No\",\"Yes\",\"Yes\",\"Yes\",\"Yes\",\"No internet service\",\"Yes\",\"Yes\",\"Yes\",\"No internet service\",\"No internet service\",\"Yes\",\"No\",\"No\",\"Yes\",\"Yes\",\"Yes\",\"Yes\",\"No internet service\",\"No\",\"No\",\"Yes\",\"No internet service\",\"No\",\"No internet service\",\"Yes\",\"No internet service\",\"No internet service\",\"Yes\",\"No internet service\",\"No\",\"Yes\",\"No\",\"Yes\",\"No\",\"Yes\",\"No\",\"No\",\"Yes\",\"No internet service\",\"No\",\"No\",\"No\",\"No internet service\",\"No\",\"Yes\",\"No\",\"No\",\"Yes\",\"No\",\"Yes\",\"No\",\"No internet service\",\"No\",\"Yes\",\"No internet service\",\"Yes\",\"No\",\"No internet service\",\"No\",\"No internet service\",\"No\",\"Yes\",\"No\",\"No\",\"No\",\"Yes\",\"No\",\"Yes\",\"No\",\"Yes\",\"Yes\",\"No\",\"No\",\"No\",\"No\",\"No\",\"Yes\",\"No\",\"Yes\",\"No internet service\",\"No\",\"Yes\",\"Yes\",\"Yes\",\"No internet service\",\"Yes\",\"No internet service\",\"No\",\"Yes\",\"Yes\",\"Yes\",\"No internet service\",\"Yes\",\"No\",\"No\",\"No\",\"No\",\"No\",\"No internet service\",\"No internet service\",\"No\",\"Yes\",\"Yes\",\"No\",\"No internet service\",\"No internet service\",\"No\",\"No internet service\",\"No\",\"No\",\"Yes\",\"No\",\"No\",\"Yes\",\"No\",\"No internet service\",\"No internet service\",\"Yes\",\"Yes\",\"No internet service\",\"No internet service\",\"No internet service\",\"No internet service\",\"Yes\",\"No internet service\",\"No\",\"Yes\",\"Yes\",\"No\",\"No\",\"No internet service\",\"Yes\",\"Yes\",\"No internet service\",\"Yes\",\"No\",\"No\",\"No\",\"Yes\",\"No\",\"Yes\",\"No\",\"No\",\"No internet service\",\"No internet service\",\"No internet service\",\"Yes\",\"No internet service\",\"No\",\"Yes\",\"No\",\"No\",\"No\",\"No\",\"Yes\",\"No\",\"No\",\"Yes\",\"No internet service\",\"Yes\",\"No\",\"Yes\",\"No\",\"No internet service\",\"No internet service\",\"No\",\"No\",\"No internet service\",\"Yes\",\"No\",\"No\",\"No\",\"No internet service\",\"No\",\"No\",\"Yes\",\"Yes\",\"No internet service\",\"Yes\",\"No\",\"Yes\",\"No\",\"Yes\",\"No\",\"No\",\"No\",\"No\",\"No\",\"Yes\",\"No\",\"No\",\"Yes\",\"Yes\",\"No internet service\",\"No\",\"Yes\",\"No internet service\",\"No internet service\",\"Yes\",\"Yes\",\"No\",\"No internet service\",\"No internet service\",\"No\",\"No internet service\",\"Yes\",\"No\",\"Yes\",\"No\",\"No\",\"No internet service\",\"No\",\"No internet service\",\"Yes\",\"Yes\",\"No\",\"No internet service\",\"No internet service\",\"Yes\",\"No\",\"Yes\",\"Yes\",\"No internet service\",\"No\",\"No\",\"No\",\"No internet service\",\"No internet service\",\"Yes\",\"Yes\",\"Yes\",\"Yes\",\"No\",\"No internet service\",\"No internet service\",\"Yes\",\"No\",\"Yes\",\"Yes\",\"No internet service\",\"Yes\",\"No\",\"No\",\"Yes\",\"No internet service\",\"Yes\",\"Yes\",\"Yes\",\"No internet service\",\"Yes\",\"No\",\"Yes\",\"No\",\"No\",\"No internet service\",\"No\",\"No\",\"No internet service\",\"No\",\"No\",\"No\",\"No internet service\",\"No internet service\",\"No internet service\",\"No internet service\",\"No\",\"Yes\",\"No\",\"No internet service\",\"No internet service\",\"Yes\",\"No\",\"Yes\",\"Yes\",\"No internet service\",\"Yes\",\"Yes\",\"Yes\",\"Yes\",\"No internet service\",\"No\",\"No\",\"No\",\"No internet service\",\"No internet service\",\"No\",\"Yes\",\"No internet service\",\"Yes\",\"No internet service\",\"Yes\",\"No\",\"Yes\",\"No\",\"No\",\"Yes\",\"No\",\"Yes\",\"No internet service\",\"Yes\",\"No internet service\",\"No\",\"No\",\"No\",\"No internet service\",\"Yes\",\"No\",\"Yes\",\"Yes\",\"No internet service\",\"Yes\",\"Yes\",\"No\",\"Yes\",\"No internet service\",\"No\",\"Yes\",\"No\",\"No internet service\",\"Yes\",\"Yes\",\"No\",\"No internet service\",\"Yes\",\"No\",\"No internet service\",\"No internet service\",\"No\",\"Yes\",\"No internet service\",\"No internet service\",\"Yes\",\"No\",\"No\",\"No\",\"No internet service\",\"No\",\"No\",\"Yes\",\"No internet service\",\"Yes\",\"No\",\"Yes\",\"No internet service\",\"Yes\",\"Yes\",\"No\",\"Yes\",\"No internet service\",\"Yes\",\"Yes\",\"No internet service\",\"No internet service\",\"No internet service\",\"No\",\"No internet service\",\"No\",\"Yes\",\"No\",\"No\",\"No internet service\",\"No internet service\",\"No internet service\",\"Yes\",\"Yes\",\"Yes\",\"No\",\"Yes\",\"Yes\",\"Yes\",\"Yes\",\"No\",\"No\",\"Yes\",\"No\",\"No\",\"No\",\"No internet service\",\"No internet service\",\"No\",\"No internet service\",\"Yes\",\"No internet service\",\"No internet service\",\"No\",\"No internet service\",\"No\",\"No\",\"Yes\",\"No internet service\",\"Yes\",\"Yes\",\"No\",\"Yes\",\"No internet service\",\"Yes\",\"No internet service\",\"No\",\"No\",\"Yes\",\"Yes\",\"No internet service\",\"No\",\"No\",\"No internet service\",\"No internet service\",\"No internet service\",\"No\",\"No\",\"Yes\",\"No internet service\",\"Yes\",\"Yes\",\"Yes\",\"No internet service\",\"No internet service\",\"Yes\",\"No\",\"No internet service\",\"Yes\",\"No internet service\",\"Yes\",\"No internet service\",\"No internet service\",\"No\",\"Yes\",\"No internet service\",\"No\",\"Yes\",\"Yes\",\"No internet service\",\"No\",\"Yes\",\"No\",\"Yes\",\"No\",\"No internet service\",\"No\",\"No\",\"Yes\",\"Yes\",\"Yes\",\"No\",\"No\",\"Yes\",\"No\",\"Yes\",\"Yes\",\"No\",\"Yes\",\"No\",\"No\",\"Yes\",\"Yes\",\"No\",\"Yes\",\"Yes\",\"Yes\",\"No\",\"Yes\",\"No internet service\",\"Yes\",\"Yes\",\"Yes\",\"No\",\"No\",\"No internet service\",\"No\",\"No\",\"Yes\",\"Yes\",\"No\",\"No\",\"No\",\"No internet service\",\"No internet service\",\"No\",\"Yes\",\"No internet service\",\"No\",\"No\",\"No\",\"No internet service\",\"No\",\"Yes\",\"Yes\",\"No\",\"No\",\"Yes\",\"No\",\"No internet service\",\"No internet service\",\"Yes\",\"No internet service\",\"No\",\"No\",\"Yes\",\"No internet service\",\"No internet service\",\"No internet service\",\"No internet service\",\"No internet service\",\"No internet service\",\"No internet service\",\"No\",\"Yes\",\"No internet service\",\"No\",\"No internet service\",\"Yes\",\"No\",\"No\",\"No internet service\",\"Yes\",\"No\",\"No internet service\",\"No\",\"Yes\",\"No\",\"No\",\"No internet service\",\"No internet service\",\"No internet service\",\"Yes\",\"No\",\"Yes\",\"No\",\"No\",\"No\",\"Yes\",\"No\",\"No\",\"Yes\",\"No\",\"No\",\"No internet service\",\"Yes\",\"No\",\"No internet service\",\"No\",\"No\",\"No\",\"Yes\",\"Yes\",\"No\",\"No\",\"No internet service\",\"Yes\",\"Yes\",\"No\",\"Yes\",\"Yes\",\"Yes\",\"No internet service\",\"No internet service\",\"No internet service\",\"No internet service\",\"No\",\"No\",\"Yes\",\"Yes\",\"No\",\"No internet service\",\"No internet service\",\"No\",\"No\",\"Yes\",\"Yes\",\"Yes\",\"No\",\"Yes\",\"No internet service\",\"No internet service\",\"No\",\"No\",\"Yes\",\"No internet service\",\"No internet service\",\"Yes\",\"Yes\",\"No internet service\",\"No\",\"No\",\"No\",\"No\",\"Yes\",\"No internet service\",\"No internet service\",\"No\",\"No\",\"Yes\",\"No internet service\",\"No internet service\",\"Yes\",\"No internet service\",\"Yes\",\"No\",\"No\",\"No internet service\",\"No internet service\",\"No internet service\",\"No\",\"No\",\"No\",\"No internet service\",\"No internet service\",\"No\",\"No\",\"No internet service\",\"No internet service\",\"No internet service\",\"No internet service\",\"No\",\"No internet service\",\"Yes\",\"No internet service\",\"Yes\",\"Yes\",\"No\",\"No\",\"No\",\"Yes\",\"Yes\",\"Yes\",\"Yes\",\"No\",\"No internet service\",\"No\",\"No\",\"No\",\"Yes\",\"No internet service\",\"No\",\"Yes\",\"No\",\"No\",\"No\",\"No\",\"No\",\"Yes\",\"No internet service\",\"Yes\",\"No\",\"No internet service\",\"Yes\",\"No\",\"No internet service\",\"No\",\"No internet service\",\"No internet service\",\"No\",\"No\",\"No\",\"No\",\"No\",\"Yes\",\"No\",\"No\",\"No\",\"Yes\",\"No internet service\",\"No internet service\",\"No internet service\",\"No internet service\",\"Yes\",\"No\",\"Yes\",\"Yes\",\"No\",\"Yes\",\"Yes\",\"No internet service\",\"No internet service\",\"No\",\"No internet service\",\"No\",\"Yes\",\"No internet service\",\"Yes\",\"No\",\"Yes\",\"No\",\"No internet service\",\"No\",\"No internet service\",\"No\",\"No\",\"No internet service\",\"Yes\",\"No\",\"No\",\"Yes\",\"No\",\"Yes\",\"No\",\"No internet service\",\"Yes\",\"Yes\",\"No\",\"Yes\",\"No\",\"No\",\"No internet service\",\"Yes\",\"No internet service\",\"Yes\",\"No\",\"No\",\"Yes\",\"No\",\"No internet service\",\"Yes\",\"No internet service\",\"No\",\"No internet service\",\"Yes\",\"No internet service\",\"Yes\",\"No\",\"No\",\"Yes\",\"No\",\"No internet service\",\"No internet service\",\"No\",\"No internet service\",\"No internet service\",\"Yes\",\"No\",\"Yes\",\"Yes\",\"No\",\"Yes\",\"No\",\"Yes\",\"Yes\",\"Yes\",\"No\",\"No internet service\",\"Yes\",\"No internet service\",\"No\",\"Yes\",\"Yes\",\"Yes\",\"No\",\"No internet service\",\"No\",\"No\",\"No internet service\",\"No internet service\",\"Yes\",\"No\",\"No\",\"No\",\"No internet service\",\"No\",\"No\",\"Yes\",\"No\",\"No\",\"Yes\",\"Yes\",\"No\",\"No internet service\",\"Yes\",\"Yes\",\"Yes\",\"No\",\"No\",\"No internet service\",\"No internet service\",\"No\",\"No\",\"Yes\",\"No\",\"Yes\",\"Yes\",\"No\",\"No\",\"No internet service\",\"Yes\",\"No\",\"No internet service\",\"Yes\",\"No\",\"No\",\"No internet service\",\"Yes\",\"Yes\",\"No\",\"Yes\",\"Yes\",\"Yes\",\"Yes\",\"No\",\"No internet service\",\"Yes\",\"No internet service\",\"No internet service\",\"No\",\"No internet service\",\"No internet service\",\"No internet service\",\"Yes\",\"Yes\",\"No internet service\",\"Yes\",\"No internet service\",\"No\",\"Yes\",\"Yes\",\"No\",\"No\",\"No\",\"No internet service\",\"No\",\"No internet service\",\"No\",\"No internet service\",\"No\",\"No\",\"No\",\"Yes\",\"Yes\",\"No\",\"Yes\",\"No\",\"Yes\",\"No internet service\",\"No\",\"No internet service\",\"No internet service\",\"No internet service\",\"Yes\",\"No\",\"Yes\",\"No internet service\",\"No internet service\",\"Yes\",\"Yes\",\"No internet service\",\"No\",\"No internet service\",\"Yes\",\"No internet service\",\"Yes\",\"Yes\",\"No\",\"Yes\",\"No\",\"Yes\",\"No\",\"Yes\",\"No\",\"Yes\",\"No\",\"Yes\",\"No internet service\",\"Yes\",\"Yes\",\"No\",\"Yes\",\"No\",\"No\",\"No\",\"No\",\"No\",\"No\",\"No internet service\",\"Yes\",\"Yes\",\"Yes\",\"No internet service\",\"Yes\",\"No internet service\",\"Yes\",\"No internet service\",\"No\",\"No\",\"No internet service\",\"Yes\",\"No internet service\",\"No internet service\",\"Yes\",\"Yes\",\"No\",\"No\",\"No internet service\",\"No\",\"Yes\",\"No internet service\",\"No internet service\",\"No internet service\",\"No\",\"Yes\",\"No\",\"No\",\"No internet service\",\"No\",\"No internet service\",\"Yes\",\"Yes\",\"No\",\"Yes\",\"No\",\"No\",\"No\",\"No\",\"No internet service\",\"No\",\"Yes\",\"No\",\"Yes\",\"No internet service\",\"No internet service\",\"No\",\"No\",\"No internet service\",\"No\",\"No\",\"No internet service\",\"Yes\",\"No\",\"No internet service\",\"Yes\",\"No\",\"No\",\"No internet service\",\"No internet service\",\"No\",\"No\",\"Yes\",\"Yes\",\"No\",\"No internet service\",\"No internet service\",\"Yes\",\"No\",\"No internet service\",\"No internet service\",\"No internet service\",\"No\",\"No internet service\",\"No\",\"No\",\"No internet service\",\"No internet service\",\"No\",\"No\",\"No\",\"Yes\",\"No\",\"No internet service\",\"No\",\"Yes\",\"No\",\"No\",\"No\",\"No internet service\",\"No internet service\",\"No internet service\",\"Yes\",\"Yes\",\"No internet service\",\"Yes\",\"No internet service\",\"Yes\",\"Yes\",\"Yes\",\"Yes\",\"No\",\"No\",\"No\",\"Yes\",\"No\",\"Yes\",\"No\",\"No\",\"Yes\",\"No internet service\",\"No\",\"No\",\"No\",\"Yes\",\"Yes\",\"No internet service\",\"No internet service\",\"Yes\",\"Yes\",\"No\",\"No\",\"No internet service\",\"No\",\"No\",\"Yes\",\"No\",\"No internet service\",\"Yes\",\"Yes\",\"Yes\",\"Yes\",\"No\",\"Yes\",\"No internet service\",\"No\",\"No\",\"No\",\"No internet service\",\"Yes\",\"Yes\",\"No\",\"Yes\",\"No\",\"No\",\"No internet service\",\"No internet service\",\"No\",\"Yes\",\"No\",\"No internet service\",\"No\",\"Yes\",\"No\",\"No\",\"No\",\"Yes\",\"No\",\"No\",\"Yes\",\"Yes\",\"Yes\",\"Yes\",\"No internet service\",\"No\",\"Yes\",\"Yes\",\"No\",\"No\",\"Yes\",\"Yes\",\"No internet service\",\"No\",\"No\",\"No internet service\",\"No internet service\",\"No\",\"Yes\",\"No internet service\",\"No\",\"No internet service\",\"No internet service\",\"No internet service\",\"No\",\"Yes\",\"Yes\",\"No\",\"Yes\",\"Yes\",\"No internet service\",\"Yes\",\"No\",\"No\",\"No\",\"No internet service\",\"No internet service\",\"No\",\"No\",\"No\",\"Yes\",\"No\",\"No internet service\",\"No internet service\",\"No\",\"Yes\",\"No internet service\",\"Yes\",\"No\",\"Yes\",\"No internet service\",\"No internet service\",\"Yes\",\"Yes\",\"No\",\"Yes\",\"No\",\"No\",\"Yes\",\"Yes\",\"No internet service\",\"No\",\"No\",\"Yes\",\"No\",\"No\",\"No\",\"Yes\",\"Yes\",\"No\",\"No internet service\",\"No\",\"No\",\"No\",\"Yes\",\"No\",\"No\",\"Yes\",\"No\",\"Yes\",\"Yes\",\"No internet service\",\"Yes\",\"No\",\"No internet service\",\"Yes\",\"Yes\",\"No internet service\",\"Yes\",\"Yes\",\"No\",\"No\",\"No internet service\",\"No internet service\",\"No internet service\",\"Yes\",\"No\",\"Yes\",\"No\",\"No internet service\",\"No internet service\",\"No internet service\",\"Yes\",\"No internet service\",\"Yes\",\"No internet service\",\"Yes\",\"Yes\",\"Yes\",\"No internet service\",\"No internet service\",\"No\",\"No\",\"Yes\",\"No\",\"Yes\",\"No\"],\"yaxis\":\"y\",\"type\":\"histogram\"},{\"alignmentgroup\":\"True\",\"bingroup\":\"y\",\"hovertemplate\":\"Churn=Yes\\u003cbr\\u003ecount=%{x}\\u003cbr\\u003eTechSupport=%{y}\\u003cextra\\u003e\\u003c\\u002fextra\\u003e\",\"legendgroup\":\"Yes\",\"marker\":{\"color\":\"#EF553B\",\"pattern\":{\"shape\":\"\"}},\"name\":\"Yes\",\"offsetgroup\":\"Yes\",\"orientation\":\"h\",\"showlegend\":true,\"xaxis\":\"x\",\"y\":[\"No\",\"No\",\"Yes\",\"No\",\"No\",\"No\",\"No internet service\",\"No\",\"No\",\"No\",\"No\",\"No internet service\",\"No\",\"Yes\",\"Yes\",\"No\",\"No\",\"Yes\",\"Yes\",\"No\",\"No\",\"No internet service\",\"No\",\"No\",\"Yes\",\"Yes\",\"No\",\"No\",\"Yes\",\"No internet service\",\"Yes\",\"No\",\"No\",\"No\",\"Yes\",\"No\",\"No\",\"No\",\"No\",\"No\",\"Yes\",\"No\",\"No internet service\",\"No internet service\",\"No\",\"No\",\"No\",\"Yes\",\"No\",\"No\",\"No\",\"Yes\",\"No\",\"No\",\"No\",\"No\",\"No\",\"Yes\",\"No\",\"No\",\"No\",\"No\",\"Yes\",\"Yes\",\"No\",\"Yes\",\"No\",\"Yes\",\"No\",\"Yes\",\"No\",\"No\",\"No\",\"No\",\"No\",\"No\",\"No\",\"No\",\"No\",\"No\",\"No internet service\",\"No\",\"No\",\"Yes\",\"No\",\"No\",\"No\",\"No\",\"No\",\"No\",\"No\",\"No\",\"No\",\"No\",\"No internet service\",\"Yes\",\"No\",\"No\",\"No\",\"No\",\"No\",\"No\",\"Yes\",\"No internet service\",\"No\",\"No\",\"No\",\"No\",\"No\",\"No internet service\",\"No\",\"No\",\"No\",\"Yes\",\"No\",\"No\",\"No\",\"No\",\"Yes\",\"No\",\"No\",\"No\",\"No\",\"No\",\"No\",\"No\",\"No\",\"No\",\"No\",\"No\",\"No\",\"No\",\"No\",\"No\",\"No\",\"No\",\"No\",\"No\",\"No\",\"Yes\",\"No\",\"No\",\"No\",\"No\",\"No\",\"Yes\",\"No\",\"No\",\"Yes\",\"No\",\"No internet service\",\"Yes\",\"No\",\"No\",\"No\",\"Yes\",\"No\",\"No\",\"No\",\"No\",\"Yes\",\"No\",\"No\",\"Yes\",\"No\",\"Yes\",\"No\",\"No\",\"No\",\"Yes\",\"No\",\"No\",\"No internet service\",\"No\",\"No\",\"No\",\"No\",\"No\",\"No\",\"No\",\"No\",\"No\",\"No\",\"No\",\"No\",\"No\",\"No\",\"Yes\",\"No\",\"No\",\"No\",\"No\",\"No internet service\",\"No internet service\",\"No\",\"No\",\"No\",\"No internet service\",\"No\",\"No internet service\",\"No\",\"No internet service\",\"No\",\"No internet service\",\"No\",\"No\",\"No\",\"No\",\"No internet service\",\"No\",\"Yes\",\"No\",\"Yes\",\"No\",\"Yes\",\"No\",\"Yes\",\"No\",\"Yes\",\"No\",\"No\",\"No\",\"No\",\"No\",\"Yes\",\"No\",\"Yes\",\"No internet service\",\"No\",\"No\",\"No\",\"No internet service\",\"No\",\"No\",\"No\",\"No\",\"No\",\"No\",\"No\",\"Yes\",\"No\",\"No\",\"No\",\"Yes\",\"No\",\"No\",\"No\",\"Yes\",\"No\",\"No\",\"No\",\"No internet service\",\"No\",\"Yes\",\"No\",\"No internet service\",\"No\",\"No\",\"No\",\"No\",\"No\",\"No\",\"Yes\",\"No\",\"No\",\"No\",\"No internet service\",\"Yes\",\"No\",\"No\",\"No\",\"No\",\"No\",\"No internet service\",\"No\",\"No\",\"No\",\"Yes\",\"No\",\"Yes\",\"Yes\",\"Yes\",\"No\",\"Yes\",\"No\",\"No\",\"No\",\"No\",\"Yes\",\"No internet service\",\"No\",\"Yes\",\"Yes\",\"Yes\",\"No\",\"No\",\"No\",\"No\",\"Yes\",\"No\",\"No\",\"No\",\"No\",\"Yes\",\"No\",\"No\",\"No\",\"No\",\"No\",\"No\",\"No\",\"Yes\",\"No\",\"No\",\"Yes\",\"No\",\"No\",\"No\",\"Yes\",\"No internet service\",\"Yes\",\"No\",\"No\",\"No\",\"No\",\"No\",\"No\",\"No\",\"No\",\"No\",\"No\",\"No\",\"Yes\",\"No\",\"No\",\"No\",\"No\",\"No\",\"Yes\",\"Yes\",\"No\",\"No\",\"No\",\"No\",\"No\",\"No\",\"No\",\"No\",\"No\",\"No internet service\",\"No\",\"No internet service\",\"No\",\"Yes\",\"No\",\"No\",\"No\",\"No\",\"Yes\",\"No\",\"No internet service\",\"No\",\"No\",\"No\",\"No\",\"No\",\"No\",\"Yes\",\"No\",\"No\",\"No\",\"No\",\"No\",\"No\",\"No\",\"No\",\"No\",\"No\",\"No\",\"No\",\"No\",\"No\",\"No\",\"Yes\",\"No\",\"Yes\",\"No\",\"No\",\"No\",\"No\",\"No\",\"No\",\"No\",\"Yes\",\"No\",\"No\",\"Yes\",\"No\",\"No\",\"Yes\",\"No\",\"No\",\"No\",\"No\",\"No\",\"No\",\"No\",\"No internet service\",\"Yes\",\"No\",\"No\",\"Yes\",\"No\",\"No\",\"No\",\"No\",\"No\",\"No\",\"Yes\",\"No\",\"No\",\"No internet service\",\"Yes\",\"No\",\"No internet service\",\"Yes\",\"Yes\",\"No\",\"Yes\",\"No\",\"No\",\"No\",\"No\",\"No\",\"No\",\"No\",\"No\",\"No\",\"Yes\",\"No\",\"No\",\"No\",\"No\",\"No\",\"No\",\"No\",\"No\",\"No\",\"No\",\"No\",\"No\",\"No\",\"No internet service\",\"No\",\"No\",\"Yes\",\"No\",\"No\",\"No\",\"No\",\"No\",\"No\",\"Yes\",\"No internet service\",\"No\",\"No\",\"No\",\"No\",\"No\",\"No\",\"No\",\"No\",\"No\",\"No\",\"No\",\"Yes\",\"Yes\",\"No\",\"No\",\"Yes\",\"No\",\"No\",\"No\",\"No\",\"No\",\"No\",\"No\",\"No internet service\",\"No\",\"No\",\"No\",\"No\",\"No\",\"No\",\"Yes\",\"No\",\"No\",\"No\",\"No\",\"Yes\",\"No\",\"No\",\"No\",\"No\",\"No\",\"No\",\"No\",\"Yes\",\"No\",\"No\",\"Yes\",\"No\",\"No\",\"Yes\",\"No\",\"Yes\",\"No\",\"No internet service\",\"No\",\"No\",\"No\",\"No\",\"No\",\"No\",\"No\",\"No\",\"No\",\"No\",\"No\",\"No\",\"No\",\"Yes\",\"No internet service\",\"No\",\"No\",\"Yes\",\"No\",\"No\",\"No\",\"No\",\"No\",\"No\",\"Yes\",\"No\",\"No\",\"Yes\",\"No\",\"No\",\"No internet service\",\"No\",\"No\",\"No\",\"No\",\"No\",\"No\",\"No\",\"No\",\"No\",\"No\",\"No\",\"Yes\",\"Yes\",\"No\",\"No\",\"No\",\"No\",\"No\",\"No\",\"No\",\"No\",\"No\",\"No\",\"No\",\"Yes\",\"No\",\"No\",\"No\",\"No\",\"No\",\"No\",\"Yes\",\"No\",\"No\",\"No\",\"Yes\",\"No\",\"No\",\"No\",\"No\",\"No\",\"No\",\"Yes\",\"No\",\"Yes\",\"No internet service\",\"No\",\"No\",\"No\",\"No\",\"No\",\"Yes\",\"Yes\",\"Yes\",\"No\",\"No\",\"No\",\"No\",\"No\",\"No\",\"No\",\"Yes\",\"No\",\"Yes\",\"No\",\"No\",\"No\",\"No\",\"No\",\"No\",\"No\",\"Yes\",\"No\",\"No\",\"No\",\"No\",\"No\",\"No\",\"No\",\"No\",\"No\",\"No\",\"Yes\",\"No\",\"No\",\"Yes\",\"No\",\"Yes\",\"No\",\"No\",\"No\",\"No\",\"No\",\"No\",\"Yes\",\"No\",\"No\",\"No\",\"No\",\"No\",\"No\",\"Yes\",\"No\",\"No\",\"No\",\"No\",\"Yes\",\"No internet service\",\"Yes\",\"No\",\"No\",\"No\",\"No\",\"No\",\"No\",\"No\",\"No\",\"No\",\"Yes\",\"No\",\"No\",\"No\",\"Yes\",\"No\",\"No\",\"No\",\"No\",\"No\",\"No\",\"No\",\"No\",\"No\",\"No\",\"No\",\"No\",\"No\",\"Yes\",\"No\",\"No\",\"No\",\"Yes\",\"Yes\",\"Yes\",\"No internet service\",\"No\",\"No\",\"No\",\"No\",\"No\",\"No\",\"No\",\"Yes\",\"No\",\"No\",\"No\",\"No\",\"No\",\"No\",\"No\",\"No\",\"Yes\",\"No\",\"No\",\"No\",\"No\",\"No\",\"No\",\"No\",\"No\",\"No internet service\",\"No\",\"No\",\"No\",\"Yes\",\"Yes\",\"No\",\"No\",\"Yes\",\"No\",\"No\",\"No\",\"No\",\"Yes\",\"No\",\"No\",\"No\",\"No\",\"Yes\",\"No\",\"No internet service\",\"No\",\"No\",\"No\",\"No\",\"No\",\"Yes\",\"No\",\"No\",\"No\",\"No\",\"No\",\"No\",\"Yes\",\"No\",\"No\",\"No\",\"Yes\",\"No\",\"No\",\"No\",\"Yes\",\"No\",\"Yes\",\"No\",\"No\",\"Yes\",\"No\",\"Yes\",\"No\",\"No internet service\",\"No\",\"Yes\",\"No\",\"No\",\"Yes\",\"No\",\"No\",\"No\",\"No\",\"Yes\",\"No\",\"No internet service\",\"No\",\"No\",\"No\",\"Yes\",\"No internet service\",\"Yes\",\"Yes\",\"Yes\",\"No\",\"Yes\",\"No\",\"No\",\"No internet service\",\"No\",\"No\",\"No\",\"No internet service\",\"No\",\"No\",\"Yes\",\"No\",\"No\",\"No\",\"No\",\"Yes\",\"No internet service\",\"No\",\"No\",\"No\",\"No\",\"No\",\"No\",\"Yes\",\"No\",\"Yes\",\"No\",\"Yes\",\"Yes\",\"No\",\"No\",\"No\",\"No\",\"No\",\"Yes\",\"No\",\"No\",\"No\",\"Yes\",\"No internet service\",\"Yes\",\"Yes\",\"Yes\",\"No\",\"No\",\"No\",\"No\",\"Yes\",\"No\",\"No\",\"Yes\",\"No\",\"No\",\"No internet service\",\"Yes\",\"No\",\"No\",\"No internet service\",\"Yes\",\"No\",\"No\",\"No\",\"No\",\"No\",\"No\",\"No\",\"No\",\"No\",\"No internet service\",\"No\",\"No\",\"No\",\"No\",\"No\",\"No\",\"Yes\",\"Yes\",\"No\",\"No\",\"Yes\",\"No\",\"No\",\"No\",\"No\",\"No\",\"No internet service\",\"No\",\"No internet service\",\"No\",\"No\",\"No\",\"No\",\"No\",\"No\",\"No\",\"No\",\"No\",\"No\",\"No\",\"No\",\"Yes\",\"No\",\"No\",\"Yes\",\"No\",\"No\",\"No internet service\",\"No\",\"Yes\",\"No\",\"No\",\"No\",\"Yes\",\"Yes\",\"No\",\"No\",\"No\",\"No\",\"No\",\"No\",\"No\",\"No\",\"No internet service\",\"No\",\"No\",\"No\",\"No internet service\",\"No\",\"Yes\",\"Yes\",\"No internet service\",\"Yes\",\"No\",\"No\",\"Yes\",\"No\",\"No internet service\",\"Yes\",\"No\",\"No\",\"No\",\"No\",\"No\",\"No\",\"No\",\"No\",\"No\",\"No\",\"No\",\"No\",\"No\",\"No\",\"No\",\"No\",\"No\",\"Yes\",\"No\",\"No\",\"No\",\"No internet service\",\"No\",\"No internet service\",\"No internet service\",\"No internet service\",\"Yes\",\"No internet service\",\"No\",\"No\",\"No\",\"No\",\"No\",\"No\",\"No\",\"No\",\"Yes\",\"No\",\"No internet service\",\"No\",\"No\",\"No\",\"No\",\"No\",\"No\",\"No\",\"Yes\",\"No\",\"Yes\",\"No\",\"No\",\"No\",\"No internet service\",\"No\",\"No internet service\",\"No\",\"No\",\"No\",\"No\",\"No\",\"No\",\"No\",\"No\",\"Yes\",\"No\",\"No\",\"No\",\"No\",\"No\",\"No\",\"Yes\",\"No internet service\",\"Yes\",\"No\",\"No\",\"No\",\"Yes\",\"No\",\"No\",\"No\",\"No\",\"No\",\"No\",\"No\",\"No\",\"Yes\",\"No\",\"No\",\"No\",\"No\",\"No\",\"No\",\"No\",\"No\",\"Yes\",\"No\",\"No\",\"No\",\"No\",\"No\",\"Yes\",\"No\",\"No\",\"No\",\"No\",\"No\",\"No\",\"No\",\"No\",\"No internet service\",\"No\",\"No\",\"No\",\"No\",\"No\",\"No\",\"No\",\"No\",\"No\",\"No\",\"No\",\"No\",\"No\",\"Yes\",\"No\",\"No\",\"No\",\"Yes\",\"No\",\"No\",\"Yes\",\"No\",\"Yes\",\"Yes\",\"No\",\"No\",\"No\",\"Yes\",\"No\",\"No\",\"No\",\"No\",\"No\",\"No\",\"No internet service\",\"Yes\",\"No internet service\",\"No\",\"No\",\"No\",\"No\",\"No\",\"No\",\"No\",\"No\",\"No\",\"No\",\"No\",\"No\",\"No\",\"Yes\",\"No\",\"No\",\"No internet service\",\"No\",\"No\",\"No\",\"No\",\"No\",\"No internet service\",\"No internet service\",\"No\",\"Yes\",\"No\",\"No\",\"No\",\"No\",\"No\",\"No\",\"Yes\",\"No\",\"No internet service\",\"No internet service\",\"No\",\"No\",\"No\",\"No\",\"No\",\"Yes\",\"No\",\"Yes\",\"Yes\",\"No\",\"No\",\"No internet service\",\"No\",\"No\",\"No\",\"Yes\",\"No\",\"No\",\"No\",\"No\",\"No\",\"No\",\"No\",\"No\",\"No\",\"No\",\"No\",\"No\",\"No\",\"No\",\"Yes\",\"No\",\"No\",\"Yes\",\"No\",\"No\",\"No\",\"No\",\"No\",\"No\",\"Yes\",\"No\",\"No\",\"No\",\"No\",\"No\",\"No\",\"No\",\"No\",\"Yes\",\"Yes\",\"No\",\"No\",\"No\",\"No\",\"No\",\"No\",\"No\",\"No\",\"No\",\"No\",\"No\",\"No\",\"No\",\"No\",\"No\",\"No\",\"No\",\"No\",\"No\",\"No\",\"No internet service\",\"No\",\"No\",\"No\",\"No internet service\",\"No\",\"No\",\"No\",\"No\",\"No\",\"No\",\"No\",\"No\",\"Yes\",\"Yes\",\"No\",\"No\",\"Yes\",\"No\",\"No\",\"No\",\"No\",\"No\",\"Yes\",\"No\",\"No\",\"Yes\",\"Yes\",\"No\",\"Yes\",\"No\",\"Yes\",\"No\",\"No\",\"No\",\"No\",\"No internet service\",\"No\",\"No\",\"No\",\"No\",\"No\",\"No\",\"No\",\"No\",\"No\",\"No\",\"No\",\"Yes\",\"No\",\"No\",\"No\",\"No\",\"Yes\",\"No\",\"No\",\"No\",\"No\",\"No\",\"No\",\"No\",\"No\",\"No\",\"No\",\"Yes\",\"Yes\",\"No\",\"Yes\",\"No\",\"No\",\"No\",\"No\",\"No\",\"No\",\"No\",\"No\",\"No\",\"Yes\",\"No\",\"No internet service\",\"No\",\"No\",\"No\",\"No\",\"Yes\",\"No\",\"No\",\"No\",\"No internet service\",\"No\",\"Yes\",\"No\",\"No\",\"No internet service\",\"No\",\"No\",\"Yes\",\"Yes\",\"No\",\"No\",\"No\",\"No\",\"No\",\"No\",\"Yes\",\"No\",\"No\",\"No\",\"No\",\"No\",\"No\",\"No\",\"No\",\"Yes\",\"No\",\"No\",\"Yes\",\"No\",\"No\",\"Yes\",\"No\",\"No internet service\",\"No\",\"No\",\"No internet service\",\"No\",\"No\",\"Yes\",\"No\",\"No\",\"No\",\"No\",\"Yes\",\"No\",\"Yes\",\"No internet service\",\"No\",\"No internet service\",\"No\",\"No\",\"No\",\"Yes\",\"No\",\"No\",\"No\",\"No\",\"No\",\"No\",\"No\",\"No\",\"No\",\"No\",\"No\",\"No\",\"No\",\"No\",\"No\",\"No\",\"No\",\"No\",\"No\",\"No internet service\",\"No\",\"No\",\"Yes\",\"No\",\"No\",\"No\",\"No\",\"No\",\"No\",\"No\",\"No\",\"No\",\"Yes\",\"No\",\"No\",\"No\",\"No\",\"No\",\"No internet service\",\"Yes\",\"No\",\"No\",\"No\",\"No\",\"No\",\"No\",\"No\",\"No\",\"No\",\"No\",\"No\",\"No\",\"No\",\"No\",\"No\",\"No\",\"No\",\"Yes\",\"No\",\"No\",\"No\",\"No internet service\",\"No\",\"Yes\",\"No\",\"No\",\"No\",\"No\",\"Yes\",\"No\",\"Yes\",\"No\",\"No\",\"No\",\"No\",\"Yes\",\"No\",\"Yes\",\"Yes\",\"No\",\"No\",\"No\",\"Yes\",\"No\",\"No\",\"No\",\"No\",\"No\",\"No\",\"No\",\"No\",\"No internet service\",\"No\",\"No\",\"No\",\"No\",\"No\",\"No\",\"Yes\",\"No\",\"No\",\"No\",\"No\",\"No\",\"No\",\"No\",\"No\",\"No\",\"Yes\",\"No\",\"No\",\"Yes\",\"No\",\"No\",\"No\",\"No\",\"No internet service\",\"No\",\"No\",\"No\",\"No\",\"No\",\"No\",\"No\",\"No\",\"No\",\"No\",\"No\",\"No\",\"No\",\"Yes\",\"No\",\"No\",\"No\",\"No\",\"No\",\"Yes\",\"No\",\"No\",\"Yes\",\"No\",\"No\",\"No\",\"Yes\",\"No\",\"No\",\"No\",\"Yes\",\"No\",\"No\",\"No\",\"No\",\"No\",\"No\",\"No\",\"No\",\"Yes\",\"No\",\"No\",\"No\",\"Yes\",\"No\",\"No\",\"No\",\"No\",\"No\",\"No\",\"No\",\"No\",\"No\",\"No\",\"No internet service\",\"No\",\"Yes\",\"No\",\"No\",\"No internet service\",\"No\",\"No internet service\",\"Yes\",\"No\",\"No internet service\",\"No\",\"No internet service\",\"No\",\"No\",\"No\",\"No\",\"No\",\"Yes\",\"No internet service\",\"No\",\"No\",\"No\",\"Yes\",\"Yes\",\"No\",\"Yes\",\"No\",\"No internet service\",\"No\",\"No\",\"No\",\"No\",\"No internet service\",\"No\",\"No\",\"No\",\"No\",\"No\",\"Yes\",\"No\",\"No\",\"No\",\"No\",\"No internet service\",\"No\",\"No\",\"No\",\"No\",\"No\",\"No\",\"No\",\"No internet service\",\"No\",\"No\",\"No\",\"No\",\"No\",\"No\",\"No\",\"No\",\"No\",\"No\",\"No\",\"No\",\"No\",\"No\",\"No\",\"Yes\",\"No\",\"No\",\"Yes\",\"No\",\"No\",\"No\",\"No\",\"No\",\"No\",\"No\",\"No\",\"Yes\",\"No\",\"No\",\"No\",\"Yes\",\"No internet service\",\"Yes\",\"No internet service\",\"No\",\"No\",\"No\",\"No\",\"No\",\"No\",\"No\",\"No\",\"No\",\"No\",\"No\",\"No\",\"No\",\"No\",\"No\",\"No\",\"No\",\"No\",\"No\",\"No\",\"No\",\"Yes\",\"No\",\"No\",\"No\",\"No\",\"Yes\",\"No\",\"No\",\"No\",\"No internet service\",\"No\",\"No\",\"Yes\",\"No\",\"No\",\"No\",\"Yes\",\"No\",\"No\",\"No\",\"No\",\"No\",\"No\",\"No\",\"No\",\"No\",\"No\",\"Yes\",\"Yes\",\"No\",\"No\",\"Yes\",\"No\",\"No\",\"No\",\"Yes\",\"No\",\"No\",\"Yes\",\"No\",\"No\",\"No\",\"No\",\"No\",\"No\",\"Yes\",\"No\",\"No\",\"Yes\",\"No\",\"No\",\"Yes\",\"No\",\"No\",\"No\",\"No\",\"No\",\"Yes\",\"No internet service\",\"Yes\",\"No\",\"No\",\"No\",\"No\",\"No\",\"No\",\"No\",\"No\",\"No\",\"Yes\",\"No\",\"No\",\"No\",\"No\",\"No\",\"Yes\",\"No\",\"No\",\"No\",\"No\",\"No\",\"No\",\"No\",\"No\",\"No\",\"No\",\"No\",\"No\",\"No\",\"No\",\"Yes\",\"No\",\"No\",\"No\",\"No\",\"No\",\"No\",\"No internet service\",\"No\",\"Yes\",\"Yes\",\"Yes\",\"No\",\"Yes\",\"No\",\"No\",\"No\",\"No\",\"No internet service\",\"Yes\",\"No\",\"No\",\"Yes\",\"No\",\"No\",\"No\",\"No\",\"No\",\"No\",\"No\",\"Yes\",\"No\",\"Yes\",\"No\",\"No\",\"No internet service\",\"No\",\"No\",\"No\",\"No\",\"Yes\",\"Yes\",\"No\",\"No\",\"No\",\"No\",\"No\",\"No\",\"No\",\"Yes\",\"No\",\"No\",\"Yes\",\"Yes\",\"No\",\"No\",\"No\",\"No\",\"No\",\"No\",\"No\",\"No\",\"No\",\"No\",\"No internet service\",\"No\",\"Yes\",\"No\",\"No\",\"No\",\"No\",\"No\",\"No\",\"No\",\"Yes\",\"Yes\",\"Yes\",\"No\",\"Yes\",\"Yes\",\"No\",\"No\",\"No\",\"No\",\"No\",\"No\",\"No\",\"No\",\"No\",\"No\",\"No\",\"No\",\"No\",\"No\",\"No\",\"Yes\",\"No\",\"No\",\"No\",\"No\",\"No\",\"No\",\"Yes\",\"No\",\"No\",\"Yes\",\"No\",\"No\",\"No\",\"No\",\"No\",\"Yes\",\"No\",\"No\",\"No\",\"No\",\"Yes\",\"No\",\"No\",\"No\",\"No\",\"Yes\",\"No\",\"No\",\"No\",\"No\",\"No\",\"No\",\"No\",\"No\",\"No\",\"Yes\",\"No\",\"No\",\"No\",\"Yes\",\"No\",\"No\",\"No\",\"No\",\"No\",\"No\",\"No\",\"No\",\"No\",\"Yes\",\"Yes\",\"No\",\"No\",\"No\",\"No\",\"Yes\",\"No\",\"No\",\"No\",\"No\",\"No\",\"No\",\"Yes\",\"No\",\"No\",\"No\",\"No\",\"No\",\"No\",\"No\",\"No\",\"No\",\"No\",\"No\",\"No\",\"No\",\"No\",\"No internet service\",\"No\"],\"yaxis\":\"y\",\"type\":\"histogram\"}],                        {\"template\":{\"data\":{\"histogram2dcontour\":[{\"type\":\"histogram2dcontour\",\"colorbar\":{\"outlinewidth\":0,\"ticks\":\"\"},\"colorscale\":[[0.0,\"#0d0887\"],[0.1111111111111111,\"#46039f\"],[0.2222222222222222,\"#7201a8\"],[0.3333333333333333,\"#9c179e\"],[0.4444444444444444,\"#bd3786\"],[0.5555555555555556,\"#d8576b\"],[0.6666666666666666,\"#ed7953\"],[0.7777777777777778,\"#fb9f3a\"],[0.8888888888888888,\"#fdca26\"],[1.0,\"#f0f921\"]]}],\"choropleth\":[{\"type\":\"choropleth\",\"colorbar\":{\"outlinewidth\":0,\"ticks\":\"\"}}],\"histogram2d\":[{\"type\":\"histogram2d\",\"colorbar\":{\"outlinewidth\":0,\"ticks\":\"\"},\"colorscale\":[[0.0,\"#0d0887\"],[0.1111111111111111,\"#46039f\"],[0.2222222222222222,\"#7201a8\"],[0.3333333333333333,\"#9c179e\"],[0.4444444444444444,\"#bd3786\"],[0.5555555555555556,\"#d8576b\"],[0.6666666666666666,\"#ed7953\"],[0.7777777777777778,\"#fb9f3a\"],[0.8888888888888888,\"#fdca26\"],[1.0,\"#f0f921\"]]}],\"heatmap\":[{\"type\":\"heatmap\",\"colorbar\":{\"outlinewidth\":0,\"ticks\":\"\"},\"colorscale\":[[0.0,\"#0d0887\"],[0.1111111111111111,\"#46039f\"],[0.2222222222222222,\"#7201a8\"],[0.3333333333333333,\"#9c179e\"],[0.4444444444444444,\"#bd3786\"],[0.5555555555555556,\"#d8576b\"],[0.6666666666666666,\"#ed7953\"],[0.7777777777777778,\"#fb9f3a\"],[0.8888888888888888,\"#fdca26\"],[1.0,\"#f0f921\"]]}],\"heatmapgl\":[{\"type\":\"heatmapgl\",\"colorbar\":{\"outlinewidth\":0,\"ticks\":\"\"},\"colorscale\":[[0.0,\"#0d0887\"],[0.1111111111111111,\"#46039f\"],[0.2222222222222222,\"#7201a8\"],[0.3333333333333333,\"#9c179e\"],[0.4444444444444444,\"#bd3786\"],[0.5555555555555556,\"#d8576b\"],[0.6666666666666666,\"#ed7953\"],[0.7777777777777778,\"#fb9f3a\"],[0.8888888888888888,\"#fdca26\"],[1.0,\"#f0f921\"]]}],\"contourcarpet\":[{\"type\":\"contourcarpet\",\"colorbar\":{\"outlinewidth\":0,\"ticks\":\"\"}}],\"contour\":[{\"type\":\"contour\",\"colorbar\":{\"outlinewidth\":0,\"ticks\":\"\"},\"colorscale\":[[0.0,\"#0d0887\"],[0.1111111111111111,\"#46039f\"],[0.2222222222222222,\"#7201a8\"],[0.3333333333333333,\"#9c179e\"],[0.4444444444444444,\"#bd3786\"],[0.5555555555555556,\"#d8576b\"],[0.6666666666666666,\"#ed7953\"],[0.7777777777777778,\"#fb9f3a\"],[0.8888888888888888,\"#fdca26\"],[1.0,\"#f0f921\"]]}],\"surface\":[{\"type\":\"surface\",\"colorbar\":{\"outlinewidth\":0,\"ticks\":\"\"},\"colorscale\":[[0.0,\"#0d0887\"],[0.1111111111111111,\"#46039f\"],[0.2222222222222222,\"#7201a8\"],[0.3333333333333333,\"#9c179e\"],[0.4444444444444444,\"#bd3786\"],[0.5555555555555556,\"#d8576b\"],[0.6666666666666666,\"#ed7953\"],[0.7777777777777778,\"#fb9f3a\"],[0.8888888888888888,\"#fdca26\"],[1.0,\"#f0f921\"]]}],\"mesh3d\":[{\"type\":\"mesh3d\",\"colorbar\":{\"outlinewidth\":0,\"ticks\":\"\"}}],\"scatter\":[{\"fillpattern\":{\"fillmode\":\"overlay\",\"size\":10,\"solidity\":0.2},\"type\":\"scatter\"}],\"parcoords\":[{\"type\":\"parcoords\",\"line\":{\"colorbar\":{\"outlinewidth\":0,\"ticks\":\"\"}}}],\"scatterpolargl\":[{\"type\":\"scatterpolargl\",\"marker\":{\"colorbar\":{\"outlinewidth\":0,\"ticks\":\"\"}}}],\"bar\":[{\"error_x\":{\"color\":\"#2a3f5f\"},\"error_y\":{\"color\":\"#2a3f5f\"},\"marker\":{\"line\":{\"color\":\"#E5ECF6\",\"width\":0.5},\"pattern\":{\"fillmode\":\"overlay\",\"size\":10,\"solidity\":0.2}},\"type\":\"bar\"}],\"scattergeo\":[{\"type\":\"scattergeo\",\"marker\":{\"colorbar\":{\"outlinewidth\":0,\"ticks\":\"\"}}}],\"scatterpolar\":[{\"type\":\"scatterpolar\",\"marker\":{\"colorbar\":{\"outlinewidth\":0,\"ticks\":\"\"}}}],\"histogram\":[{\"marker\":{\"pattern\":{\"fillmode\":\"overlay\",\"size\":10,\"solidity\":0.2}},\"type\":\"histogram\"}],\"scattergl\":[{\"type\":\"scattergl\",\"marker\":{\"colorbar\":{\"outlinewidth\":0,\"ticks\":\"\"}}}],\"scatter3d\":[{\"type\":\"scatter3d\",\"line\":{\"colorbar\":{\"outlinewidth\":0,\"ticks\":\"\"}},\"marker\":{\"colorbar\":{\"outlinewidth\":0,\"ticks\":\"\"}}}],\"scattermapbox\":[{\"type\":\"scattermapbox\",\"marker\":{\"colorbar\":{\"outlinewidth\":0,\"ticks\":\"\"}}}],\"scatterternary\":[{\"type\":\"scatterternary\",\"marker\":{\"colorbar\":{\"outlinewidth\":0,\"ticks\":\"\"}}}],\"scattercarpet\":[{\"type\":\"scattercarpet\",\"marker\":{\"colorbar\":{\"outlinewidth\":0,\"ticks\":\"\"}}}],\"carpet\":[{\"aaxis\":{\"endlinecolor\":\"#2a3f5f\",\"gridcolor\":\"white\",\"linecolor\":\"white\",\"minorgridcolor\":\"white\",\"startlinecolor\":\"#2a3f5f\"},\"baxis\":{\"endlinecolor\":\"#2a3f5f\",\"gridcolor\":\"white\",\"linecolor\":\"white\",\"minorgridcolor\":\"white\",\"startlinecolor\":\"#2a3f5f\"},\"type\":\"carpet\"}],\"table\":[{\"cells\":{\"fill\":{\"color\":\"#EBF0F8\"},\"line\":{\"color\":\"white\"}},\"header\":{\"fill\":{\"color\":\"#C8D4E3\"},\"line\":{\"color\":\"white\"}},\"type\":\"table\"}],\"barpolar\":[{\"marker\":{\"line\":{\"color\":\"#E5ECF6\",\"width\":0.5},\"pattern\":{\"fillmode\":\"overlay\",\"size\":10,\"solidity\":0.2}},\"type\":\"barpolar\"}],\"pie\":[{\"automargin\":true,\"type\":\"pie\"}]},\"layout\":{\"autotypenumbers\":\"strict\",\"colorway\":[\"#636efa\",\"#EF553B\",\"#00cc96\",\"#ab63fa\",\"#FFA15A\",\"#19d3f3\",\"#FF6692\",\"#B6E880\",\"#FF97FF\",\"#FECB52\"],\"font\":{\"color\":\"#2a3f5f\"},\"hovermode\":\"closest\",\"hoverlabel\":{\"align\":\"left\"},\"paper_bgcolor\":\"white\",\"plot_bgcolor\":\"#E5ECF6\",\"polar\":{\"bgcolor\":\"#E5ECF6\",\"angularaxis\":{\"gridcolor\":\"white\",\"linecolor\":\"white\",\"ticks\":\"\"},\"radialaxis\":{\"gridcolor\":\"white\",\"linecolor\":\"white\",\"ticks\":\"\"}},\"ternary\":{\"bgcolor\":\"#E5ECF6\",\"aaxis\":{\"gridcolor\":\"white\",\"linecolor\":\"white\",\"ticks\":\"\"},\"baxis\":{\"gridcolor\":\"white\",\"linecolor\":\"white\",\"ticks\":\"\"},\"caxis\":{\"gridcolor\":\"white\",\"linecolor\":\"white\",\"ticks\":\"\"}},\"coloraxis\":{\"colorbar\":{\"outlinewidth\":0,\"ticks\":\"\"}},\"colorscale\":{\"sequential\":[[0.0,\"#0d0887\"],[0.1111111111111111,\"#46039f\"],[0.2222222222222222,\"#7201a8\"],[0.3333333333333333,\"#9c179e\"],[0.4444444444444444,\"#bd3786\"],[0.5555555555555556,\"#d8576b\"],[0.6666666666666666,\"#ed7953\"],[0.7777777777777778,\"#fb9f3a\"],[0.8888888888888888,\"#fdca26\"],[1.0,\"#f0f921\"]],\"sequentialminus\":[[0.0,\"#0d0887\"],[0.1111111111111111,\"#46039f\"],[0.2222222222222222,\"#7201a8\"],[0.3333333333333333,\"#9c179e\"],[0.4444444444444444,\"#bd3786\"],[0.5555555555555556,\"#d8576b\"],[0.6666666666666666,\"#ed7953\"],[0.7777777777777778,\"#fb9f3a\"],[0.8888888888888888,\"#fdca26\"],[1.0,\"#f0f921\"]],\"diverging\":[[0,\"#8e0152\"],[0.1,\"#c51b7d\"],[0.2,\"#de77ae\"],[0.3,\"#f1b6da\"],[0.4,\"#fde0ef\"],[0.5,\"#f7f7f7\"],[0.6,\"#e6f5d0\"],[0.7,\"#b8e186\"],[0.8,\"#7fbc41\"],[0.9,\"#4d9221\"],[1,\"#276419\"]]},\"xaxis\":{\"gridcolor\":\"white\",\"linecolor\":\"white\",\"ticks\":\"\",\"title\":{\"standoff\":15},\"zerolinecolor\":\"white\",\"automargin\":true,\"zerolinewidth\":2},\"yaxis\":{\"gridcolor\":\"white\",\"linecolor\":\"white\",\"ticks\":\"\",\"title\":{\"standoff\":15},\"zerolinecolor\":\"white\",\"automargin\":true,\"zerolinewidth\":2},\"scene\":{\"xaxis\":{\"backgroundcolor\":\"#E5ECF6\",\"gridcolor\":\"white\",\"linecolor\":\"white\",\"showbackground\":true,\"ticks\":\"\",\"zerolinecolor\":\"white\",\"gridwidth\":2},\"yaxis\":{\"backgroundcolor\":\"#E5ECF6\",\"gridcolor\":\"white\",\"linecolor\":\"white\",\"showbackground\":true,\"ticks\":\"\",\"zerolinecolor\":\"white\",\"gridwidth\":2},\"zaxis\":{\"backgroundcolor\":\"#E5ECF6\",\"gridcolor\":\"white\",\"linecolor\":\"white\",\"showbackground\":true,\"ticks\":\"\",\"zerolinecolor\":\"white\",\"gridwidth\":2}},\"shapedefaults\":{\"line\":{\"color\":\"#2a3f5f\"}},\"annotationdefaults\":{\"arrowcolor\":\"#2a3f5f\",\"arrowhead\":0,\"arrowwidth\":1},\"geo\":{\"bgcolor\":\"white\",\"landcolor\":\"#E5ECF6\",\"subunitcolor\":\"white\",\"showland\":true,\"showlakes\":true,\"lakecolor\":\"white\"},\"title\":{\"x\":0.05},\"mapbox\":{\"style\":\"light\"}}},\"xaxis\":{\"anchor\":\"y\",\"domain\":[0.0,1.0],\"title\":{\"text\":\"count\"}},\"yaxis\":{\"anchor\":\"x\",\"domain\":[0.0,1.0],\"title\":{\"text\":\"TechSupport\"},\"categoryorder\":\"total ascending\"},\"legend\":{\"title\":{\"text\":\"Churn\"},\"tracegroupgap\":0},\"margin\":{\"t\":60},\"barmode\":\"relative\"},                        {\"responsive\": true}                    ).then(function(){\n",
              "                            \n",
              "var gd = document.getElementById('f26d4208-7f55-4b92-8d50-0ed5bea22983');\n",
              "var x = new MutationObserver(function (mutations, observer) {{\n",
              "        var display = window.getComputedStyle(gd).display;\n",
              "        if (!display || display === 'none') {{\n",
              "            console.log([gd, 'removed!']);\n",
              "            Plotly.purge(gd);\n",
              "            observer.disconnect();\n",
              "        }}\n",
              "}});\n",
              "\n",
              "// Listen for the removal of the full notebook cells\n",
              "var notebookContainer = gd.closest('#notebook-container');\n",
              "if (notebookContainer) {{\n",
              "    x.observe(notebookContainer, {childList: true});\n",
              "}}\n",
              "\n",
              "// Listen for the clearing of the current output cell\n",
              "var outputEl = gd.closest('.output');\n",
              "if (outputEl) {{\n",
              "    x.observe(outputEl, {childList: true});\n",
              "}}\n",
              "\n",
              "                        })                };                            </script>        </div>\n",
              "</body>\n",
              "</html>"
            ]
          },
          "metadata": {}
        }
      ]
    },
    {
      "cell_type": "code",
      "source": [
        "# Identificando o incidência de Churn quanto ao cliente receber fatura online\n",
        "grafico_billing = px.histogram(df, y='PaperlessBilling', color='Churn', orientation='h')\n",
        "grafico_billing.update_yaxes(categoryorder='total ascending')\n",
        "grafico_billing.show()"
      ],
      "metadata": {
        "colab": {
          "base_uri": "https://localhost:8080/",
          "height": 542
        },
        "id": "2HIF-jVlSjkC",
        "outputId": "fd79afa1-ffc1-4108-e61e-da3ba58a1613"
      },
      "execution_count": 258,
      "outputs": [
        {
          "output_type": "display_data",
          "data": {
            "text/html": [
              "<html>\n",
              "<head><meta charset=\"utf-8\" /></head>\n",
              "<body>\n",
              "    <div>            <script src=\"https://cdnjs.cloudflare.com/ajax/libs/mathjax/2.7.5/MathJax.js?config=TeX-AMS-MML_SVG\"></script><script type=\"text/javascript\">if (window.MathJax && window.MathJax.Hub && window.MathJax.Hub.Config) {window.MathJax.Hub.Config({SVG: {font: \"STIX-Web\"}});}</script>                <script type=\"text/javascript\">window.PlotlyConfig = {MathJaxConfig: 'local'};</script>\n",
              "        <script charset=\"utf-8\" src=\"https://cdn.plot.ly/plotly-2.35.2.min.js\"></script>                <div id=\"dd816d07-326b-4274-abe0-ef17eaf38820\" class=\"plotly-graph-div\" style=\"height:525px; width:100%;\"></div>            <script type=\"text/javascript\">                                    window.PLOTLYENV=window.PLOTLYENV || {};                                    if (document.getElementById(\"dd816d07-326b-4274-abe0-ef17eaf38820\")) {                    Plotly.newPlot(                        \"dd816d07-326b-4274-abe0-ef17eaf38820\",                        [{\"alignmentgroup\":\"True\",\"bingroup\":\"y\",\"hovertemplate\":\"Churn=No\\u003cbr\\u003ecount=%{x}\\u003cbr\\u003ePaperlessBilling=%{y}\\u003cextra\\u003e\\u003c\\u002fextra\\u003e\",\"legendgroup\":\"No\",\"marker\":{\"color\":\"#636efa\",\"pattern\":{\"shape\":\"\"}},\"name\":\"No\",\"offsetgroup\":\"No\",\"orientation\":\"h\",\"showlegend\":true,\"xaxis\":\"x\",\"y\":[\"Yes\",\"No\",\"Yes\",\"Yes\",\"Yes\",\"Yes\",\"Yes\",\"No\",\"Yes\",\"Yes\",\"Yes\",\"No\",\"Yes\",\"No\",\"Yes\",\"No\",\"Yes\",\"No\",\"Yes\",\"No\",\"Yes\",\"No\",\"No\",\"No\",\"No\",\"No\",\"Yes\",\"Yes\",\"Yes\",\"Yes\",\"No\",\"Yes\",\"No\",\"No\",\"Yes\",\"Yes\",\"Yes\",\"No\",\"Yes\",\"Yes\",\"Yes\",\"No\",\"Yes\",\"Yes\",\"No\",\"Yes\",\"Yes\",\"Yes\",\"Yes\",\"No\",\"Yes\",\"Yes\",\"Yes\",\"Yes\",\"No\",\"No\",\"Yes\",\"Yes\",\"Yes\",\"No\",\"No\",\"Yes\",\"Yes\",\"No\",\"No\",\"Yes\",\"No\",\"Yes\",\"Yes\",\"Yes\",\"Yes\",\"Yes\",\"Yes\",\"No\",\"Yes\",\"No\",\"No\",\"No\",\"Yes\",\"Yes\",\"No\",\"No\",\"No\",\"Yes\",\"Yes\",\"No\",\"Yes\",\"Yes\",\"Yes\",\"No\",\"Yes\",\"No\",\"Yes\",\"No\",\"No\",\"Yes\",\"No\",\"Yes\",\"No\",\"Yes\",\"No\",\"No\",\"No\",\"No\",\"Yes\",\"Yes\",\"No\",\"Yes\",\"No\",\"No\",\"No\",\"No\",\"Yes\",\"Yes\",\"No\",\"Yes\",\"Yes\",\"No\",\"No\",\"No\",\"Yes\",\"No\",\"No\",\"Yes\",\"Yes\",\"No\",\"No\",\"No\",\"Yes\",\"No\",\"Yes\",\"Yes\",\"Yes\",\"No\",\"Yes\",\"Yes\",\"Yes\",\"No\",\"Yes\",\"Yes\",\"No\",\"Yes\",\"Yes\",\"No\",\"No\",\"Yes\",\"Yes\",\"No\",\"Yes\",\"No\",\"No\",\"Yes\",\"Yes\",\"No\",\"Yes\",\"Yes\",\"No\",\"No\",\"Yes\",\"Yes\",\"No\",\"No\",\"Yes\",\"No\",\"No\",\"Yes\",\"Yes\",\"No\",\"No\",\"No\",\"No\",\"Yes\",\"No\",\"No\",\"No\",\"Yes\",\"No\",\"No\",\"Yes\",\"No\",\"Yes\",\"Yes\",\"No\",\"No\",\"Yes\",\"No\",\"Yes\",\"No\",\"No\",\"No\",\"Yes\",\"No\",\"No\",\"Yes\",\"Yes\",\"No\",\"Yes\",\"No\",\"No\",\"Yes\",\"Yes\",\"Yes\",\"Yes\",\"Yes\",\"Yes\",\"Yes\",\"No\",\"Yes\",\"No\",\"Yes\",\"Yes\",\"Yes\",\"No\",\"Yes\",\"Yes\",\"Yes\",\"Yes\",\"Yes\",\"Yes\",\"Yes\",\"Yes\",\"Yes\",\"Yes\",\"No\",\"No\",\"Yes\",\"No\",\"No\",\"No\",\"Yes\",\"Yes\",\"No\",\"Yes\",\"Yes\",\"Yes\",\"Yes\",\"No\",\"Yes\",\"Yes\",\"Yes\",\"No\",\"No\",\"Yes\",\"No\",\"Yes\",\"Yes\",\"Yes\",\"No\",\"No\",\"Yes\",\"Yes\",\"Yes\",\"Yes\",\"Yes\",\"No\",\"Yes\",\"Yes\",\"No\",\"Yes\",\"No\",\"Yes\",\"No\",\"Yes\",\"Yes\",\"Yes\",\"No\",\"Yes\",\"Yes\",\"Yes\",\"No\",\"Yes\",\"No\",\"No\",\"Yes\",\"Yes\",\"No\",\"No\",\"Yes\",\"Yes\",\"No\",\"No\",\"Yes\",\"No\",\"No\",\"Yes\",\"No\",\"Yes\",\"No\",\"Yes\",\"No\",\"Yes\",\"Yes\",\"Yes\",\"Yes\",\"Yes\",\"No\",\"Yes\",\"No\",\"Yes\",\"No\",\"No\",\"Yes\",\"Yes\",\"Yes\",\"No\",\"No\",\"Yes\",\"Yes\",\"No\",\"No\",\"Yes\",\"No\",\"Yes\",\"No\",\"No\",\"Yes\",\"Yes\",\"Yes\",\"Yes\",\"No\",\"Yes\",\"Yes\",\"No\",\"Yes\",\"Yes\",\"Yes\",\"Yes\",\"No\",\"No\",\"Yes\",\"No\",\"Yes\",\"Yes\",\"Yes\",\"Yes\",\"No\",\"No\",\"Yes\",\"No\",\"Yes\",\"Yes\",\"No\",\"Yes\",\"Yes\",\"Yes\",\"No\",\"Yes\",\"Yes\",\"No\",\"No\",\"Yes\",\"Yes\",\"No\",\"Yes\",\"Yes\",\"No\",\"Yes\",\"Yes\",\"Yes\",\"No\",\"Yes\",\"Yes\",\"Yes\",\"Yes\",\"No\",\"Yes\",\"No\",\"No\",\"No\",\"No\",\"No\",\"No\",\"No\",\"Yes\",\"Yes\",\"Yes\",\"No\",\"No\",\"Yes\",\"No\",\"No\",\"Yes\",\"Yes\",\"Yes\",\"No\",\"No\",\"No\",\"No\",\"No\",\"No\",\"Yes\",\"No\",\"No\",\"No\",\"Yes\",\"Yes\",\"No\",\"Yes\",\"Yes\",\"No\",\"No\",\"No\",\"Yes\",\"No\",\"Yes\",\"No\",\"No\",\"Yes\",\"No\",\"No\",\"Yes\",\"Yes\",\"No\",\"No\",\"No\",\"Yes\",\"No\",\"Yes\",\"No\",\"No\",\"No\",\"No\",\"Yes\",\"No\",\"No\",\"Yes\",\"Yes\",\"Yes\",\"Yes\",\"No\",\"Yes\",\"No\",\"Yes\",\"Yes\",\"No\",\"Yes\",\"Yes\",\"No\",\"Yes\",\"No\",\"No\",\"No\",\"Yes\",\"No\",\"Yes\",\"No\",\"Yes\",\"Yes\",\"No\",\"No\",\"No\",\"Yes\",\"Yes\",\"Yes\",\"Yes\",\"Yes\",\"Yes\",\"No\",\"No\",\"No\",\"No\",\"Yes\",\"Yes\",\"No\",\"No\",\"Yes\",\"No\",\"Yes\",\"Yes\",\"Yes\",\"Yes\",\"No\",\"Yes\",\"No\",\"No\",\"No\",\"Yes\",\"Yes\",\"No\",\"Yes\",\"No\",\"Yes\",\"Yes\",\"No\",\"Yes\",\"Yes\",\"No\",\"Yes\",\"No\",\"Yes\",\"No\",\"No\",\"Yes\",\"Yes\",\"No\",\"Yes\",\"Yes\",\"Yes\",\"Yes\",\"Yes\",\"Yes\",\"Yes\",\"Yes\",\"Yes\",\"No\",\"Yes\",\"Yes\",\"No\",\"No\",\"No\",\"Yes\",\"No\",\"No\",\"No\",\"Yes\",\"No\",\"Yes\",\"Yes\",\"Yes\",\"No\",\"No\",\"No\",\"Yes\",\"No\",\"Yes\",\"Yes\",\"No\",\"No\",\"Yes\",\"No\",\"Yes\",\"No\",\"Yes\",\"Yes\",\"No\",\"Yes\",\"Yes\",\"No\",\"No\",\"No\",\"Yes\",\"Yes\",\"No\",\"No\",\"Yes\",\"Yes\",\"No\",\"Yes\",\"Yes\",\"No\",\"Yes\",\"No\",\"No\",\"Yes\",\"No\",\"Yes\",\"Yes\",\"No\",\"No\",\"No\",\"Yes\",\"No\",\"Yes\",\"Yes\",\"No\",\"Yes\",\"No\",\"No\",\"No\",\"No\",\"No\",\"Yes\",\"No\",\"No\",\"No\",\"Yes\",\"Yes\",\"No\",\"No\",\"Yes\",\"Yes\",\"Yes\",\"Yes\",\"No\",\"No\",\"No\",\"Yes\",\"Yes\",\"No\",\"No\",\"Yes\",\"No\",\"Yes\",\"Yes\",\"No\",\"No\",\"Yes\",\"No\",\"No\",\"No\",\"No\",\"Yes\",\"Yes\",\"Yes\",\"No\",\"Yes\",\"No\",\"Yes\",\"Yes\",\"Yes\",\"Yes\",\"Yes\",\"Yes\",\"No\",\"No\",\"Yes\",\"No\",\"Yes\",\"No\",\"Yes\",\"Yes\",\"Yes\",\"Yes\",\"Yes\",\"No\",\"No\",\"No\",\"No\",\"No\",\"Yes\",\"No\",\"Yes\",\"Yes\",\"Yes\",\"Yes\",\"No\",\"Yes\",\"No\",\"No\",\"No\",\"Yes\",\"No\",\"Yes\",\"Yes\",\"Yes\",\"No\",\"Yes\",\"Yes\",\"No\",\"Yes\",\"No\",\"No\",\"Yes\",\"Yes\",\"Yes\",\"No\",\"Yes\",\"Yes\",\"Yes\",\"Yes\",\"Yes\",\"Yes\",\"Yes\",\"Yes\",\"No\",\"No\",\"Yes\",\"No\",\"Yes\",\"Yes\",\"Yes\",\"No\",\"No\",\"No\",\"No\",\"No\",\"No\",\"Yes\",\"Yes\",\"Yes\",\"No\",\"Yes\",\"Yes\",\"No\",\"No\",\"No\",\"Yes\",\"Yes\",\"Yes\",\"Yes\",\"Yes\",\"Yes\",\"No\",\"No\",\"No\",\"Yes\",\"Yes\",\"Yes\",\"Yes\",\"Yes\",\"No\",\"No\",\"Yes\",\"Yes\",\"No\",\"No\",\"No\",\"No\",\"Yes\",\"No\",\"Yes\",\"Yes\",\"No\",\"No\",\"Yes\",\"No\",\"Yes\",\"Yes\",\"No\",\"Yes\",\"Yes\",\"Yes\",\"Yes\",\"Yes\",\"No\",\"No\",\"No\",\"No\",\"Yes\",\"No\",\"No\",\"Yes\",\"Yes\",\"Yes\",\"Yes\",\"Yes\",\"No\",\"No\",\"Yes\",\"No\",\"No\",\"No\",\"Yes\",\"No\",\"Yes\",\"Yes\",\"Yes\",\"No\",\"Yes\",\"Yes\",\"Yes\",\"No\",\"Yes\",\"Yes\",\"Yes\",\"Yes\",\"Yes\",\"Yes\",\"No\",\"No\",\"No\",\"No\",\"Yes\",\"No\",\"Yes\",\"Yes\",\"Yes\",\"No\",\"Yes\",\"No\",\"Yes\",\"Yes\",\"No\",\"Yes\",\"No\",\"Yes\",\"Yes\",\"Yes\",\"Yes\",\"No\",\"No\",\"No\",\"No\",\"No\",\"No\",\"Yes\",\"No\",\"No\",\"Yes\",\"No\",\"Yes\",\"Yes\",\"No\",\"No\",\"No\",\"Yes\",\"Yes\",\"No\",\"No\",\"No\",\"Yes\",\"Yes\",\"Yes\",\"Yes\",\"Yes\",\"Yes\",\"Yes\",\"No\",\"Yes\",\"No\",\"Yes\",\"No\",\"No\",\"Yes\",\"Yes\",\"Yes\",\"Yes\",\"Yes\",\"Yes\",\"No\",\"Yes\",\"Yes\",\"Yes\",\"No\",\"Yes\",\"No\",\"Yes\",\"Yes\",\"No\",\"No\",\"Yes\",\"Yes\",\"No\",\"No\",\"Yes\",\"No\",\"Yes\",\"Yes\",\"No\",\"No\",\"Yes\",\"No\",\"No\",\"No\",\"Yes\",\"No\",\"Yes\",\"Yes\",\"No\",\"Yes\",\"No\",\"No\",\"Yes\",\"No\",\"Yes\",\"No\",\"No\",\"Yes\",\"Yes\",\"No\",\"Yes\",\"No\",\"No\",\"No\",\"Yes\",\"Yes\",\"Yes\",\"No\",\"No\",\"No\",\"No\",\"No\",\"Yes\",\"No\",\"Yes\",\"No\",\"Yes\",\"Yes\",\"Yes\",\"No\",\"Yes\",\"No\",\"Yes\",\"Yes\",\"Yes\",\"No\",\"Yes\",\"Yes\",\"Yes\",\"No\",\"Yes\",\"Yes\",\"No\",\"No\",\"No\",\"No\",\"No\",\"No\",\"Yes\",\"Yes\",\"Yes\",\"No\",\"No\",\"Yes\",\"Yes\",\"Yes\",\"No\",\"Yes\",\"Yes\",\"No\",\"Yes\",\"Yes\",\"No\",\"No\",\"Yes\",\"Yes\",\"Yes\",\"No\",\"Yes\",\"No\",\"Yes\",\"Yes\",\"No\",\"No\",\"No\",\"Yes\",\"No\",\"No\",\"Yes\",\"No\",\"Yes\",\"Yes\",\"No\",\"Yes\",\"Yes\",\"Yes\",\"No\",\"No\",\"Yes\",\"No\",\"Yes\",\"No\",\"Yes\",\"No\",\"Yes\",\"Yes\",\"No\",\"No\",\"No\",\"Yes\",\"No\",\"Yes\",\"Yes\",\"No\",\"No\",\"No\",\"No\",\"Yes\",\"Yes\",\"No\",\"No\",\"No\",\"Yes\",\"No\",\"Yes\",\"Yes\",\"No\",\"No\",\"Yes\",\"Yes\",\"No\",\"Yes\",\"Yes\",\"No\",\"Yes\",\"No\",\"Yes\",\"Yes\",\"No\",\"No\",\"Yes\",\"No\",\"Yes\",\"Yes\",\"No\",\"No\",\"No\",\"Yes\",\"Yes\",\"No\",\"No\",\"Yes\",\"No\",\"No\",\"Yes\",\"Yes\",\"Yes\",\"Yes\",\"Yes\",\"No\",\"No\",\"No\",\"Yes\",\"No\",\"Yes\",\"No\",\"Yes\",\"No\",\"Yes\",\"No\",\"No\",\"No\",\"Yes\",\"No\",\"No\",\"Yes\",\"No\",\"Yes\",\"Yes\",\"No\",\"Yes\",\"No\",\"No\",\"Yes\",\"No\",\"Yes\",\"No\",\"Yes\",\"Yes\",\"No\",\"No\",\"Yes\",\"Yes\",\"Yes\",\"No\",\"Yes\",\"Yes\",\"Yes\",\"No\",\"No\",\"Yes\",\"No\",\"Yes\",\"Yes\",\"No\",\"No\",\"Yes\",\"Yes\",\"No\",\"Yes\",\"Yes\",\"Yes\",\"Yes\",\"Yes\",\"Yes\",\"Yes\",\"No\",\"Yes\",\"No\",\"Yes\",\"No\",\"Yes\",\"No\",\"No\",\"No\",\"Yes\",\"No\",\"Yes\",\"No\",\"No\",\"Yes\",\"No\",\"Yes\",\"Yes\",\"No\",\"No\",\"Yes\",\"Yes\",\"No\",\"Yes\",\"Yes\",\"No\",\"Yes\",\"Yes\",\"Yes\",\"No\",\"No\",\"No\",\"Yes\",\"Yes\",\"Yes\",\"Yes\",\"Yes\",\"Yes\",\"No\",\"No\",\"Yes\",\"No\",\"No\",\"No\",\"No\",\"No\",\"Yes\",\"Yes\",\"No\",\"Yes\",\"Yes\",\"Yes\",\"No\",\"No\",\"Yes\",\"No\",\"Yes\",\"No\",\"Yes\",\"Yes\",\"Yes\",\"No\",\"No\",\"No\",\"Yes\",\"Yes\",\"No\",\"No\",\"No\",\"No\",\"No\",\"Yes\",\"No\",\"Yes\",\"No\",\"Yes\",\"Yes\",\"Yes\",\"Yes\",\"No\",\"Yes\",\"No\",\"No\",\"Yes\",\"No\",\"Yes\",\"Yes\",\"Yes\",\"Yes\",\"No\",\"Yes\",\"Yes\",\"No\",\"Yes\",\"Yes\",\"No\",\"Yes\",\"No\",\"Yes\",\"No\",\"Yes\",\"Yes\",\"No\",\"No\",\"No\",\"No\",\"No\",\"No\",\"Yes\",\"No\",\"No\",\"No\",\"Yes\",\"No\",\"No\",\"Yes\",\"Yes\",\"No\",\"Yes\",\"Yes\",\"Yes\",\"No\",\"No\",\"No\",\"No\",\"Yes\",\"No\",\"No\",\"No\",\"No\",\"Yes\",\"Yes\",\"No\",\"No\",\"Yes\",\"Yes\",\"No\",\"No\",\"Yes\",\"No\",\"Yes\",\"Yes\",\"Yes\",\"No\",\"No\",\"Yes\",\"No\",\"Yes\",\"Yes\",\"Yes\",\"No\",\"No\",\"Yes\",\"Yes\",\"Yes\",\"Yes\",\"Yes\",\"No\",\"No\",\"No\",\"Yes\",\"Yes\",\"Yes\",\"No\",\"Yes\",\"Yes\",\"No\",\"Yes\",\"No\",\"No\",\"Yes\",\"Yes\",\"Yes\",\"No\",\"Yes\",\"No\",\"No\",\"No\",\"Yes\",\"Yes\",\"Yes\",\"No\",\"No\",\"Yes\",\"No\",\"Yes\",\"Yes\",\"No\",\"No\",\"Yes\",\"No\",\"Yes\",\"Yes\",\"Yes\",\"Yes\",\"Yes\",\"Yes\",\"No\",\"Yes\",\"Yes\",\"Yes\",\"Yes\",\"Yes\",\"No\",\"Yes\",\"No\",\"No\",\"No\",\"No\",\"No\",\"No\",\"No\",\"Yes\",\"Yes\",\"Yes\",\"No\",\"No\",\"Yes\",\"No\",\"Yes\",\"No\",\"Yes\",\"Yes\",\"No\",\"No\",\"No\",\"No\",\"Yes\",\"No\",\"Yes\",\"No\",\"No\",\"No\",\"Yes\",\"Yes\",\"Yes\",\"Yes\",\"Yes\",\"No\",\"Yes\",\"No\",\"No\",\"No\",\"No\",\"Yes\",\"Yes\",\"No\",\"Yes\",\"No\",\"No\",\"No\",\"No\",\"No\",\"No\",\"No\",\"Yes\",\"Yes\",\"No\",\"No\",\"Yes\",\"No\",\"Yes\",\"Yes\",\"No\",\"Yes\",\"No\",\"Yes\",\"Yes\",\"Yes\",\"No\",\"No\",\"Yes\",\"Yes\",\"Yes\",\"Yes\",\"No\",\"No\",\"Yes\",\"Yes\",\"No\",\"Yes\",\"No\",\"No\",\"Yes\",\"Yes\",\"No\",\"Yes\",\"Yes\",\"No\",\"Yes\",\"No\",\"No\",\"Yes\",\"Yes\",\"Yes\",\"No\",\"No\",\"No\",\"Yes\",\"Yes\",\"No\",\"Yes\",\"No\",\"Yes\",\"No\",\"Yes\",\"Yes\",\"Yes\",\"Yes\",\"No\",\"No\",\"Yes\",\"No\",\"No\",\"No\",\"Yes\",\"No\",\"Yes\",\"Yes\",\"No\",\"Yes\",\"Yes\",\"No\",\"No\",\"Yes\",\"No\",\"Yes\",\"Yes\",\"Yes\",\"No\",\"Yes\",\"Yes\",\"Yes\",\"No\",\"Yes\",\"Yes\",\"Yes\",\"Yes\",\"Yes\",\"No\",\"Yes\",\"Yes\",\"Yes\",\"Yes\",\"Yes\",\"Yes\",\"No\",\"No\",\"Yes\",\"Yes\",\"No\",\"Yes\",\"Yes\",\"Yes\",\"Yes\",\"Yes\",\"Yes\",\"Yes\",\"Yes\",\"Yes\",\"No\",\"No\",\"No\",\"Yes\",\"Yes\",\"No\",\"Yes\",\"Yes\",\"Yes\",\"No\",\"Yes\",\"No\",\"No\",\"No\",\"No\",\"Yes\",\"Yes\",\"Yes\",\"No\",\"No\",\"Yes\",\"Yes\",\"No\",\"Yes\",\"Yes\",\"No\",\"No\",\"Yes\",\"Yes\",\"Yes\",\"No\",\"Yes\",\"Yes\",\"Yes\",\"Yes\",\"No\",\"Yes\",\"No\",\"No\",\"Yes\",\"Yes\",\"Yes\",\"No\",\"No\",\"Yes\",\"Yes\",\"No\",\"Yes\",\"Yes\",\"No\",\"No\",\"Yes\",\"No\",\"No\",\"No\",\"Yes\",\"Yes\",\"Yes\",\"No\",\"Yes\",\"Yes\",\"No\",\"Yes\",\"Yes\",\"Yes\",\"Yes\",\"Yes\",\"Yes\",\"Yes\",\"Yes\",\"Yes\",\"Yes\",\"No\",\"Yes\",\"Yes\",\"Yes\",\"No\",\"Yes\",\"Yes\",\"Yes\",\"No\",\"No\",\"No\",\"Yes\",\"Yes\",\"No\",\"No\",\"Yes\",\"Yes\",\"Yes\",\"Yes\",\"No\",\"No\",\"No\",\"No\",\"Yes\",\"No\",\"Yes\",\"Yes\",\"Yes\",\"No\",\"No\",\"Yes\",\"Yes\",\"Yes\",\"No\",\"Yes\",\"Yes\",\"Yes\",\"No\",\"No\",\"Yes\",\"Yes\",\"No\",\"Yes\",\"Yes\",\"Yes\",\"Yes\",\"Yes\",\"Yes\",\"No\",\"Yes\",\"No\",\"Yes\",\"Yes\",\"No\",\"No\",\"Yes\",\"No\",\"Yes\",\"No\",\"No\",\"No\",\"Yes\",\"No\",\"Yes\",\"Yes\",\"No\",\"No\",\"Yes\",\"No\",\"No\",\"Yes\",\"No\",\"No\",\"Yes\",\"No\",\"No\",\"No\",\"No\",\"Yes\",\"No\",\"No\",\"No\",\"Yes\",\"No\",\"Yes\",\"No\",\"Yes\",\"No\",\"No\",\"No\",\"Yes\",\"Yes\",\"Yes\",\"No\",\"No\",\"Yes\",\"No\",\"No\",\"Yes\",\"No\",\"Yes\",\"No\",\"Yes\",\"No\",\"Yes\",\"Yes\",\"No\",\"No\",\"No\",\"Yes\",\"No\",\"Yes\",\"No\",\"Yes\",\"No\",\"Yes\",\"Yes\",\"No\",\"Yes\",\"No\",\"Yes\",\"Yes\",\"Yes\",\"Yes\",\"Yes\",\"Yes\",\"No\",\"No\",\"Yes\",\"No\",\"Yes\",\"No\",\"Yes\",\"Yes\",\"Yes\",\"Yes\",\"No\",\"Yes\",\"Yes\",\"No\",\"No\",\"Yes\",\"Yes\",\"Yes\",\"Yes\",\"Yes\",\"No\",\"Yes\",\"Yes\",\"No\",\"No\",\"No\",\"Yes\",\"No\",\"No\",\"No\",\"No\",\"Yes\",\"No\",\"No\",\"No\",\"Yes\",\"Yes\",\"Yes\",\"No\",\"Yes\",\"No\",\"Yes\",\"No\",\"Yes\",\"No\",\"No\",\"Yes\",\"Yes\",\"No\",\"No\",\"Yes\",\"Yes\",\"Yes\",\"No\",\"No\",\"No\",\"No\",\"No\",\"Yes\",\"Yes\",\"No\",\"Yes\",\"No\",\"No\",\"No\",\"No\",\"Yes\",\"Yes\",\"No\",\"Yes\",\"Yes\",\"No\",\"Yes\",\"Yes\",\"Yes\",\"Yes\",\"Yes\",\"No\",\"Yes\",\"Yes\",\"Yes\",\"Yes\",\"Yes\",\"Yes\",\"Yes\",\"Yes\",\"No\",\"Yes\",\"No\",\"Yes\",\"Yes\",\"No\",\"Yes\",\"Yes\",\"Yes\",\"No\",\"No\",\"Yes\",\"No\",\"No\",\"Yes\",\"No\",\"No\",\"No\",\"No\",\"No\",\"No\",\"Yes\",\"No\",\"Yes\",\"No\",\"No\",\"Yes\",\"No\",\"Yes\",\"Yes\",\"Yes\",\"No\",\"No\",\"Yes\",\"Yes\",\"Yes\",\"Yes\",\"No\",\"No\",\"Yes\",\"No\",\"Yes\",\"Yes\",\"Yes\",\"No\",\"Yes\",\"Yes\",\"No\",\"Yes\",\"Yes\",\"Yes\",\"No\",\"No\",\"Yes\",\"Yes\",\"No\",\"Yes\",\"No\",\"Yes\",\"Yes\",\"Yes\",\"Yes\",\"Yes\",\"Yes\",\"No\",\"Yes\",\"No\",\"Yes\",\"Yes\",\"Yes\",\"Yes\",\"No\",\"No\",\"No\",\"Yes\",\"No\",\"Yes\",\"Yes\",\"No\",\"No\",\"No\",\"No\",\"No\",\"Yes\",\"Yes\",\"No\",\"Yes\",\"No\",\"No\",\"No\",\"No\",\"No\",\"Yes\",\"No\",\"Yes\",\"No\",\"Yes\",\"Yes\",\"Yes\",\"No\",\"Yes\",\"Yes\",\"No\",\"Yes\",\"No\",\"Yes\",\"No\",\"No\",\"No\",\"Yes\",\"Yes\",\"Yes\",\"Yes\",\"Yes\",\"No\",\"No\",\"Yes\",\"No\",\"Yes\",\"Yes\",\"No\",\"No\",\"No\",\"Yes\",\"No\",\"Yes\",\"Yes\",\"No\",\"Yes\",\"Yes\",\"Yes\",\"Yes\",\"No\",\"No\",\"Yes\",\"Yes\",\"Yes\",\"Yes\",\"No\",\"Yes\",\"Yes\",\"Yes\",\"No\",\"No\",\"Yes\",\"No\",\"Yes\",\"Yes\",\"No\",\"No\",\"Yes\",\"Yes\",\"Yes\",\"No\",\"No\",\"Yes\",\"Yes\",\"Yes\",\"No\",\"Yes\",\"No\",\"Yes\",\"Yes\",\"No\",\"Yes\",\"Yes\",\"Yes\",\"No\",\"No\",\"Yes\",\"No\",\"No\",\"No\",\"Yes\",\"Yes\",\"Yes\",\"No\",\"No\",\"No\",\"Yes\",\"Yes\",\"Yes\",\"Yes\",\"No\",\"Yes\",\"No\",\"No\",\"Yes\",\"Yes\",\"Yes\",\"Yes\",\"Yes\",\"No\",\"Yes\",\"No\",\"Yes\",\"No\",\"Yes\",\"No\",\"No\",\"No\",\"Yes\",\"Yes\",\"Yes\",\"Yes\",\"No\",\"Yes\",\"No\",\"No\",\"No\",\"No\",\"Yes\",\"Yes\",\"No\",\"Yes\",\"No\",\"No\",\"No\",\"Yes\",\"No\",\"Yes\",\"No\",\"Yes\",\"No\",\"Yes\",\"Yes\",\"Yes\",\"Yes\",\"No\",\"Yes\",\"No\",\"No\",\"Yes\",\"No\",\"No\",\"Yes\",\"Yes\",\"Yes\",\"Yes\",\"No\",\"Yes\",\"No\",\"No\",\"Yes\",\"No\",\"No\",\"No\",\"No\",\"Yes\",\"Yes\",\"No\",\"No\",\"Yes\",\"Yes\",\"Yes\",\"Yes\",\"No\",\"No\",\"No\",\"No\",\"No\",\"No\",\"Yes\",\"No\",\"Yes\",\"Yes\",\"No\",\"No\",\"Yes\",\"No\",\"No\",\"Yes\",\"No\",\"No\",\"Yes\",\"No\",\"Yes\",\"Yes\",\"Yes\",\"Yes\",\"Yes\",\"Yes\",\"No\",\"Yes\",\"Yes\",\"Yes\",\"No\",\"Yes\",\"Yes\",\"Yes\",\"No\",\"Yes\",\"No\",\"No\",\"Yes\",\"No\",\"Yes\",\"Yes\",\"Yes\",\"Yes\",\"Yes\",\"No\",\"No\",\"Yes\",\"No\",\"Yes\",\"Yes\",\"No\",\"Yes\",\"Yes\",\"No\",\"No\",\"Yes\",\"No\",\"Yes\",\"No\",\"No\",\"Yes\",\"No\",\"No\",\"No\",\"No\",\"Yes\",\"Yes\",\"No\",\"No\",\"No\",\"Yes\",\"No\",\"Yes\",\"Yes\",\"No\",\"No\",\"Yes\",\"Yes\",\"No\",\"No\",\"Yes\",\"No\",\"Yes\",\"Yes\",\"Yes\",\"No\",\"No\",\"No\",\"No\",\"Yes\",\"Yes\",\"Yes\",\"No\",\"No\",\"No\",\"No\",\"Yes\",\"No\",\"Yes\",\"No\",\"Yes\",\"Yes\",\"Yes\",\"Yes\",\"Yes\",\"No\",\"Yes\",\"Yes\",\"No\",\"No\",\"No\",\"Yes\",\"No\",\"Yes\",\"Yes\",\"Yes\",\"Yes\",\"No\",\"No\",\"Yes\",\"Yes\",\"Yes\",\"No\",\"No\",\"Yes\",\"No\",\"No\",\"Yes\",\"No\",\"No\",\"Yes\",\"No\",\"No\",\"Yes\",\"No\",\"Yes\",\"No\",\"No\",\"Yes\",\"Yes\",\"No\",\"Yes\",\"No\",\"Yes\",\"Yes\",\"No\",\"Yes\",\"Yes\",\"No\",\"No\",\"Yes\",\"Yes\",\"No\",\"No\",\"Yes\",\"Yes\",\"No\",\"Yes\",\"Yes\",\"Yes\",\"Yes\",\"Yes\",\"No\",\"Yes\",\"No\",\"Yes\",\"Yes\",\"No\",\"No\",\"No\",\"Yes\",\"No\",\"No\",\"Yes\",\"No\",\"No\",\"No\",\"Yes\",\"Yes\",\"No\",\"No\",\"No\",\"Yes\",\"Yes\",\"Yes\",\"Yes\",\"Yes\",\"Yes\",\"Yes\",\"Yes\",\"No\",\"No\",\"No\",\"Yes\",\"No\",\"No\",\"Yes\",\"No\",\"No\",\"No\",\"Yes\",\"No\",\"No\",\"Yes\",\"Yes\",\"No\",\"No\",\"Yes\",\"No\",\"No\",\"Yes\",\"No\",\"Yes\",\"No\",\"Yes\",\"No\",\"Yes\",\"Yes\",\"No\",\"No\",\"Yes\",\"Yes\",\"Yes\",\"No\",\"No\",\"Yes\",\"Yes\",\"Yes\",\"No\",\"Yes\",\"Yes\",\"Yes\",\"Yes\",\"Yes\",\"Yes\",\"Yes\",\"No\",\"Yes\",\"No\",\"Yes\",\"No\",\"Yes\",\"No\",\"Yes\",\"Yes\",\"No\",\"No\",\"Yes\",\"No\",\"Yes\",\"No\",\"Yes\",\"No\",\"Yes\",\"Yes\",\"No\",\"No\",\"No\",\"No\",\"Yes\",\"No\",\"No\",\"No\",\"Yes\",\"No\",\"No\",\"Yes\",\"Yes\",\"Yes\",\"No\",\"Yes\",\"Yes\",\"No\",\"Yes\",\"Yes\",\"Yes\",\"Yes\",\"Yes\",\"Yes\",\"Yes\",\"Yes\",\"No\",\"No\",\"Yes\",\"Yes\",\"Yes\",\"No\",\"No\",\"Yes\",\"Yes\",\"No\",\"Yes\",\"No\",\"No\",\"Yes\",\"No\",\"Yes\",\"Yes\",\"No\",\"No\",\"Yes\",\"Yes\",\"Yes\",\"No\",\"Yes\",\"Yes\",\"No\",\"No\",\"No\",\"Yes\",\"No\",\"Yes\",\"Yes\",\"No\",\"Yes\",\"Yes\",\"Yes\",\"No\",\"No\",\"Yes\",\"Yes\",\"Yes\",\"Yes\",\"No\",\"Yes\",\"No\",\"Yes\",\"No\",\"No\",\"Yes\",\"No\",\"Yes\",\"Yes\",\"Yes\",\"No\",\"Yes\",\"Yes\",\"Yes\",\"No\",\"Yes\",\"Yes\",\"Yes\",\"Yes\",\"No\",\"Yes\",\"Yes\",\"No\",\"Yes\",\"No\",\"No\",\"No\",\"Yes\",\"Yes\",\"No\",\"No\",\"Yes\",\"No\",\"Yes\",\"No\",\"Yes\",\"Yes\",\"No\",\"Yes\",\"Yes\",\"No\",\"Yes\",\"No\",\"Yes\",\"No\",\"Yes\",\"No\",\"No\",\"Yes\",\"No\",\"No\",\"No\",\"Yes\",\"No\",\"No\",\"Yes\",\"Yes\",\"Yes\",\"Yes\",\"No\",\"Yes\",\"Yes\",\"No\",\"No\",\"No\",\"Yes\",\"Yes\",\"No\",\"No\",\"Yes\",\"No\",\"No\",\"No\",\"Yes\",\"No\",\"Yes\",\"No\",\"Yes\",\"No\",\"No\",\"Yes\",\"Yes\",\"No\",\"Yes\",\"Yes\",\"Yes\",\"No\",\"Yes\",\"Yes\",\"Yes\",\"Yes\",\"No\",\"No\",\"Yes\",\"No\",\"Yes\",\"Yes\",\"Yes\",\"Yes\",\"No\",\"Yes\",\"Yes\",\"Yes\",\"No\",\"No\",\"No\",\"No\",\"No\",\"Yes\",\"No\",\"Yes\",\"No\",\"No\",\"No\",\"Yes\",\"No\",\"No\",\"No\",\"No\",\"No\",\"No\",\"No\",\"Yes\",\"Yes\",\"Yes\",\"No\",\"No\",\"Yes\",\"Yes\",\"No\",\"No\",\"No\",\"No\",\"No\",\"No\",\"Yes\",\"Yes\",\"No\",\"Yes\",\"Yes\",\"No\",\"Yes\",\"Yes\",\"Yes\",\"Yes\",\"No\",\"No\",\"Yes\",\"No\",\"No\",\"Yes\",\"No\",\"Yes\",\"Yes\",\"No\",\"No\",\"No\",\"No\",\"Yes\",\"Yes\",\"No\",\"No\",\"No\",\"Yes\",\"No\",\"Yes\",\"Yes\",\"Yes\",\"Yes\",\"Yes\",\"Yes\",\"Yes\",\"No\",\"No\",\"No\",\"Yes\",\"Yes\",\"No\",\"No\",\"No\",\"Yes\",\"No\",\"Yes\",\"Yes\",\"Yes\",\"Yes\",\"Yes\",\"Yes\",\"Yes\",\"No\",\"Yes\",\"No\",\"No\",\"Yes\",\"No\",\"Yes\",\"No\",\"Yes\",\"Yes\",\"No\",\"No\",\"Yes\",\"Yes\",\"No\",\"Yes\",\"Yes\",\"Yes\",\"Yes\",\"Yes\",\"No\",\"Yes\",\"No\",\"Yes\",\"No\",\"Yes\",\"No\",\"Yes\",\"No\",\"Yes\",\"Yes\",\"No\",\"No\",\"No\",\"Yes\",\"Yes\",\"No\",\"Yes\",\"No\",\"No\",\"Yes\",\"Yes\",\"Yes\",\"Yes\",\"No\",\"Yes\",\"Yes\",\"No\",\"No\",\"Yes\",\"Yes\",\"No\",\"No\",\"Yes\",\"Yes\",\"Yes\",\"Yes\",\"No\",\"No\",\"No\",\"No\",\"No\",\"Yes\",\"No\",\"Yes\",\"Yes\",\"No\",\"Yes\",\"No\",\"No\",\"No\",\"Yes\",\"Yes\",\"Yes\",\"No\",\"Yes\",\"No\",\"No\",\"Yes\",\"No\",\"No\",\"No\",\"Yes\",\"No\",\"No\",\"No\",\"No\",\"No\",\"No\",\"Yes\",\"No\",\"No\",\"Yes\",\"Yes\",\"No\",\"Yes\",\"Yes\",\"Yes\",\"Yes\",\"No\",\"Yes\",\"No\",\"Yes\",\"Yes\",\"Yes\",\"No\",\"No\",\"Yes\",\"No\",\"Yes\",\"No\",\"No\",\"Yes\",\"Yes\",\"No\",\"Yes\",\"No\",\"No\",\"No\",\"Yes\",\"No\",\"Yes\",\"Yes\",\"No\",\"Yes\",\"Yes\",\"No\",\"No\",\"No\",\"Yes\",\"No\",\"Yes\",\"Yes\",\"No\",\"No\",\"No\",\"No\",\"No\",\"Yes\",\"Yes\",\"No\",\"Yes\",\"Yes\",\"No\",\"No\",\"Yes\",\"No\",\"Yes\",\"No\",\"No\",\"No\",\"Yes\",\"Yes\",\"Yes\",\"Yes\",\"No\",\"Yes\",\"Yes\",\"No\",\"Yes\",\"Yes\",\"No\",\"Yes\",\"No\",\"No\",\"No\",\"No\",\"Yes\",\"No\",\"Yes\",\"Yes\",\"Yes\",\"No\",\"Yes\",\"Yes\",\"No\",\"No\",\"No\",\"No\",\"No\",\"Yes\",\"No\",\"Yes\",\"Yes\",\"Yes\",\"No\",\"No\",\"Yes\",\"Yes\",\"No\",\"Yes\",\"Yes\",\"No\",\"Yes\",\"No\",\"No\",\"Yes\",\"Yes\",\"Yes\",\"Yes\",\"No\",\"No\",\"Yes\",\"Yes\",\"No\",\"Yes\",\"Yes\",\"No\",\"Yes\",\"Yes\",\"No\",\"No\",\"No\",\"No\",\"No\",\"Yes\",\"Yes\",\"Yes\",\"Yes\",\"No\",\"No\",\"No\",\"Yes\",\"Yes\",\"Yes\",\"Yes\",\"No\",\"No\",\"Yes\",\"Yes\",\"No\",\"Yes\",\"Yes\",\"No\",\"Yes\",\"No\",\"Yes\",\"No\",\"Yes\",\"No\",\"No\",\"Yes\",\"Yes\",\"Yes\",\"Yes\",\"Yes\",\"Yes\",\"Yes\",\"No\",\"Yes\",\"Yes\",\"Yes\",\"No\",\"Yes\",\"Yes\",\"Yes\",\"Yes\",\"No\",\"Yes\",\"No\",\"Yes\",\"Yes\",\"No\",\"Yes\",\"Yes\",\"Yes\",\"No\",\"No\",\"Yes\",\"Yes\",\"No\",\"No\",\"Yes\",\"Yes\",\"Yes\",\"Yes\",\"No\",\"No\",\"No\",\"No\",\"No\",\"Yes\",\"Yes\",\"Yes\",\"No\",\"Yes\",\"Yes\",\"Yes\",\"Yes\",\"Yes\",\"No\",\"No\",\"Yes\",\"Yes\",\"No\",\"No\",\"Yes\",\"No\",\"No\",\"No\",\"No\",\"Yes\",\"Yes\",\"Yes\",\"Yes\",\"Yes\",\"Yes\",\"Yes\",\"No\",\"Yes\",\"Yes\",\"No\",\"No\",\"Yes\",\"Yes\",\"No\",\"No\",\"Yes\",\"Yes\",\"No\",\"Yes\",\"No\",\"No\",\"Yes\",\"Yes\",\"No\",\"Yes\",\"Yes\",\"No\",\"Yes\",\"No\",\"Yes\",\"Yes\",\"Yes\",\"Yes\",\"Yes\",\"Yes\",\"Yes\",\"No\",\"No\",\"No\",\"Yes\",\"Yes\",\"Yes\",\"No\",\"Yes\",\"Yes\",\"Yes\",\"Yes\",\"Yes\",\"Yes\",\"Yes\",\"No\",\"Yes\",\"No\",\"No\",\"Yes\",\"No\",\"Yes\",\"No\",\"Yes\",\"No\",\"Yes\",\"Yes\",\"Yes\",\"Yes\",\"Yes\",\"Yes\",\"Yes\",\"Yes\",\"Yes\",\"No\",\"No\",\"Yes\",\"Yes\",\"Yes\",\"No\",\"No\",\"No\",\"No\",\"No\",\"Yes\",\"Yes\",\"No\",\"No\",\"No\",\"Yes\",\"Yes\",\"Yes\",\"No\",\"Yes\",\"No\",\"Yes\",\"No\",\"No\",\"No\",\"Yes\",\"No\",\"Yes\",\"Yes\",\"No\",\"No\",\"Yes\",\"No\",\"Yes\",\"No\",\"No\",\"No\",\"Yes\",\"No\",\"Yes\",\"No\",\"Yes\",\"Yes\",\"Yes\",\"Yes\",\"Yes\",\"No\",\"No\",\"Yes\",\"Yes\",\"Yes\",\"Yes\",\"Yes\",\"No\",\"Yes\",\"Yes\",\"Yes\",\"Yes\",\"Yes\",\"Yes\",\"Yes\",\"No\",\"Yes\",\"Yes\",\"No\",\"Yes\",\"Yes\",\"Yes\",\"Yes\",\"No\",\"No\",\"No\",\"Yes\",\"Yes\",\"No\",\"Yes\",\"Yes\",\"Yes\",\"Yes\",\"Yes\",\"Yes\",\"Yes\",\"No\",\"Yes\",\"Yes\",\"No\",\"No\",\"Yes\",\"Yes\",\"Yes\",\"No\",\"No\",\"Yes\",\"Yes\",\"Yes\",\"No\",\"Yes\",\"No\",\"Yes\",\"Yes\",\"Yes\",\"Yes\",\"Yes\",\"Yes\",\"Yes\",\"No\",\"Yes\",\"Yes\",\"Yes\",\"Yes\",\"Yes\",\"No\",\"No\",\"Yes\",\"No\",\"No\",\"Yes\",\"No\",\"Yes\",\"Yes\",\"No\",\"Yes\",\"No\",\"Yes\",\"No\",\"Yes\",\"No\",\"No\",\"No\",\"No\",\"No\",\"No\",\"Yes\",\"No\",\"No\",\"No\",\"Yes\",\"No\",\"Yes\",\"Yes\",\"Yes\",\"No\",\"Yes\",\"No\",\"Yes\",\"Yes\",\"No\",\"Yes\",\"Yes\",\"No\",\"Yes\",\"Yes\",\"Yes\",\"Yes\",\"Yes\",\"Yes\",\"Yes\",\"Yes\",\"No\",\"Yes\",\"Yes\",\"No\",\"No\",\"Yes\",\"No\",\"No\",\"No\",\"No\",\"No\",\"No\",\"No\",\"Yes\",\"No\",\"No\",\"Yes\",\"Yes\",\"No\",\"Yes\",\"No\",\"Yes\",\"No\",\"No\",\"No\",\"No\",\"No\",\"Yes\",\"No\",\"Yes\",\"Yes\",\"No\",\"Yes\",\"No\",\"Yes\",\"Yes\",\"Yes\",\"Yes\",\"No\",\"No\",\"Yes\",\"No\",\"No\",\"No\",\"No\",\"No\",\"No\",\"No\",\"Yes\",\"Yes\",\"Yes\",\"Yes\",\"Yes\",\"Yes\",\"Yes\",\"Yes\",\"Yes\",\"No\",\"Yes\",\"No\",\"Yes\",\"Yes\",\"No\",\"Yes\",\"No\",\"Yes\",\"Yes\",\"Yes\",\"Yes\",\"Yes\",\"Yes\",\"No\",\"Yes\",\"No\",\"Yes\",\"Yes\",\"No\",\"Yes\",\"Yes\",\"Yes\",\"Yes\",\"Yes\",\"Yes\",\"Yes\",\"No\",\"No\",\"No\",\"No\",\"No\",\"No\",\"Yes\",\"No\",\"Yes\",\"Yes\",\"Yes\",\"Yes\",\"Yes\",\"Yes\",\"Yes\",\"Yes\",\"Yes\",\"No\",\"No\",\"Yes\",\"Yes\",\"No\",\"Yes\",\"No\",\"Yes\",\"No\",\"Yes\",\"Yes\",\"Yes\",\"Yes\",\"Yes\",\"No\",\"Yes\",\"No\",\"No\",\"No\",\"Yes\",\"Yes\",\"No\",\"No\",\"Yes\",\"No\",\"No\",\"No\",\"No\",\"No\",\"No\",\"Yes\",\"No\",\"Yes\",\"Yes\",\"Yes\",\"No\",\"No\",\"Yes\",\"No\",\"No\",\"No\",\"Yes\",\"Yes\",\"Yes\",\"No\",\"Yes\",\"Yes\",\"Yes\",\"No\",\"Yes\",\"No\",\"No\",\"Yes\",\"No\",\"Yes\",\"No\",\"No\",\"Yes\",\"No\",\"Yes\",\"Yes\",\"Yes\",\"Yes\",\"No\",\"Yes\",\"Yes\",\"No\",\"Yes\",\"Yes\",\"Yes\",\"Yes\",\"Yes\",\"No\",\"No\",\"No\",\"Yes\",\"No\",\"No\",\"No\",\"No\",\"Yes\",\"Yes\",\"Yes\",\"No\",\"No\",\"Yes\",\"Yes\",\"No\",\"Yes\",\"No\",\"No\",\"No\",\"Yes\",\"No\",\"Yes\",\"Yes\",\"Yes\",\"Yes\",\"No\",\"No\",\"No\",\"No\",\"No\",\"Yes\",\"Yes\",\"No\",\"Yes\",\"No\",\"Yes\",\"Yes\",\"Yes\",\"Yes\",\"No\",\"Yes\",\"No\",\"Yes\",\"Yes\",\"Yes\",\"Yes\",\"No\",\"No\",\"No\",\"Yes\",\"Yes\",\"Yes\",\"Yes\",\"No\",\"Yes\",\"No\",\"No\",\"No\",\"Yes\",\"Yes\",\"Yes\",\"No\",\"Yes\",\"Yes\",\"Yes\",\"No\",\"Yes\",\"No\",\"No\",\"Yes\",\"Yes\",\"No\",\"Yes\",\"Yes\",\"Yes\",\"No\",\"No\",\"Yes\",\"No\",\"Yes\",\"No\",\"Yes\",\"No\",\"Yes\",\"No\",\"Yes\",\"No\",\"No\",\"No\",\"Yes\",\"Yes\",\"Yes\",\"Yes\",\"No\",\"Yes\",\"Yes\",\"No\",\"Yes\",\"Yes\",\"No\",\"No\",\"Yes\",\"Yes\",\"No\",\"Yes\",\"No\",\"Yes\",\"Yes\",\"Yes\",\"Yes\",\"Yes\",\"No\",\"Yes\",\"No\",\"No\",\"Yes\",\"No\",\"No\",\"No\",\"Yes\",\"No\",\"Yes\",\"No\",\"No\",\"Yes\",\"No\",\"No\",\"Yes\",\"No\",\"No\",\"Yes\",\"Yes\",\"Yes\",\"No\",\"Yes\",\"Yes\",\"No\",\"Yes\",\"Yes\",\"No\",\"No\",\"No\",\"No\",\"Yes\",\"Yes\",\"Yes\",\"Yes\",\"No\",\"No\",\"Yes\",\"No\",\"No\",\"No\",\"Yes\",\"No\",\"No\",\"No\",\"Yes\",\"Yes\",\"Yes\",\"No\",\"No\",\"No\",\"No\",\"No\",\"No\",\"No\",\"No\",\"No\",\"No\",\"No\",\"Yes\",\"Yes\",\"No\",\"No\",\"Yes\",\"No\",\"Yes\",\"No\",\"No\",\"No\",\"No\",\"Yes\",\"Yes\",\"No\",\"Yes\",\"No\",\"No\",\"No\",\"No\",\"No\",\"Yes\",\"Yes\",\"Yes\",\"Yes\",\"Yes\",\"Yes\",\"No\",\"Yes\",\"Yes\",\"No\",\"Yes\",\"Yes\",\"No\",\"Yes\",\"Yes\",\"Yes\",\"No\",\"Yes\",\"No\",\"No\",\"Yes\",\"Yes\",\"Yes\",\"No\",\"Yes\",\"No\",\"Yes\",\"Yes\",\"Yes\",\"No\",\"Yes\",\"No\",\"No\",\"No\",\"Yes\",\"Yes\",\"No\",\"No\",\"Yes\",\"No\",\"Yes\",\"Yes\",\"Yes\",\"Yes\",\"Yes\",\"Yes\",\"Yes\",\"No\",\"Yes\",\"No\",\"No\",\"Yes\",\"No\",\"No\",\"No\",\"Yes\",\"No\",\"No\",\"No\",\"No\",\"No\",\"Yes\",\"Yes\",\"No\",\"Yes\",\"Yes\",\"No\",\"No\",\"Yes\",\"No\",\"No\",\"No\",\"No\",\"Yes\",\"Yes\",\"No\",\"Yes\",\"No\",\"No\",\"Yes\",\"No\",\"Yes\",\"Yes\",\"Yes\",\"Yes\",\"No\",\"No\",\"No\",\"Yes\",\"No\",\"Yes\",\"Yes\",\"Yes\",\"Yes\",\"No\",\"No\",\"No\",\"Yes\",\"No\",\"No\",\"No\",\"Yes\",\"Yes\",\"No\",\"No\",\"Yes\",\"No\",\"Yes\",\"Yes\",\"No\",\"No\",\"Yes\",\"No\",\"No\",\"Yes\",\"No\",\"No\",\"Yes\",\"Yes\",\"No\",\"Yes\",\"No\",\"No\",\"Yes\",\"Yes\",\"No\",\"Yes\",\"No\",\"Yes\",\"Yes\",\"No\",\"Yes\",\"Yes\",\"Yes\",\"Yes\",\"Yes\",\"Yes\",\"Yes\",\"No\",\"No\",\"No\",\"No\",\"No\",\"No\",\"No\",\"No\",\"Yes\",\"Yes\",\"No\",\"Yes\",\"Yes\",\"No\",\"Yes\",\"Yes\",\"No\",\"No\",\"No\",\"No\",\"Yes\",\"No\",\"Yes\",\"No\",\"Yes\",\"No\",\"Yes\",\"Yes\",\"No\",\"No\",\"No\",\"Yes\",\"No\",\"Yes\",\"No\",\"Yes\",\"Yes\",\"Yes\",\"Yes\",\"No\",\"Yes\",\"Yes\",\"Yes\",\"No\",\"Yes\",\"No\",\"Yes\",\"Yes\",\"Yes\",\"Yes\",\"Yes\",\"Yes\",\"No\",\"No\",\"No\",\"No\",\"No\",\"Yes\",\"No\",\"No\",\"Yes\",\"No\",\"Yes\",\"Yes\",\"Yes\",\"No\",\"Yes\",\"No\",\"Yes\",\"No\",\"Yes\",\"Yes\",\"Yes\",\"Yes\",\"No\",\"No\",\"Yes\",\"Yes\",\"Yes\",\"No\",\"Yes\",\"No\",\"Yes\",\"Yes\",\"Yes\",\"No\",\"Yes\",\"Yes\",\"No\",\"No\",\"Yes\",\"No\",\"Yes\",\"Yes\",\"Yes\",\"Yes\",\"Yes\",\"No\",\"Yes\",\"Yes\",\"No\",\"Yes\",\"No\",\"Yes\",\"No\",\"Yes\",\"Yes\",\"Yes\",\"Yes\",\"No\",\"No\",\"No\",\"No\",\"Yes\",\"No\",\"Yes\",\"No\",\"Yes\",\"No\",\"No\",\"Yes\",\"Yes\",\"Yes\",\"Yes\",\"Yes\",\"No\",\"Yes\",\"Yes\",\"Yes\",\"Yes\",\"No\",\"No\",\"No\",\"Yes\",\"Yes\",\"Yes\",\"No\",\"No\",\"No\",\"Yes\",\"Yes\",\"No\",\"No\",\"Yes\",\"No\",\"No\",\"No\",\"No\",\"Yes\",\"No\",\"No\",\"No\",\"Yes\",\"Yes\",\"Yes\",\"Yes\",\"Yes\",\"No\",\"Yes\",\"No\",\"Yes\",\"No\",\"Yes\",\"Yes\",\"No\",\"Yes\",\"No\",\"Yes\",\"Yes\",\"Yes\",\"No\",\"Yes\",\"Yes\",\"Yes\",\"No\",\"No\",\"No\",\"Yes\",\"Yes\",\"No\",\"No\",\"Yes\",\"Yes\",\"No\",\"No\",\"No\",\"No\",\"No\",\"Yes\",\"No\",\"Yes\",\"No\",\"Yes\",\"No\",\"No\",\"No\",\"No\",\"No\",\"No\",\"Yes\",\"Yes\",\"No\",\"Yes\",\"Yes\",\"No\",\"Yes\",\"Yes\",\"Yes\",\"No\",\"No\",\"No\",\"Yes\",\"No\",\"Yes\",\"Yes\",\"No\",\"Yes\",\"No\",\"No\",\"Yes\",\"Yes\",\"No\",\"No\",\"Yes\",\"No\",\"Yes\",\"No\",\"No\",\"No\",\"Yes\",\"Yes\",\"Yes\",\"No\",\"Yes\",\"No\",\"Yes\",\"No\",\"No\",\"No\",\"Yes\",\"Yes\",\"Yes\",\"Yes\",\"Yes\",\"No\",\"Yes\",\"No\",\"Yes\",\"No\",\"No\",\"Yes\",\"No\",\"Yes\",\"No\",\"No\",\"No\",\"No\",\"No\",\"Yes\",\"Yes\",\"Yes\",\"No\",\"No\",\"Yes\",\"No\",\"No\",\"Yes\",\"Yes\",\"No\",\"No\",\"No\",\"No\",\"Yes\",\"No\",\"Yes\",\"No\",\"Yes\",\"Yes\",\"No\",\"Yes\",\"No\",\"No\",\"Yes\",\"Yes\",\"No\",\"Yes\",\"Yes\",\"No\",\"No\",\"No\",\"No\",\"Yes\",\"No\",\"No\",\"No\",\"No\",\"Yes\",\"No\",\"No\",\"No\",\"Yes\",\"No\",\"Yes\",\"Yes\",\"Yes\",\"No\",\"No\",\"No\",\"No\",\"No\",\"No\",\"No\",\"Yes\",\"Yes\",\"No\",\"Yes\",\"No\",\"No\",\"Yes\",\"No\",\"Yes\",\"No\",\"No\",\"Yes\",\"Yes\",\"No\",\"Yes\",\"No\",\"No\",\"Yes\",\"Yes\",\"Yes\",\"Yes\",\"No\",\"No\",\"Yes\",\"No\",\"No\",\"No\",\"No\",\"Yes\",\"Yes\",\"No\",\"No\",\"No\",\"Yes\",\"Yes\",\"Yes\",\"Yes\",\"Yes\",\"Yes\",\"Yes\",\"Yes\",\"No\",\"No\",\"No\",\"Yes\",\"Yes\",\"Yes\",\"Yes\",\"Yes\",\"No\",\"Yes\",\"No\",\"No\",\"Yes\",\"No\",\"Yes\",\"No\",\"Yes\",\"Yes\",\"No\",\"Yes\",\"No\",\"Yes\",\"Yes\",\"No\",\"No\",\"Yes\",\"No\",\"Yes\",\"Yes\",\"Yes\",\"No\",\"Yes\",\"Yes\",\"No\",\"No\",\"Yes\",\"Yes\",\"Yes\",\"Yes\",\"No\",\"No\",\"No\",\"Yes\",\"Yes\",\"Yes\",\"No\",\"Yes\",\"Yes\",\"No\",\"Yes\",\"Yes\",\"No\",\"No\",\"No\",\"Yes\",\"No\",\"No\",\"Yes\",\"No\",\"Yes\",\"Yes\",\"Yes\",\"Yes\",\"Yes\",\"Yes\",\"Yes\",\"Yes\",\"Yes\",\"Yes\",\"Yes\",\"No\",\"Yes\",\"No\",\"No\",\"Yes\",\"Yes\",\"Yes\",\"No\",\"No\",\"No\",\"No\",\"No\",\"Yes\",\"Yes\",\"Yes\",\"Yes\",\"Yes\",\"Yes\",\"No\",\"No\",\"Yes\",\"No\",\"No\",\"No\",\"Yes\",\"Yes\",\"Yes\",\"No\",\"No\",\"Yes\",\"No\",\"Yes\",\"No\",\"Yes\",\"Yes\",\"Yes\",\"Yes\",\"Yes\",\"Yes\",\"No\",\"No\",\"No\",\"Yes\",\"No\",\"Yes\",\"Yes\",\"No\",\"Yes\",\"No\",\"Yes\",\"No\",\"No\",\"No\",\"Yes\",\"Yes\",\"Yes\",\"No\",\"No\",\"Yes\",\"Yes\",\"No\",\"Yes\",\"No\",\"No\",\"Yes\",\"No\",\"Yes\",\"Yes\",\"No\",\"No\",\"No\",\"No\",\"Yes\",\"No\",\"Yes\",\"Yes\",\"No\",\"No\",\"Yes\",\"No\",\"Yes\",\"Yes\",\"No\",\"Yes\",\"No\",\"No\",\"Yes\",\"Yes\",\"Yes\",\"Yes\",\"Yes\",\"Yes\",\"Yes\",\"Yes\",\"Yes\",\"Yes\",\"No\",\"Yes\",\"No\",\"Yes\",\"No\",\"No\",\"Yes\",\"Yes\",\"No\",\"No\",\"Yes\",\"Yes\",\"No\",\"No\",\"Yes\",\"No\",\"No\",\"Yes\",\"Yes\",\"Yes\",\"No\",\"No\",\"Yes\",\"Yes\",\"Yes\",\"No\",\"Yes\",\"Yes\",\"No\",\"No\",\"No\",\"Yes\",\"Yes\",\"Yes\",\"No\",\"No\",\"No\",\"Yes\",\"No\",\"No\",\"Yes\",\"Yes\",\"No\",\"No\",\"Yes\",\"No\",\"Yes\",\"No\",\"Yes\",\"Yes\",\"Yes\",\"Yes\",\"Yes\",\"No\",\"No\",\"Yes\",\"Yes\",\"Yes\",\"No\",\"No\",\"No\",\"Yes\",\"No\",\"Yes\",\"No\",\"No\",\"No\",\"Yes\",\"No\",\"No\",\"No\",\"Yes\",\"No\",\"No\",\"No\",\"Yes\",\"No\",\"Yes\",\"Yes\",\"No\",\"Yes\",\"No\",\"Yes\",\"Yes\",\"Yes\",\"No\",\"No\",\"No\",\"Yes\",\"No\",\"Yes\",\"Yes\",\"No\",\"No\",\"No\",\"No\",\"Yes\",\"No\",\"Yes\",\"No\",\"No\",\"No\",\"Yes\",\"Yes\",\"No\",\"No\",\"No\",\"Yes\",\"Yes\",\"No\",\"Yes\",\"Yes\",\"No\",\"Yes\",\"No\",\"Yes\",\"Yes\",\"No\",\"No\",\"Yes\",\"No\",\"No\",\"Yes\",\"Yes\",\"Yes\",\"No\",\"No\",\"Yes\",\"No\",\"No\",\"No\",\"No\",\"Yes\",\"Yes\",\"Yes\",\"Yes\",\"No\",\"No\",\"Yes\",\"Yes\",\"Yes\",\"Yes\",\"Yes\",\"Yes\",\"Yes\",\"Yes\",\"No\",\"No\",\"No\",\"No\",\"No\",\"No\",\"Yes\",\"Yes\",\"No\",\"No\",\"No\",\"Yes\",\"No\",\"Yes\",\"Yes\",\"No\",\"Yes\",\"Yes\",\"Yes\",\"Yes\",\"No\",\"Yes\",\"No\",\"Yes\",\"No\",\"No\",\"Yes\",\"No\",\"No\",\"No\",\"Yes\",\"No\",\"No\",\"No\",\"No\",\"Yes\",\"No\",\"Yes\",\"No\",\"No\",\"Yes\",\"Yes\",\"Yes\",\"Yes\",\"Yes\",\"Yes\",\"No\",\"No\",\"No\",\"Yes\",\"Yes\",\"Yes\",\"Yes\",\"Yes\",\"No\",\"Yes\",\"No\",\"No\",\"Yes\",\"No\",\"No\",\"Yes\",\"No\",\"No\",\"Yes\",\"No\",\"Yes\",\"Yes\",\"Yes\",\"Yes\",\"Yes\",\"No\",\"Yes\",\"No\",\"Yes\",\"No\",\"No\",\"No\",\"No\",\"Yes\",\"Yes\",\"No\",\"No\",\"No\",\"No\",\"No\",\"Yes\",\"No\",\"No\",\"Yes\",\"No\",\"No\",\"No\",\"No\",\"No\",\"Yes\",\"Yes\",\"Yes\",\"No\",\"No\",\"Yes\",\"No\",\"Yes\",\"Yes\",\"Yes\",\"No\",\"Yes\",\"Yes\",\"Yes\",\"No\",\"Yes\",\"No\",\"Yes\",\"Yes\",\"Yes\",\"No\",\"Yes\",\"No\",\"No\",\"No\",\"Yes\",\"Yes\",\"No\",\"No\",\"No\",\"No\",\"Yes\",\"Yes\",\"Yes\",\"No\",\"No\",\"No\",\"Yes\",\"No\",\"Yes\",\"Yes\",\"Yes\",\"Yes\",\"No\",\"Yes\",\"Yes\",\"Yes\",\"Yes\",\"No\",\"No\",\"No\",\"No\",\"No\",\"Yes\",\"Yes\",\"Yes\",\"Yes\",\"Yes\",\"Yes\",\"Yes\",\"No\",\"Yes\",\"Yes\",\"No\",\"No\",\"No\",\"Yes\",\"No\",\"Yes\",\"Yes\",\"No\",\"No\",\"Yes\",\"Yes\",\"Yes\",\"No\",\"No\",\"Yes\",\"Yes\",\"No\",\"No\",\"No\",\"No\",\"Yes\",\"No\",\"No\",\"Yes\",\"Yes\",\"No\",\"No\",\"Yes\",\"No\",\"No\",\"No\",\"No\",\"No\",\"No\",\"Yes\",\"No\",\"Yes\",\"Yes\",\"No\",\"Yes\",\"No\",\"Yes\",\"Yes\",\"Yes\",\"Yes\",\"No\",\"No\",\"No\",\"Yes\",\"No\",\"Yes\",\"No\",\"Yes\",\"Yes\",\"No\",\"Yes\",\"Yes\",\"Yes\",\"Yes\",\"Yes\",\"No\",\"No\",\"Yes\",\"Yes\",\"Yes\",\"No\",\"Yes\",\"No\",\"No\",\"Yes\",\"Yes\",\"No\",\"No\",\"No\",\"Yes\",\"Yes\",\"Yes\",\"No\",\"No\",\"Yes\",\"No\",\"Yes\",\"Yes\",\"No\",\"No\",\"No\",\"No\",\"Yes\",\"No\",\"Yes\",\"Yes\",\"Yes\",\"Yes\",\"Yes\",\"No\",\"Yes\",\"Yes\",\"No\",\"Yes\",\"No\",\"Yes\",\"Yes\",\"Yes\",\"Yes\",\"Yes\",\"No\",\"Yes\",\"No\",\"Yes\",\"Yes\",\"Yes\",\"No\",\"No\",\"No\",\"No\",\"Yes\",\"Yes\",\"No\",\"No\",\"No\",\"No\",\"No\",\"Yes\",\"No\",\"No\",\"No\",\"Yes\",\"Yes\",\"No\",\"No\",\"Yes\",\"Yes\",\"Yes\",\"Yes\",\"Yes\",\"Yes\",\"Yes\",\"Yes\",\"Yes\",\"Yes\",\"Yes\",\"Yes\",\"Yes\",\"Yes\",\"Yes\",\"Yes\",\"Yes\",\"Yes\",\"No\",\"No\",\"No\",\"No\",\"Yes\",\"Yes\",\"No\",\"No\",\"Yes\",\"No\",\"No\",\"No\",\"Yes\",\"Yes\",\"Yes\",\"Yes\",\"No\",\"No\",\"No\",\"Yes\",\"No\",\"No\",\"Yes\",\"Yes\",\"Yes\",\"Yes\",\"No\",\"Yes\",\"Yes\",\"No\",\"No\",\"Yes\",\"Yes\",\"Yes\",\"No\",\"No\",\"Yes\",\"No\",\"No\",\"Yes\",\"No\",\"No\",\"No\",\"Yes\",\"No\",\"No\",\"No\",\"Yes\",\"No\",\"Yes\",\"No\",\"Yes\",\"No\",\"No\",\"No\",\"No\",\"No\",\"No\",\"No\",\"No\",\"Yes\",\"No\",\"Yes\",\"No\",\"No\",\"Yes\",\"No\",\"Yes\",\"Yes\",\"Yes\",\"No\",\"No\",\"Yes\",\"Yes\",\"Yes\",\"No\",\"No\",\"Yes\",\"Yes\",\"Yes\",\"No\",\"Yes\",\"Yes\",\"Yes\",\"No\",\"Yes\",\"Yes\",\"Yes\",\"No\",\"Yes\",\"Yes\",\"Yes\",\"No\",\"Yes\",\"Yes\",\"Yes\",\"Yes\",\"Yes\",\"Yes\",\"Yes\",\"Yes\",\"Yes\",\"Yes\",\"Yes\",\"No\",\"Yes\",\"Yes\",\"Yes\",\"No\",\"Yes\",\"No\",\"No\",\"No\",\"Yes\",\"Yes\",\"No\",\"Yes\",\"No\",\"No\",\"Yes\",\"Yes\",\"Yes\",\"Yes\",\"No\",\"Yes\",\"No\",\"No\",\"No\",\"No\",\"Yes\",\"Yes\",\"Yes\",\"No\",\"No\",\"Yes\",\"No\",\"No\",\"Yes\",\"Yes\",\"Yes\",\"Yes\",\"Yes\",\"No\",\"Yes\",\"No\",\"Yes\",\"No\",\"No\",\"Yes\",\"No\",\"No\",\"No\",\"No\",\"No\",\"Yes\",\"No\",\"No\",\"Yes\",\"Yes\",\"No\",\"No\",\"Yes\",\"No\",\"Yes\",\"No\",\"No\",\"No\",\"No\",\"No\",\"Yes\",\"No\",\"Yes\",\"No\",\"Yes\",\"Yes\",\"Yes\",\"Yes\",\"Yes\",\"No\",\"Yes\",\"No\",\"No\",\"No\",\"Yes\",\"No\",\"Yes\",\"No\",\"Yes\",\"Yes\",\"Yes\",\"No\",\"No\",\"Yes\",\"No\",\"Yes\",\"Yes\",\"No\",\"No\",\"No\",\"Yes\",\"No\",\"Yes\",\"No\",\"No\",\"No\",\"No\",\"No\",\"Yes\",\"Yes\",\"Yes\",\"No\",\"No\",\"Yes\",\"Yes\",\"No\",\"Yes\",\"No\",\"No\",\"No\",\"No\",\"Yes\",\"Yes\",\"No\",\"Yes\",\"No\",\"No\",\"No\",\"No\",\"No\",\"No\",\"Yes\",\"No\",\"Yes\",\"Yes\",\"Yes\",\"No\",\"No\",\"No\",\"No\",\"No\",\"Yes\",\"Yes\",\"No\",\"Yes\",\"No\",\"Yes\",\"No\",\"No\",\"Yes\",\"Yes\",\"No\",\"Yes\",\"Yes\",\"No\",\"Yes\",\"Yes\",\"No\",\"Yes\",\"Yes\",\"No\",\"Yes\",\"No\",\"No\",\"Yes\",\"No\",\"No\",\"No\",\"No\",\"No\",\"No\",\"Yes\",\"No\",\"Yes\",\"No\",\"Yes\",\"No\",\"No\",\"No\",\"No\",\"No\",\"Yes\",\"No\",\"No\",\"Yes\",\"Yes\",\"No\",\"Yes\",\"No\",\"Yes\",\"No\",\"No\",\"Yes\",\"Yes\",\"No\",\"Yes\",\"No\",\"Yes\",\"No\",\"Yes\",\"Yes\",\"No\",\"No\",\"No\",\"No\",\"No\",\"No\",\"No\",\"No\",\"No\",\"Yes\",\"No\",\"Yes\",\"Yes\",\"No\",\"No\",\"Yes\",\"No\",\"Yes\",\"Yes\",\"No\",\"Yes\",\"Yes\",\"Yes\",\"Yes\",\"Yes\",\"No\",\"No\",\"Yes\",\"Yes\",\"Yes\",\"No\",\"Yes\",\"Yes\",\"No\",\"Yes\",\"Yes\",\"No\",\"Yes\",\"No\",\"No\",\"Yes\",\"Yes\",\"Yes\",\"Yes\",\"Yes\",\"Yes\",\"Yes\",\"Yes\",\"No\",\"Yes\",\"Yes\",\"Yes\",\"Yes\",\"Yes\",\"No\",\"Yes\",\"No\",\"No\",\"No\",\"No\",\"Yes\",\"No\",\"No\",\"Yes\",\"Yes\",\"Yes\",\"No\",\"No\",\"No\",\"No\",\"Yes\",\"Yes\",\"No\",\"No\",\"No\",\"No\",\"No\",\"Yes\",\"Yes\",\"Yes\",\"Yes\",\"Yes\",\"No\",\"Yes\",\"Yes\",\"Yes\",\"No\",\"No\",\"Yes\",\"Yes\",\"Yes\",\"Yes\",\"No\",\"No\",\"Yes\",\"Yes\",\"Yes\",\"No\",\"No\",\"No\",\"No\",\"Yes\",\"Yes\",\"Yes\",\"Yes\",\"No\",\"Yes\",\"Yes\",\"Yes\",\"Yes\",\"Yes\",\"Yes\",\"No\",\"No\",\"Yes\",\"Yes\",\"Yes\",\"No\",\"No\",\"No\",\"No\",\"Yes\",\"Yes\",\"No\",\"Yes\",\"No\",\"Yes\",\"No\",\"Yes\",\"Yes\",\"No\",\"No\",\"No\",\"No\",\"Yes\",\"No\",\"Yes\",\"No\",\"Yes\",\"No\",\"Yes\",\"No\",\"Yes\",\"Yes\",\"Yes\",\"Yes\",\"Yes\",\"Yes\",\"No\",\"No\",\"Yes\",\"No\",\"Yes\",\"No\",\"Yes\",\"No\",\"Yes\",\"No\",\"Yes\",\"No\",\"Yes\",\"No\",\"Yes\",\"No\",\"No\",\"Yes\",\"No\",\"Yes\",\"Yes\",\"No\",\"No\",\"Yes\",\"No\",\"Yes\",\"No\",\"No\",\"Yes\",\"Yes\",\"Yes\",\"Yes\",\"Yes\",\"Yes\",\"No\",\"Yes\",\"No\",\"Yes\",\"Yes\",\"Yes\",\"No\",\"Yes\",\"Yes\",\"No\",\"No\",\"No\",\"No\",\"Yes\",\"No\",\"Yes\",\"No\",\"Yes\",\"Yes\",\"Yes\",\"No\",\"No\",\"Yes\",\"Yes\",\"Yes\",\"Yes\",\"No\",\"No\",\"Yes\",\"Yes\",\"Yes\",\"Yes\",\"No\",\"Yes\",\"No\",\"Yes\",\"Yes\",\"Yes\",\"Yes\",\"Yes\",\"Yes\",\"No\",\"Yes\",\"Yes\",\"No\",\"Yes\",\"Yes\",\"Yes\",\"Yes\",\"Yes\",\"Yes\",\"Yes\",\"Yes\",\"No\",\"No\",\"Yes\",\"No\",\"No\",\"No\",\"No\",\"No\",\"Yes\",\"Yes\",\"Yes\",\"Yes\",\"Yes\",\"Yes\",\"Yes\",\"Yes\",\"No\",\"No\",\"No\",\"No\",\"Yes\",\"No\",\"No\",\"Yes\",\"No\",\"No\",\"No\",\"Yes\",\"No\",\"No\",\"No\",\"No\",\"Yes\",\"No\",\"Yes\",\"No\",\"No\",\"Yes\",\"No\",\"No\",\"No\",\"No\",\"Yes\",\"Yes\",\"No\",\"No\",\"Yes\",\"Yes\",\"Yes\",\"No\",\"Yes\",\"No\",\"Yes\",\"Yes\",\"No\",\"Yes\",\"Yes\",\"Yes\",\"Yes\",\"No\",\"Yes\",\"Yes\",\"Yes\",\"Yes\",\"No\",\"No\",\"No\",\"Yes\",\"Yes\",\"No\",\"No\",\"No\",\"No\",\"Yes\",\"Yes\",\"No\",\"Yes\",\"Yes\",\"Yes\",\"No\",\"Yes\",\"Yes\",\"No\",\"No\",\"Yes\",\"No\",\"Yes\",\"No\",\"Yes\",\"Yes\",\"Yes\",\"No\",\"No\",\"Yes\",\"No\",\"No\",\"Yes\",\"Yes\",\"Yes\",\"No\",\"Yes\",\"No\",\"No\",\"Yes\",\"Yes\",\"No\",\"Yes\",\"Yes\",\"Yes\",\"No\",\"No\",\"No\",\"Yes\",\"Yes\",\"Yes\",\"Yes\",\"Yes\",\"No\",\"Yes\",\"No\",\"Yes\",\"Yes\",\"Yes\",\"Yes\",\"Yes\",\"No\",\"Yes\",\"Yes\",\"Yes\",\"No\",\"No\",\"Yes\",\"No\",\"No\",\"Yes\",\"No\",\"No\",\"Yes\",\"No\",\"Yes\",\"Yes\",\"Yes\",\"Yes\",\"No\",\"Yes\",\"Yes\",\"No\",\"No\",\"No\",\"Yes\",\"No\",\"No\",\"No\",\"Yes\",\"Yes\",\"No\",\"Yes\",\"Yes\",\"No\",\"No\",\"Yes\",\"Yes\",\"No\",\"Yes\",\"No\",\"No\"],\"yaxis\":\"y\",\"type\":\"histogram\"},{\"alignmentgroup\":\"True\",\"bingroup\":\"y\",\"hovertemplate\":\"Churn=Yes\\u003cbr\\u003ecount=%{x}\\u003cbr\\u003ePaperlessBilling=%{y}\\u003cextra\\u003e\\u003c\\u002fextra\\u003e\",\"legendgroup\":\"Yes\",\"marker\":{\"color\":\"#EF553B\",\"pattern\":{\"shape\":\"\"}},\"name\":\"Yes\",\"offsetgroup\":\"Yes\",\"orientation\":\"h\",\"showlegend\":true,\"xaxis\":\"x\",\"y\":[\"Yes\",\"Yes\",\"Yes\",\"No\",\"Yes\",\"No\",\"No\",\"No\",\"Yes\",\"Yes\",\"Yes\",\"Yes\",\"Yes\",\"No\",\"Yes\",\"No\",\"Yes\",\"Yes\",\"Yes\",\"Yes\",\"Yes\",\"No\",\"Yes\",\"No\",\"Yes\",\"Yes\",\"Yes\",\"Yes\",\"No\",\"No\",\"No\",\"Yes\",\"Yes\",\"No\",\"Yes\",\"Yes\",\"Yes\",\"Yes\",\"Yes\",\"Yes\",\"Yes\",\"Yes\",\"No\",\"No\",\"Yes\",\"Yes\",\"No\",\"Yes\",\"Yes\",\"Yes\",\"Yes\",\"Yes\",\"No\",\"Yes\",\"Yes\",\"Yes\",\"Yes\",\"Yes\",\"No\",\"Yes\",\"Yes\",\"No\",\"Yes\",\"Yes\",\"Yes\",\"Yes\",\"Yes\",\"Yes\",\"No\",\"No\",\"No\",\"Yes\",\"Yes\",\"Yes\",\"Yes\",\"Yes\",\"Yes\",\"Yes\",\"No\",\"No\",\"No\",\"Yes\",\"Yes\",\"No\",\"Yes\",\"Yes\",\"Yes\",\"Yes\",\"Yes\",\"Yes\",\"No\",\"Yes\",\"No\",\"Yes\",\"No\",\"No\",\"No\",\"Yes\",\"Yes\",\"No\",\"Yes\",\"Yes\",\"Yes\",\"Yes\",\"Yes\",\"No\",\"Yes\",\"Yes\",\"No\",\"No\",\"Yes\",\"No\",\"No\",\"No\",\"No\",\"Yes\",\"Yes\",\"Yes\",\"Yes\",\"Yes\",\"Yes\",\"No\",\"Yes\",\"Yes\",\"No\",\"No\",\"Yes\",\"Yes\",\"Yes\",\"Yes\",\"Yes\",\"No\",\"No\",\"Yes\",\"Yes\",\"Yes\",\"Yes\",\"Yes\",\"Yes\",\"Yes\",\"Yes\",\"Yes\",\"Yes\",\"Yes\",\"Yes\",\"No\",\"Yes\",\"Yes\",\"Yes\",\"Yes\",\"No\",\"Yes\",\"Yes\",\"Yes\",\"Yes\",\"Yes\",\"No\",\"Yes\",\"Yes\",\"Yes\",\"No\",\"Yes\",\"No\",\"Yes\",\"No\",\"No\",\"Yes\",\"Yes\",\"Yes\",\"Yes\",\"Yes\",\"No\",\"No\",\"Yes\",\"Yes\",\"Yes\",\"Yes\",\"Yes\",\"No\",\"No\",\"No\",\"Yes\",\"Yes\",\"Yes\",\"Yes\",\"Yes\",\"No\",\"Yes\",\"Yes\",\"Yes\",\"Yes\",\"No\",\"Yes\",\"No\",\"No\",\"Yes\",\"Yes\",\"No\",\"Yes\",\"No\",\"No\",\"Yes\",\"Yes\",\"No\",\"Yes\",\"Yes\",\"No\",\"Yes\",\"Yes\",\"Yes\",\"Yes\",\"No\",\"No\",\"Yes\",\"Yes\",\"Yes\",\"No\",\"Yes\",\"Yes\",\"Yes\",\"Yes\",\"Yes\",\"Yes\",\"No\",\"Yes\",\"Yes\",\"Yes\",\"No\",\"Yes\",\"No\",\"No\",\"Yes\",\"Yes\",\"Yes\",\"No\",\"Yes\",\"Yes\",\"Yes\",\"Yes\",\"Yes\",\"Yes\",\"No\",\"Yes\",\"Yes\",\"Yes\",\"No\",\"Yes\",\"No\",\"Yes\",\"Yes\",\"Yes\",\"No\",\"Yes\",\"Yes\",\"Yes\",\"No\",\"No\",\"Yes\",\"Yes\",\"Yes\",\"Yes\",\"Yes\",\"No\",\"Yes\",\"Yes\",\"No\",\"Yes\",\"Yes\",\"Yes\",\"Yes\",\"Yes\",\"Yes\",\"Yes\",\"Yes\",\"Yes\",\"No\",\"Yes\",\"Yes\",\"Yes\",\"Yes\",\"Yes\",\"No\",\"No\",\"Yes\",\"Yes\",\"No\",\"Yes\",\"Yes\",\"Yes\",\"No\",\"Yes\",\"No\",\"Yes\",\"No\",\"Yes\",\"Yes\",\"No\",\"No\",\"No\",\"Yes\",\"No\",\"No\",\"Yes\",\"No\",\"Yes\",\"Yes\",\"Yes\",\"Yes\",\"Yes\",\"Yes\",\"Yes\",\"Yes\",\"Yes\",\"No\",\"Yes\",\"Yes\",\"Yes\",\"Yes\",\"No\",\"Yes\",\"Yes\",\"No\",\"Yes\",\"No\",\"Yes\",\"Yes\",\"Yes\",\"Yes\",\"Yes\",\"No\",\"Yes\",\"Yes\",\"No\",\"Yes\",\"Yes\",\"Yes\",\"Yes\",\"Yes\",\"No\",\"Yes\",\"Yes\",\"No\",\"No\",\"Yes\",\"Yes\",\"Yes\",\"No\",\"Yes\",\"Yes\",\"No\",\"No\",\"No\",\"Yes\",\"Yes\",\"No\",\"Yes\",\"Yes\",\"Yes\",\"Yes\",\"Yes\",\"No\",\"No\",\"Yes\",\"Yes\",\"Yes\",\"No\",\"Yes\",\"Yes\",\"Yes\",\"Yes\",\"Yes\",\"Yes\",\"Yes\",\"Yes\",\"Yes\",\"Yes\",\"Yes\",\"Yes\",\"No\",\"Yes\",\"Yes\",\"Yes\",\"Yes\",\"No\",\"Yes\",\"No\",\"Yes\",\"No\",\"Yes\",\"No\",\"Yes\",\"Yes\",\"No\",\"Yes\",\"Yes\",\"Yes\",\"Yes\",\"Yes\",\"Yes\",\"Yes\",\"Yes\",\"Yes\",\"Yes\",\"Yes\",\"No\",\"Yes\",\"Yes\",\"No\",\"No\",\"No\",\"No\",\"Yes\",\"Yes\",\"Yes\",\"Yes\",\"Yes\",\"Yes\",\"Yes\",\"No\",\"Yes\",\"Yes\",\"Yes\",\"No\",\"Yes\",\"Yes\",\"Yes\",\"Yes\",\"Yes\",\"Yes\",\"Yes\",\"No\",\"No\",\"Yes\",\"Yes\",\"Yes\",\"No\",\"Yes\",\"Yes\",\"Yes\",\"Yes\",\"Yes\",\"Yes\",\"Yes\",\"Yes\",\"Yes\",\"Yes\",\"Yes\",\"Yes\",\"Yes\",\"No\",\"Yes\",\"Yes\",\"Yes\",\"Yes\",\"Yes\",\"Yes\",\"Yes\",\"Yes\",\"Yes\",\"Yes\",\"Yes\",\"Yes\",\"Yes\",\"Yes\",\"Yes\",\"Yes\",\"Yes\",\"No\",\"Yes\",\"Yes\",\"Yes\",\"Yes\",\"Yes\",\"Yes\",\"Yes\",\"Yes\",\"Yes\",\"Yes\",\"Yes\",\"Yes\",\"Yes\",\"Yes\",\"Yes\",\"Yes\",\"No\",\"Yes\",\"Yes\",\"Yes\",\"Yes\",\"Yes\",\"Yes\",\"No\",\"Yes\",\"Yes\",\"Yes\",\"No\",\"No\",\"Yes\",\"Yes\",\"Yes\",\"Yes\",\"Yes\",\"No\",\"No\",\"No\",\"Yes\",\"Yes\",\"Yes\",\"No\",\"No\",\"Yes\",\"Yes\",\"Yes\",\"Yes\",\"No\",\"Yes\",\"No\",\"No\",\"Yes\",\"No\",\"Yes\",\"Yes\",\"No\",\"Yes\",\"Yes\",\"Yes\",\"Yes\",\"No\",\"Yes\",\"No\",\"Yes\",\"Yes\",\"Yes\",\"Yes\",\"Yes\",\"Yes\",\"Yes\",\"Yes\",\"No\",\"Yes\",\"Yes\",\"Yes\",\"No\",\"Yes\",\"No\",\"No\",\"Yes\",\"No\",\"Yes\",\"Yes\",\"Yes\",\"Yes\",\"Yes\",\"Yes\",\"No\",\"Yes\",\"Yes\",\"Yes\",\"Yes\",\"Yes\",\"Yes\",\"Yes\",\"Yes\",\"Yes\",\"Yes\",\"No\",\"No\",\"Yes\",\"No\",\"No\",\"Yes\",\"No\",\"Yes\",\"Yes\",\"Yes\",\"Yes\",\"Yes\",\"No\",\"Yes\",\"No\",\"Yes\",\"Yes\",\"No\",\"No\",\"Yes\",\"Yes\",\"Yes\",\"No\",\"Yes\",\"Yes\",\"Yes\",\"Yes\",\"No\",\"Yes\",\"No\",\"Yes\",\"Yes\",\"Yes\",\"No\",\"Yes\",\"No\",\"Yes\",\"Yes\",\"Yes\",\"Yes\",\"Yes\",\"No\",\"Yes\",\"Yes\",\"Yes\",\"Yes\",\"Yes\",\"Yes\",\"Yes\",\"No\",\"No\",\"Yes\",\"Yes\",\"Yes\",\"Yes\",\"No\",\"Yes\",\"No\",\"Yes\",\"No\",\"Yes\",\"Yes\",\"No\",\"Yes\",\"Yes\",\"Yes\",\"Yes\",\"Yes\",\"Yes\",\"Yes\",\"Yes\",\"No\",\"Yes\",\"Yes\",\"Yes\",\"Yes\",\"Yes\",\"Yes\",\"No\",\"No\",\"No\",\"Yes\",\"Yes\",\"No\",\"Yes\",\"Yes\",\"Yes\",\"Yes\",\"Yes\",\"Yes\",\"Yes\",\"No\",\"No\",\"Yes\",\"Yes\",\"Yes\",\"No\",\"Yes\",\"No\",\"Yes\",\"Yes\",\"Yes\",\"Yes\",\"Yes\",\"Yes\",\"No\",\"Yes\",\"Yes\",\"Yes\",\"No\",\"No\",\"Yes\",\"Yes\",\"Yes\",\"No\",\"Yes\",\"Yes\",\"Yes\",\"Yes\",\"No\",\"Yes\",\"Yes\",\"Yes\",\"Yes\",\"Yes\",\"Yes\",\"No\",\"Yes\",\"Yes\",\"No\",\"Yes\",\"Yes\",\"Yes\",\"Yes\",\"Yes\",\"Yes\",\"Yes\",\"Yes\",\"Yes\",\"No\",\"No\",\"Yes\",\"Yes\",\"No\",\"Yes\",\"Yes\",\"No\",\"Yes\",\"Yes\",\"Yes\",\"Yes\",\"Yes\",\"No\",\"No\",\"Yes\",\"Yes\",\"Yes\",\"Yes\",\"No\",\"Yes\",\"Yes\",\"No\",\"Yes\",\"No\",\"No\",\"Yes\",\"No\",\"No\",\"No\",\"Yes\",\"Yes\",\"Yes\",\"No\",\"No\",\"Yes\",\"No\",\"Yes\",\"Yes\",\"Yes\",\"Yes\",\"Yes\",\"Yes\",\"Yes\",\"No\",\"Yes\",\"Yes\",\"Yes\",\"Yes\",\"Yes\",\"Yes\",\"Yes\",\"Yes\",\"Yes\",\"Yes\",\"Yes\",\"Yes\",\"Yes\",\"Yes\",\"Yes\",\"Yes\",\"Yes\",\"No\",\"Yes\",\"No\",\"Yes\",\"Yes\",\"Yes\",\"Yes\",\"No\",\"No\",\"Yes\",\"Yes\",\"Yes\",\"No\",\"Yes\",\"No\",\"Yes\",\"Yes\",\"Yes\",\"Yes\",\"No\",\"Yes\",\"Yes\",\"Yes\",\"No\",\"No\",\"Yes\",\"No\",\"No\",\"Yes\",\"No\",\"Yes\",\"No\",\"Yes\",\"Yes\",\"Yes\",\"Yes\",\"Yes\",\"Yes\",\"No\",\"No\",\"Yes\",\"Yes\",\"Yes\",\"Yes\",\"Yes\",\"Yes\",\"Yes\",\"Yes\",\"No\",\"Yes\",\"Yes\",\"Yes\",\"Yes\",\"Yes\",\"Yes\",\"No\",\"Yes\",\"Yes\",\"Yes\",\"Yes\",\"Yes\",\"Yes\",\"Yes\",\"Yes\",\"Yes\",\"Yes\",\"No\",\"Yes\",\"Yes\",\"Yes\",\"Yes\",\"Yes\",\"No\",\"Yes\",\"Yes\",\"Yes\",\"Yes\",\"No\",\"Yes\",\"Yes\",\"Yes\",\"No\",\"No\",\"No\",\"No\",\"No\",\"Yes\",\"Yes\",\"No\",\"Yes\",\"No\",\"Yes\",\"No\",\"Yes\",\"No\",\"Yes\",\"Yes\",\"Yes\",\"No\",\"No\",\"Yes\",\"Yes\",\"Yes\",\"Yes\",\"No\",\"Yes\",\"Yes\",\"Yes\",\"Yes\",\"Yes\",\"No\",\"No\",\"Yes\",\"Yes\",\"Yes\",\"Yes\",\"Yes\",\"Yes\",\"Yes\",\"Yes\",\"Yes\",\"Yes\",\"No\",\"Yes\",\"Yes\",\"No\",\"Yes\",\"Yes\",\"Yes\",\"No\",\"Yes\",\"Yes\",\"Yes\",\"Yes\",\"No\",\"Yes\",\"Yes\",\"Yes\",\"Yes\",\"Yes\",\"Yes\",\"No\",\"Yes\",\"Yes\",\"No\",\"Yes\",\"No\",\"Yes\",\"Yes\",\"No\",\"No\",\"No\",\"No\",\"Yes\",\"No\",\"Yes\",\"Yes\",\"Yes\",\"Yes\",\"Yes\",\"Yes\",\"Yes\",\"Yes\",\"Yes\",\"Yes\",\"Yes\",\"Yes\",\"Yes\",\"Yes\",\"Yes\",\"Yes\",\"Yes\",\"Yes\",\"Yes\",\"No\",\"No\",\"Yes\",\"Yes\",\"Yes\",\"Yes\",\"Yes\",\"Yes\",\"Yes\",\"No\",\"Yes\",\"No\",\"No\",\"Yes\",\"No\",\"No\",\"Yes\",\"Yes\",\"Yes\",\"Yes\",\"Yes\",\"No\",\"Yes\",\"No\",\"Yes\",\"Yes\",\"Yes\",\"Yes\",\"Yes\",\"No\",\"Yes\",\"Yes\",\"Yes\",\"Yes\",\"Yes\",\"No\",\"No\",\"Yes\",\"No\",\"No\",\"No\",\"Yes\",\"No\",\"Yes\",\"Yes\",\"Yes\",\"Yes\",\"Yes\",\"Yes\",\"Yes\",\"Yes\",\"Yes\",\"No\",\"Yes\",\"No\",\"Yes\",\"Yes\",\"No\",\"Yes\",\"No\",\"No\",\"Yes\",\"Yes\",\"Yes\",\"No\",\"Yes\",\"Yes\",\"No\",\"Yes\",\"Yes\",\"Yes\",\"No\",\"Yes\",\"Yes\",\"Yes\",\"Yes\",\"Yes\",\"Yes\",\"Yes\",\"Yes\",\"Yes\",\"Yes\",\"Yes\",\"Yes\",\"Yes\",\"Yes\",\"Yes\",\"Yes\",\"Yes\",\"No\",\"Yes\",\"Yes\",\"Yes\",\"Yes\",\"Yes\",\"Yes\",\"No\",\"Yes\",\"Yes\",\"Yes\",\"Yes\",\"Yes\",\"Yes\",\"Yes\",\"Yes\",\"Yes\",\"Yes\",\"Yes\",\"Yes\",\"Yes\",\"No\",\"No\",\"Yes\",\"Yes\",\"Yes\",\"Yes\",\"No\",\"Yes\",\"No\",\"Yes\",\"No\",\"Yes\",\"Yes\",\"No\",\"Yes\",\"Yes\",\"No\",\"No\",\"Yes\",\"Yes\",\"No\",\"Yes\",\"No\",\"Yes\",\"No\",\"Yes\",\"Yes\",\"Yes\",\"Yes\",\"Yes\",\"Yes\",\"Yes\",\"No\",\"No\",\"Yes\",\"Yes\",\"Yes\",\"Yes\",\"Yes\",\"Yes\",\"Yes\",\"No\",\"No\",\"Yes\",\"Yes\",\"Yes\",\"Yes\",\"Yes\",\"No\",\"No\",\"Yes\",\"No\",\"No\",\"Yes\",\"Yes\",\"No\",\"Yes\",\"Yes\",\"Yes\",\"No\",\"Yes\",\"Yes\",\"Yes\",\"No\",\"No\",\"Yes\",\"Yes\",\"No\",\"Yes\",\"Yes\",\"No\",\"Yes\",\"No\",\"No\",\"Yes\",\"Yes\",\"Yes\",\"Yes\",\"Yes\",\"Yes\",\"Yes\",\"Yes\",\"Yes\",\"Yes\",\"No\",\"Yes\",\"No\",\"Yes\",\"Yes\",\"Yes\",\"Yes\",\"Yes\",\"Yes\",\"Yes\",\"Yes\",\"Yes\",\"No\",\"Yes\",\"Yes\",\"No\",\"Yes\",\"No\",\"Yes\",\"Yes\",\"Yes\",\"Yes\",\"Yes\",\"Yes\",\"Yes\",\"Yes\",\"No\",\"Yes\",\"Yes\",\"Yes\",\"Yes\",\"Yes\",\"Yes\",\"Yes\",\"Yes\",\"Yes\",\"Yes\",\"Yes\",\"Yes\",\"Yes\",\"Yes\",\"No\",\"Yes\",\"Yes\",\"Yes\",\"No\",\"Yes\",\"No\",\"Yes\",\"Yes\",\"Yes\",\"Yes\",\"No\",\"Yes\",\"No\",\"Yes\",\"No\",\"Yes\",\"No\",\"Yes\",\"Yes\",\"Yes\",\"No\",\"Yes\",\"Yes\",\"No\",\"Yes\",\"No\",\"Yes\",\"No\",\"Yes\",\"No\",\"Yes\",\"Yes\",\"Yes\",\"Yes\",\"Yes\",\"Yes\",\"Yes\",\"Yes\",\"Yes\",\"Yes\",\"No\",\"Yes\",\"No\",\"No\",\"Yes\",\"Yes\",\"Yes\",\"Yes\",\"Yes\",\"No\",\"Yes\",\"Yes\",\"Yes\",\"Yes\",\"Yes\",\"No\",\"No\",\"No\",\"Yes\",\"Yes\",\"Yes\",\"Yes\",\"Yes\",\"No\",\"Yes\",\"Yes\",\"No\",\"Yes\",\"Yes\",\"Yes\",\"Yes\",\"Yes\",\"Yes\",\"Yes\",\"Yes\",\"Yes\",\"Yes\",\"Yes\",\"Yes\",\"Yes\",\"Yes\",\"Yes\",\"Yes\",\"Yes\",\"Yes\",\"No\",\"Yes\",\"Yes\",\"No\",\"Yes\",\"Yes\",\"Yes\",\"Yes\",\"Yes\",\"No\",\"Yes\",\"Yes\",\"Yes\",\"Yes\",\"No\",\"Yes\",\"Yes\",\"Yes\",\"No\",\"Yes\",\"Yes\",\"Yes\",\"Yes\",\"Yes\",\"Yes\",\"Yes\",\"Yes\",\"No\",\"Yes\",\"Yes\",\"No\",\"Yes\",\"No\",\"No\",\"Yes\",\"Yes\",\"Yes\",\"Yes\",\"Yes\",\"Yes\",\"Yes\",\"No\",\"Yes\",\"Yes\",\"Yes\",\"No\",\"Yes\",\"No\",\"Yes\",\"Yes\",\"Yes\",\"No\",\"Yes\",\"Yes\",\"Yes\",\"No\",\"No\",\"No\",\"No\",\"Yes\",\"No\",\"No\",\"Yes\",\"Yes\",\"Yes\",\"Yes\",\"Yes\",\"No\",\"No\",\"Yes\",\"Yes\",\"No\",\"No\",\"No\",\"Yes\",\"Yes\",\"Yes\",\"Yes\",\"No\",\"Yes\",\"Yes\",\"No\",\"Yes\",\"Yes\",\"Yes\",\"No\",\"No\",\"Yes\",\"Yes\",\"Yes\",\"Yes\",\"Yes\",\"Yes\",\"Yes\",\"No\",\"Yes\",\"Yes\",\"Yes\",\"Yes\",\"Yes\",\"Yes\",\"Yes\",\"Yes\",\"No\",\"No\",\"Yes\",\"Yes\",\"Yes\",\"Yes\",\"Yes\",\"Yes\",\"No\",\"Yes\",\"Yes\",\"Yes\",\"No\",\"Yes\",\"Yes\",\"Yes\",\"Yes\",\"Yes\",\"Yes\",\"No\",\"Yes\",\"No\",\"Yes\",\"No\",\"Yes\",\"Yes\",\"Yes\",\"No\",\"No\",\"Yes\",\"Yes\",\"Yes\",\"Yes\",\"Yes\",\"No\",\"Yes\",\"Yes\",\"Yes\",\"No\",\"Yes\",\"Yes\",\"No\",\"Yes\",\"Yes\",\"Yes\",\"Yes\",\"No\",\"No\",\"Yes\",\"Yes\",\"No\",\"No\",\"Yes\",\"Yes\",\"Yes\",\"Yes\",\"Yes\",\"Yes\",\"Yes\",\"Yes\",\"Yes\",\"Yes\",\"Yes\",\"Yes\",\"Yes\",\"Yes\",\"Yes\",\"Yes\",\"Yes\",\"Yes\",\"No\",\"Yes\",\"Yes\",\"Yes\",\"Yes\",\"Yes\",\"No\",\"Yes\",\"Yes\",\"Yes\",\"No\",\"Yes\",\"No\",\"No\",\"Yes\",\"Yes\",\"No\",\"Yes\",\"No\",\"No\",\"Yes\",\"Yes\",\"Yes\",\"Yes\",\"No\",\"No\",\"Yes\",\"Yes\",\"Yes\",\"No\",\"Yes\",\"Yes\",\"Yes\",\"Yes\",\"Yes\",\"Yes\",\"Yes\",\"Yes\",\"No\",\"Yes\",\"Yes\",\"No\",\"Yes\",\"Yes\",\"Yes\",\"Yes\",\"No\",\"Yes\",\"Yes\",\"Yes\",\"Yes\",\"Yes\",\"Yes\",\"Yes\",\"Yes\",\"Yes\",\"Yes\",\"Yes\",\"Yes\",\"No\",\"Yes\",\"No\",\"Yes\",\"Yes\",\"No\",\"Yes\",\"Yes\",\"Yes\",\"No\",\"Yes\",\"Yes\",\"Yes\",\"No\",\"Yes\",\"No\",\"Yes\",\"Yes\",\"Yes\",\"Yes\",\"Yes\",\"No\",\"Yes\",\"Yes\",\"Yes\",\"No\",\"Yes\",\"Yes\",\"Yes\",\"Yes\",\"Yes\",\"Yes\",\"No\",\"Yes\",\"Yes\",\"Yes\",\"No\",\"Yes\",\"Yes\",\"Yes\",\"Yes\",\"Yes\",\"Yes\",\"Yes\",\"Yes\",\"Yes\",\"No\",\"Yes\",\"Yes\",\"Yes\",\"Yes\",\"Yes\",\"Yes\",\"Yes\",\"Yes\",\"No\",\"No\",\"Yes\",\"Yes\",\"Yes\",\"Yes\",\"Yes\",\"Yes\",\"Yes\",\"Yes\",\"Yes\",\"Yes\",\"Yes\",\"Yes\",\"Yes\",\"No\",\"No\",\"Yes\",\"Yes\",\"Yes\",\"Yes\",\"Yes\",\"Yes\",\"Yes\",\"Yes\",\"No\",\"Yes\",\"Yes\",\"Yes\",\"Yes\",\"Yes\",\"Yes\",\"Yes\",\"Yes\",\"No\",\"Yes\",\"Yes\",\"Yes\",\"Yes\",\"Yes\",\"Yes\",\"Yes\",\"Yes\",\"Yes\",\"Yes\",\"Yes\",\"Yes\",\"Yes\",\"Yes\",\"Yes\",\"No\",\"Yes\",\"Yes\",\"Yes\",\"Yes\",\"Yes\",\"Yes\",\"Yes\",\"Yes\",\"No\",\"Yes\",\"Yes\",\"Yes\",\"Yes\",\"Yes\",\"No\",\"Yes\",\"No\",\"No\",\"Yes\",\"Yes\",\"Yes\",\"No\",\"Yes\",\"Yes\",\"Yes\",\"Yes\",\"Yes\",\"Yes\",\"Yes\",\"Yes\",\"Yes\",\"Yes\",\"No\",\"Yes\",\"Yes\",\"Yes\",\"Yes\",\"No\",\"Yes\",\"Yes\",\"Yes\",\"No\",\"No\",\"No\",\"Yes\",\"Yes\",\"Yes\",\"Yes\",\"Yes\",\"Yes\",\"No\",\"Yes\",\"Yes\",\"Yes\",\"Yes\",\"Yes\",\"No\",\"Yes\",\"Yes\",\"Yes\",\"Yes\",\"Yes\",\"Yes\",\"No\",\"Yes\",\"No\",\"Yes\",\"Yes\",\"Yes\",\"Yes\",\"Yes\",\"Yes\",\"Yes\",\"No\",\"Yes\",\"Yes\",\"No\",\"Yes\",\"No\",\"Yes\",\"Yes\",\"Yes\",\"Yes\",\"No\",\"No\",\"Yes\",\"Yes\",\"Yes\",\"Yes\",\"Yes\",\"Yes\",\"No\",\"Yes\",\"Yes\",\"Yes\",\"No\",\"Yes\",\"Yes\",\"No\",\"No\",\"No\",\"Yes\",\"Yes\",\"No\",\"No\",\"Yes\",\"Yes\",\"Yes\",\"No\",\"No\",\"Yes\",\"No\",\"Yes\",\"Yes\",\"No\",\"Yes\",\"Yes\",\"No\",\"Yes\",\"Yes\",\"Yes\",\"Yes\",\"Yes\",\"Yes\",\"No\",\"Yes\",\"No\",\"No\",\"Yes\",\"Yes\",\"Yes\",\"Yes\",\"Yes\",\"Yes\",\"Yes\",\"Yes\",\"Yes\",\"Yes\",\"No\",\"No\",\"Yes\",\"Yes\",\"Yes\",\"Yes\",\"Yes\",\"No\",\"Yes\",\"No\",\"No\",\"Yes\",\"No\",\"Yes\",\"Yes\",\"Yes\",\"Yes\",\"Yes\",\"Yes\",\"Yes\",\"Yes\",\"Yes\",\"Yes\",\"Yes\",\"No\",\"Yes\",\"Yes\",\"Yes\",\"Yes\",\"Yes\",\"Yes\",\"Yes\",\"No\",\"Yes\",\"Yes\",\"Yes\",\"Yes\",\"No\",\"Yes\",\"No\",\"Yes\",\"No\",\"Yes\",\"Yes\",\"Yes\",\"Yes\",\"Yes\",\"Yes\",\"Yes\",\"No\",\"No\",\"Yes\",\"Yes\",\"No\",\"No\",\"No\",\"Yes\",\"Yes\",\"Yes\",\"No\",\"No\",\"Yes\",\"Yes\",\"Yes\",\"Yes\",\"Yes\",\"Yes\",\"Yes\",\"Yes\",\"Yes\",\"Yes\",\"Yes\",\"Yes\",\"Yes\",\"Yes\",\"Yes\",\"Yes\",\"Yes\",\"Yes\",\"Yes\",\"Yes\",\"Yes\",\"Yes\",\"Yes\",\"Yes\",\"Yes\",\"Yes\",\"Yes\",\"Yes\",\"Yes\",\"No\",\"No\",\"Yes\",\"Yes\",\"Yes\",\"Yes\",\"Yes\",\"Yes\",\"No\",\"Yes\",\"Yes\",\"Yes\",\"Yes\",\"Yes\",\"Yes\",\"Yes\",\"Yes\",\"Yes\",\"Yes\",\"Yes\",\"No\",\"Yes\",\"Yes\",\"Yes\",\"No\",\"No\",\"Yes\",\"Yes\",\"Yes\",\"No\",\"Yes\",\"Yes\",\"No\",\"No\",\"Yes\",\"Yes\",\"Yes\",\"Yes\",\"Yes\",\"Yes\",\"No\",\"Yes\"],\"yaxis\":\"y\",\"type\":\"histogram\"}],                        {\"template\":{\"data\":{\"histogram2dcontour\":[{\"type\":\"histogram2dcontour\",\"colorbar\":{\"outlinewidth\":0,\"ticks\":\"\"},\"colorscale\":[[0.0,\"#0d0887\"],[0.1111111111111111,\"#46039f\"],[0.2222222222222222,\"#7201a8\"],[0.3333333333333333,\"#9c179e\"],[0.4444444444444444,\"#bd3786\"],[0.5555555555555556,\"#d8576b\"],[0.6666666666666666,\"#ed7953\"],[0.7777777777777778,\"#fb9f3a\"],[0.8888888888888888,\"#fdca26\"],[1.0,\"#f0f921\"]]}],\"choropleth\":[{\"type\":\"choropleth\",\"colorbar\":{\"outlinewidth\":0,\"ticks\":\"\"}}],\"histogram2d\":[{\"type\":\"histogram2d\",\"colorbar\":{\"outlinewidth\":0,\"ticks\":\"\"},\"colorscale\":[[0.0,\"#0d0887\"],[0.1111111111111111,\"#46039f\"],[0.2222222222222222,\"#7201a8\"],[0.3333333333333333,\"#9c179e\"],[0.4444444444444444,\"#bd3786\"],[0.5555555555555556,\"#d8576b\"],[0.6666666666666666,\"#ed7953\"],[0.7777777777777778,\"#fb9f3a\"],[0.8888888888888888,\"#fdca26\"],[1.0,\"#f0f921\"]]}],\"heatmap\":[{\"type\":\"heatmap\",\"colorbar\":{\"outlinewidth\":0,\"ticks\":\"\"},\"colorscale\":[[0.0,\"#0d0887\"],[0.1111111111111111,\"#46039f\"],[0.2222222222222222,\"#7201a8\"],[0.3333333333333333,\"#9c179e\"],[0.4444444444444444,\"#bd3786\"],[0.5555555555555556,\"#d8576b\"],[0.6666666666666666,\"#ed7953\"],[0.7777777777777778,\"#fb9f3a\"],[0.8888888888888888,\"#fdca26\"],[1.0,\"#f0f921\"]]}],\"heatmapgl\":[{\"type\":\"heatmapgl\",\"colorbar\":{\"outlinewidth\":0,\"ticks\":\"\"},\"colorscale\":[[0.0,\"#0d0887\"],[0.1111111111111111,\"#46039f\"],[0.2222222222222222,\"#7201a8\"],[0.3333333333333333,\"#9c179e\"],[0.4444444444444444,\"#bd3786\"],[0.5555555555555556,\"#d8576b\"],[0.6666666666666666,\"#ed7953\"],[0.7777777777777778,\"#fb9f3a\"],[0.8888888888888888,\"#fdca26\"],[1.0,\"#f0f921\"]]}],\"contourcarpet\":[{\"type\":\"contourcarpet\",\"colorbar\":{\"outlinewidth\":0,\"ticks\":\"\"}}],\"contour\":[{\"type\":\"contour\",\"colorbar\":{\"outlinewidth\":0,\"ticks\":\"\"},\"colorscale\":[[0.0,\"#0d0887\"],[0.1111111111111111,\"#46039f\"],[0.2222222222222222,\"#7201a8\"],[0.3333333333333333,\"#9c179e\"],[0.4444444444444444,\"#bd3786\"],[0.5555555555555556,\"#d8576b\"],[0.6666666666666666,\"#ed7953\"],[0.7777777777777778,\"#fb9f3a\"],[0.8888888888888888,\"#fdca26\"],[1.0,\"#f0f921\"]]}],\"surface\":[{\"type\":\"surface\",\"colorbar\":{\"outlinewidth\":0,\"ticks\":\"\"},\"colorscale\":[[0.0,\"#0d0887\"],[0.1111111111111111,\"#46039f\"],[0.2222222222222222,\"#7201a8\"],[0.3333333333333333,\"#9c179e\"],[0.4444444444444444,\"#bd3786\"],[0.5555555555555556,\"#d8576b\"],[0.6666666666666666,\"#ed7953\"],[0.7777777777777778,\"#fb9f3a\"],[0.8888888888888888,\"#fdca26\"],[1.0,\"#f0f921\"]]}],\"mesh3d\":[{\"type\":\"mesh3d\",\"colorbar\":{\"outlinewidth\":0,\"ticks\":\"\"}}],\"scatter\":[{\"fillpattern\":{\"fillmode\":\"overlay\",\"size\":10,\"solidity\":0.2},\"type\":\"scatter\"}],\"parcoords\":[{\"type\":\"parcoords\",\"line\":{\"colorbar\":{\"outlinewidth\":0,\"ticks\":\"\"}}}],\"scatterpolargl\":[{\"type\":\"scatterpolargl\",\"marker\":{\"colorbar\":{\"outlinewidth\":0,\"ticks\":\"\"}}}],\"bar\":[{\"error_x\":{\"color\":\"#2a3f5f\"},\"error_y\":{\"color\":\"#2a3f5f\"},\"marker\":{\"line\":{\"color\":\"#E5ECF6\",\"width\":0.5},\"pattern\":{\"fillmode\":\"overlay\",\"size\":10,\"solidity\":0.2}},\"type\":\"bar\"}],\"scattergeo\":[{\"type\":\"scattergeo\",\"marker\":{\"colorbar\":{\"outlinewidth\":0,\"ticks\":\"\"}}}],\"scatterpolar\":[{\"type\":\"scatterpolar\",\"marker\":{\"colorbar\":{\"outlinewidth\":0,\"ticks\":\"\"}}}],\"histogram\":[{\"marker\":{\"pattern\":{\"fillmode\":\"overlay\",\"size\":10,\"solidity\":0.2}},\"type\":\"histogram\"}],\"scattergl\":[{\"type\":\"scattergl\",\"marker\":{\"colorbar\":{\"outlinewidth\":0,\"ticks\":\"\"}}}],\"scatter3d\":[{\"type\":\"scatter3d\",\"line\":{\"colorbar\":{\"outlinewidth\":0,\"ticks\":\"\"}},\"marker\":{\"colorbar\":{\"outlinewidth\":0,\"ticks\":\"\"}}}],\"scattermapbox\":[{\"type\":\"scattermapbox\",\"marker\":{\"colorbar\":{\"outlinewidth\":0,\"ticks\":\"\"}}}],\"scatterternary\":[{\"type\":\"scatterternary\",\"marker\":{\"colorbar\":{\"outlinewidth\":0,\"ticks\":\"\"}}}],\"scattercarpet\":[{\"type\":\"scattercarpet\",\"marker\":{\"colorbar\":{\"outlinewidth\":0,\"ticks\":\"\"}}}],\"carpet\":[{\"aaxis\":{\"endlinecolor\":\"#2a3f5f\",\"gridcolor\":\"white\",\"linecolor\":\"white\",\"minorgridcolor\":\"white\",\"startlinecolor\":\"#2a3f5f\"},\"baxis\":{\"endlinecolor\":\"#2a3f5f\",\"gridcolor\":\"white\",\"linecolor\":\"white\",\"minorgridcolor\":\"white\",\"startlinecolor\":\"#2a3f5f\"},\"type\":\"carpet\"}],\"table\":[{\"cells\":{\"fill\":{\"color\":\"#EBF0F8\"},\"line\":{\"color\":\"white\"}},\"header\":{\"fill\":{\"color\":\"#C8D4E3\"},\"line\":{\"color\":\"white\"}},\"type\":\"table\"}],\"barpolar\":[{\"marker\":{\"line\":{\"color\":\"#E5ECF6\",\"width\":0.5},\"pattern\":{\"fillmode\":\"overlay\",\"size\":10,\"solidity\":0.2}},\"type\":\"barpolar\"}],\"pie\":[{\"automargin\":true,\"type\":\"pie\"}]},\"layout\":{\"autotypenumbers\":\"strict\",\"colorway\":[\"#636efa\",\"#EF553B\",\"#00cc96\",\"#ab63fa\",\"#FFA15A\",\"#19d3f3\",\"#FF6692\",\"#B6E880\",\"#FF97FF\",\"#FECB52\"],\"font\":{\"color\":\"#2a3f5f\"},\"hovermode\":\"closest\",\"hoverlabel\":{\"align\":\"left\"},\"paper_bgcolor\":\"white\",\"plot_bgcolor\":\"#E5ECF6\",\"polar\":{\"bgcolor\":\"#E5ECF6\",\"angularaxis\":{\"gridcolor\":\"white\",\"linecolor\":\"white\",\"ticks\":\"\"},\"radialaxis\":{\"gridcolor\":\"white\",\"linecolor\":\"white\",\"ticks\":\"\"}},\"ternary\":{\"bgcolor\":\"#E5ECF6\",\"aaxis\":{\"gridcolor\":\"white\",\"linecolor\":\"white\",\"ticks\":\"\"},\"baxis\":{\"gridcolor\":\"white\",\"linecolor\":\"white\",\"ticks\":\"\"},\"caxis\":{\"gridcolor\":\"white\",\"linecolor\":\"white\",\"ticks\":\"\"}},\"coloraxis\":{\"colorbar\":{\"outlinewidth\":0,\"ticks\":\"\"}},\"colorscale\":{\"sequential\":[[0.0,\"#0d0887\"],[0.1111111111111111,\"#46039f\"],[0.2222222222222222,\"#7201a8\"],[0.3333333333333333,\"#9c179e\"],[0.4444444444444444,\"#bd3786\"],[0.5555555555555556,\"#d8576b\"],[0.6666666666666666,\"#ed7953\"],[0.7777777777777778,\"#fb9f3a\"],[0.8888888888888888,\"#fdca26\"],[1.0,\"#f0f921\"]],\"sequentialminus\":[[0.0,\"#0d0887\"],[0.1111111111111111,\"#46039f\"],[0.2222222222222222,\"#7201a8\"],[0.3333333333333333,\"#9c179e\"],[0.4444444444444444,\"#bd3786\"],[0.5555555555555556,\"#d8576b\"],[0.6666666666666666,\"#ed7953\"],[0.7777777777777778,\"#fb9f3a\"],[0.8888888888888888,\"#fdca26\"],[1.0,\"#f0f921\"]],\"diverging\":[[0,\"#8e0152\"],[0.1,\"#c51b7d\"],[0.2,\"#de77ae\"],[0.3,\"#f1b6da\"],[0.4,\"#fde0ef\"],[0.5,\"#f7f7f7\"],[0.6,\"#e6f5d0\"],[0.7,\"#b8e186\"],[0.8,\"#7fbc41\"],[0.9,\"#4d9221\"],[1,\"#276419\"]]},\"xaxis\":{\"gridcolor\":\"white\",\"linecolor\":\"white\",\"ticks\":\"\",\"title\":{\"standoff\":15},\"zerolinecolor\":\"white\",\"automargin\":true,\"zerolinewidth\":2},\"yaxis\":{\"gridcolor\":\"white\",\"linecolor\":\"white\",\"ticks\":\"\",\"title\":{\"standoff\":15},\"zerolinecolor\":\"white\",\"automargin\":true,\"zerolinewidth\":2},\"scene\":{\"xaxis\":{\"backgroundcolor\":\"#E5ECF6\",\"gridcolor\":\"white\",\"linecolor\":\"white\",\"showbackground\":true,\"ticks\":\"\",\"zerolinecolor\":\"white\",\"gridwidth\":2},\"yaxis\":{\"backgroundcolor\":\"#E5ECF6\",\"gridcolor\":\"white\",\"linecolor\":\"white\",\"showbackground\":true,\"ticks\":\"\",\"zerolinecolor\":\"white\",\"gridwidth\":2},\"zaxis\":{\"backgroundcolor\":\"#E5ECF6\",\"gridcolor\":\"white\",\"linecolor\":\"white\",\"showbackground\":true,\"ticks\":\"\",\"zerolinecolor\":\"white\",\"gridwidth\":2}},\"shapedefaults\":{\"line\":{\"color\":\"#2a3f5f\"}},\"annotationdefaults\":{\"arrowcolor\":\"#2a3f5f\",\"arrowhead\":0,\"arrowwidth\":1},\"geo\":{\"bgcolor\":\"white\",\"landcolor\":\"#E5ECF6\",\"subunitcolor\":\"white\",\"showland\":true,\"showlakes\":true,\"lakecolor\":\"white\"},\"title\":{\"x\":0.05},\"mapbox\":{\"style\":\"light\"}}},\"xaxis\":{\"anchor\":\"y\",\"domain\":[0.0,1.0],\"title\":{\"text\":\"count\"}},\"yaxis\":{\"anchor\":\"x\",\"domain\":[0.0,1.0],\"title\":{\"text\":\"PaperlessBilling\"},\"categoryorder\":\"total ascending\"},\"legend\":{\"title\":{\"text\":\"Churn\"},\"tracegroupgap\":0},\"margin\":{\"t\":60},\"barmode\":\"relative\"},                        {\"responsive\": true}                    ).then(function(){\n",
              "                            \n",
              "var gd = document.getElementById('dd816d07-326b-4274-abe0-ef17eaf38820');\n",
              "var x = new MutationObserver(function (mutations, observer) {{\n",
              "        var display = window.getComputedStyle(gd).display;\n",
              "        if (!display || display === 'none') {{\n",
              "            console.log([gd, 'removed!']);\n",
              "            Plotly.purge(gd);\n",
              "            observer.disconnect();\n",
              "        }}\n",
              "}});\n",
              "\n",
              "// Listen for the removal of the full notebook cells\n",
              "var notebookContainer = gd.closest('#notebook-container');\n",
              "if (notebookContainer) {{\n",
              "    x.observe(notebookContainer, {childList: true});\n",
              "}}\n",
              "\n",
              "// Listen for the clearing of the current output cell\n",
              "var outputEl = gd.closest('.output');\n",
              "if (outputEl) {{\n",
              "    x.observe(outputEl, {childList: true});\n",
              "}}\n",
              "\n",
              "                        })                };                            </script>        </div>\n",
              "</body>\n",
              "</html>"
            ]
          },
          "metadata": {}
        }
      ]
    },
    {
      "cell_type": "code",
      "source": [
        "# Identificando o incidência de Churn quanto aplicada a senioridade (SeniorCitizen)\n",
        "grafico_billing = px.histogram(df, y='SeniorCitizen', color='Churn', orientation='h')\n",
        "grafico_billing.update_yaxes(categoryorder='total ascending')\n",
        "grafico_billing.show()"
      ],
      "metadata": {
        "colab": {
          "base_uri": "https://localhost:8080/",
          "height": 542
        },
        "id": "0u4ewL9hKbAJ",
        "outputId": "0d4c9d5b-7630-4035-bf86-e033db275d65"
      },
      "execution_count": 259,
      "outputs": [
        {
          "output_type": "display_data",
          "data": {
            "text/html": [
              "<html>\n",
              "<head><meta charset=\"utf-8\" /></head>\n",
              "<body>\n",
              "    <div>            <script src=\"https://cdnjs.cloudflare.com/ajax/libs/mathjax/2.7.5/MathJax.js?config=TeX-AMS-MML_SVG\"></script><script type=\"text/javascript\">if (window.MathJax && window.MathJax.Hub && window.MathJax.Hub.Config) {window.MathJax.Hub.Config({SVG: {font: \"STIX-Web\"}});}</script>                <script type=\"text/javascript\">window.PlotlyConfig = {MathJaxConfig: 'local'};</script>\n",
              "        <script charset=\"utf-8\" src=\"https://cdn.plot.ly/plotly-2.35.2.min.js\"></script>                <div id=\"8fbc60a4-a09d-442c-852e-e45bd28be79d\" class=\"plotly-graph-div\" style=\"height:525px; width:100%;\"></div>            <script type=\"text/javascript\">                                    window.PLOTLYENV=window.PLOTLYENV || {};                                    if (document.getElementById(\"8fbc60a4-a09d-442c-852e-e45bd28be79d\")) {                    Plotly.newPlot(                        \"8fbc60a4-a09d-442c-852e-e45bd28be79d\",                        [{\"alignmentgroup\":\"True\",\"bingroup\":\"y\",\"hovertemplate\":\"Churn=No\\u003cbr\\u003ecount=%{x}\\u003cbr\\u003eSeniorCitizen=%{y}\\u003cextra\\u003e\\u003c\\u002fextra\\u003e\",\"legendgroup\":\"No\",\"marker\":{\"color\":\"#636efa\",\"pattern\":{\"shape\":\"\"}},\"name\":\"No\",\"offsetgroup\":\"No\",\"orientation\":\"h\",\"showlegend\":true,\"xaxis\":\"x\",\"y\":[0,0,0,1,0,1,0,0,0,0,0,0,0,0,1,1,0,0,0,0,0,0,0,0,0,0,0,0,0,0,0,0,0,0,0,0,0,0,0,0,0,0,0,1,0,0,0,1,0,0,0,0,1,0,0,0,0,1,0,0,0,0,0,0,1,1,0,1,0,1,0,0,0,0,1,0,0,0,0,1,0,0,0,1,0,0,1,0,0,0,0,0,0,0,0,0,1,1,0,1,0,0,0,1,0,0,0,0,0,0,0,0,0,1,0,0,0,0,0,0,0,0,0,0,0,0,0,0,0,0,0,1,0,0,0,0,0,0,0,0,0,0,0,0,1,0,0,0,0,0,0,0,0,0,0,0,0,0,0,0,1,0,0,0,0,0,1,0,0,0,0,0,0,0,0,0,0,0,0,0,0,0,0,0,1,0,0,0,0,0,0,0,0,0,0,0,0,0,0,0,0,0,0,0,1,0,0,0,1,0,0,0,0,0,0,1,0,0,0,0,0,1,0,0,0,0,0,0,0,0,0,0,0,1,0,0,0,1,0,0,0,0,0,0,0,0,0,0,0,0,0,0,1,0,0,1,0,0,1,0,0,0,1,1,0,0,0,1,0,0,1,0,0,0,0,0,0,0,0,0,0,0,0,0,1,0,0,1,0,0,0,0,0,0,0,0,0,0,0,0,0,0,0,0,0,0,0,0,0,0,0,0,0,0,0,0,1,1,0,0,0,0,0,0,0,1,0,0,0,0,0,1,0,0,0,0,0,0,0,0,0,0,0,0,0,0,1,0,0,1,0,0,1,0,0,0,0,0,0,0,0,0,0,0,0,0,1,0,0,0,0,0,0,0,0,0,0,0,0,0,1,0,0,0,0,0,0,1,0,0,0,0,0,0,0,0,0,0,0,1,0,0,0,0,0,0,0,0,0,0,0,0,0,0,0,0,0,0,0,0,0,0,0,0,0,0,1,0,0,0,0,0,0,0,0,0,0,0,0,0,0,0,1,0,0,0,0,1,0,1,0,1,0,0,1,0,0,0,0,0,0,0,0,0,0,0,0,0,0,0,0,0,0,0,0,0,0,0,0,0,0,0,0,0,0,1,0,1,1,1,0,0,1,0,0,0,0,0,0,0,1,0,1,0,0,0,0,0,0,0,0,0,0,0,0,0,1,0,0,0,0,0,0,0,0,1,1,0,0,0,0,0,1,0,0,0,0,0,0,0,0,0,0,0,0,0,0,0,0,0,1,0,0,0,0,0,0,1,0,1,0,0,0,0,0,0,0,0,0,0,0,0,0,0,0,1,0,0,0,1,0,0,0,0,0,0,0,0,0,0,0,0,0,0,0,0,1,1,0,0,0,0,0,0,0,0,0,0,0,1,0,0,0,0,0,1,0,0,0,0,0,0,0,0,0,0,0,0,0,1,0,1,1,0,0,0,0,0,0,0,0,0,1,0,0,0,1,0,0,0,0,1,0,0,0,0,0,1,1,0,0,0,1,0,0,0,0,0,0,0,0,0,0,0,0,0,0,0,0,0,0,0,0,0,0,0,0,0,1,0,0,0,0,0,1,0,0,0,0,0,0,0,0,1,0,0,0,0,0,0,0,0,0,0,0,0,1,0,0,1,0,0,0,0,0,0,0,0,0,0,0,0,0,0,0,0,0,0,0,0,0,0,1,0,1,0,0,0,0,0,0,0,1,1,0,0,0,0,0,0,0,0,0,0,0,0,0,0,0,0,0,0,0,1,0,0,0,0,0,0,0,0,0,0,0,0,0,0,0,1,0,0,0,0,1,1,1,0,0,0,0,0,1,0,0,0,0,0,0,0,0,0,1,1,0,0,1,0,0,0,1,1,0,0,0,0,0,0,0,0,0,0,0,0,0,0,0,0,0,1,0,0,0,0,0,0,1,0,0,0,0,0,0,0,1,0,0,1,0,0,0,0,0,0,1,0,1,0,0,0,0,1,0,0,0,0,0,1,0,0,0,0,1,0,0,0,0,0,0,0,0,0,0,0,0,0,0,0,0,0,0,0,0,0,0,0,0,0,0,0,0,0,0,1,0,0,0,0,0,0,0,0,1,0,0,0,0,0,0,0,0,1,0,0,0,0,0,0,0,0,0,0,0,0,1,0,0,0,0,0,0,0,1,0,0,0,0,0,0,0,0,0,0,0,0,0,0,0,0,0,0,0,0,0,0,0,0,1,0,0,1,0,1,0,0,0,0,0,0,0,0,0,0,0,0,0,0,0,0,0,0,0,0,0,0,0,0,0,1,0,0,0,1,1,0,1,0,0,0,0,1,0,0,0,0,0,0,1,1,0,0,0,0,0,0,0,0,0,0,0,0,0,0,1,0,0,0,0,0,0,1,0,0,0,0,0,0,0,0,0,1,0,0,0,0,0,0,0,0,0,0,0,0,1,1,0,0,0,0,1,0,0,0,0,0,0,0,0,1,1,0,0,0,1,1,0,0,0,0,0,0,0,0,0,0,0,0,0,0,0,0,0,0,0,0,0,1,0,0,0,0,0,0,0,0,0,0,0,0,0,0,0,0,0,0,0,0,0,0,0,1,0,0,0,0,0,1,0,0,1,1,1,0,0,0,0,0,0,0,0,0,0,0,0,1,0,0,0,0,0,0,1,0,0,0,0,0,0,0,0,0,0,0,0,0,0,0,0,0,0,0,0,0,0,0,0,0,0,0,0,0,0,1,1,0,0,0,1,0,0,1,0,0,0,0,0,0,0,0,0,0,0,1,1,0,0,0,0,0,0,1,0,0,0,1,1,1,0,1,0,0,1,0,0,0,0,1,0,0,0,0,1,0,0,0,0,0,0,0,0,1,0,1,0,0,0,0,0,1,1,0,0,0,0,1,0,0,0,0,0,0,0,0,1,0,0,0,0,0,0,0,0,0,1,0,0,0,0,0,0,0,0,0,0,0,0,0,0,0,0,0,0,0,0,0,0,0,0,1,0,0,0,0,0,0,0,0,0,0,1,0,0,0,0,0,0,0,0,0,0,1,0,0,0,0,0,1,0,0,1,1,0,1,0,0,0,0,1,0,1,0,0,1,0,0,0,0,0,0,0,0,0,0,0,0,0,0,0,0,0,0,0,0,0,1,0,0,0,0,0,0,0,1,0,1,0,0,0,0,0,0,1,0,0,0,0,0,0,0,0,0,0,1,0,0,0,0,0,0,0,1,0,0,0,1,0,0,0,0,0,0,0,0,0,1,0,0,0,0,0,0,0,0,0,0,0,0,0,1,0,1,0,0,0,0,0,0,0,0,0,1,1,0,0,1,0,0,0,0,0,0,0,0,1,0,0,0,0,0,0,0,0,0,0,1,0,0,0,0,0,0,0,0,1,0,1,0,0,0,0,0,1,0,0,0,0,0,0,0,0,0,0,0,1,0,0,0,0,0,0,0,0,1,0,0,0,0,0,0,0,1,0,0,0,0,0,0,0,0,0,0,0,0,0,0,0,0,0,0,0,0,0,1,0,0,0,0,0,0,0,0,0,0,0,0,0,0,0,0,1,0,0,0,0,0,0,0,0,0,0,0,0,0,0,0,1,0,0,0,0,0,0,0,0,0,0,0,0,0,0,0,0,0,1,0,0,0,0,0,0,0,1,0,0,0,1,0,0,0,0,0,0,0,1,0,0,0,0,0,0,0,0,0,1,0,0,0,0,0,0,0,0,0,0,1,0,1,0,0,0,0,0,0,0,0,1,0,0,0,0,0,1,1,1,0,1,0,0,0,0,0,0,0,0,0,1,0,0,0,0,1,1,0,0,0,0,0,1,0,0,1,0,0,0,0,0,1,0,0,0,0,1,1,0,0,0,1,1,0,0,0,0,0,0,0,0,0,0,0,0,0,0,0,0,0,0,0,0,0,0,1,0,0,1,0,0,0,0,0,1,1,0,0,0,0,1,0,0,0,0,0,0,0,0,0,0,0,0,1,0,1,0,0,1,0,0,0,0,0,0,0,0,0,0,0,0,0,0,0,0,0,0,0,0,0,0,0,0,0,0,0,0,0,1,0,0,1,0,0,0,0,0,1,0,0,1,0,0,0,0,1,0,0,0,0,0,0,0,0,0,0,0,0,0,0,0,0,0,0,0,0,0,0,0,0,0,0,0,0,0,1,0,0,0,0,0,0,1,0,1,0,0,0,0,0,0,0,0,0,1,0,0,0,0,0,0,0,0,0,0,0,0,0,0,0,0,0,0,1,0,0,0,0,0,0,0,0,0,0,0,0,1,0,0,0,0,0,1,0,0,0,0,0,0,0,0,0,0,0,0,0,1,0,0,0,1,0,0,0,0,0,0,1,0,1,0,0,0,0,1,0,0,0,0,0,0,1,0,1,0,0,0,0,0,0,0,0,0,1,0,0,0,1,0,0,0,0,0,0,1,0,0,0,0,0,0,0,0,0,0,0,0,1,0,1,0,0,0,0,0,0,0,0,0,1,0,0,1,0,0,0,1,0,0,0,0,0,0,0,0,0,0,0,1,0,0,1,0,0,0,0,0,1,0,0,0,0,0,0,0,0,0,0,0,0,0,0,1,0,1,0,0,0,0,0,1,0,0,0,0,0,0,0,0,0,0,0,1,0,0,0,0,1,0,0,0,0,0,0,0,1,0,0,0,0,0,0,0,0,0,1,0,0,0,0,1,0,0,0,0,0,0,0,0,0,0,0,0,0,0,0,0,0,0,1,0,0,1,0,0,0,0,0,0,1,0,0,1,0,0,0,1,0,0,1,1,0,0,0,1,0,0,0,0,0,1,0,0,0,0,0,0,0,0,0,0,0,1,0,0,0,0,0,0,0,0,0,0,0,0,0,0,0,0,1,0,0,0,0,1,0,0,0,0,0,0,0,1,1,1,0,0,0,0,0,0,0,0,1,0,0,0,1,0,0,0,0,1,0,0,0,0,0,0,1,0,0,0,0,0,0,0,0,0,1,0,0,0,0,1,1,0,0,0,0,0,0,0,0,0,0,1,0,0,0,0,0,0,0,0,0,0,0,0,0,0,0,0,0,0,0,1,0,0,0,0,1,0,0,0,0,0,0,0,0,0,0,0,0,0,0,0,0,0,0,0,0,0,0,1,0,1,0,0,0,0,1,0,1,0,0,0,0,0,0,0,1,0,0,0,1,0,0,0,1,0,0,0,0,0,1,0,0,0,0,0,0,0,0,0,0,0,0,0,0,0,0,0,0,0,0,0,0,0,0,0,1,1,0,0,0,0,0,1,0,0,0,1,0,0,0,0,0,1,0,0,0,0,0,0,0,0,0,0,0,0,0,0,0,0,1,0,0,0,0,0,0,0,1,0,0,0,0,0,1,0,1,0,0,0,0,0,0,1,0,0,0,0,1,0,0,0,0,1,0,0,0,0,0,0,0,1,0,0,0,0,0,0,0,1,0,0,0,0,0,0,0,0,0,0,0,1,0,0,0,0,0,0,0,0,0,0,0,0,1,0,1,0,0,0,0,0,0,0,1,0,0,0,0,0,0,0,0,0,0,0,0,0,1,0,0,0,0,0,1,0,0,1,0,1,1,0,0,0,0,1,1,1,0,0,1,0,0,0,0,1,0,0,0,0,0,0,0,1,0,0,1,1,0,0,0,0,0,0,0,1,1,0,0,1,0,0,0,0,0,1,0,0,1,0,0,0,0,0,0,0,1,0,0,0,0,0,0,0,0,0,0,1,0,0,0,0,0,0,0,1,0,0,0,0,0,0,0,0,0,0,0,0,0,0,0,0,0,0,0,1,0,0,0,0,0,0,0,0,0,0,0,0,0,1,0,0,0,0,0,0,0,0,0,0,0,0,1,0,0,0,0,0,0,0,0,0,0,0,0,0,0,0,0,1,0,0,0,1,0,0,0,0,0,0,0,0,0,0,0,0,1,0,0,0,0,0,0,1,0,0,0,0,0,0,0,1,0,0,0,0,0,0,0,0,0,0,0,0,0,0,0,0,0,0,0,0,0,0,0,0,0,0,0,0,0,1,0,1,0,0,0,0,1,0,0,0,0,0,0,0,0,0,0,0,0,0,0,0,1,0,0,0,0,0,1,0,0,0,0,0,0,0,0,0,0,1,0,0,0,0,0,1,0,1,0,0,0,0,0,1,0,0,0,0,0,1,0,1,0,0,0,0,0,0,0,0,0,1,0,0,0,0,0,0,0,0,0,1,1,1,1,0,1,0,0,0,0,0,0,0,0,0,0,0,0,0,0,0,0,0,0,1,0,0,0,0,0,0,0,0,1,1,0,0,0,0,0,1,0,0,0,0,0,0,1,0,0,0,0,0,1,0,0,0,0,0,0,1,0,0,0,0,1,0,0,1,0,1,0,0,0,0,0,0,0,0,1,0,0,0,0,0,0,0,0,0,0,0,0,0,0,0,0,0,0,1,0,0,1,0,0,0,0,0,0,0,1,0,0,0,0,0,0,0,0,0,0,0,0,0,0,0,1,0,0,0,0,1,0,0,0,0,0,0,0,0,0,0,1,0,0,0,0,0,0,1,0,0,0,0,0,1,0,0,0,0,1,0,0,0,1,1,0,0,0,0,0,0,1,0,0,0,0,1,1,0,0,1,0,0,0,0,0,0,0,0,0,0,0,0,0,1,1,0,0,0,0,0,0,0,1,0,0,1,0,0,0,0,0,0,0,0,0,0,0,0,0,0,1,0,0,0,0,0,0,0,0,0,0,0,0,0,1,1,0,0,0,1,0,0,0,0,0,0,0,0,0,0,0,0,0,0,0,0,0,0,1,0,0,0,0,0,0,0,0,0,0,0,0,0,0,0,0,0,0,1,0,0,0,0,0,1,0,0,0,0,0,0,1,0,0,0,0,0,0,0,0,0,1,1,0,0,0,0,0,0,0,0,0,0,0,1,0,0,0,0,0,0,0,0,0,0,0,0,1,0,0,0,1,0,0,0,0,0,0,0,0,1,0,0,0,1,0,0,0,0,0,1,0,0,0,0,0,0,0,0,1,0,1,0,0,0,0,0,1,1,0,0,0,0,0,0,0,0,0,0,0,0,0,1,0,0,0,0,0,0,0,0,0,0,0,0,0,0,0,0,0,0,1,1,0,0,0,1,1,0,0,0,0,0,0,0,0,0,1,0,0,0,0,0,0,0,0,0,0,0,0,0,0,1,0,0,0,0,0,0,0,1,0,0,0,0,0,0,0,0,1,0,0,0,1,0,0,0,0,0,0,0,0,1,0,0,0,0,0,0,1,0,0,0,0,0,0,0,0,0,0,0,0,0,1,0,0,0,0,0,0,1,0,0,0,0,0,0,0,0,0,0,0,0,0,0,0,0,0,0,0,0,0,0,0,0,0,0,0,0,0,0,0,0,0,1,0,0,0,0,1,0,0,0,0,0,0,0,0,0,1,0,0,0,1,0,0,0,0,0,0,1,0,0,0,0,0,0,1,0,0,0,0,0,0,1,1,0,0,0,0,0,0,1,0,0,0,1,0,0,0,0,0,0,0,0,0,0,0,0,0,0,0,0,0,0,1,0,0,0,0,0,0,0,0,0,1,0,0,0,0,0,0,0,0,0,1,0,0,0,0,0,0,0,0,0,1,0,0,1,0,1,0,0,1,0,0,0,0,0,1,0,0,0,0,0,1,0,0,0,0,0,0,0,0,0,0,0,0,0,0,0,1,0,0,0,0,0,0,0,0,0,0,0,0,0,1,0,0,0,0,0,1,0,0,0,0,0,0,0,0,0,0,0,0,0,0,0,0,0,0,0,0,1,0,0,0,0,0,0,0,0,0,0,0,0,1,0,0,0,0,0,0,1,0,1,1,0,0,0,0,0,0,1,0,0,0,0,1,0,0,0,0,0,1,0,0,0,0,0,0,0,0,0,0,0,0,0,0,1,0,0,0,0,0,0,0,0,1,1,0,0,0,1,0,0,0,0,0,0,0,0,0,0,0,0,0,0,1,0,0,1,0,0,0,0,0,0,1,0,0,0,0,0,0,0,0,0,0,0,0,0,0,0,0,1,0,0,0,0,0,0,1,0,0,0,0,0,0,0,1,0,1,0,0,0,0,0,1,0,0,0,0,1,0,0,1,0,0,0,0,1,0,0,0,0,0,0,1,0,0,0,0,0,0,0,0,0,0,0,0,0,0,0,0,0,0,1,0,0,0,0,0,0,0,0,1,0,0,0,0,1,0,0,1,0,0,0,0,0,0,0,0,0,0,1,0,0,0,0,0,0,0,0,0,1,0,1,0,0,0,0,0,0,0,0,0,0,0,0,0,0,0,0,0,0,0,1,0,1,0,0,0,0,0,0,0,0,0,0,0,0,1,0,0,1,1,0,0,0,0,0,0,0,0,0,0,0,0,0,0,0,0,0,0,0,0,0,1,0,0,0,0,0,0,0,0,0,0,0,0,0,1,0,0,0,0,1,0,0,0,0,0,0,0,0,0,0,0,0,0,0,0,1,0,0,0,0,0,1,0,0,0,0,0,0,0,1,0,0,0,0,0,0,0,0,0,0,0,0,0,0,0,0,0,0,0,0,0,0,0,0,1,0,0,0,0,0,0,0,0,0,0,0,0,1,0,0,0,0,0,0,1,0,0,0,1,0,0,0,0,0,0,0,0,0,0,0,0,0,1,0,0,0,0,0,0,0,0,0,1,0,1,0,0,0,0,0,0,0,0,1,0,0,0,1,0,0,0,0,1,0,1,0,0,0,0,0,0,0,0,0,1,0,0,0,1,1,1,0,0,0,0,0,1,0,0,1,0,1,0,0,0,0,0,0,0,0,0,0,0,0,0,0,0,0,0,0,1,0,0,0,0,0,0,1,0,0,0,0,0,0,0,0,0,0,0,0,0,0,0,0,0,0,0,0,0,0,1,0,0,1,0,0,0,0,0,1,0,0,0,0,0,0,0,0,0,0,0,1,0,0,0,0,0,0,1,0,0,0,0,0,0,0,0,0,0,0,0,0,1,0,0,0,0,0,0,0,0,0,0,0,0,0,0,0,0,0,0,0,0,0,1,1,0,0,0,0,1,0,0,0,0,0,0,0,0,0,0,0,0,1,0,0,0,0,1,1,0,0,0,0,0,0,0,0,0,0,0,0,1,0,0,0,0,0,0,0,0,1,0,0,0,0,0,0,1,0,0,0,1,0,0,0,0,1,0,0,1,0,0,0,0,0,0,0,0,0,0,0,0,0,0,0,1,1,0,0,0,0,0,1,1,1,0,0,0,0,0,0,0,0,0,0,0,0,0,0,0,0,0,0,0,0,0,0,0,0,0,0,0,0,0,0,0,0,0,0,0,1,0,0,0,0,0,0,0,0,0,0,0,1,0,1,1,0,0,1,1,0,1,0,0,0,0,0,0,0,1,0,0,0,0,0,0,1,0,0,1,1,0,0,1,1,0,0,0,1,0,1,0,0,0,0,0,0,1,0,0,0,0,0,0,0,0,0,0,0,0,1,0,0,0,0,0,0,0,0,0,0,0,1,0,0,0,0,0,0,0,0,0,1,0,0,0,0,0,0,0,1,0,1,0,0,0,0,0,0,0,0,1,0,0,0,0,0,0,0,0,0,0,1,0,0,0,0,0,0,0,0,0,0,0,0,0,0,0,0,1,0,0,0,0,0,0,0,0,0,0,0,0,0,0,1,0,0,1,0,0,1,0,0,0,0,0,0,0,0,0,0,0,0,0,0,0,0,0,1,0,0,0,0,0,0,0,0,0,0,0,0,0,0,0,1,0,0,1,0,0,0,0,1,0,0,0,0,0,0,0,0,0,0,0,0,0,0,1,0,0,0,0,0,0,0,0,0,0,1,0,0,0,0,0,1,0,1,0,0,0,0,0,0,1,0,0,0,0,0,0,0,0,0,0,0,0,0,0,0,1,1,1,0,0,0,0,0,0,0,0,0,0,0,0,0,0,0,0,0,0,1,0,0,0,0,0,0,1,0,0,0,0,0,0,0,0,0,0,0,0,0,0,1,0,0,0,1,0,0,0,0,0,0,0,0,1,0,0,0,1,0,0,0,0,0,0,0,0,0,0,1,0,0,1,0,0,0,0,0,0,0,0,0,0,0,0,0,0,0,0,0,1,0,0,0,0,0,0,1,0,0,0,0,0,0,0,1,0,0,0,0,0,0,0,0,0,0,0,1,0,0,0,0,0,1,0,0,0,0,0,0,0,1,0,1,0,0,0,1,0,0,0,0,1,1,0,0,0,0,0,0,0,0,0,0,0,0,0,0,0,0,0,0,0,0,0,1,0,0,0,0,0,0,0,0,0,0,0,0,0,0,0,0,0,0,0,0,0,0,0,0,1,0,0,0,0,0,1,0,0,0,0,0,0,0,0,0,0,0,0,1,0,0,0,0,0,1,0,0,0,1,0,0,0,0,0,0,0,0,0,0,0,0,0,0,0,0,0,0,0,0,0,0,0,1,0,0,0,0,0,0,0,0,0,0,0,0,1,0,1,0,1,0,0,0,0,0,0,0,1,0,0,0,0,0,0,0,1,0,1,0,0,0,1,0,0,0,0,0,0,0,0,0,0,0,0,1,0,0,0,0,0,0,0,0,0,0,0,0,0,0,0,0,0,0,0,1,0,0,0,0,1,0,0,0,0,1,0,0,0,0,1,0,0,0,0,0,0,0,0,0,0,0,0,0,0,0,1,0,0,0,0,0,0,0,0,0,0,1,0,0,0,1,0,0,0,0,0,1,0,0,0,0,0,0,0,0,0,0,0,0,0,0,1,1,0,1,0,0,0,1,0,0,0,0,0,1,0,0,0,0,0,0,0,0,0,1,0,0,0,0,0,0,0,0,0,0,1,0,0,0,0,0,0,0,0,0,1,0,0,0,0,1,0,0,0,0,0,0,0,1,0,0,0,0,0,0,0,0,1,0,0,0,0,0,0,0,0,0,0,0,0,0,0,0,0,0,0,0,0,0,0,0,0,0,0,1,0,0,0,0,0,1,0,0,0,0,0,0,0,1,0,0,0,0,0,0,0,0,0,0,0,0,0,0,0,0,0,1,0,0,0,0,1,1,0,0,0,0,0,0,0,0,0,1,0,0,0,0,0,0,0,0,0,0,0,0,0,0,0,0,0,0,0,0,0,0,0,0,0,0,0,0,1,0,0,0,1,1,0,0,0,0,0,0,0,0,0,0,0,0,0,0,0,0,0,0,0,0,0,0,0,0,0,0,0,0,0,0,0,1,0,0,0,0,0,0,0,0,1,0,0,1,0,0,1,0,0,0,0,1,0,1,0,0,0,0,0,0,0,0,0,0,0,0,0,0,0,0,0,0,0,0,0,0,0,0,0,1,0,0,0,0,0,0,0,0,0,0,1,1,0,0,0,0,0,0,0,0,0,0,0,0,0,0,1,1,0,0,1,0,0,0,0,0,0,0,0,0,0,1,0,0,0,0,0,0,1,0,0,0,0,0,0,0,0,1,1,0,0,0,0,0,0,0,1,0,0,0,0,0,0,0,0,0,0,0,0,0,0,0,1,1,0,0,0,0,0,1,0,0,0,0,0,0,0,0,0,0,0,0,0,0,0,0,0,1,0,0,0,0,0,1,0,0,0,0,0,0,0,1,0,0,1,0,0,0,1,0,0,0,0,0],\"yaxis\":\"y\",\"type\":\"histogram\"},{\"alignmentgroup\":\"True\",\"bingroup\":\"y\",\"hovertemplate\":\"Churn=Yes\\u003cbr\\u003ecount=%{x}\\u003cbr\\u003eSeniorCitizen=%{y}\\u003cextra\\u003e\\u003c\\u002fextra\\u003e\",\"legendgroup\":\"Yes\",\"marker\":{\"color\":\"#EF553B\",\"pattern\":{\"shape\":\"\"}},\"name\":\"Yes\",\"offsetgroup\":\"Yes\",\"orientation\":\"h\",\"showlegend\":true,\"xaxis\":\"x\",\"y\":[0,1,1,1,1,0,0,0,1,0,1,0,0,0,0,0,0,0,0,0,0,0,0,0,0,1,0,1,0,0,0,0,0,0,0,0,0,0,1,0,0,1,0,0,0,0,0,0,0,0,0,0,0,0,1,0,0,0,0,1,0,0,0,1,0,0,0,0,0,0,0,0,1,1,0,0,1,0,0,0,0,0,0,0,0,0,0,0,0,1,1,1,0,0,0,0,0,0,0,1,1,0,0,0,1,0,0,0,0,0,0,1,1,0,0,0,0,1,0,0,0,0,0,0,1,0,0,1,1,0,0,1,0,0,1,0,0,0,1,0,1,1,1,0,0,0,0,0,0,0,0,0,0,1,1,0,1,1,0,1,0,0,0,0,0,0,0,0,1,0,0,0,0,1,0,0,0,1,0,0,0,0,0,1,0,1,0,0,0,0,0,0,0,0,0,0,0,0,0,0,0,0,0,0,1,1,0,0,0,0,1,1,0,0,0,0,0,0,0,0,0,0,0,0,0,0,0,0,0,0,1,0,0,1,0,0,0,1,1,1,1,0,1,0,0,0,0,1,0,0,0,0,1,0,1,0,1,0,1,1,0,0,0,0,0,0,0,0,0,0,0,0,0,0,1,0,0,0,0,0,0,0,0,0,1,0,0,0,0,0,0,0,0,0,1,0,0,0,0,1,0,0,0,0,1,0,0,1,0,1,0,0,0,0,0,1,0,1,0,0,0,1,0,0,0,1,1,1,0,0,0,1,0,1,0,1,1,0,0,0,1,1,0,0,0,1,0,0,0,0,0,0,1,0,1,1,1,0,0,1,0,0,0,0,1,0,0,0,0,0,0,1,0,0,0,1,0,0,1,0,0,0,0,0,1,0,0,0,0,0,0,0,0,0,0,0,0,0,0,0,0,0,0,1,0,0,0,0,0,0,0,0,0,0,1,1,1,0,1,0,0,0,0,0,0,0,1,0,0,0,0,0,0,0,0,0,1,1,1,0,1,0,0,1,0,1,1,0,0,1,1,0,0,0,0,0,1,0,1,0,1,0,0,0,0,0,0,0,0,0,0,0,0,0,0,1,1,1,0,0,1,0,1,0,1,0,1,0,0,0,0,1,0,0,0,1,0,1,1,0,0,0,0,0,0,0,1,1,0,1,0,0,1,0,0,0,0,0,1,0,1,0,0,1,0,1,1,0,0,0,0,0,0,0,0,0,0,0,0,0,0,0,0,0,0,0,0,0,0,1,0,0,0,0,0,1,0,0,0,0,1,1,1,0,0,0,0,0,0,0,0,0,0,0,0,0,1,1,0,0,0,0,0,0,1,0,1,0,0,1,0,0,0,0,0,0,0,0,0,0,0,0,0,0,0,1,0,0,1,0,0,0,0,0,1,0,1,0,1,0,0,1,0,0,1,1,1,0,0,0,0,1,1,0,0,1,0,0,0,1,0,1,1,0,0,1,0,1,0,0,0,1,0,1,0,1,0,0,0,0,0,1,0,0,0,1,1,0,0,0,0,0,1,1,0,0,0,1,0,0,0,0,0,0,0,0,1,1,0,0,0,0,0,0,0,1,0,0,0,0,0,0,0,0,0,0,1,1,1,0,0,1,1,1,1,0,0,0,0,0,0,0,0,0,0,0,0,0,0,0,0,0,1,0,0,0,0,0,0,1,0,1,0,0,0,0,0,0,0,0,1,0,0,1,1,0,1,0,0,0,1,0,1,0,0,0,0,0,0,1,0,1,1,0,0,0,0,0,0,1,0,0,0,1,1,1,0,0,1,1,0,0,1,0,1,1,0,0,0,0,0,0,1,1,0,0,0,0,0,0,1,0,0,0,0,0,0,0,0,1,1,0,0,0,0,0,1,0,1,0,0,0,0,1,0,0,1,0,0,1,0,1,0,0,0,0,0,0,0,0,0,1,0,1,0,1,0,0,0,0,0,0,0,1,1,0,0,0,0,0,0,0,0,0,0,0,0,0,1,1,0,0,1,0,0,0,0,0,0,1,0,0,0,0,0,0,0,0,0,1,0,1,0,0,0,0,1,0,1,0,0,0,0,0,1,0,0,0,0,1,0,0,0,1,0,0,0,1,0,0,1,0,0,0,0,1,0,1,0,1,0,0,1,1,0,0,0,1,0,0,0,0,1,0,1,0,0,0,0,0,1,0,0,0,0,0,0,0,0,0,1,0,0,1,0,0,1,0,0,0,1,1,0,0,0,0,0,0,0,0,0,1,0,0,1,0,0,0,1,0,0,0,1,0,0,0,1,1,1,1,0,0,0,0,0,0,0,1,0,1,1,0,0,0,1,1,1,1,1,0,0,0,0,0,1,0,0,0,1,0,0,0,1,0,0,0,0,1,1,1,0,0,1,0,0,1,0,0,0,0,0,0,0,1,0,0,1,1,0,0,0,0,0,0,0,0,0,0,0,0,1,1,0,1,1,1,1,0,1,0,0,0,0,0,0,0,1,0,0,1,1,1,0,0,1,0,0,0,0,0,0,0,0,0,1,0,0,0,1,0,0,0,0,0,1,1,0,0,0,0,0,0,1,0,0,0,0,1,0,0,0,0,1,0,1,0,0,0,1,0,0,0,0,0,1,1,0,0,0,0,0,0,0,1,1,0,1,0,1,0,0,0,0,0,1,0,0,0,0,0,0,0,0,0,0,0,0,0,0,1,0,1,0,0,0,1,0,0,1,0,0,0,1,1,0,0,0,0,1,0,0,0,0,0,0,1,0,0,0,0,1,0,0,0,0,1,0,0,0,0,0,0,0,0,0,0,0,0,0,1,0,1,0,0,0,0,1,0,0,0,0,0,0,0,0,1,1,0,1,0,0,0,0,1,0,1,0,1,0,1,0,0,0,0,0,0,0,0,0,0,0,1,1,0,0,1,1,0,0,0,1,1,0,0,1,0,1,0,0,1,0,0,1,0,0,0,0,0,0,0,1,0,0,0,0,0,0,0,0,0,1,0,1,0,0,1,1,1,1,0,0,0,0,0,1,0,1,0,0,0,1,0,0,1,0,1,0,0,0,1,0,0,1,1,1,0,0,1,0,1,1,0,0,0,0,0,1,1,0,1,1,1,0,1,0,0,0,1,0,0,1,0,0,1,1,0,0,1,0,1,0,0,0,0,0,1,0,1,0,0,0,0,0,0,0,0,1,0,0,0,0,1,1,0,0,0,1,0,0,0,1,1,0,0,0,1,1,0,0,0,0,0,0,1,0,0,0,0,0,0,0,0,0,0,0,1,1,1,0,0,0,0,0,0,0,0,0,0,0,0,0,0,0,1,0,0,1,1,0,0,0,0,1,0,0,0,0,0,0,0,0,0,0,0,0,0,0,0,0,1,1,0,0,0,0,0,0,0,0,0,0,0,0,0,0,0,0,0,0,0,0,0,1,0,0,1,0,0,0,0,1,0,0,0,1,0,0,0,0,0,1,0,1,1,0,1,0,0,1,0,0,1,1,1,0,0,0,0,0,1,0,0,1,0,1,1,0,0,0,1,0,0,0,0,0,0,0,0,1,0,1,0,1,0,1,0,1,0,1,0,0,1,0,0,1,0,0,1,0,0,1,1,0,0,0,0,0,1,0,1,0,0,0,0,0,0,1,0,1,0,1,0,1,0,1,0,0,0,0,1,1,0,0,0,0,0,1,1,0,0,0,1,0,1,0,0,0,1,0,1,0,0,1,1,1,1,0,0,0,0,1,0,0,1,0,0,0,0,1,1,0,0,0,1,0,1,0,0,0,0,0,0,0,1,0,0,0,0,0,0,0,1,0,0,1,1,0,0,0,0,0,0,0,1,0,1,0,0,1,0,0,0,1,0,0,0,0,0,1,0,1,1,0,0,1,0,0,0,0,0,0,1,0,0,0,0,0,0,0,1,0,1,1,0,0,0,1,0,0,1,0,0,1,0,0,1,0,0,0,1,0,0,1,1,0,0,0,1,0,0,1,0,1,0,1,1,0,0,0,0,0,0,0,0,0,0,0,0,0,0,0,1,1,0,1,0,0,1,0,0,0,0,0,0,0,0,0,0,0,0,0,0,0,0,0,0,1,0,0,0,0,0,0,0,0,1,1,0,1,0,0,1,0,0,0,0,0,0,0,0,1,0,0,0,1,0,0,0,0,0,1,0,0,0,0,0,0,0,0,0,0,1,1,0,0,1,1,1,0,0,0,0,1,0,1,1,0,0,0],\"yaxis\":\"y\",\"type\":\"histogram\"}],                        {\"template\":{\"data\":{\"histogram2dcontour\":[{\"type\":\"histogram2dcontour\",\"colorbar\":{\"outlinewidth\":0,\"ticks\":\"\"},\"colorscale\":[[0.0,\"#0d0887\"],[0.1111111111111111,\"#46039f\"],[0.2222222222222222,\"#7201a8\"],[0.3333333333333333,\"#9c179e\"],[0.4444444444444444,\"#bd3786\"],[0.5555555555555556,\"#d8576b\"],[0.6666666666666666,\"#ed7953\"],[0.7777777777777778,\"#fb9f3a\"],[0.8888888888888888,\"#fdca26\"],[1.0,\"#f0f921\"]]}],\"choropleth\":[{\"type\":\"choropleth\",\"colorbar\":{\"outlinewidth\":0,\"ticks\":\"\"}}],\"histogram2d\":[{\"type\":\"histogram2d\",\"colorbar\":{\"outlinewidth\":0,\"ticks\":\"\"},\"colorscale\":[[0.0,\"#0d0887\"],[0.1111111111111111,\"#46039f\"],[0.2222222222222222,\"#7201a8\"],[0.3333333333333333,\"#9c179e\"],[0.4444444444444444,\"#bd3786\"],[0.5555555555555556,\"#d8576b\"],[0.6666666666666666,\"#ed7953\"],[0.7777777777777778,\"#fb9f3a\"],[0.8888888888888888,\"#fdca26\"],[1.0,\"#f0f921\"]]}],\"heatmap\":[{\"type\":\"heatmap\",\"colorbar\":{\"outlinewidth\":0,\"ticks\":\"\"},\"colorscale\":[[0.0,\"#0d0887\"],[0.1111111111111111,\"#46039f\"],[0.2222222222222222,\"#7201a8\"],[0.3333333333333333,\"#9c179e\"],[0.4444444444444444,\"#bd3786\"],[0.5555555555555556,\"#d8576b\"],[0.6666666666666666,\"#ed7953\"],[0.7777777777777778,\"#fb9f3a\"],[0.8888888888888888,\"#fdca26\"],[1.0,\"#f0f921\"]]}],\"heatmapgl\":[{\"type\":\"heatmapgl\",\"colorbar\":{\"outlinewidth\":0,\"ticks\":\"\"},\"colorscale\":[[0.0,\"#0d0887\"],[0.1111111111111111,\"#46039f\"],[0.2222222222222222,\"#7201a8\"],[0.3333333333333333,\"#9c179e\"],[0.4444444444444444,\"#bd3786\"],[0.5555555555555556,\"#d8576b\"],[0.6666666666666666,\"#ed7953\"],[0.7777777777777778,\"#fb9f3a\"],[0.8888888888888888,\"#fdca26\"],[1.0,\"#f0f921\"]]}],\"contourcarpet\":[{\"type\":\"contourcarpet\",\"colorbar\":{\"outlinewidth\":0,\"ticks\":\"\"}}],\"contour\":[{\"type\":\"contour\",\"colorbar\":{\"outlinewidth\":0,\"ticks\":\"\"},\"colorscale\":[[0.0,\"#0d0887\"],[0.1111111111111111,\"#46039f\"],[0.2222222222222222,\"#7201a8\"],[0.3333333333333333,\"#9c179e\"],[0.4444444444444444,\"#bd3786\"],[0.5555555555555556,\"#d8576b\"],[0.6666666666666666,\"#ed7953\"],[0.7777777777777778,\"#fb9f3a\"],[0.8888888888888888,\"#fdca26\"],[1.0,\"#f0f921\"]]}],\"surface\":[{\"type\":\"surface\",\"colorbar\":{\"outlinewidth\":0,\"ticks\":\"\"},\"colorscale\":[[0.0,\"#0d0887\"],[0.1111111111111111,\"#46039f\"],[0.2222222222222222,\"#7201a8\"],[0.3333333333333333,\"#9c179e\"],[0.4444444444444444,\"#bd3786\"],[0.5555555555555556,\"#d8576b\"],[0.6666666666666666,\"#ed7953\"],[0.7777777777777778,\"#fb9f3a\"],[0.8888888888888888,\"#fdca26\"],[1.0,\"#f0f921\"]]}],\"mesh3d\":[{\"type\":\"mesh3d\",\"colorbar\":{\"outlinewidth\":0,\"ticks\":\"\"}}],\"scatter\":[{\"fillpattern\":{\"fillmode\":\"overlay\",\"size\":10,\"solidity\":0.2},\"type\":\"scatter\"}],\"parcoords\":[{\"type\":\"parcoords\",\"line\":{\"colorbar\":{\"outlinewidth\":0,\"ticks\":\"\"}}}],\"scatterpolargl\":[{\"type\":\"scatterpolargl\",\"marker\":{\"colorbar\":{\"outlinewidth\":0,\"ticks\":\"\"}}}],\"bar\":[{\"error_x\":{\"color\":\"#2a3f5f\"},\"error_y\":{\"color\":\"#2a3f5f\"},\"marker\":{\"line\":{\"color\":\"#E5ECF6\",\"width\":0.5},\"pattern\":{\"fillmode\":\"overlay\",\"size\":10,\"solidity\":0.2}},\"type\":\"bar\"}],\"scattergeo\":[{\"type\":\"scattergeo\",\"marker\":{\"colorbar\":{\"outlinewidth\":0,\"ticks\":\"\"}}}],\"scatterpolar\":[{\"type\":\"scatterpolar\",\"marker\":{\"colorbar\":{\"outlinewidth\":0,\"ticks\":\"\"}}}],\"histogram\":[{\"marker\":{\"pattern\":{\"fillmode\":\"overlay\",\"size\":10,\"solidity\":0.2}},\"type\":\"histogram\"}],\"scattergl\":[{\"type\":\"scattergl\",\"marker\":{\"colorbar\":{\"outlinewidth\":0,\"ticks\":\"\"}}}],\"scatter3d\":[{\"type\":\"scatter3d\",\"line\":{\"colorbar\":{\"outlinewidth\":0,\"ticks\":\"\"}},\"marker\":{\"colorbar\":{\"outlinewidth\":0,\"ticks\":\"\"}}}],\"scattermapbox\":[{\"type\":\"scattermapbox\",\"marker\":{\"colorbar\":{\"outlinewidth\":0,\"ticks\":\"\"}}}],\"scatterternary\":[{\"type\":\"scatterternary\",\"marker\":{\"colorbar\":{\"outlinewidth\":0,\"ticks\":\"\"}}}],\"scattercarpet\":[{\"type\":\"scattercarpet\",\"marker\":{\"colorbar\":{\"outlinewidth\":0,\"ticks\":\"\"}}}],\"carpet\":[{\"aaxis\":{\"endlinecolor\":\"#2a3f5f\",\"gridcolor\":\"white\",\"linecolor\":\"white\",\"minorgridcolor\":\"white\",\"startlinecolor\":\"#2a3f5f\"},\"baxis\":{\"endlinecolor\":\"#2a3f5f\",\"gridcolor\":\"white\",\"linecolor\":\"white\",\"minorgridcolor\":\"white\",\"startlinecolor\":\"#2a3f5f\"},\"type\":\"carpet\"}],\"table\":[{\"cells\":{\"fill\":{\"color\":\"#EBF0F8\"},\"line\":{\"color\":\"white\"}},\"header\":{\"fill\":{\"color\":\"#C8D4E3\"},\"line\":{\"color\":\"white\"}},\"type\":\"table\"}],\"barpolar\":[{\"marker\":{\"line\":{\"color\":\"#E5ECF6\",\"width\":0.5},\"pattern\":{\"fillmode\":\"overlay\",\"size\":10,\"solidity\":0.2}},\"type\":\"barpolar\"}],\"pie\":[{\"automargin\":true,\"type\":\"pie\"}]},\"layout\":{\"autotypenumbers\":\"strict\",\"colorway\":[\"#636efa\",\"#EF553B\",\"#00cc96\",\"#ab63fa\",\"#FFA15A\",\"#19d3f3\",\"#FF6692\",\"#B6E880\",\"#FF97FF\",\"#FECB52\"],\"font\":{\"color\":\"#2a3f5f\"},\"hovermode\":\"closest\",\"hoverlabel\":{\"align\":\"left\"},\"paper_bgcolor\":\"white\",\"plot_bgcolor\":\"#E5ECF6\",\"polar\":{\"bgcolor\":\"#E5ECF6\",\"angularaxis\":{\"gridcolor\":\"white\",\"linecolor\":\"white\",\"ticks\":\"\"},\"radialaxis\":{\"gridcolor\":\"white\",\"linecolor\":\"white\",\"ticks\":\"\"}},\"ternary\":{\"bgcolor\":\"#E5ECF6\",\"aaxis\":{\"gridcolor\":\"white\",\"linecolor\":\"white\",\"ticks\":\"\"},\"baxis\":{\"gridcolor\":\"white\",\"linecolor\":\"white\",\"ticks\":\"\"},\"caxis\":{\"gridcolor\":\"white\",\"linecolor\":\"white\",\"ticks\":\"\"}},\"coloraxis\":{\"colorbar\":{\"outlinewidth\":0,\"ticks\":\"\"}},\"colorscale\":{\"sequential\":[[0.0,\"#0d0887\"],[0.1111111111111111,\"#46039f\"],[0.2222222222222222,\"#7201a8\"],[0.3333333333333333,\"#9c179e\"],[0.4444444444444444,\"#bd3786\"],[0.5555555555555556,\"#d8576b\"],[0.6666666666666666,\"#ed7953\"],[0.7777777777777778,\"#fb9f3a\"],[0.8888888888888888,\"#fdca26\"],[1.0,\"#f0f921\"]],\"sequentialminus\":[[0.0,\"#0d0887\"],[0.1111111111111111,\"#46039f\"],[0.2222222222222222,\"#7201a8\"],[0.3333333333333333,\"#9c179e\"],[0.4444444444444444,\"#bd3786\"],[0.5555555555555556,\"#d8576b\"],[0.6666666666666666,\"#ed7953\"],[0.7777777777777778,\"#fb9f3a\"],[0.8888888888888888,\"#fdca26\"],[1.0,\"#f0f921\"]],\"diverging\":[[0,\"#8e0152\"],[0.1,\"#c51b7d\"],[0.2,\"#de77ae\"],[0.3,\"#f1b6da\"],[0.4,\"#fde0ef\"],[0.5,\"#f7f7f7\"],[0.6,\"#e6f5d0\"],[0.7,\"#b8e186\"],[0.8,\"#7fbc41\"],[0.9,\"#4d9221\"],[1,\"#276419\"]]},\"xaxis\":{\"gridcolor\":\"white\",\"linecolor\":\"white\",\"ticks\":\"\",\"title\":{\"standoff\":15},\"zerolinecolor\":\"white\",\"automargin\":true,\"zerolinewidth\":2},\"yaxis\":{\"gridcolor\":\"white\",\"linecolor\":\"white\",\"ticks\":\"\",\"title\":{\"standoff\":15},\"zerolinecolor\":\"white\",\"automargin\":true,\"zerolinewidth\":2},\"scene\":{\"xaxis\":{\"backgroundcolor\":\"#E5ECF6\",\"gridcolor\":\"white\",\"linecolor\":\"white\",\"showbackground\":true,\"ticks\":\"\",\"zerolinecolor\":\"white\",\"gridwidth\":2},\"yaxis\":{\"backgroundcolor\":\"#E5ECF6\",\"gridcolor\":\"white\",\"linecolor\":\"white\",\"showbackground\":true,\"ticks\":\"\",\"zerolinecolor\":\"white\",\"gridwidth\":2},\"zaxis\":{\"backgroundcolor\":\"#E5ECF6\",\"gridcolor\":\"white\",\"linecolor\":\"white\",\"showbackground\":true,\"ticks\":\"\",\"zerolinecolor\":\"white\",\"gridwidth\":2}},\"shapedefaults\":{\"line\":{\"color\":\"#2a3f5f\"}},\"annotationdefaults\":{\"arrowcolor\":\"#2a3f5f\",\"arrowhead\":0,\"arrowwidth\":1},\"geo\":{\"bgcolor\":\"white\",\"landcolor\":\"#E5ECF6\",\"subunitcolor\":\"white\",\"showland\":true,\"showlakes\":true,\"lakecolor\":\"white\"},\"title\":{\"x\":0.05},\"mapbox\":{\"style\":\"light\"}}},\"xaxis\":{\"anchor\":\"y\",\"domain\":[0.0,1.0],\"title\":{\"text\":\"count\"}},\"yaxis\":{\"anchor\":\"x\",\"domain\":[0.0,1.0],\"title\":{\"text\":\"SeniorCitizen\"},\"categoryorder\":\"total ascending\"},\"legend\":{\"title\":{\"text\":\"Churn\"},\"tracegroupgap\":0},\"margin\":{\"t\":60},\"barmode\":\"relative\"},                        {\"responsive\": true}                    ).then(function(){\n",
              "                            \n",
              "var gd = document.getElementById('8fbc60a4-a09d-442c-852e-e45bd28be79d');\n",
              "var x = new MutationObserver(function (mutations, observer) {{\n",
              "        var display = window.getComputedStyle(gd).display;\n",
              "        if (!display || display === 'none') {{\n",
              "            console.log([gd, 'removed!']);\n",
              "            Plotly.purge(gd);\n",
              "            observer.disconnect();\n",
              "        }}\n",
              "}});\n",
              "\n",
              "// Listen for the removal of the full notebook cells\n",
              "var notebookContainer = gd.closest('#notebook-container');\n",
              "if (notebookContainer) {{\n",
              "    x.observe(notebookContainer, {childList: true});\n",
              "}}\n",
              "\n",
              "// Listen for the clearing of the current output cell\n",
              "var outputEl = gd.closest('.output');\n",
              "if (outputEl) {{\n",
              "    x.observe(outputEl, {childList: true});\n",
              "}}\n",
              "\n",
              "                        })                };                            </script>        </div>\n",
              "</body>\n",
              "</html>"
            ]
          },
          "metadata": {}
        }
      ]
    },
    {
      "cell_type": "code",
      "source": [
        "# Considerando eliminar contratos Montly, Churn reduziria de 26,54% para 6,76%,\n",
        "# enquanto a taxa de retenção aumentaria de 73,46% para 93,24%\n",
        "df = df[df['Contract']!='Month']"
      ],
      "metadata": {
        "id": "FwCufQPEWBNF"
      },
      "execution_count": 260,
      "outputs": []
    },
    {
      "cell_type": "code",
      "source": [
        "# Considerando ampliar a oferta de serviço de segurança online, Churn reduziria de 6,76% para 4,17%,\n",
        "# enquanto a taxa de retenção aumentaria de 93,24% para 95,83%\n",
        "df = df[df['OnlineSecurity']!='No']"
      ],
      "metadata": {
        "id": "yNUK5bvtWA--"
      },
      "execution_count": 261,
      "outputs": []
    },
    {
      "cell_type": "code",
      "source": [
        "# Calculando a taxa de Churn (clientes que deixaram de fazer negócios com a empresa)\n",
        "percentual = df['Churn']\n",
        "percentuais = percentual.value_counts(normalize=True).mul(100).round(2)\n",
        "print(percentuais)"
      ],
      "metadata": {
        "colab": {
          "base_uri": "https://localhost:8080/"
        },
        "id": "IRwXmXURSjKo",
        "outputId": "686cf996-a0bb-434e-c830-bc7cb9d7877c"
      },
      "execution_count": 262,
      "outputs": [
        {
          "output_type": "stream",
          "name": "stdout",
          "text": [
            "Churn\n",
            "No     95.83\n",
            "Yes     4.17\n",
            "Name: proportion, dtype: float64\n"
          ]
        }
      ]
    },
    {
      "cell_type": "code",
      "source": [
        "# Calculando o coeficiente de variação em relação a média e a mediana dos perídos dos contratos (Tenure)\n",
        "def coef_variacao(coluna: pd.Series):\n",
        "    media     = coluna.mean()\n",
        "    mediana   = coluna.median()\n",
        "    desvio    = coluna.std(ddof=0)   # ddof=0 para população; use ddof=1 para amostra\n",
        "    cv_media  = (desvio / media) * 100    if media   != 0 else float('nan')\n",
        "    cv_mediana= (desvio / mediana) * 100  if mediana != 0 else float('nan')\n",
        "    return media, mediana, desvio, cv_media, cv_mediana\n",
        "\n",
        "# Exibindo os resultados\n",
        "coluna = ['tenure']\n",
        "for nome in coluna:\n",
        "    m, med, s, cv_m, cv_med = coef_variacao(df[nome])\n",
        "    print(f\"Coluna: {nome}\")\n",
        "    print(f\"  Média            : {m:.2f}\")\n",
        "    print(f\"  Mediana          : {med:.2f}\")\n",
        "    print(f\"  Desvio-padrão    : {s:.2f}\")\n",
        "    print(f\"  CV em relação à média  : {cv_m:.2f}%\")\n",
        "    print(f\"  CV em relação à mediana: {cv_med:.2f}%\\n\")"
      ],
      "metadata": {
        "colab": {
          "base_uri": "https://localhost:8080/"
        },
        "id": "Up-kdLPAm7N8",
        "outputId": "a014f462-3913-45df-8cd0-4b67a1dff186"
      },
      "execution_count": 263,
      "outputs": [
        {
          "output_type": "stream",
          "name": "stdout",
          "text": [
            "Coluna: tenure\n",
            "  Média            : 49.71\n",
            "  Mediana          : 55.00\n",
            "  Desvio-padrão    : 20.73\n",
            "  CV em relação à média  : 41.69%\n",
            "  CV em relação à mediana: 37.68%\n",
            "\n"
          ]
        }
      ]
    },
    {
      "cell_type": "code",
      "source": [
        "# Calculando a média dos valores mensais 'Monthly'\n",
        "media_monthly = df['Monthly'].mean()\n",
        "\n",
        "# Exibindo o resultado\n",
        "print(f\"Média Monthly: {media_monthly:.2f}\")"
      ],
      "metadata": {
        "colab": {
          "base_uri": "https://localhost:8080/"
        },
        "id": "TqLpWLuGVV-m",
        "outputId": "e67683ec-16f4-4cfb-c934-8c9a4a446c79"
      },
      "execution_count": 264,
      "outputs": [
        {
          "output_type": "stream",
          "name": "stdout",
          "text": [
            "Média Monthly: 55.39\n"
          ]
        }
      ]
    },
    {
      "cell_type": "code",
      "source": [
        "# Calculando a média dos valores totais 'Total'\n",
        "media_total   = df['Total'].mean()\n",
        "\n",
        "# Exibindo o resultado\n",
        "print(f\"Média Total:   {media_total:.2f}\")"
      ],
      "metadata": {
        "colab": {
          "base_uri": "https://localhost:8080/"
        },
        "id": "QRnCfa_5diI_",
        "outputId": "3c58644c-af89-4714-af41-f53ec7a5300e"
      },
      "execution_count": 265,
      "outputs": [
        {
          "output_type": "stream",
          "name": "stdout",
          "text": [
            "Média Total:   3056.28\n"
          ]
        }
      ]
    },
    {
      "cell_type": "code",
      "source": [
        "import seaborn as sns\n",
        "import matplotlib.pyplot as plt"
      ],
      "metadata": {
        "id": "rBKLjfRsCGCg"
      },
      "execution_count": 266,
      "outputs": []
    },
    {
      "cell_type": "code",
      "source": [
        "# Filtrando clientes que cancelaram\n",
        "df_cancelaram = df[df['Churn'] == 'Yes']\n",
        "\n",
        "# Visualizando as distribuições\n",
        "plt.figure(figsize=(12, 5))\n",
        "\n",
        "plt.subplot(1, 2, 1)\n",
        "sns.histplot(df_cancelaram['tenure'], kde=True, color='tomato')\n",
        "plt.xlabel('Tempo de Contrato (tenure)')\n",
        "plt.title('Tenure - Cancelaram')\n",
        "\n",
        "plt.subplot(1, 2, 2)\n",
        "sns.histplot(df_cancelaram['Total'], kde=True, color='tomato')\n",
        "plt.xlabel('Total Gasto')\n",
        "plt.title('Total Gasto - Cancelaram')\n",
        "\n",
        "plt.tight_layout()\n",
        "plt.show()"
      ],
      "metadata": {
        "colab": {
          "base_uri": "https://localhost:8080/",
          "height": 507
        },
        "id": "PEC2p2wgCJAB",
        "outputId": "9f222283-6238-46f4-ecba-d18c3257d737"
      },
      "execution_count": 267,
      "outputs": [
        {
          "output_type": "display_data",
          "data": {
            "text/plain": [
              "<Figure size 1200x500 with 2 Axes>"
            ],
            "image/png": "[encoded data removed]"
          },
          "metadata": {}
        }
      ]
    },
    {
      "cell_type": "code",
      "source": [
        "# Filtrando clientes que NÃO cancelaram\n",
        "df_retiveram = df[df['Churn'] == 'No']\n",
        "\n",
        "# Visualizando as distribuições\n",
        "plt.figure(figsize=(12, 5))\n",
        "\n",
        "plt.subplot(1, 2, 1)\n",
        "sns.histplot(df_retiveram['tenure'], kde=True, color='steelblue')\n",
        "plt.xlabel('Tempo de Contrato (tenure)')\n",
        "plt.title('Tenure - Não Cancelaram')\n",
        "\n",
        "plt.subplot(1, 2, 2)\n",
        "sns.histplot(df_retiveram['Total'], kde=True, color='steelblue')\n",
        "plt.xlabel('Total Gasto')\n",
        "plt.title('Total Gasto - Não Cancelaram')\n",
        "\n",
        "plt.tight_layout()\n",
        "plt.show()"
      ],
      "metadata": {
        "colab": {
          "base_uri": "https://localhost:8080/",
          "height": 507
        },
        "id": "DRgleR4-DTx-",
        "outputId": "dacfdd46-fc4b-4feb-e6fe-3c2d78f34e28"
      },
      "execution_count": 268,
      "outputs": [
        {
          "output_type": "display_data",
          "data": {
            "text/plain": [
              "<Figure size 1200x500 with 2 Axes>"
            ],
            "image/png": "[encoded data removed]"
          },
          "metadata": {}
        }
      ]
    },
    {
      "cell_type": "code",
      "source": [
        "# 1.1 – Codificar churn como variável numérica\n",
        "df['Churn_Enc'] = df['Churn'].map({'No': 0, 'Yes': 1})\n",
        "\n",
        "# 1.2 – Calcular a matriz de correlação\n",
        "corr = df.select_dtypes(include=[np.number]).corr()\n",
        "\n",
        "# 1.3 – Plotar heatmap da matriz de correlação\n",
        "plt.figure(figsize=(12, 10))\n",
        "mask = np.triu(np.ones_like(corr, dtype=bool))\n",
        "sns.heatmap(\n",
        "    corr,\n",
        "    mask=mask,\n",
        "    annot=True,\n",
        "    fmt=\".2f\",\n",
        "    cmap='vlag',\n",
        "    cbar_kws={'shrink': .75}\n",
        ")\n",
        "plt.title('Matriz de Correlação das Variáveis Numéricas')\n",
        "plt.show()"
      ],
      "metadata": {
        "colab": {
          "base_uri": "https://localhost:8080/",
          "height": 853
        },
        "id": "2MVe0ggnIEfB",
        "outputId": "c15488a2-2e60-4114-f1ff-4e79f244ad0c"
      },
      "execution_count": 269,
      "outputs": [
        {
          "output_type": "display_data",
          "data": {
            "text/plain": [
              "<Figure size 1200x1000 with 2 Axes>"
            ],
            "image/png": "[encoded data removed]"
          },
          "metadata": {}
        }
      ]
    },
    {
      "cell_type": "markdown",
      "source": [
        "# Relatório de Análise de Evasão de Clientes (Churn)"
      ],
      "metadata": {
        "id": "AqHYGc5RY2XB"
      }
    },
    {
      "cell_type": "markdown",
      "source": [
        "Introdução: O objetivo desta análise foi investigar os fatores que mais contribuiram para a evasão de clientes (churn) da operadora Telecom. Uma alta taxa de churn reduz a receita e aumenta o custo de aquisição de novos clientes e, identificar variáveis que possam prever isso, torna-se fundamental para o planejamento de ações de retenção, melhorando por consequência, a lucratividade.\n",
        "\n",
        "Iniciamos o processo importando os dados em JSON no GitHub e transformando-o em um DataFrame, para em seguida efetuarmos sua limpeza e tratamento, etapa crucial que incluiu a conversão de colunas object em numéricas e eliminando registros inválidos durante essa conversão. Adotamos por utilizar a regressão linear simples para preencher os valores faltantes na coluna Total, utilizando sklearn.linear_model import LinearRegression e criamos a coluna Contas Diárias.\n",
        "\n",
        "Posteriormente, efetuamos a análise exploratória dos dados para que pudéssemos trazer insights que fossem significativos para a análise, nos concentrando na variável 'Churn' e desta forma poder identificar o perfil dos clientes que deixaram de fazer negócios com a Telecom. Por fim, agrupamos a variável 'tenure' (tempo de permanência do cliente) em faixas categóricas e calculamos os percentuais de clientes em intervalos anuais.\n",
        "\n",
        "Foi gerada, também, uma matriz de correlação para que pudéssemos explorar as relações entre as variáveis, visualizada através de um heatmap. Esta análise permitiu identificar correlações significativas, tanto positivas quanto negativas entre a variável 'Churn' e as demais variáveis.\n",
        "\n",
        "Da análise realizada, verificamos que os clientes que cancelaram apresentavam uma mediana em conta diária mais alta, além de uma distribuição de valores mais dispersa em comparação com os clientes que permaneceram. Verificou-se, também, que clientes com um número reduzido de serviços concentravam a maior parte dos cancelamentos. Em contrapartida, aqueles com um portfólio maior de serviços ativos apresentaram uma taxa de churn consideravelmente menor.\n",
        "\n",
        "Por fim, a distribuição do churn ao longo do tempo de permanência do cliente foi examinada através de tabelas de frequências e percentuais de churn para cada faixa de \"tenure\" definida. Essa análise revelou uma concentração mais elevada de churn entre os clientes com menos de dois anos de contrato.\n",
        "\n",
        "Da análise, podemos concluir que clientes com gastos proporcionais mais elevados tendem a perceber menor valor no serviço ou são mais sensíveis a preços, o que pode impulsionar sua decisão de cancelamento, situação que a 'Conta Diária' pode se configurar como um forte preditor de churn, especialmente quando combinada a outras variáveis de comportamento de uso.\n",
        "\n",
        "O tempo de permanência também se mostrou crucial, concentrando-se significativamente em clientes com até dois anos de contrato, sugerindo uma vulnerabilidade maior nos estágios iniciais da relação com o cliente. Para validar esta informação, consideramos eliminar os contratos 'Monthly' e observamos que o churn reduziria de 26,54% para 6,76%, aumentando a taxa de retenção de 73,46% para 93,24%. Outras variáveis, contudo, 'Num_Services' e 'DailyCharges' destacaram-se como preditores particularmente fortes.\n",
        "\n",
        "Com base nos achados, recomenda-se considerar:\n",
        "1- uma revisão nas políticas de preços e planos de serviço, com o intuito de ajustar ou oferecer descontos específicos para clientes que apresentam um alto gasto diário, visando reduzir a percepção de sobrecusto;\n",
        "\n",
        "2- incentivar o cross-selling através da criação de pacotes de serviços (bundles), oferecendo descontos progressivos à medida que o cliente adiciona novos serviços ao seu plano, o que pode elevar o \"envelope de ofertas\" e, consequentemente, a fidelização;\n",
        "\n",
        "3- focar em um programa de onboarding e retenção robusto, direcionando ações de engajamento, como ofertas de cross-sell e suporte prioritário, especialmente nos primeiros 12 meses de contrato;\n",
        "\n",
        "4- implantar um sistema de monitoramento e alertas que identifique aumentos bruscos na \"Conta Diária\" dos clientes pode permitir a configuração de campanhas pró-ativas de retenção, como o envio de ofertas personalizadas;\n",
        "\n",
        "5- oferecer serviços adicionais para o público sem dependentes, como por exemplo, programa de cashback por recarga, indicação e contratos de maior prazo, para uso em food delivery, acessórios tech, outros, considerando que estes clientes podem ser mais jovens ou estejam em início de carreira;\n",
        "\n",
        "6- padronizar o envio da fatura de forma online e a ampliação da oferta de serviço TechSupport para todos os clientes;\n",
        "\n",
        "7- incluir as variáveis 'DailyCharges', 'Num_Services', 'Tenure' em interações (por ex: 'MonthlyCharges' x 'Num_Services') em um algoritmo de machine learning para prever o churn com maior acurácia e acionar estratégias de retenção de forma mais ágil e em tempo real.\n",
        "\n",
        "Entendemos que, com base neste relatório, a empresa pode dispor de um mapa dos principais drivers de evasão e de recomendações práticas para reduzir o churn, ampliar o ticket médio e aumentar a longevidade dos clientes."
      ],
      "metadata": {
        "id": "ScbWEs_jZRcf"
      }
    }
  ]
}